{
  "nbformat": 4,
  "nbformat_minor": 0,
  "metadata": {
    "colab": {
      "name": "Image-GPT-Bias-HuggingFace.ipynb",
      "provenance": [],
      "collapsed_sections": [],
      "toc_visible": true,
      "machine_shape": "hm"
    },
    "kernelspec": {
      "name": "python3",
      "display_name": "Python 3"
    }
  },
  "cells": [
    {
      "cell_type": "markdown",
      "metadata": {
        "id": "P9tObiU-qVgv",
        "colab_type": "text"
      },
      "source": [
        "#Image GPT Bias Analysis w/ Hugging Face\n",
        "Ryan Steed\n",
        "\n",
        "Adapted from https://colab.research.google.com/github/apeguero1/image-gpt/blob/master/Transformers_Image_GPT.ipynb\n"
      ]
    },
    {
      "cell_type": "markdown",
      "metadata": {
        "id": "OoWYiUzT_lLs",
        "colab_type": "text"
      },
      "source": [
        "## Download Model"
      ]
    },
    {
      "cell_type": "code",
      "metadata": {
        "id": "DzJbEWC6Vogc",
        "colab_type": "code",
        "colab": {
          "base_uri": "https://localhost:8080/",
          "height": 71
        },
        "outputId": "1a66b954-bd5b-4f84-fa49-f29f6e2f6a12"
      },
      "source": [
        "!nvidia-smi #OpenAI says you need 16GB GPU for the large model, but it may work if you lower n_sub_batch on the others."
      ],
      "execution_count": 1,
      "outputs": [
        {
          "output_type": "stream",
          "text": [
            "NVIDIA-SMI has failed because it couldn't communicate with the NVIDIA driver. Make sure that the latest NVIDIA driver is installed and running.\n",
            "\n"
          ],
          "name": "stdout"
        }
      ]
    },
    {
      "cell_type": "code",
      "metadata": {
        "id": "WkPOYJsCTaUb",
        "colab_type": "code",
        "colab": {
          "base_uri": "https://localhost:8080/",
          "height": 85
        },
        "outputId": "4da0a28e-af38-4e72-a08b-3ffcff0f29a9"
      },
      "source": [
        "!git clone https://github.com/openai/image-gpt.git"
      ],
      "execution_count": 2,
      "outputs": [
        {
          "output_type": "stream",
          "text": [
            "Cloning into 'image-gpt'...\n",
            "remote: Enumerating objects: 41, done.\u001b[K\n",
            "remote: Total 41 (delta 0), reused 0 (delta 0), pack-reused 41\u001b[K\n",
            "Unpacking objects: 100% (41/41), done.\n"
          ],
          "name": "stdout"
        }
      ]
    },
    {
      "cell_type": "code",
      "metadata": {
        "id": "e0DcaUYv8LYf",
        "colab_type": "code",
        "colab": {}
      },
      "source": [
        "model_sizes = [\"s\", \"m\", \"l\"] #small medium large, xl not available\n",
        "model_size = \"s\"\n",
        "models_dir = \"/content/models\"\n",
        "color_clusters_dir = \"/content/clusters\"\n",
        "n_px = 32"
      ],
      "execution_count": 3,
      "outputs": []
    },
    {
      "cell_type": "code",
      "metadata": {
        "id": "ylcjIJcwXsFw",
        "colab_type": "code",
        "colab": {
          "base_uri": "https://localhost:8080/",
          "height": 901
        },
        "outputId": "01090b6e-d1f1-4ea6-c94e-1ac6ae919487"
      },
      "source": [
        "!python image-gpt/download.py --model {model_size} --ckpt 1000000 --clusters --download_dir {models_dir}/{model_size}\n",
        "!python image-gpt/download.py --clusters --download_dir {color_clusters_dir}"
      ],
      "execution_count": 4,
      "outputs": [
        {
          "output_type": "stream",
          "text": [
            "input args:\n",
            " {\n",
            "    \"download_dir\":\"/content/models/s\",\n",
            "    \"model\":\"s\",\n",
            "    \"ckpt\":\"1000000\",\n",
            "    \"clusters\":true,\n",
            "    \"dataset\":null\n",
            "}\n",
            "Fetching model.ckpt-1000000.data-00000-of-00032: 1.00kit [00:00, 687kit/s]      \n",
            "Fetching model.ckpt-1000000.data-00001-of-00032: 31.5Mit [00:00, 67.4Mit/s]     \n",
            "Fetching model.ckpt-1000000.data-00002-of-00032: 28.3Mit [00:00, 65.8Mit/s]     \n",
            "Fetching model.ckpt-1000000.data-00003-of-00032: 28.3Mit [00:00, 68.4Mit/s]     \n",
            "Fetching model.ckpt-1000000.data-00004-of-00032: 28.3Mit [00:00, 64.0Mit/s]     \n",
            "Fetching model.ckpt-1000000.data-00005-of-00032: 31.5Mit [00:00, 56.9Mit/s]     \n",
            "Fetching model.ckpt-1000000.data-00006-of-00032: 30.4Mit [00:00, 57.9Mit/s]     \n",
            "Fetching model.ckpt-1000000.data-00007-of-00032: 28.3Mit [00:00, 70.5Mit/s]     \n",
            "Fetching model.ckpt-1000000.data-00008-of-00032: 31.5Mit [00:00, 66.8Mit/s]     \n",
            "Fetching model.ckpt-1000000.data-00009-of-00032: 29.4Mit [00:00, 58.2Mit/s]     \n",
            "Fetching model.ckpt-1000000.data-00010-of-00032: 31.5Mit [00:00, 62.2Mit/s]     \n",
            "Fetching model.ckpt-1000000.data-00011-of-00032: 31.5Mit [00:00, 40.3Mit/s]     \n",
            "Fetching model.ckpt-1000000.data-00012-of-00032: 30.4Mit [00:00, 59.0Mit/s]     \n",
            "Fetching model.ckpt-1000000.data-00013-of-00032: 28.3Mit [00:00, 59.1Mit/s]     \n",
            "Fetching model.ckpt-1000000.data-00014-of-00032: 31.5Mit [00:00, 74.2Mit/s]     \n",
            "Fetching model.ckpt-1000000.data-00015-of-00032: 32.5Mit [00:00, 68.6Mit/s]     \n",
            "Fetching model.ckpt-1000000.data-00016-of-00032: 31.5Mit [00:00, 64.3Mit/s]     \n",
            "Fetching model.ckpt-1000000.data-00017-of-00032: 28.3Mit [00:00, 64.8Mit/s]     \n",
            "Fetching model.ckpt-1000000.data-00018-of-00032: 29.4Mit [00:00, 78.1Mit/s]     \n",
            "Fetching model.ckpt-1000000.data-00019-of-00032: 28.3Mit [00:00, 49.4Mit/s]     \n",
            "Fetching model.ckpt-1000000.data-00020-of-00032: 28.3Mit [00:00, 57.3Mit/s]     \n",
            "Fetching model.ckpt-1000000.data-00021-of-00032: 28.3Mit [00:00, 57.8Mit/s]     \n",
            "Fetching model.ckpt-1000000.data-00022-of-00032: 30.4Mit [00:00, 60.1Mit/s]     \n",
            "Fetching model.ckpt-1000000.data-00023-of-00032: 30.4Mit [00:00, 62.0Mit/s]     \n",
            "Fetching model.ckpt-1000000.data-00024-of-00032: 29.4Mit [00:00, 68.5Mit/s]     \n",
            "Fetching model.ckpt-1000000.data-00025-of-00032: 28.3Mit [00:00, 63.2Mit/s]     \n",
            "Fetching model.ckpt-1000000.data-00026-of-00032: 28.3Mit [00:00, 62.3Mit/s]     \n",
            "Fetching model.ckpt-1000000.data-00027-of-00032: 29.4Mit [00:00, 62.8Mit/s]     \n",
            "Fetching model.ckpt-1000000.data-00028-of-00032: 29.4Mit [00:00, 56.2Mit/s]     \n",
            "Fetching model.ckpt-1000000.data-00029-of-00032: 29.4Mit [00:00, 59.1Mit/s]     \n",
            "Fetching model.ckpt-1000000.data-00030-of-00032: 28.3Mit [00:00, 56.8Mit/s]     \n",
            "Fetching model.ckpt-1000000.data-00031-of-00032: 28.3Mit [00:00, 60.5Mit/s]     \n",
            "Fetching model.ckpt-1000000.index: 10.0kit [00:00, 7.28Mit/s]                   \n",
            "Fetching model.ckpt-1000000.meta: 18.4Mit [00:00, 53.5Mit/s]                    \n",
            "Fetching kmeans_centers.npy: 7.00kit [00:00, 4.94Mit/s]                         \n",
            "input args:\n",
            " {\n",
            "    \"download_dir\":\"/content/clusters\",\n",
            "    \"model\":null,\n",
            "    \"ckpt\":null,\n",
            "    \"clusters\":true,\n",
            "    \"dataset\":null\n",
            "}\n",
            "Fetching kmeans_centers.npy: 7.00kit [00:00, 4.53Mit/s]                         \n"
          ],
          "name": "stdout"
        }
      ]
    },
    {
      "cell_type": "markdown",
      "metadata": {
        "id": "UjVa2W5f-6BB",
        "colab_type": "text"
      },
      "source": [
        "## HuggingFace Implementation\n",
        "\n"
      ]
    },
    {
      "cell_type": "code",
      "metadata": {
        "id": "eoImkBA2d5jT",
        "colab_type": "code",
        "colab": {
          "base_uri": "https://localhost:8080/",
          "height": 615
        },
        "outputId": "f8c8b8c0-3628-45fd-d9eb-a3a2828fede6"
      },
      "source": [
        "import os\n",
        "\n",
        "!pip install transformers\n",
        "os.environ['CUDA_LAUNCH_BLOCKING'] = \"1\""
      ],
      "execution_count": 5,
      "outputs": [
        {
          "output_type": "stream",
          "text": [
            "Collecting transformers\n",
            "\u001b[?25l  Downloading https://files.pythonhosted.org/packages/27/3c/91ed8f5c4e7ef3227b4119200fc0ed4b4fd965b1f0172021c25701087825/transformers-3.0.2-py3-none-any.whl (769kB)\n",
            "\u001b[K     |████████████████████████████████| 778kB 2.8MB/s \n",
            "\u001b[?25hCollecting tokenizers==0.8.1.rc1\n",
            "\u001b[?25l  Downloading https://files.pythonhosted.org/packages/40/d0/30d5f8d221a0ed981a186c8eb986ce1c94e3a6e87f994eae9f4aa5250217/tokenizers-0.8.1rc1-cp36-cp36m-manylinux1_x86_64.whl (3.0MB)\n",
            "\u001b[K     |████████████████████████████████| 3.0MB 14.5MB/s \n",
            "\u001b[?25hRequirement already satisfied: requests in /usr/local/lib/python3.6/dist-packages (from transformers) (2.23.0)\n",
            "Requirement already satisfied: regex!=2019.12.17 in /usr/local/lib/python3.6/dist-packages (from transformers) (2019.12.20)\n",
            "Requirement already satisfied: numpy in /usr/local/lib/python3.6/dist-packages (from transformers) (1.18.5)\n",
            "Requirement already satisfied: dataclasses; python_version < \"3.7\" in /usr/local/lib/python3.6/dist-packages (from transformers) (0.7)\n",
            "Collecting sacremoses\n",
            "\u001b[?25l  Downloading https://files.pythonhosted.org/packages/7d/34/09d19aff26edcc8eb2a01bed8e98f13a1537005d31e95233fd48216eed10/sacremoses-0.0.43.tar.gz (883kB)\n",
            "\u001b[K     |████████████████████████████████| 890kB 33.4MB/s \n",
            "\u001b[?25hCollecting sentencepiece!=0.1.92\n",
            "\u001b[?25l  Downloading https://files.pythonhosted.org/packages/d4/a4/d0a884c4300004a78cca907a6ff9a5e9fe4f090f5d95ab341c53d28cbc58/sentencepiece-0.1.91-cp36-cp36m-manylinux1_x86_64.whl (1.1MB)\n",
            "\u001b[K     |████████████████████████████████| 1.1MB 51.1MB/s \n",
            "\u001b[?25hRequirement already satisfied: packaging in /usr/local/lib/python3.6/dist-packages (from transformers) (20.4)\n",
            "Requirement already satisfied: tqdm>=4.27 in /usr/local/lib/python3.6/dist-packages (from transformers) (4.41.1)\n",
            "Requirement already satisfied: filelock in /usr/local/lib/python3.6/dist-packages (from transformers) (3.0.12)\n",
            "Requirement already satisfied: idna<3,>=2.5 in /usr/local/lib/python3.6/dist-packages (from requests->transformers) (2.10)\n",
            "Requirement already satisfied: certifi>=2017.4.17 in /usr/local/lib/python3.6/dist-packages (from requests->transformers) (2020.6.20)\n",
            "Requirement already satisfied: chardet<4,>=3.0.2 in /usr/local/lib/python3.6/dist-packages (from requests->transformers) (3.0.4)\n",
            "Requirement already satisfied: urllib3!=1.25.0,!=1.25.1,<1.26,>=1.21.1 in /usr/local/lib/python3.6/dist-packages (from requests->transformers) (1.24.3)\n",
            "Requirement already satisfied: six in /usr/local/lib/python3.6/dist-packages (from sacremoses->transformers) (1.15.0)\n",
            "Requirement already satisfied: click in /usr/local/lib/python3.6/dist-packages (from sacremoses->transformers) (7.1.2)\n",
            "Requirement already satisfied: joblib in /usr/local/lib/python3.6/dist-packages (from sacremoses->transformers) (0.16.0)\n",
            "Requirement already satisfied: pyparsing>=2.0.2 in /usr/local/lib/python3.6/dist-packages (from packaging->transformers) (2.4.7)\n",
            "Building wheels for collected packages: sacremoses\n",
            "  Building wheel for sacremoses (setup.py) ... \u001b[?25l\u001b[?25hdone\n",
            "  Created wheel for sacremoses: filename=sacremoses-0.0.43-cp36-none-any.whl size=893257 sha256=7e904f44478b4806abae0dbe6c872b12da918d69b81d824145eb95d8a511399e\n",
            "  Stored in directory: /root/.cache/pip/wheels/29/3c/fd/7ce5c3f0666dab31a50123635e6fb5e19ceb42ce38d4e58f45\n",
            "Successfully built sacremoses\n",
            "Installing collected packages: tokenizers, sacremoses, sentencepiece, transformers\n",
            "Successfully installed sacremoses-0.0.43 sentencepiece-0.1.91 tokenizers-0.8.1rc1 transformers-3.0.2\n"
          ],
          "name": "stdout"
        }
      ]
    },
    {
      "cell_type": "code",
      "metadata": {
        "id": "soYP5NE_KPZn",
        "colab_type": "code",
        "colab": {}
      },
      "source": [
        "import os\n",
        "import transformers\n",
        "from transformers.modeling_gpt2 import GPT2Model,GPT2LMHeadModel\n",
        "import torch\n",
        "import torch.nn as nn\n",
        "import logging\n",
        "logger = logging.getLogger(__name__)\n",
        "\n",
        "def load_tf_weights_in_image_gpt2(model, config, gpt2_checkpoint_path):\n",
        "    \"\"\" Load tf checkpoints in a pytorch model\n",
        "    \"\"\"\n",
        "    try:\n",
        "        import re\n",
        "        import tensorflow as tf\n",
        "    except ImportError:\n",
        "        logger.error(\n",
        "            \"Loading a TensorFlow model in PyTorch, requires TensorFlow to be installed. Please see \"\n",
        "            \"https://www.tensorflow.org/install/ for installation instructions.\"\n",
        "        )\n",
        "        raise\n",
        "    tf_path = os.path.abspath(gpt2_checkpoint_path)\n",
        "    logger.info(\"Converting TensorFlow checkpoint from {}\".format(tf_path))\n",
        "    # Load weights from TF model\n",
        "    init_vars = tf.train.list_variables(tf_path)\n",
        "    names = []\n",
        "    arrays = []\n",
        "\n",
        "    for name, shape in init_vars:\n",
        "        logger.info(\"Loading TF weight {} with shape {}\".format(name, shape))\n",
        "        array = tf.train.load_variable(tf_path, name)\n",
        "        names.append(name)\n",
        "        arrays.append(array.squeeze())\n",
        "\n",
        "    for name, array in zip(names, arrays):\n",
        "        name = name[6:]  # skip \"model/\"\n",
        "        name = name.split(\"/\")\n",
        "\n",
        "        # adam_v and adam_m are variables used in AdamWeightDecayOptimizer to calculated m and v\n",
        "        # which are not required for using pretrained model\n",
        "        if any(\n",
        "            n in [\"adam_v\", \"adam_m\", \"AdamWeightDecayOptimizer\", \"AdamWeightDecayOptimizer_1\", \"global_step\"]\n",
        "            for n in name\n",
        "        ) or name[-1] in ['_step']:\n",
        "            logger.info(\"Skipping {}\".format(\"/\".join(name)))\n",
        "            continue\n",
        "        \n",
        "        pointer = model\n",
        "        if name[-1] not in [\"wtet\"]:\n",
        "          pointer = getattr(pointer, \"transformer\")\n",
        "        \n",
        "        for m_name in name:\n",
        "            if re.fullmatch(r\"[A-Za-z]+\\d+\", m_name):\n",
        "                scope_names = re.split(r\"(\\d+)\", m_name)\n",
        "            else:\n",
        "                scope_names = [m_name]\n",
        "\n",
        "            if scope_names[0] == \"w\" or scope_names[0] == \"g\":\n",
        "                pointer = getattr(pointer, \"weight\")\n",
        "            elif scope_names[0] == \"b\":\n",
        "                pointer = getattr(pointer, \"bias\")\n",
        "            elif scope_names[0] == \"wpe\" or scope_names[0] == \"wte\":\n",
        "                pointer = getattr(pointer, scope_names[0])\n",
        "                pointer = getattr(pointer, \"weight\")\n",
        "            elif scope_names[0] in ['q_proj','k_proj','v_proj']:\n",
        "                pointer = getattr(pointer, 'c_attn')\n",
        "                pointer = getattr(pointer, 'weight')\n",
        "            elif len(name) ==3 and name[1]==\"attn\" and scope_names[0]==\"c_proj\":\n",
        "                pointer = getattr(pointer, scope_names[0])\n",
        "                pointer = getattr(pointer, 'weight')\n",
        "            elif scope_names[0]==\"wtet\":\n",
        "                pointer = getattr(pointer, \"lm_head\")\n",
        "                pointer = getattr(pointer, 'weight')\n",
        "            elif scope_names[0]==\"sos\":\n",
        "                pointer = getattr(pointer,\"wte\")\n",
        "                pointer = getattr(pointer, 'weight')\n",
        "            else:\n",
        "                pointer = getattr(pointer, scope_names[0])\n",
        "            if len(scope_names) >= 2:\n",
        "                num = int(scope_names[1])\n",
        "                pointer = pointer[num]\n",
        "\n",
        "        if len(name) > 1 and name[1]==\"attn\" or name[-1]==\"wtet\" or name[-1]==\"sos\" or name[-1]==\"wte\":\n",
        "           pass #array is used to initialize only part of the pointer so sizes won't match\n",
        "        else:\n",
        "          try:\n",
        "              assert pointer.shape == array.shape\n",
        "          except AssertionError as e:\n",
        "              e.args += (pointer.shape, array.shape)\n",
        "              raise\n",
        "          \n",
        "        logger.info(\"Initialize PyTorch weight {}\".format(name))\n",
        "\n",
        "        if name[-1]==\"q_proj\":\n",
        "          pointer.data[:,:config.n_embd] = torch.from_numpy(array.reshape(config.n_embd,config.n_embd) ).T\n",
        "        elif name[-1]==\"k_proj\":\n",
        "          pointer.data[:,config.n_embd:2*config.n_embd] = torch.from_numpy(array.reshape(config.n_embd,config.n_embd) ).T\n",
        "        elif name[-1]==\"v_proj\":\n",
        "          pointer.data[:,2*config.n_embd:] = torch.from_numpy(array.reshape(config.n_embd,config.n_embd) ).T\n",
        "        elif (len(name) ==3 and name[1]==\"attn\" and name[2]==\"c_proj\" ):\n",
        "          pointer.data = torch.from_numpy(array.reshape(config.n_embd,config.n_embd) )\n",
        "        elif name[-1]==\"wtet\":\n",
        "          pointer.data = torch.from_numpy(array)\n",
        "        elif name[-1]==\"wte\":\n",
        "          pointer.data[:config.vocab_size-1,:] = torch.from_numpy(array)\n",
        "        elif name[-1]==\"sos\":\n",
        "          pointer.data[-1] = torch.from_numpy(array)\n",
        "        else:\n",
        "          pointer.data = torch.from_numpy(array)\n",
        "\n",
        "    return model\n",
        "\n",
        "\n",
        "from torch.nn.parameter import Parameter\n",
        "class ln_mod(nn.Module):\n",
        "    def __init__(self, nx,eps=1e-5):\n",
        "        super().__init__()\n",
        "        self.eps = eps\n",
        "        self.weight = Parameter(torch.Tensor(nx))\n",
        "    def forward(self,x):#input is not mean centered\n",
        "        return x / torch.sqrt( torch.std(x,axis=-1,unbiased=False,keepdim=True)**2 + self.eps ) * self.weight.data[...,:] \n",
        "\n",
        "def replace_ln(m, name,config):\n",
        "  for attr_str in dir(m):\n",
        "      target_attr = getattr(m, attr_str)\n",
        "      if type(target_attr) == torch.nn.LayerNorm:\n",
        "          #print('replaced: ', name, attr_str)\n",
        "          setattr(m, attr_str, ln_mod(config.n_embd,config.layer_norm_epsilon))\n",
        "\n",
        "  for n, ch in m.named_children():\n",
        "      replace_ln(ch, n,config)        \n",
        "\n",
        "def gelu2(x):\n",
        "    return x * torch.sigmoid(1.702 * x)\n",
        "\n",
        "class ImageGPT2LMHeadModel(GPT2LMHeadModel):\n",
        "  load_tf_weights = load_tf_weights_in_image_gpt2\n",
        "  \n",
        "  def __init__(self, config):\n",
        "      super().__init__(config)\n",
        "      self.lm_head = nn.Linear(config.n_embd, config.vocab_size - 1, bias=False)\n",
        "      replace_ln(self,\"net\",config) #replace layer normalization\n",
        "      for n in range(config.n_layer):\n",
        "        self.transformer.h[n].mlp.act = gelu2 #replace activation \n",
        "\n",
        "  def tie_weights(self): #image-gpt doesn't tie output and input embeddings\n",
        "    pass "
      ],
      "execution_count": 6,
      "outputs": []
    },
    {
      "cell_type": "code",
      "metadata": {
        "id": "SxJvFFK8gqJA",
        "colab_type": "code",
        "colab": {}
      },
      "source": [
        "import numpy as np\n",
        "color_clusters_file = \"%s/kmeans_centers.npy\"%(color_clusters_dir)\n",
        "clusters = np.load(color_clusters_file) #get color clusters"
      ],
      "execution_count": 7,
      "outputs": []
    },
    {
      "cell_type": "code",
      "metadata": {
        "id": "q00XounhcEIR",
        "colab_type": "code",
        "colab": {}
      },
      "source": [
        "MODELS={\"l\":(1536,16,48),\"m\":(1024,8,36),\"s\":(512,8,24) } \n",
        "n_embd,n_head,n_layer=MODELS[model_size] #set model hyperparameters\n",
        "vocab_size = len(clusters) + 1 #add one for start of sentence token\n",
        "config = transformers.GPT2Config(vocab_size=vocab_size,n_ctx=n_px*n_px,n_positions=n_px*n_px,n_embd=n_embd,n_layer=n_layer,n_head=n_head)\n",
        "model_path = \"%s/%s/model.ckpt-1000000.index\"%(models_dir,model_size)\n",
        "\n",
        "model = ImageGPT2LMHeadModel.from_pretrained(model_path,from_tf=True,config=config)"
      ],
      "execution_count": 8,
      "outputs": []
    },
    {
      "cell_type": "markdown",
      "metadata": {
        "id": "ntzYL6JVkIsg",
        "colab_type": "text"
      },
      "source": [
        "## Image Utils"
      ]
    },
    {
      "cell_type": "code",
      "metadata": {
        "id": "5KU6HMyXkHsM",
        "colab_type": "code",
        "colab": {}
      },
      "source": [
        "#Resize original images to n_px by n_px\n",
        "import cv2\n",
        "import numpy as np\n",
        "\n",
        "#numpy implementation of functions in image-gpt/src/utils which convert pixels of image to nearest color cluster. \n",
        "def normalize_img(img):\n",
        "  return img/127.5 - 1\n",
        "\n",
        "def squared_euclidean_distance_np(a,b):\n",
        "  b = b.T\n",
        "  a2 = np.sum(np.square(a),axis=1)\n",
        "  b2 = np.sum(np.square(b),axis=0)\n",
        "  ab = np.matmul(a,b)\n",
        "  d = a2[:,None] - 2*ab + b2[None,:]\n",
        "  return d\n",
        "\n",
        "def color_quantize_np(x, clusters):\n",
        "    x = x.reshape(-1, 3)\n",
        "    d = squared_euclidean_distance_np(x, clusters)\n",
        "    return np.argmin(d,axis=1)\n",
        "\n",
        "def resize(image_paths, rotate_90=False):\n",
        "  dim=(n_px,n_px)\n",
        "  x = np.zeros((len(image_paths),n_px,n_px,3),dtype=np.uint8)\n",
        "\n",
        "  for n,image_path in enumerate(image_paths):\n",
        "    img_np = cv2.imread(image_path)   # reads an image in the BGR format\n",
        "    img_np = cv2.cvtColor(img_np, cv2.COLOR_BGR2RGB)   # BGR -> RGB\n",
        "    H,W,C = img_np.shape\n",
        "    D = min(H,W)\n",
        "    img_np = img_np[:D,:D,:C] #get square piece of image\n",
        "    if (rotate_90):\n",
        "      img_np = cv2.rotate(img_np, cv2.cv2.ROTATE_90_CLOCKWISE)\n",
        "    x[n] = cv2.resize(img_np,dim, interpolation = cv2.INTER_AREA) #resize to n_px by n_px\n",
        "\n",
        "  return x"
      ],
      "execution_count": 9,
      "outputs": []
    },
    {
      "cell_type": "markdown",
      "metadata": {
        "id": "6-kUzrTceiwk",
        "colab_type": "text"
      },
      "source": [
        "## Embedding Extraction"
      ]
    },
    {
      "cell_type": "markdown",
      "metadata": {
        "id": "EsBZ_keDi9Kq",
        "colab_type": "text"
      },
      "source": [
        "Prior implementations:\n",
        "- SENT (w/ jiant) - https://github.com/W4ngatang/sent-bias\n",
        "- Tan & Celis (w/ HuggingFace) - https://github.com/tanyichern/social-biases-contextualized"
      ]
    },
    {
      "cell_type": "code",
      "metadata": {
        "id": "KQ_katnIhyZh",
        "colab_type": "code",
        "colab": {
          "base_uri": "https://localhost:8080/",
          "height": 1000
        },
        "outputId": "965ac6ba-c31d-4f65-d2da-ff63b32a3714"
      },
      "source": [
        "# a couple example sets\n",
        "## tools\n",
        "!curl https://implicit.harvard.edu/implicit/user/demo.us/demo.weapons.0003/images/hbottle.jpg > bottle.jpg\n",
        "!curl https://implicit.harvard.edu/implicit/user/demo.us/demo.weapons.0003/images/hcamera.jpg > camera.jpg\n",
        "!curl https://implicit.harvard.edu/implicit/user/demo.us/demo.weapons.0003/images/hcoke.jpg > coke.jpg\n",
        "!curl https://implicit.harvard.edu/implicit/user/demo.us/demo.weapons.0003/images/hice_cream.jpg > icecream.jpg\n",
        "!curl https://implicit.harvard.edu/implicit/user/demo.us/demo.weapons.0003/images/hphone.jpg > phone.jpg\n",
        "!curl https://implicit.harvard.edu/implicit/user/demo.us/demo.weapons.0003/images/hwalkman.jpg > walkman.jpg\n",
        "!curl https://implicit.harvard.edu/implicit/user/demo.us/demo.weapons.0003/images/hwallet.jpg > wallet.jpg\n",
        "tools = [\"bottle.jpg\", \"camera.jpg\", \"coke.jpg\", \"icecream.jpg\", \"phone.jpg\", \"walkman.jpg\", \"wallet.jpg\"]\n",
        "## weapons\n",
        "!curl https://implicit.harvard.edu/implicit/user/demo.us/demo.weapons.0003/images/waxe.jpg > axe.jpg\n",
        "!curl https://implicit.harvard.edu/implicit/user/demo.us/demo.weapons.0003/images/wcannon.jpg > cannon.jpg\n",
        "!curl https://implicit.harvard.edu/implicit/user/demo.us/demo.weapons.0003/images/wgrenade.jpg > grenade.jpg\n",
        "!curl https://implicit.harvard.edu/implicit/user/demo.us/demo.weapons.0003/images/wmace.jpg > mace.jpg\n",
        "!curl https://implicit.harvard.edu/implicit/user/demo.us/demo.weapons.0003/images/wrevolver.jpg > revolver.jpg\n",
        "!curl https://implicit.harvard.edu/implicit/user/demo.us/demo.weapons.0003/images/wrifle.jpg > rifle.jpg\n",
        "!curl https://implicit.harvard.edu/implicit/user/demo.us/demo.weapons.0003/images/wsword.jpg > sword.jpg\n",
        "weapons = [\"axe.jpg\", \"cannon.jpg\", \"grenade.jpg\", \"mace.jpg\", \"revolver.jpg\", \"rifle.jpg\", \"sword.jpg\"]\n",
        "## black people\n",
        "!curl https://implicit.harvard.edu/implicit/user/demo.us/demo.weapons.0003/images/bf14.jpg > bf14.jpg\n",
        "!curl https://implicit.harvard.edu/implicit/user/demo.us/demo.weapons.0003/images/bf23.jpg > bf23.jpg\n",
        "!curl https://implicit.harvard.edu/implicit/user/demo.us/demo.weapons.0003/images/bf56.jpg > bf56.jpg\n",
        "!curl https://implicit.harvard.edu/implicit/user/demo.us/demo.weapons.0003/images/bm14.jpg > bm14.jpg\n",
        "!curl https://implicit.harvard.edu/implicit/user/demo.us/demo.weapons.0003/images/bm23.jpg > bm23.jpg\n",
        "!curl https://implicit.harvard.edu/implicit/user/demo.us/demo.weapons.0003/images/bm56.jpg > bm56.jpg\n",
        "black_people = [\"bf14.jpg\", \"bf23.jpg\", \"bf56.jpg\", \"bm14.jpg\", \"bm23.jpg\", \"bm56.jpg\"]\n",
        "\n",
        "!curl https://implicit.harvard.edu/implicit/user/demo.us/demo.weapons.0003/images/wf2.jpg > wf2.jpg\n",
        "!curl https://implicit.harvard.edu/implicit/user/demo.us/demo.weapons.0003/images/wf3.jpg > wf3.jpg\n",
        "!curl https://implicit.harvard.edu/implicit/user/demo.us/demo.weapons.0003/images/wf6.jpg > wf6.jpg\n",
        "!curl https://implicit.harvard.edu/implicit/user/demo.us/demo.weapons.0003/images/wm1.jpg > wm1.jpg\n",
        "!curl https://implicit.harvard.edu/implicit/user/demo.us/demo.weapons.0003/images/wm4.jpg > wm4.jpg\n",
        "!curl https://implicit.harvard.edu/implicit/user/demo.us/demo.weapons.0003/images/wm6.jpg > wm6.jpg\n",
        "white_people = [\"wf2.jpg\", \"wf3.jpg\", \"wf6.jpg\", \"wm1.jpg\", \"wm4.jpg\", \"wm6.jpg\"]\n",
        "\n",
        "image_paths = tools + weapons + black_people + white_people"
      ],
      "execution_count": 38,
      "outputs": [
        {
          "output_type": "stream",
          "text": [
            "  % Total    % Received % Xferd  Average Speed   Time    Time     Time  Current\n",
            "                                 Dload  Upload   Total   Spent    Left  Speed\n",
            "100  5201  100  5201    0     0  54747      0 --:--:-- --:--:-- --:--:-- 54747\n",
            "  % Total    % Received % Xferd  Average Speed   Time    Time     Time  Current\n",
            "                                 Dload  Upload   Total   Spent    Left  Speed\n",
            "100  7363  100  7363    0     0  57976      0 --:--:-- --:--:-- --:--:-- 57976\n",
            "  % Total    % Received % Xferd  Average Speed   Time    Time     Time  Current\n",
            "                                 Dload  Upload   Total   Spent    Left  Speed\n",
            "100  6533  100  6533    0     0  92014      0 --:--:-- --:--:-- --:--:-- 92014\n",
            "  % Total    % Received % Xferd  Average Speed   Time    Time     Time  Current\n",
            "                                 Dload  Upload   Total   Spent    Left  Speed\n",
            "100  6358  100  6358    0     0  89549      0 --:--:-- --:--:-- --:--:-- 90828\n",
            "  % Total    % Received % Xferd  Average Speed   Time    Time     Time  Current\n",
            "                                 Dload  Upload   Total   Spent    Left  Speed\n",
            "100  7238  100  7238    0     0    98k      0 --:--:-- --:--:-- --:--:--   98k\n",
            "  % Total    % Received % Xferd  Average Speed   Time    Time     Time  Current\n",
            "                                 Dload  Upload   Total   Spent    Left  Speed\n",
            "100  6688  100  6688    0     0  69666      0 --:--:-- --:--:-- --:--:-- 69666\n",
            "  % Total    % Received % Xferd  Average Speed   Time    Time     Time  Current\n",
            "                                 Dload  Upload   Total   Spent    Left  Speed\n",
            "100  6563  100  6563    0     0  93757      0 --:--:-- --:--:-- --:--:-- 92436\n",
            "  % Total    % Received % Xferd  Average Speed   Time    Time     Time  Current\n",
            "                                 Dload  Upload   Total   Spent    Left  Speed\n",
            "100  4258  100  4258    0     0  33265      0 --:--:-- --:--:-- --:--:-- 33265\n",
            "  % Total    % Received % Xferd  Average Speed   Time    Time     Time  Current\n",
            "                                 Dload  Upload   Total   Spent    Left  Speed\n",
            "100  7165  100  7165    0     0  99513      0 --:--:-- --:--:-- --:--:-- 99513\n",
            "  % Total    % Received % Xferd  Average Speed   Time    Time     Time  Current\n",
            "                                 Dload  Upload   Total   Spent    Left  Speed\n",
            "100  7080  100  7080    0     0  71515      0 --:--:-- --:--:-- --:--:-- 71515\n",
            "  % Total    % Received % Xferd  Average Speed   Time    Time     Time  Current\n",
            "                                 Dload  Upload   Total   Spent    Left  Speed\n",
            "100  5024  100  5024    0     0  71771      0 --:--:-- --:--:-- --:--:-- 71771\n",
            "  % Total    % Received % Xferd  Average Speed   Time    Time     Time  Current\n",
            "                                 Dload  Upload   Total   Spent    Left  Speed\n",
            "100  4961  100  4961    0     0  51144      0 --:--:-- --:--:-- --:--:-- 51144\n",
            "  % Total    % Received % Xferd  Average Speed   Time    Time     Time  Current\n",
            "                                 Dload  Upload   Total   Spent    Left  Speed\n",
            "100  5118  100  5118    0     0  72084      0 --:--:-- --:--:-- --:--:-- 72084\n",
            "  % Total    % Received % Xferd  Average Speed   Time    Time     Time  Current\n",
            "                                 Dload  Upload   Total   Spent    Left  Speed\n",
            "100  3702  100  3702    0     0  52140      0 --:--:-- --:--:-- --:--:-- 52140\n",
            "  % Total    % Received % Xferd  Average Speed   Time    Time     Time  Current\n",
            "                                 Dload  Upload   Total   Spent    Left  Speed\n",
            "100  8610  100  8610    0     0   112k      0 --:--:-- --:--:-- --:--:--  112k\n",
            "  % Total    % Received % Xferd  Average Speed   Time    Time     Time  Current\n",
            "                                 Dload  Upload   Total   Spent    Left  Speed\n",
            "100  8931  100  8931    0     0   119k      0 --:--:-- --:--:-- --:--:--  119k\n",
            "  % Total    % Received % Xferd  Average Speed   Time    Time     Time  Current\n",
            "                                 Dload  Upload   Total   Spent    Left  Speed\n",
            "100  8292  100  8292    0     0   107k      0 --:--:-- --:--:-- --:--:--  107k\n",
            "  % Total    % Received % Xferd  Average Speed   Time    Time     Time  Current\n",
            "                                 Dload  Upload   Total   Spent    Left  Speed\n",
            "100  8490  100  8490    0     0  65813      0 --:--:-- --:--:-- --:--:-- 65813\n",
            "  % Total    % Received % Xferd  Average Speed   Time    Time     Time  Current\n",
            "                                 Dload  Upload   Total   Spent    Left  Speed\n",
            "100  8680  100  8680    0     0   119k      0 --:--:-- --:--:-- --:--:--  119k\n",
            "  % Total    % Received % Xferd  Average Speed   Time    Time     Time  Current\n",
            "                                 Dload  Upload   Total   Spent    Left  Speed\n",
            "100  8637  100  8637    0     0   117k      0 --:--:-- --:--:-- --:--:--  117k\n",
            "  % Total    % Received % Xferd  Average Speed   Time    Time     Time  Current\n",
            "                                 Dload  Upload   Total   Spent    Left  Speed\n",
            "100  8550  100  8550    0     0   117k      0 --:--:-- --:--:-- --:--:--  117k\n",
            "  % Total    % Received % Xferd  Average Speed   Time    Time     Time  Current\n",
            "                                 Dload  Upload   Total   Spent    Left  Speed\n",
            "100  8536  100  8536    0     0  89852      0 --:--:-- --:--:-- --:--:-- 89852\n",
            "  % Total    % Received % Xferd  Average Speed   Time    Time     Time  Current\n",
            "                                 Dload  Upload   Total   Spent    Left  Speed\n",
            "100  8719  100  8719    0     0   121k      0 --:--:-- --:--:-- --:--:--  121k\n",
            "  % Total    % Received % Xferd  Average Speed   Time    Time     Time  Current\n",
            "                                 Dload  Upload   Total   Spent    Left  Speed\n",
            "100  8298  100  8298    0     0   105k      0 --:--:-- --:--:-- --:--:--  105k\n",
            "  % Total    % Received % Xferd  Average Speed   Time    Time     Time  Current\n",
            "                                 Dload  Upload   Total   Spent    Left  Speed\n",
            "100  7494  100  7494    0     0   104k      0 --:--:-- --:--:-- --:--:--  104k\n",
            "  % Total    % Received % Xferd  Average Speed   Time    Time     Time  Current\n",
            "                                 Dload  Upload   Total   Spent    Left  Speed\n",
            "100  7658  100  7658    0     0   105k      0 --:--:-- --:--:-- --:--:--  105k\n"
          ],
          "name": "stdout"
        }
      ]
    },
    {
      "cell_type": "code",
      "metadata": {
        "id": "49y_k2iAk5nm",
        "colab_type": "code",
        "colab": {
          "base_uri": "https://localhost:8080/",
          "height": 90
        },
        "outputId": "6ad10488-f55e-4df6-e808-b1cd5e10e297"
      },
      "source": [
        "import matplotlib.pyplot as plt\n",
        "\n",
        "x = resize(image_paths)\n",
        "x_norm = normalize_img(x) #normalize pixels values to -1 to +1\n",
        "samples = color_quantize_np(x_norm,clusters).reshape(x_norm.shape[:-1]) #map pixels to closest color cluster\n",
        "samples_img = [np.reshape(np.rint(127.5 * (clusters[s] + 1.0)), [n_px, n_px, 3]).astype(np.uint8) for s in samples] # convert color clusters back to pixels\n",
        "f, axes = plt.subplots(1,len(image_paths),dpi=300)\n",
        "for img, ax in zip(samples_img, axes):\n",
        "  ax.axis('off')\n",
        "  ax.imshow(img)"
      ],
      "execution_count": 39,
      "outputs": [
        {
          "output_type": "display_data",
          "data": {
            "image/png": "[encoded data removed]",
            "text/plain": [
              "<Figure size 1800x1200 with 26 Axes>"
            ]
          },
          "metadata": {
            "tags": [],
            "needs_background": "light"
          }
        }
      ]
    },
    {
      "cell_type": "code",
      "metadata": {
        "id": "87u-VdmBlGCq",
        "colab_type": "code",
        "colab": {}
      },
      "source": [
        "with torch.no_grad(): # saves some memory\n",
        "  # initialize with SOS token\n",
        "  context = np.concatenate( \n",
        "      (\n",
        "          np.full( (len(image_paths), 1), vocab_size - 1 ),\n",
        "          samples.reshape(-1,n_px*n_px),\n",
        "      ), axis=1 \n",
        "  )\n",
        "  # DEBUG THIS LATER\n",
        "  # must drop the last pixel to make room for the SOS\n",
        "  context = torch.tensor(context[:,:-1])\n",
        "  enc, _ = model(context)\n",
        "  enc_last = enc[:, -1, :].numpy()  # extract the rep of the last input, as in sent-bias\n",
        "  np.savetxt(\"encs.csv\", enc_last, delimiter=',')"
      ],
      "execution_count": 40,
      "outputs": []
    },
    {
      "cell_type": "code",
      "metadata": {
        "id": "5SHnjFRrWj5x",
        "colab_type": "code",
        "colab": {}
      },
      "source": [
        "import pandas as pd\n",
        "\n",
        "# add the image names to the CSV file\n",
        "df = pd.read_csv(\"encs.csv\", header=None)\n",
        "df[\"img\"] = image_paths\n",
        "df.to_csv(\"encs_labeled.csv\")"
      ],
      "execution_count": 41,
      "outputs": []
    },
    {
      "cell_type": "code",
      "metadata": {
        "id": "5cUsFIPuTjxL",
        "colab_type": "code",
        "colab": {
          "base_uri": "https://localhost:8080/",
          "height": 17
        },
        "outputId": "99bf5a28-8f16-4bf9-8e43-46b423f28418"
      },
      "source": [
        "from google.colab import files\n",
        "\n",
        "files.download(\"encs_labeled.csv\")"
      ],
      "execution_count": 42,
      "outputs": [
        {
          "output_type": "display_data",
          "data": {
            "application/javascript": [
              "\n",
              "    async function download(id, filename, size) {\n",
              "      if (!google.colab.kernel.accessAllowed) {\n",
              "        return;\n",
              "      }\n",
              "      const div = document.createElement('div');\n",
              "      const label = document.createElement('label');\n",
              "      label.textContent = `Downloading \"${filename}\": `;\n",
              "      div.appendChild(label);\n",
              "      const progress = document.createElement('progress');\n",
              "      progress.max = size;\n",
              "      div.appendChild(progress);\n",
              "      document.body.appendChild(div);\n",
              "\n",
              "      const buffers = [];\n",
              "      let downloaded = 0;\n",
              "\n",
              "      const channel = await google.colab.kernel.comms.open(id);\n",
              "      // Send a message to notify the kernel that we're ready.\n",
              "      channel.send({})\n",
              "\n",
              "      for await (const message of channel.messages) {\n",
              "        // Send a message to notify the kernel that we're ready.\n",
              "        channel.send({})\n",
              "        if (message.buffers) {\n",
              "          for (const buffer of message.buffers) {\n",
              "            buffers.push(buffer);\n",
              "            downloaded += buffer.byteLength;\n",
              "            progress.value = downloaded;\n",
              "          }\n",
              "        }\n",
              "      }\n",
              "      const blob = new Blob(buffers, {type: 'application/binary'});\n",
              "      const a = document.createElement('a');\n",
              "      a.href = window.URL.createObjectURL(blob);\n",
              "      a.download = filename;\n",
              "      div.appendChild(a);\n",
              "      a.click();\n",
              "      div.remove();\n",
              "    }\n",
              "  "
            ],
            "text/plain": [
              "<IPython.core.display.Javascript object>"
            ]
          },
          "metadata": {
            "tags": []
          }
        },
        {
          "output_type": "display_data",
          "data": {
            "application/javascript": [
              "download(\"download_62b7fb69-7259-47f2-8430-faa1c3165c67\", \"encs_labeled.csv\", 250810)"
            ],
            "text/plain": [
              "<IPython.core.display.Javascript object>"
            ]
          },
          "metadata": {
            "tags": []
          }
        }
      ]
    },
    {
      "cell_type": "code",
      "metadata": {
        "id": "xF-vbLVkWSLo",
        "colab_type": "code",
        "colab": {}
      },
      "source": [
        ""
      ],
      "execution_count": null,
      "outputs": []
    }
  ]
}