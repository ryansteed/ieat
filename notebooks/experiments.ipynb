{
  "nbformat": 4,
  "nbformat_minor": 0,
  "metadata": {
    "colab": {
      "name": "Image-GPT-Bias-HuggingFace.ipynb",
      "provenance": [],
      "collapsed_sections": [],
      "toc_visible": true,
      "machine_shape": "hm"
    },
    "kernelspec": {
      "display_name": "Python 3",
      "language": "python",
      "name": "python3"
    },
    "language_info": {
      "codemirror_mode": {
        "name": "ipython",
        "version": 3
      },
      "file_extension": ".py",
      "mimetype": "text/x-python",
      "name": "python",
      "nbconvert_exporter": "python",
      "pygments_lexer": "ipython3",
      "version": "3.8.5"
    },
    "require": {
      "paths": {
        "buttons.colvis": "https://cdn.datatables.net/buttons/1.5.6/js/buttons.colVis.min",
        "buttons.flash": "https://cdn.datatables.net/buttons/1.5.6/js/buttons.flash.min",
        "buttons.html5": "https://cdn.datatables.net/buttons/1.5.6/js/buttons.html5.min",
        "buttons.print": "https://cdn.datatables.net/buttons/1.5.6/js/buttons.print.min",
        "chartjs": "https://cdnjs.cloudflare.com/ajax/libs/Chart.js/2.8.0/Chart",
        "d3": "https://d3js.org/d3.v5.min",
        "d3-array": "https://d3js.org/d3-array.v2.min",
        "datatables.net": "https://cdn.datatables.net/1.10.18/js/jquery.dataTables",
        "datatables.net-buttons": "https://cdn.datatables.net/buttons/1.5.6/js/dataTables.buttons.min",
        "datatables.responsive": "https://cdn.datatables.net/responsive/2.2.2/js/dataTables.responsive.min",
        "datatables.scroller": "https://cdn.datatables.net/scroller/2.0.0/js/dataTables.scroller.min",
        "datatables.select": "https://cdn.datatables.net/select/1.3.0/js/dataTables.select.min",
        "jszip": "https://cdnjs.cloudflare.com/ajax/libs/jszip/2.5.0/jszip.min",
        "moment": "https://cdnjs.cloudflare.com/ajax/libs/moment.js/2.8.0/moment",
        "pdfmake": "https://cdnjs.cloudflare.com/ajax/libs/pdfmake/0.1.36/pdfmake.min",
        "vfsfonts": "https://cdnjs.cloudflare.com/ajax/libs/pdfmake/0.1.36/vfs_fonts"
      },
      "shim": {
        "buttons.colvis": {
          "deps": [
            "jszip",
            "datatables.net-buttons"
          ]
        },
        "buttons.flash": {
          "deps": [
            "jszip",
            "datatables.net-buttons"
          ]
        },
        "buttons.html5": {
          "deps": [
            "jszip",
            "datatables.net-buttons"
          ]
        },
        "buttons.print": {
          "deps": [
            "jszip",
            "datatables.net-buttons"
          ]
        },
        "chartjs": {
          "deps": [
            "moment"
          ]
        },
        "datatables.net": {
          "exports": "$.fn.dataTable"
        },
        "datatables.net-buttons": {
          "deps": [
            "datatables.net"
          ]
        },
        "pdfmake": {
          "deps": [
            "datatables.net"
          ]
        },
        "vfsfonts": {
          "deps": [
            "datatables.net"
          ]
        }
      }
    }
  },
  "cells": [
    {
      "cell_type": "markdown",
      "metadata": {
        "colab_type": "text",
        "id": "P9tObiU-qVgv"
      },
      "source": [
        "[![Open In Colab](https://colab.research.google.com/assets/colab-badge.svg)](https://colab.research.google.com/github/ryansteed/image-gpt-bias/blob/master/notebooks/experiments.ipynb)\n",
        "\n",
        "# Image GPT Bias\n",
        "**Image Embedding Association Test**\n",
        "\n",
        "Ryan Steed\n",
        "\n",
        "This script adapted from https://colab.research.google.com/github/apeguero1/image-gpt/blob/master/Transformers_Image_GPT.ipynb.\n"
      ]
    },
    {
      "cell_type": "code",
      "metadata": {
        "colab_type": "code",
        "id": "lHXoubXWpiSv",
        "colab": {
          "base_uri": "https://localhost:8080/",
          "height": 51
        },
        "outputId": "57f068ab-3890-444e-92b8-1a59c84717c4"
      },
      "source": [
        "import sys\n",
        "import os\n",
        "sys.path.insert(0, os.path.abspath('..'))\n",
        "\n",
        "%load_ext autoreload\n",
        "%autoreload 2\n",
        "\n",
        "%cd /Users/steed/caliskan/git/image-gpt-bias"
      ],
      "execution_count": 1,
      "outputs": [
        {
          "output_type": "stream",
          "text": [
            "[Errno 2] No such file or directory: '/Users/steed/caliskan/git/image-gpt-bias'\n",
            "/content\n"
          ],
          "name": "stdout"
        }
      ]
    },
    {
      "cell_type": "markdown",
      "metadata": {
        "colab_type": "text",
        "id": "OoWYiUzT_lLs"
      },
      "source": [
        "## Download Model"
      ]
    },
    {
      "cell_type": "code",
      "metadata": {
        "colab_type": "code",
        "id": "DzJbEWC6Vogc",
        "colab": {
          "base_uri": "https://localhost:8080/",
          "height": 71
        },
        "outputId": "c1286597-3cf5-45d2-af5a-f34c863f52c9"
      },
      "source": [
        "!nvidia-smi #OpenAI says you need 16GB GPU for the large model, but it may work if you lower n_sub_batch on the others."
      ],
      "execution_count": 2,
      "outputs": [
        {
          "output_type": "stream",
          "text": [
            "NVIDIA-SMI has failed because it couldn't communicate with the NVIDIA driver. Make sure that the latest NVIDIA driver is installed and running.\n",
            "\n"
          ],
          "name": "stdout"
        }
      ]
    },
    {
      "cell_type": "code",
      "metadata": {
        "colab_type": "code",
        "id": "WkPOYJsCTaUb",
        "colab": {
          "base_uri": "https://localhost:8080/",
          "height": 51
        },
        "outputId": "9268d5df-fc68-4de3-d17d-cf58075831d3"
      },
      "source": [
        "import urllib\n",
        "\n",
        "# don't share these to Github or elsewhere!\n",
        "u = \"your_username\"\n",
        "p = urllib.parse.quote(\"your_password\")\n",
        "!git clone --recurse-submodules -j8 https://$u:$p@github.com/$u/image-gpt-bias.git\n",
        "%cd image-gpt-bias"
      ],
      "execution_count": 3,
      "outputs": [
        {
          "output_type": "stream",
          "text": [
            "fatal: destination path 'image-gpt-bias' already exists and is not an empty directory.\n",
            "/content/image-gpt-bias\n"
          ],
          "name": "stdout"
        }
      ]
    },
    {
      "cell_type": "code",
      "metadata": {
        "colab_type": "code",
        "id": "BIOr3wBHs955",
        "colab": {
          "base_uri": "https://localhost:8080/",
          "height": 1000
        },
        "outputId": "e64b0e05-02c7-4c95-cafb-677b705d7707"
      },
      "source": [
        "# note - you may need to restart the kernel for these installations to take effect\n",
        "!pip install -e .\n",
        "!pip install -e weat"
      ],
      "execution_count": 4,
      "outputs": [
        {
          "output_type": "stream",
          "text": [
            "Obtaining file:///content/image-gpt-bias\n",
            "Collecting transformers\n",
            "\u001b[?25l  Downloading https://files.pythonhosted.org/packages/d8/f4/9f93f06dd2c57c7cd7aa515ffbf9fcfd8a084b92285732289f4a5696dd91/transformers-3.2.0-py3-none-any.whl (1.0MB)\n",
            "\u001b[K     |████████████████████████████████| 1.0MB 8.1MB/s \n",
            "\u001b[?25hRequirement already satisfied: torch in /usr/local/lib/python3.6/dist-packages (from ieat==1.0) (1.6.0+cu101)\n",
            "Requirement already satisfied: numpy in /usr/local/lib/python3.6/dist-packages (from ieat==1.0) (1.18.5)\n",
            "Requirement already satisfied: matplotlib in /usr/local/lib/python3.6/dist-packages (from ieat==1.0) (3.2.2)\n",
            "Requirement already satisfied: opencv-python in /usr/local/lib/python3.6/dist-packages (from ieat==1.0) (4.1.2.30)\n",
            "Requirement already satisfied: tensorflow in /usr/local/lib/python3.6/dist-packages (from ieat==1.0) (2.3.0)\n",
            "Requirement already satisfied: requests in /usr/local/lib/python3.6/dist-packages (from transformers->ieat==1.0) (2.23.0)\n",
            "Collecting sentencepiece!=0.1.92\n",
            "\u001b[?25l  Downloading https://files.pythonhosted.org/packages/d4/a4/d0a884c4300004a78cca907a6ff9a5e9fe4f090f5d95ab341c53d28cbc58/sentencepiece-0.1.91-cp36-cp36m-manylinux1_x86_64.whl (1.1MB)\n",
            "\u001b[K     |████████████████████████████████| 1.1MB 31.8MB/s \n",
            "\u001b[?25hRequirement already satisfied: dataclasses; python_version < \"3.7\" in /usr/local/lib/python3.6/dist-packages (from transformers->ieat==1.0) (0.7)\n",
            "Requirement already satisfied: filelock in /usr/local/lib/python3.6/dist-packages (from transformers->ieat==1.0) (3.0.12)\n",
            "Requirement already satisfied: tqdm>=4.27 in /usr/local/lib/python3.6/dist-packages (from transformers->ieat==1.0) (4.41.1)\n",
            "Collecting sacremoses\n",
            "\u001b[?25l  Downloading https://files.pythonhosted.org/packages/7d/34/09d19aff26edcc8eb2a01bed8e98f13a1537005d31e95233fd48216eed10/sacremoses-0.0.43.tar.gz (883kB)\n",
            "\u001b[K     |████████████████████████████████| 890kB 51.1MB/s \n",
            "\u001b[?25hRequirement already satisfied: packaging in /usr/local/lib/python3.6/dist-packages (from transformers->ieat==1.0) (20.4)\n",
            "Collecting tokenizers==0.8.1.rc2\n",
            "\u001b[?25l  Downloading https://files.pythonhosted.org/packages/80/83/8b9fccb9e48eeb575ee19179e2bdde0ee9a1904f97de5f02d19016b8804f/tokenizers-0.8.1rc2-cp36-cp36m-manylinux1_x86_64.whl (3.0MB)\n",
            "\u001b[K     |████████████████████████████████| 3.0MB 42.1MB/s \n",
            "\u001b[?25hRequirement already satisfied: regex!=2019.12.17 in /usr/local/lib/python3.6/dist-packages (from transformers->ieat==1.0) (2019.12.20)\n",
            "Requirement already satisfied: future in /usr/local/lib/python3.6/dist-packages (from torch->ieat==1.0) (0.16.0)\n",
            "Requirement already satisfied: pyparsing!=2.0.4,!=2.1.2,!=2.1.6,>=2.0.1 in /usr/local/lib/python3.6/dist-packages (from matplotlib->ieat==1.0) (2.4.7)\n",
            "Requirement already satisfied: kiwisolver>=1.0.1 in /usr/local/lib/python3.6/dist-packages (from matplotlib->ieat==1.0) (1.2.0)\n",
            "Requirement already satisfied: python-dateutil>=2.1 in /usr/local/lib/python3.6/dist-packages (from matplotlib->ieat==1.0) (2.8.1)\n",
            "Requirement already satisfied: cycler>=0.10 in /usr/local/lib/python3.6/dist-packages (from matplotlib->ieat==1.0) (0.10.0)\n",
            "Requirement already satisfied: termcolor>=1.1.0 in /usr/local/lib/python3.6/dist-packages (from tensorflow->ieat==1.0) (1.1.0)\n",
            "Requirement already satisfied: absl-py>=0.7.0 in /usr/local/lib/python3.6/dist-packages (from tensorflow->ieat==1.0) (0.10.0)\n",
            "Requirement already satisfied: h5py<2.11.0,>=2.10.0 in /usr/local/lib/python3.6/dist-packages (from tensorflow->ieat==1.0) (2.10.0)\n",
            "Requirement already satisfied: keras-preprocessing<1.2,>=1.1.1 in /usr/local/lib/python3.6/dist-packages (from tensorflow->ieat==1.0) (1.1.2)\n",
            "Requirement already satisfied: protobuf>=3.9.2 in /usr/local/lib/python3.6/dist-packages (from tensorflow->ieat==1.0) (3.12.4)\n",
            "Requirement already satisfied: gast==0.3.3 in /usr/local/lib/python3.6/dist-packages (from tensorflow->ieat==1.0) (0.3.3)\n",
            "Requirement already satisfied: wheel>=0.26 in /usr/local/lib/python3.6/dist-packages (from tensorflow->ieat==1.0) (0.35.1)\n",
            "Requirement already satisfied: tensorflow-estimator<2.4.0,>=2.3.0 in /usr/local/lib/python3.6/dist-packages (from tensorflow->ieat==1.0) (2.3.0)\n",
            "Requirement already satisfied: wrapt>=1.11.1 in /usr/local/lib/python3.6/dist-packages (from tensorflow->ieat==1.0) (1.12.1)\n",
            "Requirement already satisfied: google-pasta>=0.1.8 in /usr/local/lib/python3.6/dist-packages (from tensorflow->ieat==1.0) (0.2.0)\n",
            "Requirement already satisfied: opt-einsum>=2.3.2 in /usr/local/lib/python3.6/dist-packages (from tensorflow->ieat==1.0) (3.3.0)\n",
            "Requirement already satisfied: grpcio>=1.8.6 in /usr/local/lib/python3.6/dist-packages (from tensorflow->ieat==1.0) (1.32.0)\n",
            "Requirement already satisfied: scipy==1.4.1 in /usr/local/lib/python3.6/dist-packages (from tensorflow->ieat==1.0) (1.4.1)\n",
            "Requirement already satisfied: tensorboard<3,>=2.3.0 in /usr/local/lib/python3.6/dist-packages (from tensorflow->ieat==1.0) (2.3.0)\n",
            "Requirement already satisfied: astunparse==1.6.3 in /usr/local/lib/python3.6/dist-packages (from tensorflow->ieat==1.0) (1.6.3)\n",
            "Requirement already satisfied: six>=1.12.0 in /usr/local/lib/python3.6/dist-packages (from tensorflow->ieat==1.0) (1.15.0)\n",
            "Requirement already satisfied: idna<3,>=2.5 in /usr/local/lib/python3.6/dist-packages (from requests->transformers->ieat==1.0) (2.10)\n",
            "Requirement already satisfied: chardet<4,>=3.0.2 in /usr/local/lib/python3.6/dist-packages (from requests->transformers->ieat==1.0) (3.0.4)\n",
            "Requirement already satisfied: urllib3!=1.25.0,!=1.25.1,<1.26,>=1.21.1 in /usr/local/lib/python3.6/dist-packages (from requests->transformers->ieat==1.0) (1.24.3)\n",
            "Requirement already satisfied: certifi>=2017.4.17 in /usr/local/lib/python3.6/dist-packages (from requests->transformers->ieat==1.0) (2020.6.20)\n",
            "Requirement already satisfied: click in /usr/local/lib/python3.6/dist-packages (from sacremoses->transformers->ieat==1.0) (7.1.2)\n",
            "Requirement already satisfied: joblib in /usr/local/lib/python3.6/dist-packages (from sacremoses->transformers->ieat==1.0) (0.16.0)\n",
            "Requirement already satisfied: setuptools in /usr/local/lib/python3.6/dist-packages (from protobuf>=3.9.2->tensorflow->ieat==1.0) (50.3.0)\n",
            "Requirement already satisfied: werkzeug>=0.11.15 in /usr/local/lib/python3.6/dist-packages (from tensorboard<3,>=2.3.0->tensorflow->ieat==1.0) (1.0.1)\n",
            "Requirement already satisfied: google-auth-oauthlib<0.5,>=0.4.1 in /usr/local/lib/python3.6/dist-packages (from tensorboard<3,>=2.3.0->tensorflow->ieat==1.0) (0.4.1)\n",
            "Requirement already satisfied: tensorboard-plugin-wit>=1.6.0 in /usr/local/lib/python3.6/dist-packages (from tensorboard<3,>=2.3.0->tensorflow->ieat==1.0) (1.7.0)\n",
            "Requirement already satisfied: google-auth<2,>=1.6.3 in /usr/local/lib/python3.6/dist-packages (from tensorboard<3,>=2.3.0->tensorflow->ieat==1.0) (1.17.2)\n",
            "Requirement already satisfied: markdown>=2.6.8 in /usr/local/lib/python3.6/dist-packages (from tensorboard<3,>=2.3.0->tensorflow->ieat==1.0) (3.2.2)\n",
            "Requirement already satisfied: requests-oauthlib>=0.7.0 in /usr/local/lib/python3.6/dist-packages (from google-auth-oauthlib<0.5,>=0.4.1->tensorboard<3,>=2.3.0->tensorflow->ieat==1.0) (1.3.0)\n",
            "Requirement already satisfied: rsa<5,>=3.1.4; python_version >= \"3\" in /usr/local/lib/python3.6/dist-packages (from google-auth<2,>=1.6.3->tensorboard<3,>=2.3.0->tensorflow->ieat==1.0) (4.6)\n",
            "Requirement already satisfied: pyasn1-modules>=0.2.1 in /usr/local/lib/python3.6/dist-packages (from google-auth<2,>=1.6.3->tensorboard<3,>=2.3.0->tensorflow->ieat==1.0) (0.2.8)\n",
            "Requirement already satisfied: cachetools<5.0,>=2.0.0 in /usr/local/lib/python3.6/dist-packages (from google-auth<2,>=1.6.3->tensorboard<3,>=2.3.0->tensorflow->ieat==1.0) (4.1.1)\n",
            "Requirement already satisfied: importlib-metadata; python_version < \"3.8\" in /usr/local/lib/python3.6/dist-packages (from markdown>=2.6.8->tensorboard<3,>=2.3.0->tensorflow->ieat==1.0) (1.7.0)\n",
            "Requirement already satisfied: oauthlib>=3.0.0 in /usr/local/lib/python3.6/dist-packages (from requests-oauthlib>=0.7.0->google-auth-oauthlib<0.5,>=0.4.1->tensorboard<3,>=2.3.0->tensorflow->ieat==1.0) (3.1.0)\n",
            "Requirement already satisfied: pyasn1>=0.1.3 in /usr/local/lib/python3.6/dist-packages (from rsa<5,>=3.1.4; python_version >= \"3\"->google-auth<2,>=1.6.3->tensorboard<3,>=2.3.0->tensorflow->ieat==1.0) (0.4.8)\n",
            "Requirement already satisfied: zipp>=0.5 in /usr/local/lib/python3.6/dist-packages (from importlib-metadata; python_version < \"3.8\"->markdown>=2.6.8->tensorboard<3,>=2.3.0->tensorflow->ieat==1.0) (3.1.0)\n",
            "Building wheels for collected packages: sacremoses\n",
            "  Building wheel for sacremoses (setup.py) ... \u001b[?25l\u001b[?25hdone\n",
            "  Created wheel for sacremoses: filename=sacremoses-0.0.43-cp36-none-any.whl size=893257 sha256=39f329199919716d85b4b368f2f367d7302eac9cc8fbdabedb3fbb772ed215de\n",
            "  Stored in directory: /root/.cache/pip/wheels/29/3c/fd/7ce5c3f0666dab31a50123635e6fb5e19ceb42ce38d4e58f45\n",
            "Successfully built sacremoses\n",
            "Installing collected packages: sentencepiece, sacremoses, tokenizers, transformers, ieat\n",
            "  Running setup.py develop for ieat\n",
            "Successfully installed ieat sacremoses-0.0.43 sentencepiece-0.1.91 tokenizers-0.8.1rc2 transformers-3.2.0\n",
            "Obtaining file:///content/image-gpt-bias/weat\n",
            "Requirement already satisfied: pandas in /usr/local/lib/python3.6/dist-packages (from weat==1.0) (1.0.5)\n",
            "Requirement already satisfied: scikit-learn in /usr/local/lib/python3.6/dist-packages (from weat==1.0) (0.22.2.post1)\n",
            "Requirement already satisfied: numpy in /usr/local/lib/python3.6/dist-packages (from weat==1.0) (1.18.5)\n",
            "Requirement already satisfied: python-dateutil>=2.6.1 in /usr/local/lib/python3.6/dist-packages (from pandas->weat==1.0) (2.8.1)\n",
            "Requirement already satisfied: pytz>=2017.2 in /usr/local/lib/python3.6/dist-packages (from pandas->weat==1.0) (2018.9)\n",
            "Requirement already satisfied: joblib>=0.11 in /usr/local/lib/python3.6/dist-packages (from scikit-learn->weat==1.0) (0.16.0)\n",
            "Requirement already satisfied: scipy>=0.17.0 in /usr/local/lib/python3.6/dist-packages (from scikit-learn->weat==1.0) (1.4.1)\n",
            "Requirement already satisfied: six>=1.5 in /usr/local/lib/python3.6/dist-packages (from python-dateutil>=2.6.1->pandas->weat==1.0) (1.15.0)\n",
            "Installing collected packages: weat\n",
            "  Running setup.py develop for weat\n",
            "Successfully installed weat\n"
          ],
          "name": "stdout"
        }
      ]
    },
    {
      "cell_type": "code",
      "metadata": {
        "colab_type": "code",
        "id": "e0DcaUYv8LYf",
        "colab": {}
      },
      "source": [
        "model_sizes = [\"s\", \"m\", \"l\"] #small medium large, xl not available\n",
        "model_size = \"l\"\n",
        "models_dir = \"models\"\n",
        "color_clusters_dir = \"clusters\"\n",
        "n_px = 32"
      ],
      "execution_count": null,
      "outputs": []
    },
    {
      "cell_type": "code",
      "metadata": {
        "colab_type": "code",
        "id": "ylcjIJcwXsFw",
        "colab": {}
      },
      "source": [
        "# download the model - skip if already downloaded\n",
        "!python image-gpt/download.py --model {model_size} --ckpt 1000000 --clusters --download_dir {models_dir}/{model_size}\n",
        "!python image-gpt/download.py --clusters --download_dir {color_clusters_dir}"
      ],
      "execution_count": null,
      "outputs": []
    },
    {
      "cell_type": "markdown",
      "metadata": {
        "colab_type": "text",
        "id": "fJcpjSByxvhQ"
      },
      "source": [
        "## IATs"
      ]
    },
    {
      "cell_type": "markdown",
      "metadata": {
        "id": "rv34zwKpSHSp",
        "colab_type": "text"
      },
      "source": [
        "### Quick Summary"
      ]
    },
    {
      "cell_type": "code",
      "metadata": {
        "id": "vLl9AC5nSHSp",
        "colab_type": "code",
        "colab": {
          "base_uri": "https://localhost:8080/",
          "height": 562
        },
        "outputId": "b5c5697e-0c30-496c-db1e-91452870f5c4"
      },
      "source": [
        "from ieat.api import test_all\n",
        "\n",
        "import pandas as pd\n",
        "import numpy as np\n",
        "\n",
        "results = test_all(\n",
        "    {\n",
        "        'simclr': (50,1,0)\n",
        "    },\n",
        "    tests=(\"Insect-Flower\")\n",
        ")"
      ],
      "execution_count": 4,
      "outputs": [
        {
          "output_type": "stream",
          "text": [
            "09/22 07:31:44 PM: Extracting images from data/experiments/insect-flower/flower\n",
            "09/22 07:31:44 PM: resolver HttpCompressedFileResolver does not support the provided handle.\n",
            "09/22 07:31:44 PM: resolver GcsCompressedFileResolver does not support the provided handle.\n"
          ],
          "name": "stderr"
        },
        {
          "output_type": "stream",
          "text": [
            "## Insect-Flower ##\n",
            "# simclr #\n",
            "INFO:tensorflow:Saver not created because there are no variables in the graph to restore\n"
          ],
          "name": "stdout"
        },
        {
          "output_type": "stream",
          "text": [
            "09/22 07:31:49 PM: Saver not created because there are no variables in the graph to restore\n",
            "100%|██████████| 20/20 [00:00<00:00, 25.08it/s]\n",
            "100%|██████████| 15/15 [00:00<00:00, 26.32it/s]\n",
            "09/22 07:32:31 PM: Extracting images from data/experiments/insect-flower/insect\n",
            "100%|██████████| 20/20 [00:00<00:00, 41.32it/s]\n"
          ],
          "name": "stderr"
        },
        {
          "output_type": "error",
          "ename": "ValueError",
          "evalue": "ignored",
          "traceback": [
            "\u001b[0;31m---------------------------------------------------------------------------\u001b[0m",
            "\u001b[0;31mValueError\u001b[0m                                Traceback (most recent call last)",
            "\u001b[0;32m<ipython-input-4-b1a992b12fc4>\u001b[0m in \u001b[0;36m<module>\u001b[0;34m()\u001b[0m\n\u001b[1;32m      6\u001b[0m results = test_all(\n\u001b[1;32m      7\u001b[0m     {\n\u001b[0;32m----> 8\u001b[0;31m         \u001b[0;34m'simclr'\u001b[0m\u001b[0;34m:\u001b[0m \u001b[0;34m(\u001b[0m\u001b[0;36m50\u001b[0m\u001b[0;34m,\u001b[0m\u001b[0;36m1\u001b[0m\u001b[0;34m,\u001b[0m\u001b[0;36m0\u001b[0m\u001b[0;34m)\u001b[0m\u001b[0;34m\u001b[0m\u001b[0;34m\u001b[0m\u001b[0m\n\u001b[0m\u001b[1;32m      9\u001b[0m     }\n\u001b[1;32m     10\u001b[0m )\n",
            "\u001b[0;32m/content/image-gpt-bias/ieat/api.py\u001b[0m in \u001b[0;36mtest_all\u001b[0;34m(model_types, tests, **test_params)\u001b[0m\n\u001b[1;32m    141\u001b[0m                                 \u001b[0mmodel_type\u001b[0m\u001b[0;34m,\u001b[0m\u001b[0;34m\u001b[0m\u001b[0;34m\u001b[0m\u001b[0m\n\u001b[1;32m    142\u001b[0m                                 \u001b[0mmodel_params\u001b[0m\u001b[0;34m,\u001b[0m\u001b[0;34m\u001b[0m\u001b[0;34m\u001b[0m\u001b[0m\n\u001b[0;32m--> 143\u001b[0;31m                                 \u001b[0;34m**\u001b[0m\u001b[0mtest_params\u001b[0m\u001b[0;34m\u001b[0m\u001b[0;34m\u001b[0m\u001b[0m\n\u001b[0m\u001b[1;32m    144\u001b[0m \t\t\t)\n\u001b[1;32m    145\u001b[0m                         \u001b[0;31m# pull the sample sizes for X and A\u001b[0m\u001b[0;34m\u001b[0m\u001b[0;34m\u001b[0m\u001b[0;34m\u001b[0m\u001b[0m\n",
            "\u001b[0;32m/content/image-gpt-bias/ieat/api.py\u001b[0m in \u001b[0;36mtest\u001b[0;34m(X, Y, A, B, model_type, model_params, file_types, from_cache, verbose, gpu, batch_size, **test_params)\u001b[0m\n\u001b[1;32m     55\u001b[0m                         \u001b[0mvisualize\u001b[0m\u001b[0;34m=\u001b[0m\u001b[0mverbose\u001b[0m\u001b[0;34m,\u001b[0m\u001b[0;34m\u001b[0m\u001b[0;34m\u001b[0m\u001b[0m\n\u001b[1;32m     56\u001b[0m                         \u001b[0mgpu\u001b[0m\u001b[0;34m=\u001b[0m\u001b[0mgpu\u001b[0m\u001b[0;34m,\u001b[0m\u001b[0;34m\u001b[0m\u001b[0;34m\u001b[0m\u001b[0m\n\u001b[0;32m---> 57\u001b[0;31m                         \u001b[0mbatch_size\u001b[0m\u001b[0;34m=\u001b[0m\u001b[0mbatch_size\u001b[0m\u001b[0;34m\u001b[0m\u001b[0;34m\u001b[0m\u001b[0m\n\u001b[0m\u001b[1;32m     58\u001b[0m \t\t))\n\u001b[1;32m     59\u001b[0m         \u001b[0;32massert\u001b[0m \u001b[0mlen\u001b[0m\u001b[0;34m(\u001b[0m\u001b[0membeddings\u001b[0m\u001b[0;34m)\u001b[0m \u001b[0;32mis\u001b[0m \u001b[0;32mnot\u001b[0m \u001b[0;32mNone\u001b[0m\u001b[0;34m,\u001b[0m \u001b[0;34m\"Embeddings could not be extracted.\"\u001b[0m\u001b[0;34m\u001b[0m\u001b[0;34m\u001b[0m\u001b[0m\n",
            "\u001b[0;32m/content/image-gpt-bias/ieat/models.py\u001b[0m in \u001b[0;36mextract_dir\u001b[0;34m(self, d, file_types, batch_size, visualize, **extract_params)\u001b[0m\n\u001b[1;32m     57\u001b[0m                                 \u001b[0moutput_path\u001b[0m\u001b[0;34m=\u001b[0m\u001b[0membedding_path\u001b[0m\u001b[0;34m,\u001b[0m\u001b[0;34m\u001b[0m\u001b[0;34m\u001b[0m\u001b[0m\n\u001b[1;32m     58\u001b[0m                                 \u001b[0mvisualize\u001b[0m\u001b[0;34m=\u001b[0m\u001b[0mvisualize\u001b[0m\u001b[0;34m,\u001b[0m\u001b[0;34m\u001b[0m\u001b[0;34m\u001b[0m\u001b[0m\n\u001b[0;32m---> 59\u001b[0;31m                                 \u001b[0;34m**\u001b[0m\u001b[0mextract_params\u001b[0m\u001b[0;34m\u001b[0m\u001b[0;34m\u001b[0m\u001b[0m\n\u001b[0m\u001b[1;32m     60\u001b[0m \t\t\t)\n\u001b[1;32m     61\u001b[0m                 \u001b[0;32mreturn\u001b[0m \u001b[0mencs\u001b[0m\u001b[0;34m\u001b[0m\u001b[0;34m\u001b[0m\u001b[0m\n",
            "\u001b[0;32m/content/image-gpt-bias/ieat/models.py\u001b[0m in \u001b[0;36mextract\u001b[0;34m(self, image_paths, batch_size, output_path, gpu, visualize, **extract_kwargs)\u001b[0m\n\u001b[1;32m     75\u001b[0m                                         \u001b[0mself\u001b[0m\u001b[0;34m.\u001b[0m\u001b[0m_extract_context\u001b[0m\u001b[0;34m(\u001b[0m\u001b[0mself\u001b[0m\u001b[0;34m.\u001b[0m\u001b[0mprocess_samples\u001b[0m\u001b[0;34m(\u001b[0m\u001b[0mbatch\u001b[0m\u001b[0;34m,\u001b[0m \u001b[0mvisualize\u001b[0m\u001b[0;34m=\u001b[0m\u001b[0mvisualize\u001b[0m\u001b[0;34m)\u001b[0m\u001b[0;34m,\u001b[0m \u001b[0mgpu\u001b[0m\u001b[0;34m,\u001b[0m \u001b[0;34m**\u001b[0m\u001b[0mextract_kwargs\u001b[0m\u001b[0;34m)\u001b[0m\u001b[0;34m\u001b[0m\u001b[0;34m\u001b[0m\u001b[0m\n\u001b[1;32m     76\u001b[0m \t\t\t\t)\n\u001b[0;32m---> 77\u001b[0;31m                                 \u001b[0;32mfor\u001b[0m \u001b[0mbatch\u001b[0m \u001b[0;32min\u001b[0m \u001b[0mbatches\u001b[0m\u001b[0;34m\u001b[0m\u001b[0;34m\u001b[0m\u001b[0m\n\u001b[0m\u001b[1;32m     78\u001b[0m \t\t\t])\n\u001b[1;32m     79\u001b[0m \u001b[0;34m\u001b[0m\u001b[0m\n",
            "\u001b[0;32m/content/image-gpt-bias/ieat/models.py\u001b[0m in \u001b[0;36m<listcomp>\u001b[0;34m(.0)\u001b[0m\n\u001b[1;32m     75\u001b[0m                                         \u001b[0mself\u001b[0m\u001b[0;34m.\u001b[0m\u001b[0m_extract_context\u001b[0m\u001b[0;34m(\u001b[0m\u001b[0mself\u001b[0m\u001b[0;34m.\u001b[0m\u001b[0mprocess_samples\u001b[0m\u001b[0;34m(\u001b[0m\u001b[0mbatch\u001b[0m\u001b[0;34m,\u001b[0m \u001b[0mvisualize\u001b[0m\u001b[0;34m=\u001b[0m\u001b[0mvisualize\u001b[0m\u001b[0;34m)\u001b[0m\u001b[0;34m,\u001b[0m \u001b[0mgpu\u001b[0m\u001b[0;34m,\u001b[0m \u001b[0;34m**\u001b[0m\u001b[0mextract_kwargs\u001b[0m\u001b[0;34m)\u001b[0m\u001b[0;34m\u001b[0m\u001b[0;34m\u001b[0m\u001b[0m\n\u001b[1;32m     76\u001b[0m \t\t\t\t)\n\u001b[0;32m---> 77\u001b[0;31m                                 \u001b[0;32mfor\u001b[0m \u001b[0mbatch\u001b[0m \u001b[0;32min\u001b[0m \u001b[0mbatches\u001b[0m\u001b[0;34m\u001b[0m\u001b[0;34m\u001b[0m\u001b[0m\n\u001b[0m\u001b[1;32m     78\u001b[0m \t\t\t])\n\u001b[1;32m     79\u001b[0m \u001b[0;34m\u001b[0m\u001b[0m\n",
            "\u001b[0;32m/content/image-gpt-bias/ieat/models.py\u001b[0m in \u001b[0;36mprocess_samples\u001b[0;34m(self, image_paths, visualize)\u001b[0m\n\u001b[1;32m    137\u001b[0m                         \u001b[0mimages\u001b[0m\u001b[0;34m.\u001b[0m\u001b[0mappend\u001b[0m\u001b[0;34m(\u001b[0m\u001b[0mimage_pixels\u001b[0m\u001b[0;34m)\u001b[0m\u001b[0;34m\u001b[0m\u001b[0;34m\u001b[0m\u001b[0m\n\u001b[1;32m    138\u001b[0m \u001b[0;34m\u001b[0m\u001b[0m\n\u001b[0;32m--> 139\u001b[0;31m                 \u001b[0mimages\u001b[0m \u001b[0;34m=\u001b[0m \u001b[0mnp\u001b[0m\u001b[0;34m.\u001b[0m\u001b[0marray\u001b[0m\u001b[0;34m(\u001b[0m\u001b[0mimages\u001b[0m\u001b[0;34m)\u001b[0m\u001b[0;34m\u001b[0m\u001b[0;34m\u001b[0m\u001b[0m\n\u001b[0m\u001b[1;32m    140\u001b[0m \u001b[0;34m\u001b[0m\u001b[0m\n\u001b[1;32m    141\u001b[0m                 \u001b[0;32mif\u001b[0m \u001b[0mvisualize\u001b[0m\u001b[0;34m:\u001b[0m\u001b[0;34m\u001b[0m\u001b[0;34m\u001b[0m\u001b[0m\n",
            "\u001b[0;31mValueError\u001b[0m: could not broadcast input array from shape (224,224,3) into shape (224,224)"
          ]
        }
      ]
    },
    {
      "cell_type": "code",
      "metadata": {
        "id": "fv2Node4SHSs",
        "colab_type": "code",
        "colab": {},
        "outputId": "0f34dbc6-a35a-4569-99d8-b4f81ff1e028"
      },
      "source": [
        "  import pandas as pd\n",
        "\n",
        "results_df = pd.DataFrame(results).transpose()\n",
        "results_df.columns = [\"X\", \"Y\", \"A\", \"B\", \"effect\", \"p\", \"n_t\", \"n_a\"]\n",
        "for c in results_df.columns[:4]:\n",
        "    results_df[c] = results_df[c].str.split(\"/\").str[-1]\n",
        "results_df[\"sig\"] = \"\"\n",
        "for l in [0.10, 0.05, 0.01]:\n",
        "    results_df.sig[results_df.p < l] += \"*\"\n",
        "results_df[results_df.index.get_level_values(1) == \"openai\"]\n",
        "# results_df"
      ],
      "execution_count": null,
      "outputs": [
        {
          "output_type": "execute_result",
          "data": {
            "text/html": [
              "<div>\n",
              "<style scoped>\n",
              "    .dataframe tbody tr th:only-of-type {\n",
              "        vertical-align: middle;\n",
              "    }\n",
              "\n",
              "    .dataframe tbody tr th {\n",
              "        vertical-align: top;\n",
              "    }\n",
              "\n",
              "    .dataframe thead th {\n",
              "        text-align: right;\n",
              "    }\n",
              "</style>\n",
              "<table border=\"1\" class=\"dataframe\">\n",
              "  <thead>\n",
              "    <tr style=\"text-align: right;\">\n",
              "      <th></th>\n",
              "      <th></th>\n",
              "      <th>X</th>\n",
              "      <th>Y</th>\n",
              "      <th>A</th>\n",
              "      <th>B</th>\n",
              "      <th>effect</th>\n",
              "      <th>p</th>\n",
              "      <th>n_t</th>\n",
              "      <th>n_a</th>\n",
              "      <th>sig</th>\n",
              "    </tr>\n",
              "  </thead>\n",
              "  <tbody>\n",
              "    <tr>\n",
              "      <th>Insect-Flower</th>\n",
              "      <th>openai</th>\n",
              "      <td>flower</td>\n",
              "      <td>insect</td>\n",
              "      <td>pleasant</td>\n",
              "      <td>unpleasant</td>\n",
              "      <td>0.344033</td>\n",
              "      <td>0.0733</td>\n",
              "      <td>35</td>\n",
              "      <td>55</td>\n",
              "      <td>*</td>\n",
              "    </tr>\n",
              "    <tr>\n",
              "      <th>Weapon</th>\n",
              "      <th>openai</th>\n",
              "      <td>white</td>\n",
              "      <td>black</td>\n",
              "      <td>tool</td>\n",
              "      <td>weapon</td>\n",
              "      <td>0.861729</td>\n",
              "      <td>0.0681818</td>\n",
              "      <td>6</td>\n",
              "      <td>7</td>\n",
              "      <td>*</td>\n",
              "    </tr>\n",
              "    <tr>\n",
              "      <th>Weapon (Modern)</th>\n",
              "      <th>openai</th>\n",
              "      <td>white</td>\n",
              "      <td>black</td>\n",
              "      <td>tool-modern</td>\n",
              "      <td>weapon-modern</td>\n",
              "      <td>0.876497</td>\n",
              "      <td>0.0606061</td>\n",
              "      <td>6</td>\n",
              "      <td>9</td>\n",
              "      <td>*</td>\n",
              "    </tr>\n",
              "    <tr>\n",
              "      <th>Native</th>\n",
              "      <th>openai</th>\n",
              "      <td>euro</td>\n",
              "      <td>native</td>\n",
              "      <td>us</td>\n",
              "      <td>world</td>\n",
              "      <td>-0.334465</td>\n",
              "      <td>0.7315</td>\n",
              "      <td>8</td>\n",
              "      <td>5</td>\n",
              "      <td></td>\n",
              "    </tr>\n",
              "    <tr>\n",
              "      <th>Asian</th>\n",
              "      <th>openai</th>\n",
              "      <td>european-american</td>\n",
              "      <td>asian-american</td>\n",
              "      <td>american</td>\n",
              "      <td>foreign</td>\n",
              "      <td>0.254383</td>\n",
              "      <td>0.33658</td>\n",
              "      <td>6</td>\n",
              "      <td>6</td>\n",
              "      <td></td>\n",
              "    </tr>\n",
              "    <tr>\n",
              "      <th>Weight</th>\n",
              "      <th>openai</th>\n",
              "      <td>thin</td>\n",
              "      <td>fat</td>\n",
              "      <td>pleasant</td>\n",
              "      <td>unpleasant</td>\n",
              "      <td>1.66548</td>\n",
              "      <td>0.0001</td>\n",
              "      <td>10</td>\n",
              "      <td>55</td>\n",
              "      <td>***</td>\n",
              "    </tr>\n",
              "    <tr>\n",
              "      <th>Skin-Tone</th>\n",
              "      <th>openai</th>\n",
              "      <td>light</td>\n",
              "      <td>dark</td>\n",
              "      <td>pleasant</td>\n",
              "      <td>unpleasant</td>\n",
              "      <td>1.25532</td>\n",
              "      <td>0.00699301</td>\n",
              "      <td>7</td>\n",
              "      <td>55</td>\n",
              "      <td>***</td>\n",
              "    </tr>\n",
              "    <tr>\n",
              "      <th>Disability</th>\n",
              "      <th>openai</th>\n",
              "      <td>disabled</td>\n",
              "      <td>abled</td>\n",
              "      <td>pleasant</td>\n",
              "      <td>unpleasant</td>\n",
              "      <td>-0.0185307</td>\n",
              "      <td>0.528571</td>\n",
              "      <td>4</td>\n",
              "      <td>55</td>\n",
              "      <td></td>\n",
              "    </tr>\n",
              "    <tr>\n",
              "      <th>President - Kennedy vs. Trump</th>\n",
              "      <th>openai</th>\n",
              "      <td>kennedy</td>\n",
              "      <td>trump</td>\n",
              "      <td>pleasant</td>\n",
              "      <td>unpleasant</td>\n",
              "      <td>0.0506318</td>\n",
              "      <td>0.469697</td>\n",
              "      <td>6</td>\n",
              "      <td>55</td>\n",
              "      <td></td>\n",
              "    </tr>\n",
              "    <tr>\n",
              "      <th>President - B. Clinton vs. Trump</th>\n",
              "      <th>openai</th>\n",
              "      <td>clinton</td>\n",
              "      <td>trump</td>\n",
              "      <td>pleasant</td>\n",
              "      <td>unpleasant</td>\n",
              "      <td>-0.868112</td>\n",
              "      <td>0.937229</td>\n",
              "      <td>6</td>\n",
              "      <td>55</td>\n",
              "      <td></td>\n",
              "    </tr>\n",
              "    <tr>\n",
              "      <th>President - Bush vs. Trump</th>\n",
              "      <th>openai</th>\n",
              "      <td>bush</td>\n",
              "      <td>trump</td>\n",
              "      <td>pleasant</td>\n",
              "      <td>unpleasant</td>\n",
              "      <td>0.515994</td>\n",
              "      <td>0.207792</td>\n",
              "      <td>6</td>\n",
              "      <td>55</td>\n",
              "      <td></td>\n",
              "    </tr>\n",
              "    <tr>\n",
              "      <th>President - Lincoln vs. Trump</th>\n",
              "      <th>openai</th>\n",
              "      <td>lincoln</td>\n",
              "      <td>trump</td>\n",
              "      <td>pleasant</td>\n",
              "      <td>unpleasant</td>\n",
              "      <td>1.17658</td>\n",
              "      <td>0.0205628</td>\n",
              "      <td>6</td>\n",
              "      <td>55</td>\n",
              "      <td>**</td>\n",
              "    </tr>\n",
              "    <tr>\n",
              "      <th>Religion</th>\n",
              "      <th>openai</th>\n",
              "      <td>christianity</td>\n",
              "      <td>judaism</td>\n",
              "      <td>pleasant</td>\n",
              "      <td>unpleasant</td>\n",
              "      <td>0.372424</td>\n",
              "      <td>0.253205</td>\n",
              "      <td>7</td>\n",
              "      <td>55</td>\n",
              "      <td></td>\n",
              "    </tr>\n",
              "    <tr>\n",
              "      <th>Sexuality</th>\n",
              "      <th>openai</th>\n",
              "      <td>gay</td>\n",
              "      <td>straight</td>\n",
              "      <td>pleasant</td>\n",
              "      <td>unpleasant</td>\n",
              "      <td>-0.0261927</td>\n",
              "      <td>0.5303</td>\n",
              "      <td>9</td>\n",
              "      <td>55</td>\n",
              "      <td></td>\n",
              "    </tr>\n",
              "    <tr>\n",
              "      <th>Race</th>\n",
              "      <th>openai</th>\n",
              "      <td>european-american</td>\n",
              "      <td>african-american</td>\n",
              "      <td>pleasant</td>\n",
              "      <td>unpleasant</td>\n",
              "      <td>-0.619378</td>\n",
              "      <td>0.84632</td>\n",
              "      <td>6</td>\n",
              "      <td>55</td>\n",
              "      <td></td>\n",
              "    </tr>\n",
              "    <tr>\n",
              "      <th>Arab-Muslim</th>\n",
              "      <th>openai</th>\n",
              "      <td>other-people</td>\n",
              "      <td>arab-muslim</td>\n",
              "      <td>pleasant</td>\n",
              "      <td>unpleasant</td>\n",
              "      <td>0.861063</td>\n",
              "      <td>0.0233</td>\n",
              "      <td>10</td>\n",
              "      <td>55</td>\n",
              "      <td>**</td>\n",
              "    </tr>\n",
              "    <tr>\n",
              "      <th>Age</th>\n",
              "      <th>openai</th>\n",
              "      <td>young</td>\n",
              "      <td>old</td>\n",
              "      <td>pleasant</td>\n",
              "      <td>unpleasant</td>\n",
              "      <td>0.422719</td>\n",
              "      <td>0.241342</td>\n",
              "      <td>6</td>\n",
              "      <td>55</td>\n",
              "      <td></td>\n",
              "    </tr>\n",
              "    <tr>\n",
              "      <th>Gender-Science</th>\n",
              "      <th>openai</th>\n",
              "      <td>science</td>\n",
              "      <td>liberal-arts</td>\n",
              "      <td>male</td>\n",
              "      <td>female</td>\n",
              "      <td>0.603351</td>\n",
              "      <td>0.0266</td>\n",
              "      <td>21</td>\n",
              "      <td>40</td>\n",
              "      <td>**</td>\n",
              "    </tr>\n",
              "    <tr>\n",
              "      <th>Gender-Career</th>\n",
              "      <th>openai</th>\n",
              "      <td>career</td>\n",
              "      <td>family</td>\n",
              "      <td>male</td>\n",
              "      <td>female</td>\n",
              "      <td>0.646452</td>\n",
              "      <td>0.019</td>\n",
              "      <td>21</td>\n",
              "      <td>40</td>\n",
              "      <td>**</td>\n",
              "    </tr>\n",
              "  </tbody>\n",
              "</table>\n",
              "</div>"
            ],
            "text/plain": [
              "                                                         X                 Y  \\\n",
              "Insect-Flower                    openai             flower            insect   \n",
              "Weapon                           openai              white             black   \n",
              "Weapon (Modern)                  openai              white             black   \n",
              "Native                           openai               euro            native   \n",
              "Asian                            openai  european-american    asian-american   \n",
              "Weight                           openai               thin               fat   \n",
              "Skin-Tone                        openai              light              dark   \n",
              "Disability                       openai           disabled             abled   \n",
              "President - Kennedy vs. Trump    openai            kennedy             trump   \n",
              "President - B. Clinton vs. Trump openai            clinton             trump   \n",
              "President - Bush vs. Trump       openai               bush             trump   \n",
              "President - Lincoln vs. Trump    openai            lincoln             trump   \n",
              "Religion                         openai       christianity           judaism   \n",
              "Sexuality                        openai                gay          straight   \n",
              "Race                             openai  european-american  african-american   \n",
              "Arab-Muslim                      openai       other-people       arab-muslim   \n",
              "Age                              openai              young               old   \n",
              "Gender-Science                   openai            science      liberal-arts   \n",
              "Gender-Career                    openai             career            family   \n",
              "\n",
              "                                                   A              B  \\\n",
              "Insect-Flower                    openai     pleasant     unpleasant   \n",
              "Weapon                           openai         tool         weapon   \n",
              "Weapon (Modern)                  openai  tool-modern  weapon-modern   \n",
              "Native                           openai           us          world   \n",
              "Asian                            openai     american        foreign   \n",
              "Weight                           openai     pleasant     unpleasant   \n",
              "Skin-Tone                        openai     pleasant     unpleasant   \n",
              "Disability                       openai     pleasant     unpleasant   \n",
              "President - Kennedy vs. Trump    openai     pleasant     unpleasant   \n",
              "President - B. Clinton vs. Trump openai     pleasant     unpleasant   \n",
              "President - Bush vs. Trump       openai     pleasant     unpleasant   \n",
              "President - Lincoln vs. Trump    openai     pleasant     unpleasant   \n",
              "Religion                         openai     pleasant     unpleasant   \n",
              "Sexuality                        openai     pleasant     unpleasant   \n",
              "Race                             openai     pleasant     unpleasant   \n",
              "Arab-Muslim                      openai     pleasant     unpleasant   \n",
              "Age                              openai     pleasant     unpleasant   \n",
              "Gender-Science                   openai         male         female   \n",
              "Gender-Career                    openai         male         female   \n",
              "\n",
              "                                            effect           p n_t n_a  sig  \n",
              "Insect-Flower                    openai   0.344033      0.0733  35  55    *  \n",
              "Weapon                           openai   0.861729   0.0681818   6   7    *  \n",
              "Weapon (Modern)                  openai   0.876497   0.0606061   6   9    *  \n",
              "Native                           openai  -0.334465      0.7315   8   5       \n",
              "Asian                            openai   0.254383     0.33658   6   6       \n",
              "Weight                           openai    1.66548      0.0001  10  55  ***  \n",
              "Skin-Tone                        openai    1.25532  0.00699301   7  55  ***  \n",
              "Disability                       openai -0.0185307    0.528571   4  55       \n",
              "President - Kennedy vs. Trump    openai  0.0506318    0.469697   6  55       \n",
              "President - B. Clinton vs. Trump openai  -0.868112    0.937229   6  55       \n",
              "President - Bush vs. Trump       openai   0.515994    0.207792   6  55       \n",
              "President - Lincoln vs. Trump    openai    1.17658   0.0205628   6  55   **  \n",
              "Religion                         openai   0.372424    0.253205   7  55       \n",
              "Sexuality                        openai -0.0261927      0.5303   9  55       \n",
              "Race                             openai  -0.619378     0.84632   6  55       \n",
              "Arab-Muslim                      openai   0.861063      0.0233  10  55   **  \n",
              "Age                              openai   0.422719    0.241342   6  55       \n",
              "Gender-Science                   openai   0.603351      0.0266  21  40   **  \n",
              "Gender-Career                    openai   0.646452       0.019  21  40   **  "
            ]
          },
          "metadata": {
            "tags": []
          },
          "execution_count": 5
        }
      ]
    },
    {
      "cell_type": "code",
      "metadata": {
        "id": "9x5qXqGrSHSu",
        "colab_type": "code",
        "colab": {}
      },
      "source": [
        "# Generate latex table output\n",
        "experiments = (\n",
        "    \"Insect-Flower\",\n",
        "    \"Gender-Science\",\n",
        "    \"Gender_Career\",\n",
        "    \"Skin-Tone\",\n",
        "    \"Race\",\n",
        "    \"Weapon\",\n",
        "    \"Weapon (Modern)\",\n",
        "    \"Native\",\n",
        "    \"Asian\",\n",
        "    \"Weight\",\n",
        "    \"Religion\",\n",
        "    \"Sexuality\",\n",
        "    \"Disability\",\n",
        "    \"Arab-Muslim\",\n",
        "    \"Age\"\n",
        ")\n",
        "results_df.index = results_df.index.set_names([\"Test\", \"Model\"])\n",
        "results_df[results_df.index.get_level_values(\"Test\").isin(experiments)]\\\n",
        "    .drop(columns=[\"X\", \"Y\", \"A\", \"B\"]).to_latex('output/results.tex')\n",
        "results_df.droplevel(\"Model\").groupby(\"Test\").head(1)\\\n",
        "    .drop(columns=[\"effect\", \"p\", \"n_t\", \"n_a\", \"sig\"]).to_latex('output/iats.tex')\n",
        "stimuli = pd.read_csv(\"data/stimuli.csv\")\n",
        "stimuli.dropna(axis=0, subset=[\"Word\", \"Source\"])\\\n",
        "    .drop(columns=\"Collected (N=n)\").set_index([\"IAT\", \"Category\"]).to_latex(\"output/stimuli.tex\")"
      ],
      "execution_count": null,
      "outputs": []
    },
    {
      "cell_type": "markdown",
      "metadata": {
        "id": "WH3YS_ytSHSw",
        "colab_type": "text"
      },
      "source": [
        "### Detail View"
      ]
    },
    {
      "cell_type": "markdown",
      "metadata": {
        "colab_type": "text",
        "id": "9ePsWzNWpiTI"
      },
      "source": [
        "#### Weapons"
      ]
    },
    {
      "cell_type": "code",
      "metadata": {
        "colab_type": "code",
        "id": "xF-vbLVkWSLo",
        "colab": {}
      },
      "source": [
        "from ieat.api import test\n",
        "\n",
        "test(\n",
        "    \"data/experiments/weapon/black\",\n",
        "    \"data/experiments/weapon/white\",\n",
        "    \"data/experiments/weapon/tool\",\n",
        "    \"data/experiments/weapon/weapon\",\n",
        "    model_type=\"openai\", \n",
        "    model_size=model_size,\n",
        "    models_dir=models_dir,\n",
        "    clusters_dir=color_clusters_dir,\n",
        "    n_px=n_px\n",
        "#     from_cache=False\n",
        ")"
      ],
      "execution_count": null,
      "outputs": []
    },
    {
      "cell_type": "markdown",
      "metadata": {
        "colab_type": "text",
        "id": "SbZZ-m6QpiTM"
      },
      "source": [
        "#### Native"
      ]
    },
    {
      "cell_type": "code",
      "metadata": {
        "colab_type": "code",
        "id": "wTs4pDDwpiTM",
        "colab": {}
      },
      "source": [
        "test(\n",
        "    \"data/experiments/native/euro\",\n",
        "    \"data/experiments/native/native\",\n",
        "    \"data/experiments/native/us\",\n",
        "    \"data/experiments/native/world\",\n",
        "    model_type=\"openai\", \n",
        "    model_size=model_size,\n",
        "    models_dir=models_dir,\n",
        "    clusters_dir=color_clusters_dir,\n",
        "    n_px=n_px\n",
        "#     from_cache=False\n",
        ")"
      ],
      "execution_count": null,
      "outputs": []
    },
    {
      "cell_type": "markdown",
      "metadata": {
        "colab_type": "text",
        "id": "qyrLx0cmpiTO"
      },
      "source": [
        "#### Asian"
      ]
    },
    {
      "cell_type": "code",
      "metadata": {
        "colab_type": "code",
        "id": "_nEjOV-QpiTP",
        "colab": {}
      },
      "source": [
        "test(\n",
        "    \"data/experiments/asian/european-american\",\n",
        "    \"data/experiments/asian/asian-american\",\n",
        "    \"data/experiments/asian/american\",\n",
        "    \"data/experiments/asian/foreign\",\n",
        "    model_type=\"openai\", \n",
        "    model_size=model_size,\n",
        "    models_dir=models_dir,\n",
        "    clusters_dir=color_clusters_dir,\n",
        "    n_px=n_px\n",
        "#     from_cache=False\n",
        ")"
      ],
      "execution_count": null,
      "outputs": []
    },
    {
      "cell_type": "markdown",
      "metadata": {
        "colab_type": "text",
        "id": "O8Wpc7vPxvhZ"
      },
      "source": [
        "#### Insect-Flower"
      ]
    },
    {
      "cell_type": "code",
      "metadata": {
        "colab_type": "code",
        "id": "y_dzK41F6Hso",
        "colab": {}
      },
      "source": [
        "from ieat.api import test\n",
        "\n",
        "test(\n",
        "    \"data/experiments/insect-flower/flower\",\n",
        "    \"data/experiments/insect-flower/insect\",\n",
        "    \"data/experiments/valence/pleasant\",\n",
        "    \"data/experiments/valence/unpleasant\",\n",
        "    model_type=\"openai\", \n",
        "    model_size=model_size,\n",
        "    models_dir=models_dir,\n",
        "    clusters_dir=color_clusters_dir,\n",
        "    n_px=n_px,\n",
        "#     from_cache=False,\n",
        "    verbose=True\n",
        ")"
      ],
      "execution_count": null,
      "outputs": []
    },
    {
      "cell_type": "markdown",
      "metadata": {
        "colab_type": "text",
        "id": "ZalmenA0xvhb"
      },
      "source": [
        "#### Weight"
      ]
    },
    {
      "cell_type": "code",
      "metadata": {
        "colab_type": "code",
        "id": "ziXl8gaWxvhc",
        "colab": {}
      },
      "source": [
        "from ieat.api import test\n",
        "\n",
        "test(\n",
        "    \"data/experiments/weight/thin\",\n",
        "    \"data/experiments/weight/fat\",\n",
        "    \"data/experiments/valence/pleasant\",\n",
        "    \"data/experiments/valence/unpleasant\",\n",
        "    model_type=\"openai\", \n",
        "    model_size=model_size,\n",
        "    models_dir=models_dir,\n",
        "    clusters_dir=color_clusters_dir,\n",
        "    n_px=n_px,\n",
        "#     from_cache=False,\n",
        "    verbose=True\n",
        ")"
      ],
      "execution_count": null,
      "outputs": []
    },
    {
      "cell_type": "markdown",
      "metadata": {
        "colab_type": "text",
        "id": "7gYnQK4vxvhe"
      },
      "source": [
        "#### Skin-Tone"
      ]
    },
    {
      "cell_type": "code",
      "metadata": {
        "colab_type": "code",
        "id": "VFg-zm4Ixvhe",
        "colab": {}
      },
      "source": [
        "from ieat.api import test\n",
        "\n",
        "test(\n",
        "    \"data/experiments/skin-tone/light\",\n",
        "    \"data/experiments/skin-tone/dark\",\n",
        "    \"data/experiments/valence/pleasant\",\n",
        "    \"data/experiments/valence/unpleasant\",\n",
        "    model_type=\"openai\", \n",
        "    model_size=model_size,\n",
        "    models_dir=models_dir,\n",
        "    clusters_dir=color_clusters_dir,\n",
        "    n_px=n_px,\n",
        "#     from_cache=False,\n",
        "    verbose=True\n",
        ")"
      ],
      "execution_count": null,
      "outputs": []
    },
    {
      "cell_type": "markdown",
      "metadata": {
        "colab_type": "text",
        "id": "kqoUJ9_oxvhh"
      },
      "source": [
        "#### Disability"
      ]
    },
    {
      "cell_type": "code",
      "metadata": {
        "colab_type": "code",
        "id": "nLLGZcCRxvhh",
        "colab": {}
      },
      "source": [
        "from ieat.api import test\n",
        "\n",
        "test(\n",
        "    \"data/experiments/disabled/disabled\",\n",
        "    \"data/experiments/disabled/abled\",\n",
        "    \"data/experiments/valence/pleasant\",\n",
        "    \"data/experiments/valence/unpleasant\",\n",
        "    model_type=\"openai\", \n",
        "    model_size=model_size,\n",
        "    models_dir=models_dir,\n",
        "    clusters_dir=color_clusters_dir,\n",
        "    n_px=n_px,\n",
        "#     from_cache=False,\n",
        "    verbose=True\n",
        ")"
      ],
      "execution_count": null,
      "outputs": []
    },
    {
      "cell_type": "markdown",
      "metadata": {
        "colab_type": "text",
        "id": "VX-5Fpk2xvhl"
      },
      "source": [
        "#### Presidents"
      ]
    },
    {
      "cell_type": "code",
      "metadata": {
        "colab_type": "code",
        "id": "qPYAHFFGxvhm",
        "colab": {}
      },
      "source": [
        "from ieat.api import test\n",
        "\n",
        "test(\n",
        "    \"data/experiments/presidents/trump\",\n",
        "    \"data/experiments/presidents/kennedy\",\n",
        "    \"data/experiments/valence/pleasant\",\n",
        "    \"data/experiments/valence/unpleasant\",\n",
        "    model_type=\"openai\", \n",
        "    model_size=model_size,\n",
        "    models_dir=models_dir,\n",
        "    clusters_dir=color_clusters_dir,\n",
        "    n_px=n_px,\n",
        "#     from_cache=False,\n",
        "    verbose=True\n",
        ")"
      ],
      "execution_count": null,
      "outputs": []
    },
    {
      "cell_type": "code",
      "metadata": {
        "colab_type": "code",
        "id": "zqSZmD4Rxvho",
        "colab": {}
      },
      "source": [
        "from ieat.api import test\n",
        "\n",
        "test(\n",
        "    \"data/experiments/presidents/trump\",\n",
        "    \"data/experiments/presidents/clinton\",\n",
        "    \"data/experiments/valence/pleasant\",\n",
        "    \"data/experiments/valence/unpleasant\",\n",
        "    model_type=\"openai\", \n",
        "    model_size=model_size,\n",
        "    models_dir=models_dir,\n",
        "    clusters_dir=color_clusters_dir,\n",
        "    n_px=n_px,\n",
        "#     from_cache=False,\n",
        "    verbose=True\n",
        ")"
      ],
      "execution_count": null,
      "outputs": []
    },
    {
      "cell_type": "code",
      "metadata": {
        "colab_type": "code",
        "id": "L6HNE0bvxvhq",
        "colab": {}
      },
      "source": [
        "from ieat.api import test\n",
        "\n",
        "test(\n",
        "    \"data/experiments/presidents/trump\",\n",
        "    \"data/experiments/presidents/bush\",\n",
        "    \"data/experiments/valence/pleasant\",\n",
        "    \"data/experiments/valence/unpleasant\",\n",
        "    model_type=\"openai\", \n",
        "    model_size=model_size,\n",
        "    models_dir=models_dir,\n",
        "    clusters_dir=color_clusters_dir,\n",
        "    n_px=n_px,\n",
        "#     from_cache=False,\n",
        "    verbose=True\n",
        ")"
      ],
      "execution_count": null,
      "outputs": []
    },
    {
      "cell_type": "code",
      "metadata": {
        "colab_type": "code",
        "id": "oTOxt8Y5xvhs",
        "colab": {}
      },
      "source": [
        "from ieat.api import test\n",
        "\n",
        "test(\n",
        "    \"data/experiments/presidents/trump\",\n",
        "    \"data/experiments/presidents/lincoln\",\n",
        "    \"data/experiments/valence/pleasant\",\n",
        "    \"data/experiments/valence/unpleasant\",\n",
        "    model_type=\"openai\", \n",
        "    model_size=model_size,\n",
        "    models_dir=models_dir,\n",
        "    clusters_dir=color_clusters_dir,\n",
        "    n_px=n_px,\n",
        "#     from_cache=False,\n",
        "    verbose=True\n",
        ")"
      ],
      "execution_count": null,
      "outputs": []
    },
    {
      "cell_type": "markdown",
      "metadata": {
        "colab_type": "text",
        "id": "ErIbgFMXxvhu"
      },
      "source": [
        "#### Religion"
      ]
    },
    {
      "cell_type": "code",
      "metadata": {
        "colab_type": "code",
        "id": "VvAe-DuUxvhu",
        "colab": {}
      },
      "source": [
        "from ieat.api import test\n",
        "\n",
        "test(\n",
        "    \"data/experiments/religion/christianity\",\n",
        "    \"data/experiments/religion/judaism\",\n",
        "    \"data/experiments/valence/pleasant\",\n",
        "    \"data/experiments/valence/unpleasant\",\n",
        "    model_type=\"openai\", \n",
        "    model_size=model_size,\n",
        "    models_dir=models_dir,\n",
        "    clusters_dir=color_clusters_dir,\n",
        "    n_px=n_px,\n",
        "#     from_cache=False,\n",
        "    verbose=True\n",
        ")"
      ],
      "execution_count": null,
      "outputs": []
    },
    {
      "cell_type": "markdown",
      "metadata": {
        "colab_type": "text",
        "id": "gt3GfXoYxvhw"
      },
      "source": [
        "#### Gender-Science"
      ]
    },
    {
      "cell_type": "code",
      "metadata": {
        "colab_type": "code",
        "id": "2zs-M-ezxvhx",
        "colab": {}
      },
      "source": [
        "from ieat.api import test\n",
        "\n",
        "test(\n",
        "    \"data/experiments/gender/science\",\n",
        "    \"data/experiments/gender/liberal-arts\",\n",
        "    \"data/experiments/gender/male\",\n",
        "    \"data/experiments/gender/female\",\n",
        "    model_type=\"openai\", \n",
        "    model_size=model_size,\n",
        "    models_dir=models_dir,\n",
        "    clusters_dir=color_clusters_dir,\n",
        "    n_px=n_px,\n",
        "#     from_cache=False,\n",
        "    verbose=True\n",
        ")"
      ],
      "execution_count": null,
      "outputs": []
    },
    {
      "cell_type": "markdown",
      "metadata": {
        "colab_type": "text",
        "id": "BXbraCTvxvhy"
      },
      "source": [
        "#### Gender-Career"
      ]
    },
    {
      "cell_type": "code",
      "metadata": {
        "colab_type": "code",
        "id": "wmICFKRhxvhz",
        "colab": {}
      },
      "source": [
        "from ieat.api import test\n",
        "\n",
        "test(\n",
        "    \"data/experiments/gender/career\",\n",
        "    \"data/experiments/gender/family\",\n",
        "    \"data/experiments/gender/male\",\n",
        "    \"data/experiments/gender/female\",\n",
        "    model_type=\"openai\", \n",
        "    model_size=model_size,\n",
        "    models_dir=models_dir,\n",
        "    clusters_dir=color_clusters_dir,\n",
        "    n_px=n_px,\n",
        "#     from_cache=False,\n",
        "    verbose=True\n",
        ")"
      ],
      "execution_count": null,
      "outputs": []
    },
    {
      "cell_type": "markdown",
      "metadata": {
        "colab_type": "text",
        "id": "_BI1Gxc4xvh1"
      },
      "source": [
        "#### Sexuality"
      ]
    },
    {
      "cell_type": "code",
      "metadata": {
        "colab_type": "code",
        "id": "6qhiTy3Rxvh2",
        "colab": {}
      },
      "source": [
        "from ieat.api import test\n",
        "\n",
        "test(\n",
        "    \"data/experiments/sexuality/gay\",\n",
        "    \"data/experiments/sexuality/straight\",\n",
        "    \"data/experiments/valence/pleasant\",\n",
        "    \"data/experiments/valence/unpleasant\",\n",
        "    model_type=\"openai\", \n",
        "    model_size=model_size,\n",
        "    models_dir=models_dir,\n",
        "    clusters_dir=color_clusters_dir,\n",
        "    n_px=n_px,\n",
        "#     from_cache=False,\n",
        "    verbose=True\n",
        ")"
      ],
      "execution_count": null,
      "outputs": []
    },
    {
      "cell_type": "markdown",
      "metadata": {
        "colab_type": "text",
        "id": "7VIIIFfpxvh3"
      },
      "source": [
        "#### Race"
      ]
    },
    {
      "cell_type": "code",
      "metadata": {
        "colab_type": "code",
        "id": "fSuQzadOxvh4",
        "colab": {}
      },
      "source": [
        "from ieat.api import test\n",
        "\n",
        "test(\n",
        "    \"data/experiments/race/african-american\",\n",
        "    \"data/experiments/race/european-american\",\n",
        "    \"data/experiments/valence/pleasant\",\n",
        "    \"data/experiments/valence/unpleasant\",\n",
        "    model_type=\"openai\", \n",
        "    model_size=model_size,\n",
        "    models_dir=models_dir,\n",
        "    clusters_dir=color_clusters_dir,\n",
        "    n_px=n_px,\n",
        "#     from_cache=False,\n",
        "    verbose=True\n",
        ")"
      ],
      "execution_count": null,
      "outputs": []
    },
    {
      "cell_type": "markdown",
      "metadata": {
        "colab_type": "text",
        "id": "xA_AwxiKxvh5"
      },
      "source": [
        "#### Arab-Muslim"
      ]
    },
    {
      "cell_type": "code",
      "metadata": {
        "colab_type": "code",
        "id": "dAvppwCJxvh6",
        "colab": {}
      },
      "source": [
        "from ieat.api import test\n",
        "\n",
        "test(\n",
        "    \"data/experiments/arab-muslim/other-people\",\n",
        "    \"data/experiments/arab-muslim/arab-muslim\",\n",
        "    \"data/experiments/valence/pleasant\",\n",
        "    \"data/experiments/valence/unpleasant\",\n",
        "    model_type=\"openai\", \n",
        "    model_size=model_size,\n",
        "    models_dir=models_dir,\n",
        "    clusters_dir=color_clusters_dir,\n",
        "    n_px=n_px,\n",
        "#     from_cache=False,\n",
        "    verbose=True\n",
        ")"
      ],
      "execution_count": null,
      "outputs": []
    },
    {
      "cell_type": "markdown",
      "metadata": {
        "colab_type": "text",
        "id": "R-fdCFqQxvh8"
      },
      "source": [
        "#### Age"
      ]
    },
    {
      "cell_type": "code",
      "metadata": {
        "colab_type": "code",
        "id": "lVB-Wne_xvh8",
        "colab": {}
      },
      "source": [
        "from ieat.api import test\n",
        "\n",
        "test(\n",
        "    \"data/experiments/age/young\",\n",
        "    \"data/experiments/age/old\",\n",
        "    \"data/experiments/valence/pleasant\",\n",
        "    \"data/experiments/valence/unpleasant\",\n",
        "    model_type=\"openai\", \n",
        "    model_size=model_size,\n",
        "    models_dir=models_dir,\n",
        "    clusters_dir=color_clusters_dir,\n",
        "    n_px=n_px,\n",
        "#     from_cache=False,\n",
        "    verbose=True\n",
        ")"
      ],
      "execution_count": null,
      "outputs": []
    },
    {
      "cell_type": "markdown",
      "metadata": {
        "colab_type": "text",
        "id": "SpKVucUpxvh-"
      },
      "source": [
        "### Download Cached Embeddings"
      ]
    },
    {
      "cell_type": "code",
      "metadata": {
        "colab_type": "code",
        "id": "EfMcw700xvh-",
        "colab": {}
      },
      "source": [
        "# to download from colab\n",
        "from google.colab import files\n",
        "\n",
        "!zip -r embeddings_colab.zip embeddings\n",
        "files.download(\"embeddings_colab.zip\")"
      ],
      "execution_count": null,
      "outputs": []
    },
    {
      "cell_type": "code",
      "metadata": {
        "colab_type": "code",
        "id": "GnG7quNVxviA",
        "colab": {}
      },
      "source": [
        ""
      ],
      "execution_count": null,
      "outputs": []
    }
  ]
}