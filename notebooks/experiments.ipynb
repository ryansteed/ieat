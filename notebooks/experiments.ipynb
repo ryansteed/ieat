{
  "nbformat": 4,
  "nbformat_minor": 0,
  "metadata": {
    "colab": {
      "name": "Image-GPT-Bias-HuggingFace.ipynb",
      "provenance": [],
      "collapsed_sections": [],
      "toc_visible": true,
      "machine_shape": "hm"
    },
    "kernelspec": {
      "display_name": "Python 3",
      "language": "python",
      "name": "python3"
    },
    "language_info": {
      "codemirror_mode": {
        "name": "ipython",
        "version": 3
      },
      "file_extension": ".py",
      "mimetype": "text/x-python",
      "name": "python",
      "nbconvert_exporter": "python",
      "pygments_lexer": "ipython3",
      "version": "3.8.5"
    },
    "require": {
      "paths": {
        "buttons.colvis": "https://cdn.datatables.net/buttons/1.5.6/js/buttons.colVis.min",
        "buttons.flash": "https://cdn.datatables.net/buttons/1.5.6/js/buttons.flash.min",
        "buttons.html5": "https://cdn.datatables.net/buttons/1.5.6/js/buttons.html5.min",
        "buttons.print": "https://cdn.datatables.net/buttons/1.5.6/js/buttons.print.min",
        "chartjs": "https://cdnjs.cloudflare.com/ajax/libs/Chart.js/2.8.0/Chart",
        "d3": "https://d3js.org/d3.v5.min",
        "d3-array": "https://d3js.org/d3-array.v2.min",
        "datatables.net": "https://cdn.datatables.net/1.10.18/js/jquery.dataTables",
        "datatables.net-buttons": "https://cdn.datatables.net/buttons/1.5.6/js/dataTables.buttons.min",
        "datatables.responsive": "https://cdn.datatables.net/responsive/2.2.2/js/dataTables.responsive.min",
        "datatables.scroller": "https://cdn.datatables.net/scroller/2.0.0/js/dataTables.scroller.min",
        "datatables.select": "https://cdn.datatables.net/select/1.3.0/js/dataTables.select.min",
        "jszip": "https://cdnjs.cloudflare.com/ajax/libs/jszip/2.5.0/jszip.min",
        "moment": "https://cdnjs.cloudflare.com/ajax/libs/moment.js/2.8.0/moment",
        "pdfmake": "https://cdnjs.cloudflare.com/ajax/libs/pdfmake/0.1.36/pdfmake.min",
        "vfsfonts": "https://cdnjs.cloudflare.com/ajax/libs/pdfmake/0.1.36/vfs_fonts"
      },
      "shim": {
        "buttons.colvis": {
          "deps": [
            "jszip",
            "datatables.net-buttons"
          ]
        },
        "buttons.flash": {
          "deps": [
            "jszip",
            "datatables.net-buttons"
          ]
        },
        "buttons.html5": {
          "deps": [
            "jszip",
            "datatables.net-buttons"
          ]
        },
        "buttons.print": {
          "deps": [
            "jszip",
            "datatables.net-buttons"
          ]
        },
        "chartjs": {
          "deps": [
            "moment"
          ]
        },
        "datatables.net": {
          "exports": "$.fn.dataTable"
        },
        "datatables.net-buttons": {
          "deps": [
            "datatables.net"
          ]
        },
        "pdfmake": {
          "deps": [
            "datatables.net"
          ]
        },
        "vfsfonts": {
          "deps": [
            "datatables.net"
          ]
        }
      }
    }
  },
  "cells": [
    {
      "cell_type": "markdown",
      "metadata": {
        "id": "P9tObiU-qVgv"
      },
      "source": [
        "[![Open In Colab](https://colab.research.google.com/assets/colab-badge.svg)](https://colab.research.google.com/github/ryansteed/ieat/blob/master/notebooks/experiments.ipynb)\n",
        "\n",
        "# Image GPT Bias\n",
        "**Image Embedding Association Test**\n",
        "\n",
        "Ryan Steed\n",
        "\n",
        "This script adapted from https://colab.research.google.com/github/apeguero1/image-gpt/blob/master/Transformers_Image_GPT.ipynb.\n"
      ]
    },
    {
      "cell_type": "code",
      "metadata": {
        "id": "lHXoubXWpiSv",
        "outputId": "c3934efe-3e89-48de-fd71-77be01deaa42",
        "colab": {
          "base_uri": "https://localhost:8080/",
          "height": 51
        }
      },
      "source": [
        "import sys\n",
        "import os\n",
        "sys.path.insert(0, os.path.abspath('..'))\n",
        "\n",
        "%load_ext autoreload\n",
        "%autoreload 2\n",
        "\n",
        "%cd /Users/steed/caliskan/git/ieat"
      ],
      "execution_count": 1,
      "outputs": [
        {
          "output_type": "stream",
          "text": [
            "[Errno 2] No such file or directory: '/Users/steed/caliskan/git/ieat'\n",
            "/content\n"
          ],
          "name": "stdout"
        }
      ]
    },
    {
      "cell_type": "markdown",
      "metadata": {
        "id": "OoWYiUzT_lLs"
      },
      "source": [
        "## Download Model"
      ]
    },
    {
      "cell_type": "code",
      "metadata": {
        "id": "DzJbEWC6Vogc",
        "outputId": "c1286597-3cf5-45d2-af5a-f34c863f52c9",
        "colab": {
          "base_uri": "https://localhost:8080/",
          "height": 71
        }
      },
      "source": [
        "!nvidia-smi #OpenAI says you need 16GB GPU for the large model, but it may work if you lower n_sub_batch on the others."
      ],
      "execution_count": null,
      "outputs": [
        {
          "output_type": "stream",
          "text": [
            "NVIDIA-SMI has failed because it couldn't communicate with the NVIDIA driver. Make sure that the latest NVIDIA driver is installed and running.\n",
            "\n"
          ],
          "name": "stdout"
        }
      ]
    },
    {
      "cell_type": "code",
      "metadata": {
        "id": "WkPOYJsCTaUb",
        "outputId": "79f7dc7e-decc-46f9-fc05-03ccf7e57f1d",
        "colab": {
          "base_uri": "https://localhost:8080/",
          "height": 51
        }
      },
      "source": [
        "import urllib\n",
        "\n",
        "# don't share these to Github or elsewhere!\n",
        "u = \"your_username\"\n",
        "p = urllib.parse.quote(\"your_password\")\n",
        "!git clone --recurse-submodules -j8 https://$u:$p@github.com/$u/ieat.git\n",
        "%cd ieat"
      ],
      "execution_count": 6,
      "outputs": [
        {
          "output_type": "stream",
          "text": [
            "fatal: destination path 'ieat' already exists and is not an empty directory.\n",
            "/content/ieat\n"
          ],
          "name": "stdout"
        }
      ]
    },
    {
      "cell_type": "code",
      "metadata": {
        "id": "BIOr3wBHs955",
        "outputId": "13d1d8c3-8c4a-4aab-f273-5a8a7d9deec3",
        "colab": {
          "base_uri": "https://localhost:8080/",
          "height": 1000
        }
      },
      "source": [
        "# note - you may need to restart the kernel for these installations to take effect\n",
        "!pip install -e .\n",
        "!pip install -e weat"
      ],
      "execution_count": 7,
      "outputs": [
        {
          "output_type": "stream",
          "text": [
            "Obtaining file:///content/ieat\n",
            "Collecting transformers\n",
            "\u001b[?25l  Downloading https://files.pythonhosted.org/packages/19/22/aff234f4a841f8999e68a7a94bdd4b60b4cebcfeca5d67d61cd08c9179de/transformers-3.3.1-py3-none-any.whl (1.1MB)\n",
            "\u001b[K     |████████████████████████████████| 1.1MB 2.8MB/s \n",
            "\u001b[?25hRequirement already satisfied: torch in /usr/local/lib/python3.6/dist-packages (from ieat==1.0) (1.6.0+cu101)\n",
            "Requirement already satisfied: numpy in /usr/local/lib/python3.6/dist-packages (from ieat==1.0) (1.18.5)\n",
            "Requirement already satisfied: matplotlib in /usr/local/lib/python3.6/dist-packages (from ieat==1.0) (3.2.2)\n",
            "Requirement already satisfied: opencv-python in /usr/local/lib/python3.6/dist-packages (from ieat==1.0) (4.1.2.30)\n",
            "Requirement already satisfied: tensorflow in /usr/local/lib/python3.6/dist-packages (from ieat==1.0) (2.3.0)\n",
            "Collecting sacremoses\n",
            "\u001b[?25l  Downloading https://files.pythonhosted.org/packages/7d/34/09d19aff26edcc8eb2a01bed8e98f13a1537005d31e95233fd48216eed10/sacremoses-0.0.43.tar.gz (883kB)\n",
            "\u001b[K     |████████████████████████████████| 890kB 17.7MB/s \n",
            "\u001b[?25hRequirement already satisfied: tqdm>=4.27 in /usr/local/lib/python3.6/dist-packages (from transformers->ieat==1.0) (4.41.1)\n",
            "Requirement already satisfied: dataclasses; python_version < \"3.7\" in /usr/local/lib/python3.6/dist-packages (from transformers->ieat==1.0) (0.7)\n",
            "Requirement already satisfied: requests in /usr/local/lib/python3.6/dist-packages (from transformers->ieat==1.0) (2.23.0)\n",
            "Collecting sentencepiece!=0.1.92\n",
            "\u001b[?25l  Downloading https://files.pythonhosted.org/packages/d4/a4/d0a884c4300004a78cca907a6ff9a5e9fe4f090f5d95ab341c53d28cbc58/sentencepiece-0.1.91-cp36-cp36m-manylinux1_x86_64.whl (1.1MB)\n",
            "\u001b[K     |████████████████████████████████| 1.1MB 16.3MB/s \n",
            "\u001b[?25hRequirement already satisfied: regex!=2019.12.17 in /usr/local/lib/python3.6/dist-packages (from transformers->ieat==1.0) (2019.12.20)\n",
            "Collecting tokenizers==0.8.1.rc2\n",
            "\u001b[?25l  Downloading https://files.pythonhosted.org/packages/80/83/8b9fccb9e48eeb575ee19179e2bdde0ee9a1904f97de5f02d19016b8804f/tokenizers-0.8.1rc2-cp36-cp36m-manylinux1_x86_64.whl (3.0MB)\n",
            "\u001b[K     |████████████████████████████████| 3.0MB 29.4MB/s \n",
            "\u001b[?25hRequirement already satisfied: filelock in /usr/local/lib/python3.6/dist-packages (from transformers->ieat==1.0) (3.0.12)\n",
            "Requirement already satisfied: packaging in /usr/local/lib/python3.6/dist-packages (from transformers->ieat==1.0) (20.4)\n",
            "Requirement already satisfied: future in /usr/local/lib/python3.6/dist-packages (from torch->ieat==1.0) (0.16.0)\n",
            "Requirement already satisfied: cycler>=0.10 in /usr/local/lib/python3.6/dist-packages (from matplotlib->ieat==1.0) (0.10.0)\n",
            "Requirement already satisfied: kiwisolver>=1.0.1 in /usr/local/lib/python3.6/dist-packages (from matplotlib->ieat==1.0) (1.2.0)\n",
            "Requirement already satisfied: pyparsing!=2.0.4,!=2.1.2,!=2.1.6,>=2.0.1 in /usr/local/lib/python3.6/dist-packages (from matplotlib->ieat==1.0) (2.4.7)\n",
            "Requirement already satisfied: python-dateutil>=2.1 in /usr/local/lib/python3.6/dist-packages (from matplotlib->ieat==1.0) (2.8.1)\n",
            "Requirement already satisfied: h5py<2.11.0,>=2.10.0 in /usr/local/lib/python3.6/dist-packages (from tensorflow->ieat==1.0) (2.10.0)\n",
            "Requirement already satisfied: wheel>=0.26 in /usr/local/lib/python3.6/dist-packages (from tensorflow->ieat==1.0) (0.35.1)\n",
            "Requirement already satisfied: tensorboard<3,>=2.3.0 in /usr/local/lib/python3.6/dist-packages (from tensorflow->ieat==1.0) (2.3.0)\n",
            "Requirement already satisfied: gast==0.3.3 in /usr/local/lib/python3.6/dist-packages (from tensorflow->ieat==1.0) (0.3.3)\n",
            "Requirement already satisfied: astunparse==1.6.3 in /usr/local/lib/python3.6/dist-packages (from tensorflow->ieat==1.0) (1.6.3)\n",
            "Requirement already satisfied: grpcio>=1.8.6 in /usr/local/lib/python3.6/dist-packages (from tensorflow->ieat==1.0) (1.32.0)\n",
            "Requirement already satisfied: six>=1.12.0 in /usr/local/lib/python3.6/dist-packages (from tensorflow->ieat==1.0) (1.15.0)\n",
            "Requirement already satisfied: absl-py>=0.7.0 in /usr/local/lib/python3.6/dist-packages (from tensorflow->ieat==1.0) (0.10.0)\n",
            "Requirement already satisfied: keras-preprocessing<1.2,>=1.1.1 in /usr/local/lib/python3.6/dist-packages (from tensorflow->ieat==1.0) (1.1.2)\n",
            "Requirement already satisfied: termcolor>=1.1.0 in /usr/local/lib/python3.6/dist-packages (from tensorflow->ieat==1.0) (1.1.0)\n",
            "Requirement already satisfied: tensorflow-estimator<2.4.0,>=2.3.0 in /usr/local/lib/python3.6/dist-packages (from tensorflow->ieat==1.0) (2.3.0)\n",
            "Requirement already satisfied: wrapt>=1.11.1 in /usr/local/lib/python3.6/dist-packages (from tensorflow->ieat==1.0) (1.12.1)\n",
            "Requirement already satisfied: protobuf>=3.9.2 in /usr/local/lib/python3.6/dist-packages (from tensorflow->ieat==1.0) (3.12.4)\n",
            "Requirement already satisfied: opt-einsum>=2.3.2 in /usr/local/lib/python3.6/dist-packages (from tensorflow->ieat==1.0) (3.3.0)\n",
            "Requirement already satisfied: scipy==1.4.1 in /usr/local/lib/python3.6/dist-packages (from tensorflow->ieat==1.0) (1.4.1)\n",
            "Requirement already satisfied: google-pasta>=0.1.8 in /usr/local/lib/python3.6/dist-packages (from tensorflow->ieat==1.0) (0.2.0)\n",
            "Requirement already satisfied: click in /usr/local/lib/python3.6/dist-packages (from sacremoses->transformers->ieat==1.0) (7.1.2)\n",
            "Requirement already satisfied: joblib in /usr/local/lib/python3.6/dist-packages (from sacremoses->transformers->ieat==1.0) (0.16.0)\n",
            "Requirement already satisfied: urllib3!=1.25.0,!=1.25.1,<1.26,>=1.21.1 in /usr/local/lib/python3.6/dist-packages (from requests->transformers->ieat==1.0) (1.24.3)\n",
            "Requirement already satisfied: chardet<4,>=3.0.2 in /usr/local/lib/python3.6/dist-packages (from requests->transformers->ieat==1.0) (3.0.4)\n",
            "Requirement already satisfied: certifi>=2017.4.17 in /usr/local/lib/python3.6/dist-packages (from requests->transformers->ieat==1.0) (2020.6.20)\n",
            "Requirement already satisfied: idna<3,>=2.5 in /usr/local/lib/python3.6/dist-packages (from requests->transformers->ieat==1.0) (2.10)\n",
            "Requirement already satisfied: werkzeug>=0.11.15 in /usr/local/lib/python3.6/dist-packages (from tensorboard<3,>=2.3.0->tensorflow->ieat==1.0) (1.0.1)\n",
            "Requirement already satisfied: markdown>=2.6.8 in /usr/local/lib/python3.6/dist-packages (from tensorboard<3,>=2.3.0->tensorflow->ieat==1.0) (3.2.2)\n",
            "Requirement already satisfied: google-auth<2,>=1.6.3 in /usr/local/lib/python3.6/dist-packages (from tensorboard<3,>=2.3.0->tensorflow->ieat==1.0) (1.17.2)\n",
            "Requirement already satisfied: setuptools>=41.0.0 in /usr/local/lib/python3.6/dist-packages (from tensorboard<3,>=2.3.0->tensorflow->ieat==1.0) (50.3.0)\n",
            "Requirement already satisfied: google-auth-oauthlib<0.5,>=0.4.1 in /usr/local/lib/python3.6/dist-packages (from tensorboard<3,>=2.3.0->tensorflow->ieat==1.0) (0.4.1)\n",
            "Requirement already satisfied: tensorboard-plugin-wit>=1.6.0 in /usr/local/lib/python3.6/dist-packages (from tensorboard<3,>=2.3.0->tensorflow->ieat==1.0) (1.7.0)\n",
            "Requirement already satisfied: importlib-metadata; python_version < \"3.8\" in /usr/local/lib/python3.6/dist-packages (from markdown>=2.6.8->tensorboard<3,>=2.3.0->tensorflow->ieat==1.0) (2.0.0)\n",
            "Requirement already satisfied: cachetools<5.0,>=2.0.0 in /usr/local/lib/python3.6/dist-packages (from google-auth<2,>=1.6.3->tensorboard<3,>=2.3.0->tensorflow->ieat==1.0) (4.1.1)\n",
            "Requirement already satisfied: rsa<5,>=3.1.4; python_version >= \"3\" in /usr/local/lib/python3.6/dist-packages (from google-auth<2,>=1.6.3->tensorboard<3,>=2.3.0->tensorflow->ieat==1.0) (4.6)\n",
            "Requirement already satisfied: pyasn1-modules>=0.2.1 in /usr/local/lib/python3.6/dist-packages (from google-auth<2,>=1.6.3->tensorboard<3,>=2.3.0->tensorflow->ieat==1.0) (0.2.8)\n",
            "Requirement already satisfied: requests-oauthlib>=0.7.0 in /usr/local/lib/python3.6/dist-packages (from google-auth-oauthlib<0.5,>=0.4.1->tensorboard<3,>=2.3.0->tensorflow->ieat==1.0) (1.3.0)\n",
            "Requirement already satisfied: zipp>=0.5 in /usr/local/lib/python3.6/dist-packages (from importlib-metadata; python_version < \"3.8\"->markdown>=2.6.8->tensorboard<3,>=2.3.0->tensorflow->ieat==1.0) (3.2.0)\n",
            "Requirement already satisfied: pyasn1>=0.1.3 in /usr/local/lib/python3.6/dist-packages (from rsa<5,>=3.1.4; python_version >= \"3\"->google-auth<2,>=1.6.3->tensorboard<3,>=2.3.0->tensorflow->ieat==1.0) (0.4.8)\n",
            "Requirement already satisfied: oauthlib>=3.0.0 in /usr/local/lib/python3.6/dist-packages (from requests-oauthlib>=0.7.0->google-auth-oauthlib<0.5,>=0.4.1->tensorboard<3,>=2.3.0->tensorflow->ieat==1.0) (3.1.0)\n",
            "Building wheels for collected packages: sacremoses\n",
            "  Building wheel for sacremoses (setup.py) ... \u001b[?25l\u001b[?25hdone\n",
            "  Created wheel for sacremoses: filename=sacremoses-0.0.43-cp36-none-any.whl size=893257 sha256=3f961765e90189d01825b152c097d0f8e6956b7800c4cc9e041147499cc27419\n",
            "  Stored in directory: /root/.cache/pip/wheels/29/3c/fd/7ce5c3f0666dab31a50123635e6fb5e19ceb42ce38d4e58f45\n",
            "Successfully built sacremoses\n",
            "Installing collected packages: sacremoses, sentencepiece, tokenizers, transformers, ieat\n",
            "  Running setup.py develop for ieat\n",
            "Successfully installed ieat sacremoses-0.0.43 sentencepiece-0.1.91 tokenizers-0.8.1rc2 transformers-3.3.1\n",
            "Obtaining file:///content/ieat/weat\n",
            "Requirement already satisfied: pandas in /usr/local/lib/python3.6/dist-packages (from weat==1.0) (1.1.2)\n",
            "Requirement already satisfied: scikit-learn in /usr/local/lib/python3.6/dist-packages (from weat==1.0) (0.22.2.post1)\n",
            "Requirement already satisfied: numpy in /usr/local/lib/python3.6/dist-packages (from weat==1.0) (1.18.5)\n",
            "Requirement already satisfied: pytz>=2017.2 in /usr/local/lib/python3.6/dist-packages (from pandas->weat==1.0) (2018.9)\n",
            "Requirement already satisfied: python-dateutil>=2.7.3 in /usr/local/lib/python3.6/dist-packages (from pandas->weat==1.0) (2.8.1)\n",
            "Requirement already satisfied: scipy>=0.17.0 in /usr/local/lib/python3.6/dist-packages (from scikit-learn->weat==1.0) (1.4.1)\n",
            "Requirement already satisfied: joblib>=0.11 in /usr/local/lib/python3.6/dist-packages (from scikit-learn->weat==1.0) (0.16.0)\n",
            "Requirement already satisfied: six>=1.5 in /usr/local/lib/python3.6/dist-packages (from python-dateutil>=2.7.3->pandas->weat==1.0) (1.15.0)\n",
            "Installing collected packages: weat\n",
            "  Running setup.py develop for weat\n",
            "Successfully installed weat\n"
          ],
          "name": "stdout"
        }
      ]
    },
    {
      "cell_type": "code",
      "metadata": {
        "id": "e0DcaUYv8LYf"
      },
      "source": [
        "model_sizes = [\"s\", \"m\", \"l\"] #small medium large, xl not available\n",
        "model_size = \"l\"\n",
        "models_dir = \"models\"\n",
        "color_clusters_dir = \"clusters\"\n",
        "n_px = 32\n",
        "depth = 152\n",
        "width = 3\n",
        "sk = 1"
      ],
      "execution_count": 8,
      "outputs": []
    },
    {
      "cell_type": "code",
      "metadata": {
        "id": "ylcjIJcwXsFw",
        "outputId": "7a616459-6a33-4a11-9438-3bd5e0e9daf0",
        "colab": {
          "base_uri": "https://localhost:8080/",
          "height": 216
        }
      },
      "source": [
        "# download the model - skip if already downloaded\n",
        "!python image-gpt/download.py --model {model_size} --ckpt 1000000 --clusters --download_dir {models_dir}/{model_size}\n",
        "!python image-gpt/download.py --clusters --download_dir {color_clusters_dir}"
      ],
      "execution_count": null,
      "outputs": [
        {
          "output_type": "stream",
          "text": [
            "input args:\n",
            " {\n",
            "    \"download_dir\":\"models/l\",\n",
            "    \"model\":\"l\",\n",
            "    \"ckpt\":\"1000000\",\n",
            "    \"clusters\":true,\n",
            "    \"dataset\":null\n",
            "}\n",
            "Fetching model.ckpt-1000000.data-00000-of-00064: 1.00kit [00:00, 777kit/s]      \n",
            "Fetching model.ckpt-1000000.data-00001-of-00064: 252Mit [00:06, 37.4Mit/s]      \n",
            "Fetching model.ckpt-1000000.data-00002-of-00064:  87%|▊| 217M/249M [00:06<00:00,"
          ],
          "name": "stdout"
        }
      ]
    },
    {
      "cell_type": "markdown",
      "metadata": {
        "id": "fJcpjSByxvhQ"
      },
      "source": [
        "## IATs"
      ]
    },
    {
      "cell_type": "markdown",
      "metadata": {
        "id": "rv34zwKpSHSp"
      },
      "source": [
        "### Quick Summary"
      ]
    },
    {
      "cell_type": "code",
      "metadata": {
        "id": "vLl9AC5nSHSp",
        "outputId": "b5c5697e-0c30-496c-db1e-91452870f5c4",
        "colab": {
          "base_uri": "https://localhost:8080/",
          "height": 562
        }
      },
      "source": [
        "from ieat.api import test_all\n",
        "\n",
        "import pandas as pd\n",
        "import numpy as np\n",
        "\n",
        "results = test_all(\n",
        "    {\n",
        "        'igpt-logit': (model_size,models_dir,color_clusters_dir,n_px),\n",
        "        'igpt': (model_size,models_dir,color_clusters_dir,n_px),\n",
        "        'simclr': (depth, width, sk)\n",
        "    }\n",
        ")"
      ],
      "execution_count": null,
      "outputs": [
        {
          "output_type": "stream",
          "text": [
            "# igpt-logit #\n",
            "## Insect-Flower ##\n",
            "## Weapon ##\n"
          ],
          "name": "stdout"
        },
        {
          "output_type": "stream",
          "text": [
            "2020-10-01 15:45:02,304 [85526] WARNING  root:202: [JupyterRequire] Equalities contributed 1/924 to p-value\n",
            "2020-10-01 15:45:02,420 [85526] WARNING  root:202: [JupyterRequire] Equalities contributed 1/924 to p-value\n"
          ],
          "name": "stderr"
        },
        {
          "output_type": "stream",
          "text": [
            "## Weapon (Modern) ##\n",
            "## Native ##\n"
          ],
          "name": "stdout"
        },
        {
          "output_type": "stream",
          "text": [
            "2020-10-01 15:45:02,648 [85526] WARNING  root:202: [JupyterRequire] Equalities contributed 2/10000 to p-value\n",
            "2020-10-01 15:45:02,752 [85526] WARNING  root:202: [JupyterRequire] Equalities contributed 1/924 to p-value\n"
          ],
          "name": "stderr"
        },
        {
          "output_type": "stream",
          "text": [
            "## Asian ##\n",
            "## Weight ##\n"
          ],
          "name": "stdout"
        },
        {
          "output_type": "stream",
          "text": [
            "2020-10-01 15:45:03,065 [85526] WARNING  root:202: [JupyterRequire] Equalities contributed 1/3432 to p-value\n"
          ],
          "name": "stderr"
        },
        {
          "output_type": "stream",
          "text": [
            "## Skin-Tone ##\n",
            "## Disability ##\n"
          ],
          "name": "stdout"
        },
        {
          "output_type": "stream",
          "text": [
            "2020-10-01 15:45:03,203 [85526] WARNING  root:202: [JupyterRequire] Equalities contributed 1/70 to p-value\n",
            "2020-10-01 15:45:03,322 [85526] WARNING  root:202: [JupyterRequire] Equalities contributed 1/924 to p-value\n"
          ],
          "name": "stderr"
        },
        {
          "output_type": "stream",
          "text": [
            "## President - Kennedy vs. Trump ##\n",
            "## President - B. Clinton vs. Trump ##\n"
          ],
          "name": "stdout"
        },
        {
          "output_type": "stream",
          "text": [
            "2020-10-01 15:45:03,453 [85526] WARNING  root:202: [JupyterRequire] Equalities contributed 1/924 to p-value\n",
            "2020-10-01 15:45:03,582 [85526] WARNING  root:202: [JupyterRequire] Equalities contributed 1/924 to p-value\n"
          ],
          "name": "stderr"
        },
        {
          "output_type": "stream",
          "text": [
            "## President - Bush vs. Trump ##\n",
            "## President - Lincoln vs. Trump ##\n"
          ],
          "name": "stdout"
        },
        {
          "output_type": "stream",
          "text": [
            "2020-10-01 15:45:03,715 [85526] WARNING  root:202: [JupyterRequire] Equalities contributed 1/924 to p-value\n",
            "2020-10-01 15:45:03,849 [85526] WARNING  root:202: [JupyterRequire] Equalities contributed 1/3432 to p-value\n"
          ],
          "name": "stderr"
        },
        {
          "output_type": "stream",
          "text": [
            "## Religion ##\n",
            "## Sexuality ##\n"
          ],
          "name": "stdout"
        },
        {
          "output_type": "stream",
          "text": [
            "2020-10-01 15:45:04,134 [85526] WARNING  root:202: [JupyterRequire] Equalities contributed 1/924 to p-value\n"
          ],
          "name": "stderr"
        },
        {
          "output_type": "stream",
          "text": [
            "## Race ##\n",
            "## Arab-Muslim ##\n"
          ],
          "name": "stdout"
        },
        {
          "output_type": "stream",
          "text": [
            "2020-10-01 15:45:04,418 [85526] WARNING  root:202: [JupyterRequire] Equalities contributed 1/924 to p-value\n"
          ],
          "name": "stderr"
        },
        {
          "output_type": "stream",
          "text": [
            "## Age ##\n",
            "## Gender-Science ##\n",
            "## Gender-Career ##\n",
            "## Intersectional-Gender-Science-MF ##\n"
          ],
          "name": "stdout"
        },
        {
          "output_type": "error",
          "ename": "AssertionError",
          "evalue": "There is no file at models/l/model.ckpt-1000000.index",
          "traceback": [
            "\u001b[0;31m---------------------------------------------------------------------------\u001b[0m",
            "\u001b[0;31mAssertionError\u001b[0m                            Traceback (most recent call last)",
            "\u001b[0;32m<ipython-input-3-4dc5b37e2c85>\u001b[0m in \u001b[0;36m<module>\u001b[0;34m\u001b[0m\n\u001b[1;32m      4\u001b[0m \u001b[0;32mimport\u001b[0m \u001b[0mnumpy\u001b[0m \u001b[0;32mas\u001b[0m \u001b[0mnp\u001b[0m\u001b[0;34m\u001b[0m\u001b[0;34m\u001b[0m\u001b[0m\n\u001b[1;32m      5\u001b[0m \u001b[0;34m\u001b[0m\u001b[0m\n\u001b[0;32m----> 6\u001b[0;31m results = test_all(\n\u001b[0m\u001b[1;32m      7\u001b[0m     {\n\u001b[1;32m      8\u001b[0m         \u001b[0;34m'igpt-logit'\u001b[0m\u001b[0;34m:\u001b[0m \u001b[0;34m(\u001b[0m\u001b[0mmodel_size\u001b[0m\u001b[0;34m,\u001b[0m\u001b[0mmodels_dir\u001b[0m\u001b[0;34m,\u001b[0m\u001b[0mcolor_clusters_dir\u001b[0m\u001b[0;34m,\u001b[0m\u001b[0mn_px\u001b[0m\u001b[0;34m)\u001b[0m\u001b[0;34m,\u001b[0m\u001b[0;34m\u001b[0m\u001b[0;34m\u001b[0m\u001b[0m\n",
            "\u001b[0;32m~/caliskan/git/ieat/ieat/api.py\u001b[0m in \u001b[0;36mtest_all\u001b[0;34m(model_types, tests, from_cache, **test_params)\u001b[0m\n\u001b[1;32m    190\u001b[0m                                 \u001b[0mos\u001b[0m\u001b[0;34m.\u001b[0m\u001b[0mpath\u001b[0m\u001b[0;34m.\u001b[0m\u001b[0mjoin\u001b[0m\u001b[0;34m(\u001b[0m\u001b[0;34m'data/experiments'\u001b[0m\u001b[0;34m,\u001b[0m \u001b[0mcat\u001b[0m\u001b[0;34m)\u001b[0m \u001b[0;32mfor\u001b[0m \u001b[0mcat\u001b[0m \u001b[0;32min\u001b[0m \u001b[0;34m(\u001b[0m\u001b[0mtest_data\u001b[0m\u001b[0;34m.\u001b[0m\u001b[0mX\u001b[0m\u001b[0;34m,\u001b[0m \u001b[0mtest_data\u001b[0m\u001b[0;34m.\u001b[0m\u001b[0mY\u001b[0m\u001b[0;34m,\u001b[0m \u001b[0mtest_data\u001b[0m\u001b[0;34m.\u001b[0m\u001b[0mA\u001b[0m\u001b[0;34m,\u001b[0m \u001b[0mtest_data\u001b[0m\u001b[0;34m.\u001b[0m\u001b[0mB\u001b[0m\u001b[0;34m)\u001b[0m\u001b[0;34m\u001b[0m\u001b[0;34m\u001b[0m\u001b[0m\n\u001b[1;32m    191\u001b[0m \t\t\t]\n\u001b[0;32m--> 192\u001b[0;31m \t\t\teffect, p = test(\n\u001b[0m\u001b[1;32m    193\u001b[0m                                 \u001b[0;34m*\u001b[0m\u001b[0mcategories\u001b[0m\u001b[0;34m,\u001b[0m\u001b[0;34m\u001b[0m\u001b[0;34m\u001b[0m\u001b[0m\n\u001b[1;32m    194\u001b[0m                                 \u001b[0mmodel_type\u001b[0m\u001b[0;34m,\u001b[0m\u001b[0;34m\u001b[0m\u001b[0;34m\u001b[0m\u001b[0m\n",
            "\u001b[0;32m~/caliskan/git/ieat/ieat/api.py\u001b[0m in \u001b[0;36mtest\u001b[0;34m(X, Y, A, B, model_type, model_params, file_types, from_cache, verbose, gpu, batch_size, model, **test_params)\u001b[0m\n\u001b[1;32m     54\u001b[0m         \u001b[0;32mfor\u001b[0m \u001b[0md\u001b[0m \u001b[0;32min\u001b[0m \u001b[0minput_dirs\u001b[0m\u001b[0;34m:\u001b[0m\u001b[0;34m\u001b[0m\u001b[0;34m\u001b[0m\u001b[0m\n\u001b[1;32m     55\u001b[0m                 \u001b[0mlogger\u001b[0m\u001b[0;34m.\u001b[0m\u001b[0mprogress\u001b[0m\u001b[0;34m(\u001b[0m\u001b[0;34mf\"Extracting images from {d}\"\u001b[0m\u001b[0;34m)\u001b[0m\u001b[0;34m\u001b[0m\u001b[0;34m\u001b[0m\u001b[0m\n\u001b[0;32m---> 56\u001b[0;31m \t\tembeddings.append(extractor.extract_dir(\n\u001b[0m\u001b[1;32m     57\u001b[0m                         \u001b[0md\u001b[0m\u001b[0;34m,\u001b[0m \u001b[0mfile_types\u001b[0m\u001b[0;34m,\u001b[0m\u001b[0;34m\u001b[0m\u001b[0;34m\u001b[0m\u001b[0m\n\u001b[1;32m     58\u001b[0m                         \u001b[0mvisualize\u001b[0m\u001b[0;34m=\u001b[0m\u001b[0mverbose\u001b[0m\u001b[0;34m,\u001b[0m\u001b[0;34m\u001b[0m\u001b[0;34m\u001b[0m\u001b[0m\n",
            "\u001b[0;32m~/caliskan/git/ieat/ieat/models.py\u001b[0m in \u001b[0;36mextract_dir\u001b[0;34m(self, d, file_types, batch_size, visualize, **extract_params)\u001b[0m\n\u001b[1;32m     50\u001b[0m                         \u001b[0;31m# do extraction in batches to save memory\u001b[0m\u001b[0;34m\u001b[0m\u001b[0;34m\u001b[0m\u001b[0;34m\u001b[0m\u001b[0m\n\u001b[1;32m     51\u001b[0m \u001b[0;34m\u001b[0m\u001b[0m\n\u001b[0;32m---> 52\u001b[0;31m \t\t\tencs = self.extract(\n\u001b[0m\u001b[1;32m     53\u001b[0m                                 \u001b[0mimage_paths\u001b[0m\u001b[0;34m,\u001b[0m\u001b[0;34m\u001b[0m\u001b[0;34m\u001b[0m\u001b[0m\n\u001b[1;32m     54\u001b[0m                                 \u001b[0mbatch_size\u001b[0m\u001b[0;34m=\u001b[0m\u001b[0mbatch_size\u001b[0m\u001b[0;34m,\u001b[0m\u001b[0;34m\u001b[0m\u001b[0;34m\u001b[0m\u001b[0m\n",
            "\u001b[0;32m~/caliskan/git/ieat/ieat/models.py\u001b[0m in \u001b[0;36mextract\u001b[0;34m(self, image_paths, batch_size, output_path, gpu, visualize, **extract_kwargs)\u001b[0m\n\u001b[1;32m     61\u001b[0m         \u001b[0;32mdef\u001b[0m \u001b[0mextract\u001b[0m\u001b[0;34m(\u001b[0m\u001b[0mself\u001b[0m\u001b[0;34m,\u001b[0m \u001b[0mimage_paths\u001b[0m\u001b[0;34m,\u001b[0m \u001b[0mbatch_size\u001b[0m\u001b[0;34m=\u001b[0m\u001b[0;32mNone\u001b[0m\u001b[0;34m,\u001b[0m \u001b[0moutput_path\u001b[0m\u001b[0;34m=\u001b[0m\u001b[0;32mNone\u001b[0m\u001b[0;34m,\u001b[0m \u001b[0mgpu\u001b[0m\u001b[0;34m=\u001b[0m\u001b[0;32mFalse\u001b[0m\u001b[0;34m,\u001b[0m \u001b[0mvisualize\u001b[0m\u001b[0;34m=\u001b[0m\u001b[0;32mFalse\u001b[0m\u001b[0;34m,\u001b[0m \u001b[0;34m**\u001b[0m\u001b[0mextract_kwargs\u001b[0m\u001b[0;34m)\u001b[0m\u001b[0;34m:\u001b[0m\u001b[0;34m\u001b[0m\u001b[0;34m\u001b[0m\u001b[0m\n\u001b[1;32m     62\u001b[0m                 \u001b[0;32mif\u001b[0m \u001b[0mself\u001b[0m\u001b[0;34m.\u001b[0m\u001b[0mmodel\u001b[0m \u001b[0;32mis\u001b[0m \u001b[0;32mNone\u001b[0m\u001b[0;34m:\u001b[0m\u001b[0;34m\u001b[0m\u001b[0;34m\u001b[0m\u001b[0m\n\u001b[0;32m---> 63\u001b[0;31m                         \u001b[0mself\u001b[0m\u001b[0;34m.\u001b[0m\u001b[0mload_model\u001b[0m\u001b[0;34m(\u001b[0m\u001b[0;34m)\u001b[0m\u001b[0;34m\u001b[0m\u001b[0;34m\u001b[0m\u001b[0m\n\u001b[0m\u001b[1;32m     64\u001b[0m                 \u001b[0;32mif\u001b[0m \u001b[0mbatch_size\u001b[0m \u001b[0;32mis\u001b[0m \u001b[0;32mNone\u001b[0m\u001b[0;34m:\u001b[0m\u001b[0;34m\u001b[0m\u001b[0;34m\u001b[0m\u001b[0m\n\u001b[1;32m     65\u001b[0m                         \u001b[0mbatch_size\u001b[0m \u001b[0;34m=\u001b[0m \u001b[0mlen\u001b[0m\u001b[0;34m(\u001b[0m\u001b[0mimage_paths\u001b[0m\u001b[0;34m)\u001b[0m\u001b[0;34m\u001b[0m\u001b[0;34m\u001b[0m\u001b[0m\n",
            "\u001b[0;32m~/caliskan/git/ieat/ieat/models.py\u001b[0m in \u001b[0;36mload_model\u001b[0;34m(self)\u001b[0m\n\u001b[1;32m    184\u001b[0m \u001b[0;34m\u001b[0m\u001b[0m\n\u001b[1;32m    185\u001b[0m         \u001b[0;32mdef\u001b[0m \u001b[0mload_model\u001b[0m\u001b[0;34m(\u001b[0m\u001b[0mself\u001b[0m\u001b[0;34m)\u001b[0m\u001b[0;34m:\u001b[0m\u001b[0;34m\u001b[0m\u001b[0;34m\u001b[0m\u001b[0m\n\u001b[0;32m--> 186\u001b[0;31m                 \u001b[0;32massert\u001b[0m \u001b[0mos\u001b[0m\u001b[0;34m.\u001b[0m\u001b[0mpath\u001b[0m\u001b[0;34m.\u001b[0m\u001b[0mexists\u001b[0m\u001b[0;34m(\u001b[0m\u001b[0mself\u001b[0m\u001b[0;34m.\u001b[0m\u001b[0mmodel_path\u001b[0m\u001b[0;34m)\u001b[0m\u001b[0;34m,\u001b[0m \u001b[0;34mf\"There is no file at {self.model_path}\"\u001b[0m\u001b[0;34m\u001b[0m\u001b[0;34m\u001b[0m\u001b[0m\n\u001b[0m\u001b[1;32m    187\u001b[0m \t\tself.model = ImageGPT2LMHeadModel.from_pretrained(\n\u001b[1;32m    188\u001b[0m                         \u001b[0mself\u001b[0m\u001b[0;34m.\u001b[0m\u001b[0mmodel_path\u001b[0m\u001b[0;34m,\u001b[0m \u001b[0mfrom_tf\u001b[0m\u001b[0;34m=\u001b[0m\u001b[0;32mTrue\u001b[0m\u001b[0;34m,\u001b[0m \u001b[0mconfig\u001b[0m\u001b[0;34m=\u001b[0m\u001b[0mself\u001b[0m\u001b[0;34m.\u001b[0m\u001b[0mconfig\u001b[0m\u001b[0;34m\u001b[0m\u001b[0;34m\u001b[0m\u001b[0m\n",
            "\u001b[0;31mAssertionError\u001b[0m: There is no file at models/l/model.ckpt-1000000.index"
          ]
        }
      ]
    },
    {
      "cell_type": "code",
      "metadata": {
        "id": "fv2Node4SHSs"
      },
      "source": [
        "import pandas as pd\n",
        "\n",
        "results_df = pd.DataFrame(results).transpose()\n",
        "results_df.columns = [\"X\", \"Y\", \"A\", \"B\", \"d\", \"p\", \"n_t\", \"n_a\"]\n",
        "for c in results_df.columns[:4]:\n",
        "    results_df[c] = results_df[c].str.split(\"/\").str[-1]\n",
        "results_df[\"sig\"] = \"\"\n",
        "for l in [0.10, 0.05, 0.01]:\n",
        "    results_df.sig[results_df.p < l] += \"*\"\n",
        "intersectional = results_df.index.get_level_values(0).str.contains(\"Intersectional\")\n",
        "results_df[intersectional]"
      ],
      "execution_count": null,
      "outputs": []
    },
    {
      "cell_type": "code",
      "metadata": {
        "id": "9x5qXqGrSHSu"
      },
      "source": [
        "# Generate latex table output\n",
        "experiments = (\n",
        "    \"Insect-Flower\",\n",
        "    \"Gender-Science\",\n",
        "    \"Gender_Career\",\n",
        "    \"Skin-Tone\",\n",
        "    \"Race\",\n",
        "    \"Weapon\",\n",
        "    \"Weapon (Modern)\",\n",
        "    \"Native\",\n",
        "    \"Asian\",\n",
        "    \"Weight\",\n",
        "    \"Religion\",\n",
        "    \"Sexuality\",\n",
        "    \"Disability\",\n",
        "    \"Arab-Muslim\",\n",
        "    \"Age\"\n",
        ")\n",
        "experiments += tuple(results_df.index.get_level_values(0)[results_df.index.get_level_values(0).str.contains(\"Intersectional\")])\n",
        "latex_df = results_df\n",
        "latex_df.index = latex_df.index.set_names([\"Test\", \"Model\"])\n",
        "latex_df = latex_df.sort_index(level=[\"Test\", \"Model\"])\n",
        "def round(s, i='{0:.2f}'):\n",
        "    return s.apply(lambda x: i.format(x)).astype(str)\n",
        "latex_df[\"d\"] = round(latex_df.d) + latex_df.sig.astype(str)\n",
        "latex_df[\"p\"] = round(latex_df.p, i='{0:0.3f}')\n",
        "latex_df = latex_df.drop(columns=[\"sig\"])\n",
        "latex_df.columns = [f\"${col}$\" for col in latex_df.columns]\n",
        "\n",
        "def models(df, *keys):\n",
        "    return df.index.get_level_values(\"Model\").isin(keys)\n",
        "\n",
        "# main results\n",
        "main_experiment = latex_df.index.get_level_values(\"Test\").isin(experiments)\n",
        "intersectional = latex_df.index.get_level_values(\"Test\").str.contains(\"Intersectional\")\n",
        "latex_df[main_experiment & ~intersectional]\\\n",
        "    .drop(columns=[\"$X$\", \"$Y$\", \"$A$\", \"$B$\"]).to_latex('output/results.tex', escape=False)\n",
        "# intersectional results\n",
        "latex_df[main_experiment & intersectional & models(latex_df, \"igpt\", \"simclr\")]\\\n",
        "    .to_latex('output/intersectional.tex', escape=False)\n",
        "# table of iats w/ categories\n",
        "latex_df.droplevel(\"Model\").groupby(\"Test\").head(1)\\\n",
        "    .drop(columns=[\"$d$\", \"$p$\", \"$n_t$\", \"$n_a$\"]).to_latex('output/iats.tex', escape=False)\n",
        "stimuli = pd.read_csv(\"data/stimuli.csv\")\n",
        "stimuli.dropna(axis=0, subset=[\"Word\", \"Source\"])\\\n",
        "    .drop(columns=\"Collected (N=n)\").set_index([\"IAT\", \"Category\"]).to_latex(\"output/stimuli.tex\")"
      ],
      "execution_count": null,
      "outputs": []
    },
    {
      "cell_type": "markdown",
      "metadata": {
        "id": "WH3YS_ytSHSw"
      },
      "source": [
        "### Detail View"
      ]
    },
    {
      "cell_type": "markdown",
      "metadata": {
        "id": "9ePsWzNWpiTI"
      },
      "source": [
        "#### Weapons"
      ]
    },
    {
      "cell_type": "code",
      "metadata": {
        "id": "xF-vbLVkWSLo"
      },
      "source": [
        "from ieat.api import test\n",
        "\n",
        "test(\n",
        "    \"data/experiments/weapon/black\",\n",
        "    \"data/experiments/weapon/white\",\n",
        "    \"data/experiments/weapon/tool\",\n",
        "    \"data/experiments/weapon/weapon\",\n",
        "    model_type=\"openai\", \n",
        "    model_size=model_size,\n",
        "    models_dir=models_dir,\n",
        "    clusters_dir=color_clusters_dir,\n",
        "    n_px=n_px\n",
        "#     from_cache=False\n",
        ")"
      ],
      "execution_count": null,
      "outputs": []
    },
    {
      "cell_type": "markdown",
      "metadata": {
        "id": "SbZZ-m6QpiTM"
      },
      "source": [
        "#### Native"
      ]
    },
    {
      "cell_type": "code",
      "metadata": {
        "id": "wTs4pDDwpiTM"
      },
      "source": [
        "test(\n",
        "    \"data/experiments/native/euro\",\n",
        "    \"data/experiments/native/native\",\n",
        "    \"data/experiments/native/us\",\n",
        "    \"data/experiments/native/world\",\n",
        "    model_type=\"openai\", \n",
        "    model_size=model_size,\n",
        "    models_dir=models_dir,\n",
        "    clusters_dir=color_clusters_dir,\n",
        "    n_px=n_px\n",
        "#     from_cache=False\n",
        ")"
      ],
      "execution_count": null,
      "outputs": []
    },
    {
      "cell_type": "markdown",
      "metadata": {
        "id": "qyrLx0cmpiTO"
      },
      "source": [
        "#### Asian"
      ]
    },
    {
      "cell_type": "code",
      "metadata": {
        "id": "_nEjOV-QpiTP"
      },
      "source": [
        "test(\n",
        "    \"data/experiments/asian/european-american\",\n",
        "    \"data/experiments/asian/asian-american\",\n",
        "    \"data/experiments/asian/american\",\n",
        "    \"data/experiments/asian/foreign\",\n",
        "    model_type=\"openai\", \n",
        "    model_size=model_size,\n",
        "    models_dir=models_dir,\n",
        "    clusters_dir=color_clusters_dir,\n",
        "    n_px=n_px\n",
        "#     from_cache=False\n",
        ")"
      ],
      "execution_count": null,
      "outputs": []
    },
    {
      "cell_type": "markdown",
      "metadata": {
        "id": "O8Wpc7vPxvhZ"
      },
      "source": [
        "#### Insect-Flower"
      ]
    },
    {
      "cell_type": "code",
      "metadata": {
        "id": "y_dzK41F6Hso"
      },
      "source": [
        "from ieat.api import test\n",
        "\n",
        "test(\n",
        "    \"data/experiments/insect-flower/flower\",\n",
        "    \"data/experiments/insect-flower/insect\",\n",
        "    \"data/experiments/valence/pleasant\",\n",
        "    \"data/experiments/valence/unpleasant\",\n",
        "    model_type=\"openai\", \n",
        "    model_size=model_size,\n",
        "    models_dir=models_dir,\n",
        "    clusters_dir=color_clusters_dir,\n",
        "    n_px=n_px,\n",
        "#     from_cache=False,\n",
        "    verbose=True\n",
        ")"
      ],
      "execution_count": null,
      "outputs": []
    },
    {
      "cell_type": "markdown",
      "metadata": {
        "id": "ZalmenA0xvhb"
      },
      "source": [
        "#### Weight"
      ]
    },
    {
      "cell_type": "code",
      "metadata": {
        "id": "ziXl8gaWxvhc"
      },
      "source": [
        "from ieat.api import test\n",
        "\n",
        "test(\n",
        "    \"data/experiments/weight/thin\",\n",
        "    \"data/experiments/weight/fat\",\n",
        "    \"data/experiments/valence/pleasant\",\n",
        "    \"data/experiments/valence/unpleasant\",\n",
        "    model_type=\"openai\", \n",
        "    model_size=model_size,\n",
        "    models_dir=models_dir,\n",
        "    clusters_dir=color_clusters_dir,\n",
        "    n_px=n_px,\n",
        "#     from_cache=False,\n",
        "    verbose=True\n",
        ")"
      ],
      "execution_count": null,
      "outputs": []
    },
    {
      "cell_type": "markdown",
      "metadata": {
        "id": "7gYnQK4vxvhe"
      },
      "source": [
        "#### Skin-Tone"
      ]
    },
    {
      "cell_type": "code",
      "metadata": {
        "id": "VFg-zm4Ixvhe"
      },
      "source": [
        "from ieat.api import test\n",
        "\n",
        "test(\n",
        "    \"data/experiments/skin-tone/light\",\n",
        "    \"data/experiments/skin-tone/dark\",\n",
        "    \"data/experiments/valence/pleasant\",\n",
        "    \"data/experiments/valence/unpleasant\",\n",
        "    model_type=\"openai\", \n",
        "    model_size=model_size,\n",
        "    models_dir=models_dir,\n",
        "    clusters_dir=color_clusters_dir,\n",
        "    n_px=n_px,\n",
        "#     from_cache=False,\n",
        "    verbose=True\n",
        ")"
      ],
      "execution_count": null,
      "outputs": []
    },
    {
      "cell_type": "markdown",
      "metadata": {
        "id": "kqoUJ9_oxvhh"
      },
      "source": [
        "#### Disability"
      ]
    },
    {
      "cell_type": "code",
      "metadata": {
        "id": "nLLGZcCRxvhh"
      },
      "source": [
        "from ieat.api import test\n",
        "\n",
        "test(\n",
        "    \"data/experiments/disabled/disabled\",\n",
        "    \"data/experiments/disabled/abled\",\n",
        "    \"data/experiments/valence/pleasant\",\n",
        "    \"data/experiments/valence/unpleasant\",\n",
        "    model_type=\"openai\", \n",
        "    model_size=model_size,\n",
        "    models_dir=models_dir,\n",
        "    clusters_dir=color_clusters_dir,\n",
        "    n_px=n_px,\n",
        "#     from_cache=False,\n",
        "    verbose=True\n",
        ")"
      ],
      "execution_count": null,
      "outputs": []
    },
    {
      "cell_type": "markdown",
      "metadata": {
        "id": "VX-5Fpk2xvhl"
      },
      "source": [
        "#### Presidents"
      ]
    },
    {
      "cell_type": "code",
      "metadata": {
        "id": "qPYAHFFGxvhm"
      },
      "source": [
        "from ieat.api import test\n",
        "\n",
        "test(\n",
        "    \"data/experiments/presidents/trump\",\n",
        "    \"data/experiments/presidents/kennedy\",\n",
        "    \"data/experiments/valence/pleasant\",\n",
        "    \"data/experiments/valence/unpleasant\",\n",
        "    model_type=\"openai\", \n",
        "    model_size=model_size,\n",
        "    models_dir=models_dir,\n",
        "    clusters_dir=color_clusters_dir,\n",
        "    n_px=n_px,\n",
        "#     from_cache=False,\n",
        "    verbose=True\n",
        ")"
      ],
      "execution_count": null,
      "outputs": []
    },
    {
      "cell_type": "code",
      "metadata": {
        "id": "zqSZmD4Rxvho"
      },
      "source": [
        "from ieat.api import test\n",
        "\n",
        "test(\n",
        "    \"data/experiments/presidents/trump\",\n",
        "    \"data/experiments/presidents/clinton\",\n",
        "    \"data/experiments/valence/pleasant\",\n",
        "    \"data/experiments/valence/unpleasant\",\n",
        "    model_type=\"openai\", \n",
        "    model_size=model_size,\n",
        "    models_dir=models_dir,\n",
        "    clusters_dir=color_clusters_dir,\n",
        "    n_px=n_px,\n",
        "#     from_cache=False,\n",
        "    verbose=True\n",
        ")"
      ],
      "execution_count": null,
      "outputs": []
    },
    {
      "cell_type": "code",
      "metadata": {
        "id": "L6HNE0bvxvhq"
      },
      "source": [
        "from ieat.api import test\n",
        "\n",
        "test(\n",
        "    \"data/experiments/presidents/trump\",\n",
        "    \"data/experiments/presidents/bush\",\n",
        "    \"data/experiments/valence/pleasant\",\n",
        "    \"data/experiments/valence/unpleasant\",\n",
        "    model_type=\"openai\", \n",
        "    model_size=model_size,\n",
        "    models_dir=models_dir,\n",
        "    clusters_dir=color_clusters_dir,\n",
        "    n_px=n_px,\n",
        "#     from_cache=False,\n",
        "    verbose=True\n",
        ")"
      ],
      "execution_count": null,
      "outputs": []
    },
    {
      "cell_type": "code",
      "metadata": {
        "id": "oTOxt8Y5xvhs"
      },
      "source": [
        "from ieat.api import test\n",
        "\n",
        "test(\n",
        "    \"data/experiments/presidents/trump\",\n",
        "    \"data/experiments/presidents/lincoln\",\n",
        "    \"data/experiments/valence/pleasant\",\n",
        "    \"data/experiments/valence/unpleasant\",\n",
        "    model_type=\"openai\", \n",
        "    model_size=model_size,\n",
        "    models_dir=models_dir,\n",
        "    clusters_dir=color_clusters_dir,\n",
        "    n_px=n_px,\n",
        "#     from_cache=False,\n",
        "    verbose=True\n",
        ")"
      ],
      "execution_count": null,
      "outputs": []
    },
    {
      "cell_type": "markdown",
      "metadata": {
        "id": "ErIbgFMXxvhu"
      },
      "source": [
        "#### Religion"
      ]
    },
    {
      "cell_type": "code",
      "metadata": {
        "id": "VvAe-DuUxvhu"
      },
      "source": [
        "from ieat.api import test\n",
        "\n",
        "test(\n",
        "    \"data/experiments/religion/christianity\",\n",
        "    \"data/experiments/religion/judaism\",\n",
        "    \"data/experiments/valence/pleasant\",\n",
        "    \"data/experiments/valence/unpleasant\",\n",
        "    model_type=\"openai\", \n",
        "    model_size=model_size,\n",
        "    models_dir=models_dir,\n",
        "    clusters_dir=color_clusters_dir,\n",
        "    n_px=n_px,\n",
        "#     from_cache=False,\n",
        "    verbose=True\n",
        ")"
      ],
      "execution_count": null,
      "outputs": []
    },
    {
      "cell_type": "markdown",
      "metadata": {
        "id": "gt3GfXoYxvhw"
      },
      "source": [
        "#### Gender-Science"
      ]
    },
    {
      "cell_type": "code",
      "metadata": {
        "id": "2zs-M-ezxvhx"
      },
      "source": [
        "from ieat.api import test\n",
        "\n",
        "test(\n",
        "    \"data/experiments/gender/science\",\n",
        "    \"data/experiments/gender/liberal-arts\",\n",
        "    \"data/experiments/gender/male\",\n",
        "    \"data/experiments/gender/female\",\n",
        "    model_type=\"openai\", \n",
        "    model_size=model_size,\n",
        "    models_dir=models_dir,\n",
        "    clusters_dir=color_clusters_dir,\n",
        "    n_px=n_px,\n",
        "#     from_cache=False,\n",
        "    verbose=True\n",
        ")"
      ],
      "execution_count": null,
      "outputs": []
    },
    {
      "cell_type": "markdown",
      "metadata": {
        "id": "BXbraCTvxvhy"
      },
      "source": [
        "#### Gender-Career"
      ]
    },
    {
      "cell_type": "code",
      "metadata": {
        "id": "wmICFKRhxvhz"
      },
      "source": [
        "from ieat.api import test\n",
        "\n",
        "test(\n",
        "    \"data/experiments/gender/career\",\n",
        "    \"data/experiments/gender/family\",\n",
        "    \"data/experiments/gender/male\",\n",
        "    \"data/experiments/gender/female\",\n",
        "    model_type=\"openai\", \n",
        "    model_size=model_size,\n",
        "    models_dir=models_dir,\n",
        "    clusters_dir=color_clusters_dir,\n",
        "    n_px=n_px,\n",
        "#     from_cache=False,\n",
        "    verbose=True\n",
        ")"
      ],
      "execution_count": null,
      "outputs": []
    },
    {
      "cell_type": "markdown",
      "metadata": {
        "id": "_BI1Gxc4xvh1"
      },
      "source": [
        "#### Sexuality"
      ]
    },
    {
      "cell_type": "code",
      "metadata": {
        "id": "6qhiTy3Rxvh2"
      },
      "source": [
        "from ieat.api import test\n",
        "\n",
        "test(\n",
        "    \"data/experiments/sexuality/gay\",\n",
        "    \"data/experiments/sexuality/straight\",\n",
        "    \"data/experiments/valence/pleasant\",\n",
        "    \"data/experiments/valence/unpleasant\",\n",
        "    model_type=\"openai\", \n",
        "    model_size=model_size,\n",
        "    models_dir=models_dir,\n",
        "    clusters_dir=color_clusters_dir,\n",
        "    n_px=n_px,\n",
        "#     from_cache=False,\n",
        "    verbose=True\n",
        ")"
      ],
      "execution_count": null,
      "outputs": []
    },
    {
      "cell_type": "markdown",
      "metadata": {
        "id": "7VIIIFfpxvh3"
      },
      "source": [
        "#### Race"
      ]
    },
    {
      "cell_type": "code",
      "metadata": {
        "id": "fSuQzadOxvh4"
      },
      "source": [
        "from ieat.api import test\n",
        "\n",
        "test(\n",
        "    \"data/experiments/race/african-american\",\n",
        "    \"data/experiments/race/european-american\",\n",
        "    \"data/experiments/valence/pleasant\",\n",
        "    \"data/experiments/valence/unpleasant\",\n",
        "    model_type=\"openai\", \n",
        "    model_size=model_size,\n",
        "    models_dir=models_dir,\n",
        "    clusters_dir=color_clusters_dir,\n",
        "    n_px=n_px,\n",
        "#     from_cache=False,\n",
        "    verbose=True\n",
        ")"
      ],
      "execution_count": null,
      "outputs": []
    },
    {
      "cell_type": "markdown",
      "metadata": {
        "id": "xA_AwxiKxvh5"
      },
      "source": [
        "#### Arab-Muslim"
      ]
    },
    {
      "cell_type": "code",
      "metadata": {
        "id": "dAvppwCJxvh6"
      },
      "source": [
        "from ieat.api import test\n",
        "\n",
        "test(\n",
        "    \"data/experiments/arab-muslim/other-people\",\n",
        "    \"data/experiments/arab-muslim/arab-muslim\",\n",
        "    \"data/experiments/valence/pleasant\",\n",
        "    \"data/experiments/valence/unpleasant\",\n",
        "    model_type=\"openai\", \n",
        "    model_size=model_size,\n",
        "    models_dir=models_dir,\n",
        "    clusters_dir=color_clusters_dir,\n",
        "    n_px=n_px,\n",
        "#     from_cache=False,\n",
        "    verbose=True\n",
        ")"
      ],
      "execution_count": null,
      "outputs": []
    },
    {
      "cell_type": "markdown",
      "metadata": {
        "id": "R-fdCFqQxvh8"
      },
      "source": [
        "#### Age"
      ]
    },
    {
      "cell_type": "code",
      "metadata": {
        "id": "lVB-Wne_xvh8"
      },
      "source": [
        "from ieat.api import test\n",
        "\n",
        "test(\n",
        "    \"data/experiments/age/young\",\n",
        "    \"data/experiments/age/old\",\n",
        "    \"data/experiments/valence/pleasant\",\n",
        "    \"data/experiments/valence/unpleasant\",\n",
        "    model_type=\"openai\", \n",
        "    model_size=model_size,\n",
        "    models_dir=models_dir,\n",
        "    clusters_dir=color_clusters_dir,\n",
        "    n_px=n_px,\n",
        "#     from_cache=False,\n",
        "    verbose=True\n",
        ")"
      ],
      "execution_count": null,
      "outputs": []
    },
    {
      "cell_type": "markdown",
      "metadata": {
        "id": "SpKVucUpxvh-"
      },
      "source": [
        "### Download Cached Embeddings"
      ]
    },
    {
      "cell_type": "code",
      "metadata": {
        "id": "EfMcw700xvh-"
      },
      "source": [
        "# to download from colab\n",
        "from google.colab import files\n",
        "\n",
        "!zip -r embeddings_colab.zip embeddings\n",
        "files.download(\"embeddings_colab.zip\")"
      ],
      "execution_count": null,
      "outputs": []
    },
    {
      "cell_type": "code",
      "metadata": {
        "id": "GnG7quNVxviA"
      },
      "source": [
        ""
      ],
      "execution_count": null,
      "outputs": []
    }
  ]
}