{
 "cells": [
  {
   "cell_type": "markdown",
   "metadata": {
    "id": "P9tObiU-qVgv"
   },
   "source": [
    "[![Open In Colab](https://colab.research.google.com/assets/colab-badge.svg)](https://colab.research.google.com/github/ryansteed/ieat/blob/master/notebooks/experiments.ipynb)\n",
    "\n",
    "# Image GPT Bias\n",
    "**Image Embedding Association Test**\n",
    "\n",
    "Ryan Steed\n",
    "\n",
    "This script adapted from https://colab.research.google.com/github/apeguero1/image-gpt/blob/master/Transformers_Image_GPT.ipynb.\n"
   ]
  },
  {
   "cell_type": "code",
   "execution_count": 2,
   "metadata": {
    "colab": {
     "base_uri": "https://localhost:8080/",
     "height": 51
    },
    "id": "lHXoubXWpiSv",
    "outputId": "57f068ab-3890-444e-92b8-1a59c84717c4"
   },
   "outputs": [
    {
     "name": "stdout",
     "output_type": "stream",
     "text": [
      "The autoreload extension is already loaded. To reload it, use:\n",
      "  %reload_ext autoreload\n",
      "/Users/steed/caliskan/git/ieat\n"
     ]
    }
   ],
   "source": [
    "import sys\n",
    "import os\n",
    "sys.path.insert(0, os.path.abspath('..'))\n",
    "\n",
    "%load_ext autoreload\n",
    "%autoreload 2\n",
    "\n",
    "%cd /Users/steed/caliskan/git/ieat"
   ]
  },
  {
   "cell_type": "markdown",
   "metadata": {
    "id": "OoWYiUzT_lLs"
   },
   "source": [
    "## Download Model"
   ]
  },
  {
   "cell_type": "code",
   "execution_count": null,
   "metadata": {
    "colab": {
     "base_uri": "https://localhost:8080/",
     "height": 71
    },
    "id": "DzJbEWC6Vogc",
    "outputId": "c1286597-3cf5-45d2-af5a-f34c863f52c9"
   },
   "outputs": [
    {
     "name": "stdout",
     "output_type": "stream",
     "text": [
      "NVIDIA-SMI has failed because it couldn't communicate with the NVIDIA driver. Make sure that the latest NVIDIA driver is installed and running.\n",
      "\n"
     ]
    }
   ],
   "source": [
    "!nvidia-smi #OpenAI says you need 16GB GPU for the large model, but it may work if you lower n_sub_batch on the others."
   ]
  },
  {
   "cell_type": "code",
   "execution_count": 8,
   "metadata": {
    "colab": {
     "base_uri": "https://localhost:8080/",
     "height": 51
    },
    "id": "WkPOYJsCTaUb",
    "outputId": "9268d5df-fc68-4de3-d17d-cf58075831d3"
   },
   "outputs": [
    {
     "name": "stdout",
     "output_type": "stream",
     "text": [
      "fatal: destination path 'ieat' already exists and is not an empty directory.\n",
      "[Errno 2] No such file or directory: '/ieat'\n",
      "/Users/steed/caliskan/git/ieat\n"
     ]
    }
   ],
   "source": [
    "import urllib\n",
    "\n",
    "# don't share these to Github or elsewhere!\n",
    "u = \"your_username\"\n",
    "p = urllib.parse.quote(\"your_password\")\n",
    "!git clone --recurse-submodules -j8 https://$u:$p@github.com/$u/ieat.git\n",
    "%cd /ieat"
   ]
  },
  {
   "cell_type": "code",
   "execution_count": 7,
   "metadata": {
    "colab": {
     "base_uri": "https://localhost:8080/",
     "height": 1000
    },
    "id": "BIOr3wBHs955",
    "outputId": "e64b0e05-02c7-4c95-cafb-677b705d7707"
   },
   "outputs": [
    {
     "name": "stdout",
     "output_type": "stream",
     "text": [
      "Obtaining file:///Users/steed/caliskan/git/ieat\n",
      "Requirement already satisfied: transformers in /opt/miniconda3/envs/image-gpt-bias/lib/python3.8/site-packages (from ieat==1.0) (3.1.0)\n",
      "Requirement already satisfied: torch in /opt/miniconda3/envs/image-gpt-bias/lib/python3.8/site-packages (from ieat==1.0) (1.6.0)\n",
      "Requirement already satisfied: numpy in /opt/miniconda3/envs/image-gpt-bias/lib/python3.8/site-packages (from ieat==1.0) (1.18.5)\n",
      "Requirement already satisfied: matplotlib in /opt/miniconda3/envs/image-gpt-bias/lib/python3.8/site-packages (from ieat==1.0) (3.3.1)\n",
      "Requirement already satisfied: opencv-python in /opt/miniconda3/envs/image-gpt-bias/lib/python3.8/site-packages (from ieat==1.0) (4.4.0.42)\n",
      "Requirement already satisfied: tensorflow in /opt/miniconda3/envs/image-gpt-bias/lib/python3.8/site-packages (from ieat==1.0) (2.3.0)\n",
      "Requirement already satisfied: requests in /opt/miniconda3/envs/image-gpt-bias/lib/python3.8/site-packages (from transformers->ieat==1.0) (2.24.0)\n",
      "Requirement already satisfied: filelock in /opt/miniconda3/envs/image-gpt-bias/lib/python3.8/site-packages (from transformers->ieat==1.0) (3.0.12)\n",
      "Requirement already satisfied: tokenizers==0.8.1.rc2 in /opt/miniconda3/envs/image-gpt-bias/lib/python3.8/site-packages (from transformers->ieat==1.0) (0.8.1rc2)\n",
      "Requirement already satisfied: tqdm>=4.27 in /opt/miniconda3/envs/image-gpt-bias/lib/python3.8/site-packages (from transformers->ieat==1.0) (4.48.2)\n",
      "Requirement already satisfied: sacremoses in /opt/miniconda3/envs/image-gpt-bias/lib/python3.8/site-packages (from transformers->ieat==1.0) (0.0.43)\n",
      "Requirement already satisfied: packaging in /opt/miniconda3/envs/image-gpt-bias/lib/python3.8/site-packages (from transformers->ieat==1.0) (20.4)\n",
      "Requirement already satisfied: regex!=2019.12.17 in /opt/miniconda3/envs/image-gpt-bias/lib/python3.8/site-packages (from transformers->ieat==1.0) (2020.7.14)\n",
      "Requirement already satisfied: sentencepiece!=0.1.92 in /opt/miniconda3/envs/image-gpt-bias/lib/python3.8/site-packages (from transformers->ieat==1.0) (0.1.91)\n",
      "Requirement already satisfied: future in /opt/miniconda3/envs/image-gpt-bias/lib/python3.8/site-packages (from torch->ieat==1.0) (0.18.2)\n",
      "Requirement already satisfied: pillow>=6.2.0 in /opt/miniconda3/envs/image-gpt-bias/lib/python3.8/site-packages (from matplotlib->ieat==1.0) (7.2.0)\n",
      "Requirement already satisfied: certifi>=2020.06.20 in /opt/miniconda3/envs/image-gpt-bias/lib/python3.8/site-packages (from matplotlib->ieat==1.0) (2020.6.20)\n",
      "Requirement already satisfied: pyparsing!=2.0.4,!=2.1.2,!=2.1.6,>=2.0.3 in /opt/miniconda3/envs/image-gpt-bias/lib/python3.8/site-packages (from matplotlib->ieat==1.0) (2.4.7)\n",
      "Requirement already satisfied: cycler>=0.10 in /opt/miniconda3/envs/image-gpt-bias/lib/python3.8/site-packages (from matplotlib->ieat==1.0) (0.10.0)\n",
      "Requirement already satisfied: kiwisolver>=1.0.1 in /opt/miniconda3/envs/image-gpt-bias/lib/python3.8/site-packages (from matplotlib->ieat==1.0) (1.2.0)\n",
      "Requirement already satisfied: python-dateutil>=2.1 in /opt/miniconda3/envs/image-gpt-bias/lib/python3.8/site-packages (from matplotlib->ieat==1.0) (2.8.1)\n",
      "Requirement already satisfied: opt-einsum>=2.3.2 in /opt/miniconda3/envs/image-gpt-bias/lib/python3.8/site-packages (from tensorflow->ieat==1.0) (3.3.0)\n",
      "Requirement already satisfied: grpcio>=1.8.6 in /opt/miniconda3/envs/image-gpt-bias/lib/python3.8/site-packages (from tensorflow->ieat==1.0) (1.31.0)\n",
      "Requirement already satisfied: h5py<2.11.0,>=2.10.0 in /opt/miniconda3/envs/image-gpt-bias/lib/python3.8/site-packages (from tensorflow->ieat==1.0) (2.10.0)\n",
      "Requirement already satisfied: astunparse==1.6.3 in /opt/miniconda3/envs/image-gpt-bias/lib/python3.8/site-packages (from tensorflow->ieat==1.0) (1.6.3)\n",
      "Requirement already satisfied: gast==0.3.3 in /opt/miniconda3/envs/image-gpt-bias/lib/python3.8/site-packages (from tensorflow->ieat==1.0) (0.3.3)\n",
      "Requirement already satisfied: protobuf>=3.9.2 in /opt/miniconda3/envs/image-gpt-bias/lib/python3.8/site-packages (from tensorflow->ieat==1.0) (3.13.0)\n",
      "Requirement already satisfied: tensorboard<3,>=2.3.0 in /opt/miniconda3/envs/image-gpt-bias/lib/python3.8/site-packages (from tensorflow->ieat==1.0) (2.3.0)\n",
      "Requirement already satisfied: termcolor>=1.1.0 in /opt/miniconda3/envs/image-gpt-bias/lib/python3.8/site-packages (from tensorflow->ieat==1.0) (1.1.0)\n",
      "Requirement already satisfied: tensorflow-estimator<2.4.0,>=2.3.0 in /opt/miniconda3/envs/image-gpt-bias/lib/python3.8/site-packages (from tensorflow->ieat==1.0) (2.3.0)\n",
      "Requirement already satisfied: six>=1.12.0 in /opt/miniconda3/envs/image-gpt-bias/lib/python3.8/site-packages (from tensorflow->ieat==1.0) (1.15.0)\n",
      "Requirement already satisfied: wrapt>=1.11.1 in /opt/miniconda3/envs/image-gpt-bias/lib/python3.8/site-packages (from tensorflow->ieat==1.0) (1.12.1)\n",
      "Requirement already satisfied: scipy==1.4.1 in /opt/miniconda3/envs/image-gpt-bias/lib/python3.8/site-packages (from tensorflow->ieat==1.0) (1.4.1)\n",
      "Requirement already satisfied: google-pasta>=0.1.8 in /opt/miniconda3/envs/image-gpt-bias/lib/python3.8/site-packages (from tensorflow->ieat==1.0) (0.2.0)\n",
      "Requirement already satisfied: wheel>=0.26 in /opt/miniconda3/envs/image-gpt-bias/lib/python3.8/site-packages (from tensorflow->ieat==1.0) (0.35.1)\n",
      "Requirement already satisfied: keras-preprocessing<1.2,>=1.1.1 in /opt/miniconda3/envs/image-gpt-bias/lib/python3.8/site-packages (from tensorflow->ieat==1.0) (1.1.2)\n",
      "Requirement already satisfied: absl-py>=0.7.0 in /opt/miniconda3/envs/image-gpt-bias/lib/python3.8/site-packages (from tensorflow->ieat==1.0) (0.10.0)\n",
      "Requirement already satisfied: urllib3!=1.25.0,!=1.25.1,<1.26,>=1.21.1 in /opt/miniconda3/envs/image-gpt-bias/lib/python3.8/site-packages (from requests->transformers->ieat==1.0) (1.25.10)\n",
      "Requirement already satisfied: chardet<4,>=3.0.2 in /opt/miniconda3/envs/image-gpt-bias/lib/python3.8/site-packages (from requests->transformers->ieat==1.0) (3.0.4)\n",
      "Requirement already satisfied: idna<3,>=2.5 in /opt/miniconda3/envs/image-gpt-bias/lib/python3.8/site-packages (from requests->transformers->ieat==1.0) (2.10)\n",
      "Requirement already satisfied: click in /opt/miniconda3/envs/image-gpt-bias/lib/python3.8/site-packages (from sacremoses->transformers->ieat==1.0) (7.1.2)\n",
      "Requirement already satisfied: joblib in /opt/miniconda3/envs/image-gpt-bias/lib/python3.8/site-packages (from sacremoses->transformers->ieat==1.0) (0.16.0)\n",
      "Requirement already satisfied: setuptools in /opt/miniconda3/envs/image-gpt-bias/lib/python3.8/site-packages (from protobuf>=3.9.2->tensorflow->ieat==1.0) (49.6.0.post20200814)\n",
      "Requirement already satisfied: markdown>=2.6.8 in /opt/miniconda3/envs/image-gpt-bias/lib/python3.8/site-packages (from tensorboard<3,>=2.3.0->tensorflow->ieat==1.0) (3.2.2)\n",
      "Requirement already satisfied: google-auth<2,>=1.6.3 in /opt/miniconda3/envs/image-gpt-bias/lib/python3.8/site-packages (from tensorboard<3,>=2.3.0->tensorflow->ieat==1.0) (1.21.0)\n",
      "Requirement already satisfied: tensorboard-plugin-wit>=1.6.0 in /opt/miniconda3/envs/image-gpt-bias/lib/python3.8/site-packages (from tensorboard<3,>=2.3.0->tensorflow->ieat==1.0) (1.7.0)\n",
      "Requirement already satisfied: werkzeug>=0.11.15 in /opt/miniconda3/envs/image-gpt-bias/lib/python3.8/site-packages (from tensorboard<3,>=2.3.0->tensorflow->ieat==1.0) (1.0.1)\n",
      "Requirement already satisfied: google-auth-oauthlib<0.5,>=0.4.1 in /opt/miniconda3/envs/image-gpt-bias/lib/python3.8/site-packages (from tensorboard<3,>=2.3.0->tensorflow->ieat==1.0) (0.4.1)\n",
      "Requirement already satisfied: pyasn1-modules>=0.2.1 in /opt/miniconda3/envs/image-gpt-bias/lib/python3.8/site-packages (from google-auth<2,>=1.6.3->tensorboard<3,>=2.3.0->tensorflow->ieat==1.0) (0.2.8)\n",
      "Requirement already satisfied: cachetools<5.0,>=2.0.0 in /opt/miniconda3/envs/image-gpt-bias/lib/python3.8/site-packages (from google-auth<2,>=1.6.3->tensorboard<3,>=2.3.0->tensorflow->ieat==1.0) (4.1.1)\n",
      "Requirement already satisfied: rsa<5,>=3.1.4; python_version >= \"3.5\" in /opt/miniconda3/envs/image-gpt-bias/lib/python3.8/site-packages (from google-auth<2,>=1.6.3->tensorboard<3,>=2.3.0->tensorflow->ieat==1.0) (4.6)\n",
      "Requirement already satisfied: requests-oauthlib>=0.7.0 in /opt/miniconda3/envs/image-gpt-bias/lib/python3.8/site-packages (from google-auth-oauthlib<0.5,>=0.4.1->tensorboard<3,>=2.3.0->tensorflow->ieat==1.0) (1.3.0)\n",
      "Requirement already satisfied: pyasn1<0.5.0,>=0.4.6 in /opt/miniconda3/envs/image-gpt-bias/lib/python3.8/site-packages (from pyasn1-modules>=0.2.1->google-auth<2,>=1.6.3->tensorboard<3,>=2.3.0->tensorflow->ieat==1.0) (0.4.8)\n",
      "Requirement already satisfied: oauthlib>=3.0.0 in /opt/miniconda3/envs/image-gpt-bias/lib/python3.8/site-packages (from requests-oauthlib>=0.7.0->google-auth-oauthlib<0.5,>=0.4.1->tensorboard<3,>=2.3.0->tensorflow->ieat==1.0) (3.1.0)\n"
     ]
    },
    {
     "name": "stdout",
     "output_type": "stream",
     "text": [
      "Installing collected packages: ieat\n",
      "  Running setup.py develop for ieat\n",
      "Successfully installed ieat\n",
      "Obtaining file:///Users/steed/caliskan/git/ieat/weat\n",
      "Requirement already satisfied: pandas in /opt/miniconda3/envs/image-gpt-bias/lib/python3.8/site-packages (from weat==1.0) (1.1.2)\n",
      "Requirement already satisfied: scikit-learn in /opt/miniconda3/envs/image-gpt-bias/lib/python3.8/site-packages (from weat==1.0) (0.23.2)\n",
      "Requirement already satisfied: numpy in /opt/miniconda3/envs/image-gpt-bias/lib/python3.8/site-packages (from weat==1.0) (1.18.5)\n",
      "Requirement already satisfied: python-dateutil>=2.7.3 in /opt/miniconda3/envs/image-gpt-bias/lib/python3.8/site-packages (from pandas->weat==1.0) (2.8.1)\n",
      "Requirement already satisfied: pytz>=2017.2 in /opt/miniconda3/envs/image-gpt-bias/lib/python3.8/site-packages (from pandas->weat==1.0) (2020.1)\n",
      "Requirement already satisfied: threadpoolctl>=2.0.0 in /opt/miniconda3/envs/image-gpt-bias/lib/python3.8/site-packages (from scikit-learn->weat==1.0) (2.1.0)\n",
      "Requirement already satisfied: joblib>=0.11 in /opt/miniconda3/envs/image-gpt-bias/lib/python3.8/site-packages (from scikit-learn->weat==1.0) (0.16.0)\n",
      "Requirement already satisfied: scipy>=0.19.1 in /opt/miniconda3/envs/image-gpt-bias/lib/python3.8/site-packages (from scikit-learn->weat==1.0) (1.4.1)\n",
      "Requirement already satisfied: six>=1.5 in /opt/miniconda3/envs/image-gpt-bias/lib/python3.8/site-packages (from python-dateutil>=2.7.3->pandas->weat==1.0) (1.15.0)\n",
      "Installing collected packages: weat\n",
      "  Running setup.py develop for weat\n",
      "Successfully installed weat\n"
     ]
    }
   ],
   "source": [
    "# note - you may need to restart the kernel for these installations to take effect\n",
    "!pip install -e .\n",
    "!pip install -e weat"
   ]
  },
  {
   "cell_type": "code",
   "execution_count": 9,
   "metadata": {
    "id": "e0DcaUYv8LYf"
   },
   "outputs": [],
   "source": [
    "model_sizes = [\"s\", \"m\", \"l\"] #small medium large, xl not available\n",
    "model_size = \"l\"\n",
    "models_dir = \"models\"\n",
    "color_clusters_dir = \"clusters\"\n",
    "n_px = 32\n",
    "depth = 152\n",
    "width = 3\n",
    "sk = 1"
   ]
  },
  {
   "cell_type": "code",
   "execution_count": null,
   "metadata": {
    "id": "ylcjIJcwXsFw"
   },
   "outputs": [],
   "source": [
    "# download the model - skip if already downloaded\n",
    "!python image-gpt/download.py --model {model_size} --ckpt 1000000 --clusters --download_dir {models_dir}/{model_size}\n",
    "!python image-gpt/download.py --clusters --download_dir {color_clusters_dir}"
   ]
  },
  {
   "cell_type": "markdown",
   "metadata": {
    "id": "fJcpjSByxvhQ"
   },
   "source": [
    "## IATs"
   ]
  },
  {
   "cell_type": "markdown",
   "metadata": {
    "id": "rv34zwKpSHSp"
   },
   "source": [
    "### Quick Summary"
   ]
  },
  {
   "cell_type": "code",
   "execution_count": 10,
   "metadata": {
    "colab": {
     "base_uri": "https://localhost:8080/",
     "height": 562
    },
    "id": "vLl9AC5nSHSp",
    "outputId": "b5c5697e-0c30-496c-db1e-91452870f5c4"
   },
   "outputs": [
    {
     "name": "stdout",
     "output_type": "stream",
     "text": [
      "# igpt-logit #\n",
      "## Insect-Flower ##\n"
     ]
    },
    {
     "name": "stderr",
     "output_type": "stream",
     "text": [
      "2020-10-01 13:52:16,556 [84460] WARNING  root:202: [JupyterRequire] Equalities contributed 1/924 to p-value\n"
     ]
    },
    {
     "name": "stdout",
     "output_type": "stream",
     "text": [
      "## Weapon ##\n",
      "## Weapon (Modern) ##\n"
     ]
    },
    {
     "name": "stderr",
     "output_type": "stream",
     "text": [
      "2020-10-01 13:52:16,664 [84460] WARNING  root:202: [JupyterRequire] Equalities contributed 1/924 to p-value\n",
      "2020-10-01 13:52:16,816 [84460] WARNING  root:202: [JupyterRequire] Equalities contributed 1/10000 to p-value\n"
     ]
    },
    {
     "name": "stdout",
     "output_type": "stream",
     "text": [
      "## Native ##\n",
      "## Asian ##\n"
     ]
    },
    {
     "name": "stderr",
     "output_type": "stream",
     "text": [
      "2020-10-01 13:52:16,928 [84460] WARNING  root:202: [JupyterRequire] Equalities contributed 1/924 to p-value\n"
     ]
    },
    {
     "name": "stdout",
     "output_type": "stream",
     "text": [
      "## Weight ##\n",
      "## Skin-Tone ##\n"
     ]
    },
    {
     "name": "stderr",
     "output_type": "stream",
     "text": [
      "2020-10-01 13:52:17,235 [84460] WARNING  root:202: [JupyterRequire] Equalities contributed 1/3432 to p-value\n",
      "2020-10-01 13:52:17,345 [84460] WARNING  root:202: [JupyterRequire] Equalities contributed 1/70 to p-value\n"
     ]
    },
    {
     "name": "stdout",
     "output_type": "stream",
     "text": [
      "## Disability ##\n",
      "## President - Kennedy vs. Trump ##\n"
     ]
    },
    {
     "name": "stderr",
     "output_type": "stream",
     "text": [
      "2020-10-01 13:52:17,455 [84460] WARNING  root:202: [JupyterRequire] Equalities contributed 1/924 to p-value\n",
      "2020-10-01 13:52:17,574 [84460] WARNING  root:202: [JupyterRequire] Equalities contributed 1/924 to p-value\n"
     ]
    },
    {
     "name": "stdout",
     "output_type": "stream",
     "text": [
      "## President - B. Clinton vs. Trump ##\n",
      "## President - Bush vs. Trump ##\n"
     ]
    },
    {
     "name": "stderr",
     "output_type": "stream",
     "text": [
      "2020-10-01 13:52:17,730 [84460] WARNING  root:202: [JupyterRequire] Equalities contributed 1/924 to p-value\n"
     ]
    },
    {
     "name": "stdout",
     "output_type": "stream",
     "text": [
      "## President - Lincoln vs. Trump ##\n"
     ]
    },
    {
     "name": "stderr",
     "output_type": "stream",
     "text": [
      "2020-10-01 13:52:17,951 [84460] WARNING  root:202: [JupyterRequire] Equalities contributed 1/924 to p-value\n",
      "2020-10-01 13:52:18,127 [84460] WARNING  root:202: [JupyterRequire] Equalities contributed 1/3432 to p-value\n"
     ]
    },
    {
     "name": "stdout",
     "output_type": "stream",
     "text": [
      "## Religion ##\n",
      "## Sexuality ##\n",
      "## Race ##\n"
     ]
    },
    {
     "name": "stderr",
     "output_type": "stream",
     "text": [
      "2020-10-01 13:52:18,630 [84460] WARNING  root:202: [JupyterRequire] Equalities contributed 1/924 to p-value\n"
     ]
    },
    {
     "name": "stdout",
     "output_type": "stream",
     "text": [
      "## Arab-Muslim ##\n",
      "## Age ##\n"
     ]
    },
    {
     "name": "stderr",
     "output_type": "stream",
     "text": [
      "2020-10-01 13:52:18,938 [84460] WARNING  root:202: [JupyterRequire] Equalities contributed 1/924 to p-value\n"
     ]
    },
    {
     "name": "stdout",
     "output_type": "stream",
     "text": [
      "## Gender-Science ##\n",
      "## Gender-Career ##\n",
      "## Intersectional-Gender-Science-WMBM ##\n",
      "## Intersectional-Gender-Science-WMBF ##\n",
      "## Intersectional-Gender-Science-WMWF ##\n",
      "## Intersectional-Gender-Career-WMBM ##\n",
      "## Intersectional-Gender-Career-WMBF ##\n",
      "## Intersectional-Gender-Career-WMWF ##\n",
      "## Intersectional-Race-WMBM ##\n",
      "## Intersectional-Race-WMBF ##\n",
      "## Intersectional-Race-WMWF ##\n",
      "# igpt #\n",
      "## Insect-Flower ##\n",
      "## Weapon ##\n"
     ]
    },
    {
     "name": "stderr",
     "output_type": "stream",
     "text": [
      "2020-10-01 13:52:21,677 [84460] WARNING  root:202: [JupyterRequire] Equalities contributed 1/924 to p-value\n"
     ]
    },
    {
     "name": "stdout",
     "output_type": "stream",
     "text": [
      "## Weapon (Modern) ##\n"
     ]
    },
    {
     "name": "stderr",
     "output_type": "stream",
     "text": [
      "2020-10-01 13:52:21,967 [84460] WARNING  root:202: [JupyterRequire] Equalities contributed 1/924 to p-value\n"
     ]
    },
    {
     "name": "stdout",
     "output_type": "stream",
     "text": [
      "## Native ##\n"
     ]
    },
    {
     "name": "stderr",
     "output_type": "stream",
     "text": [
      "2020-10-01 13:52:22,303 [84460] WARNING  root:202: [JupyterRequire] Equalities contributed 2/10000 to p-value\n"
     ]
    },
    {
     "name": "stdout",
     "output_type": "stream",
     "text": [
      "## Asian ##\n"
     ]
    },
    {
     "name": "stderr",
     "output_type": "stream",
     "text": [
      "2020-10-01 13:52:22,574 [84460] WARNING  root:202: [JupyterRequire] Equalities contributed 1/924 to p-value\n"
     ]
    },
    {
     "name": "stdout",
     "output_type": "stream",
     "text": [
      "## Weight ##\n",
      "## Skin-Tone ##\n"
     ]
    },
    {
     "name": "stderr",
     "output_type": "stream",
     "text": [
      "2020-10-01 13:52:23,229 [84460] WARNING  root:202: [JupyterRequire] Equalities contributed 1/3432 to p-value\n"
     ]
    },
    {
     "name": "stdout",
     "output_type": "stream",
     "text": [
      "## Disability ##\n"
     ]
    },
    {
     "name": "stderr",
     "output_type": "stream",
     "text": [
      "2020-10-01 13:52:23,528 [84460] WARNING  root:202: [JupyterRequire] Equalities contributed 1/70 to p-value\n"
     ]
    },
    {
     "name": "stdout",
     "output_type": "stream",
     "text": [
      "## President - Kennedy vs. Trump ##\n"
     ]
    },
    {
     "name": "stderr",
     "output_type": "stream",
     "text": [
      "2020-10-01 13:52:23,829 [84460] WARNING  root:202: [JupyterRequire] Equalities contributed 1/924 to p-value\n"
     ]
    },
    {
     "name": "stdout",
     "output_type": "stream",
     "text": [
      "## President - B. Clinton vs. Trump ##\n"
     ]
    },
    {
     "name": "stderr",
     "output_type": "stream",
     "text": [
      "2020-10-01 13:52:24,237 [84460] WARNING  root:202: [JupyterRequire] Equalities contributed 1/924 to p-value\n"
     ]
    },
    {
     "name": "stdout",
     "output_type": "stream",
     "text": [
      "## President - Bush vs. Trump ##\n"
     ]
    },
    {
     "name": "stderr",
     "output_type": "stream",
     "text": [
      "2020-10-01 13:52:24,527 [84460] WARNING  root:202: [JupyterRequire] Equalities contributed 1/924 to p-value\n"
     ]
    },
    {
     "name": "stdout",
     "output_type": "stream",
     "text": [
      "## President - Lincoln vs. Trump ##\n"
     ]
    },
    {
     "name": "stderr",
     "output_type": "stream",
     "text": [
      "2020-10-01 13:52:24,822 [84460] WARNING  root:202: [JupyterRequire] Equalities contributed 1/924 to p-value\n"
     ]
    },
    {
     "name": "stdout",
     "output_type": "stream",
     "text": [
      "## Religion ##\n"
     ]
    },
    {
     "name": "stderr",
     "output_type": "stream",
     "text": [
      "2020-10-01 13:52:25,161 [84460] WARNING  root:202: [JupyterRequire] Equalities contributed 1/3432 to p-value\n"
     ]
    },
    {
     "name": "stdout",
     "output_type": "stream",
     "text": [
      "## Sexuality ##\n",
      "## Race ##\n"
     ]
    },
    {
     "name": "stderr",
     "output_type": "stream",
     "text": [
      "2020-10-01 13:52:25,851 [84460] WARNING  root:202: [JupyterRequire] Equalities contributed 1/924 to p-value\n"
     ]
    },
    {
     "name": "stdout",
     "output_type": "stream",
     "text": [
      "## Arab-Muslim ##\n",
      "## Age ##\n"
     ]
    },
    {
     "name": "stderr",
     "output_type": "stream",
     "text": [
      "2020-10-01 13:52:26,558 [84460] WARNING  root:202: [JupyterRequire] Equalities contributed 1/924 to p-value\n"
     ]
    },
    {
     "name": "stdout",
     "output_type": "stream",
     "text": [
      "## Gender-Science ##\n",
      "## Gender-Career ##\n",
      "## Intersectional-Gender-Science-WMBM ##\n",
      "## Intersectional-Gender-Science-WMBF ##\n",
      "## Intersectional-Gender-Science-WMWF ##\n",
      "## Intersectional-Gender-Career-WMBM ##\n",
      "## Intersectional-Gender-Career-WMBF ##\n",
      "## Intersectional-Gender-Career-WMWF ##\n",
      "## Intersectional-Race-WMBM ##\n",
      "## Intersectional-Race-WMBF ##\n",
      "## Intersectional-Race-WMWF ##\n",
      "# simclr #\n",
      "## Insect-Flower ##\n",
      "## Weapon ##\n"
     ]
    },
    {
     "name": "stderr",
     "output_type": "stream",
     "text": [
      "2020-10-01 13:52:34,560 [84460] WARNING  root:202: [JupyterRequire] Equalities contributed 1/924 to p-value\n"
     ]
    },
    {
     "name": "stdout",
     "output_type": "stream",
     "text": [
      "## Weapon (Modern) ##\n"
     ]
    },
    {
     "name": "stderr",
     "output_type": "stream",
     "text": [
      "2020-10-01 13:52:35,643 [84460] WARNING  root:202: [JupyterRequire] Equalities contributed 1/924 to p-value\n"
     ]
    },
    {
     "name": "stdout",
     "output_type": "stream",
     "text": [
      "## Native ##\n"
     ]
    },
    {
     "name": "stderr",
     "output_type": "stream",
     "text": [
      "2020-10-01 13:52:36,771 [84460] WARNING  root:202: [JupyterRequire] Equalities contributed 1/10000 to p-value\n"
     ]
    },
    {
     "name": "stdout",
     "output_type": "stream",
     "text": [
      "## Asian ##\n"
     ]
    },
    {
     "name": "stderr",
     "output_type": "stream",
     "text": [
      "2020-10-01 13:52:37,835 [84460] WARNING  root:202: [JupyterRequire] Equalities contributed 1/924 to p-value\n"
     ]
    },
    {
     "name": "stdout",
     "output_type": "stream",
     "text": [
      "## Weight ##\n",
      "## Skin-Tone ##\n"
     ]
    },
    {
     "name": "stderr",
     "output_type": "stream",
     "text": [
      "2020-10-01 13:52:41,016 [84460] WARNING  root:202: [JupyterRequire] Equalities contributed 1/3432 to p-value\n"
     ]
    },
    {
     "name": "stdout",
     "output_type": "stream",
     "text": [
      "## Disability ##\n"
     ]
    },
    {
     "name": "stderr",
     "output_type": "stream",
     "text": [
      "2020-10-01 13:52:42,403 [84460] WARNING  root:202: [JupyterRequire] Equalities contributed 1/70 to p-value\n"
     ]
    },
    {
     "name": "stdout",
     "output_type": "stream",
     "text": [
      "## President - Kennedy vs. Trump ##\n"
     ]
    },
    {
     "name": "stderr",
     "output_type": "stream",
     "text": [
      "2020-10-01 13:52:43,919 [84460] WARNING  root:202: [JupyterRequire] Equalities contributed 1/924 to p-value\n"
     ]
    },
    {
     "name": "stdout",
     "output_type": "stream",
     "text": [
      "## President - B. Clinton vs. Trump ##\n"
     ]
    },
    {
     "name": "stderr",
     "output_type": "stream",
     "text": [
      "2020-10-01 13:52:45,093 [84460] WARNING  root:202: [JupyterRequire] Equalities contributed 1/924 to p-value\n"
     ]
    },
    {
     "name": "stdout",
     "output_type": "stream",
     "text": [
      "## President - Bush vs. Trump ##\n"
     ]
    },
    {
     "name": "stderr",
     "output_type": "stream",
     "text": [
      "2020-10-01 13:52:46,827 [84460] WARNING  root:202: [JupyterRequire] Equalities contributed 1/924 to p-value\n"
     ]
    },
    {
     "name": "stdout",
     "output_type": "stream",
     "text": [
      "## President - Lincoln vs. Trump ##\n"
     ]
    },
    {
     "name": "stderr",
     "output_type": "stream",
     "text": [
      "2020-10-01 13:52:48,467 [84460] WARNING  root:202: [JupyterRequire] Equalities contributed 1/924 to p-value\n"
     ]
    },
    {
     "name": "stdout",
     "output_type": "stream",
     "text": [
      "## Religion ##\n"
     ]
    },
    {
     "name": "stderr",
     "output_type": "stream",
     "text": [
      "2020-10-01 13:52:49,804 [84460] WARNING  root:202: [JupyterRequire] Equalities contributed 1/3432 to p-value\n"
     ]
    },
    {
     "name": "stdout",
     "output_type": "stream",
     "text": [
      "## Sexuality ##\n",
      "## Race ##\n"
     ]
    },
    {
     "name": "stderr",
     "output_type": "stream",
     "text": [
      "2020-10-01 13:52:52,211 [84460] WARNING  root:202: [JupyterRequire] Equalities contributed 1/924 to p-value\n"
     ]
    },
    {
     "name": "stdout",
     "output_type": "stream",
     "text": [
      "## Arab-Muslim ##\n",
      "## Age ##\n"
     ]
    },
    {
     "name": "stderr",
     "output_type": "stream",
     "text": [
      "2020-10-01 13:52:54,456 [84460] WARNING  root:202: [JupyterRequire] Equalities contributed 1/924 to p-value\n"
     ]
    },
    {
     "name": "stdout",
     "output_type": "stream",
     "text": [
      "## Gender-Science ##\n",
      "## Gender-Career ##\n",
      "## Intersectional-Gender-Science-WMBM ##\n",
      "## Intersectional-Gender-Science-WMBF ##\n",
      "## Intersectional-Gender-Science-WMWF ##\n",
      "## Intersectional-Gender-Career-WMBM ##\n",
      "## Intersectional-Gender-Career-WMBF ##\n",
      "## Intersectional-Gender-Career-WMWF ##\n",
      "## Intersectional-Race-WMBM ##\n",
      "## Intersectional-Race-WMBF ##\n",
      "## Intersectional-Race-WMWF ##\n"
     ]
    }
   ],
   "source": [
    "from ieat.api import test_all\n",
    "\n",
    "import pandas as pd\n",
    "import numpy as np\n",
    "\n",
    "results = test_all(\n",
    "    {\n",
    "        'igpt-logit': (model_size,models_dir,color_clusters_dir,n_px),\n",
    "        'igpt': (model_size,models_dir,color_clusters_dir,n_px),\n",
    "        'simclr': (depth, width, sk)\n",
    "    }\n",
    ")"
   ]
  },
  {
   "cell_type": "code",
   "execution_count": 16,
   "metadata": {
    "id": "fv2Node4SHSs"
   },
   "outputs": [
    {
     "data": {
      "text/html": [
       "<div>\n",
       "<style scoped>\n",
       "    .dataframe tbody tr th:only-of-type {\n",
       "        vertical-align: middle;\n",
       "    }\n",
       "\n",
       "    .dataframe tbody tr th {\n",
       "        vertical-align: top;\n",
       "    }\n",
       "\n",
       "    .dataframe thead th {\n",
       "        text-align: right;\n",
       "    }\n",
       "</style>\n",
       "<table border=\"1\" class=\"dataframe\">\n",
       "  <thead>\n",
       "    <tr style=\"text-align: right;\">\n",
       "      <th></th>\n",
       "      <th></th>\n",
       "      <th>X</th>\n",
       "      <th>Y</th>\n",
       "      <th>A</th>\n",
       "      <th>B</th>\n",
       "      <th>d</th>\n",
       "      <th>p</th>\n",
       "      <th>n_t</th>\n",
       "      <th>n_a</th>\n",
       "      <th>sig</th>\n",
       "    </tr>\n",
       "  </thead>\n",
       "  <tbody>\n",
       "    <tr>\n",
       "      <th>Intersectional-Gender-Science-WMBM</th>\n",
       "      <th>igpt-logit</th>\n",
       "      <td>science</td>\n",
       "      <td>liberal-arts</td>\n",
       "      <td>white-male</td>\n",
       "      <td>black-male</td>\n",
       "      <td>0.466482</td>\n",
       "      <td>0.067</td>\n",
       "      <td>21</td>\n",
       "      <td>20</td>\n",
       "      <td>*</td>\n",
       "    </tr>\n",
       "    <tr>\n",
       "      <th>Intersectional-Gender-Science-WMBF</th>\n",
       "      <th>igpt-logit</th>\n",
       "      <td>science</td>\n",
       "      <td>liberal-arts</td>\n",
       "      <td>white-male</td>\n",
       "      <td>black-male</td>\n",
       "      <td>0.466482</td>\n",
       "      <td>0.0642</td>\n",
       "      <td>21</td>\n",
       "      <td>20</td>\n",
       "      <td>*</td>\n",
       "    </tr>\n",
       "    <tr>\n",
       "      <th>Intersectional-Gender-Science-WMWF</th>\n",
       "      <th>igpt-logit</th>\n",
       "      <td>science</td>\n",
       "      <td>liberal-arts</td>\n",
       "      <td>white-male</td>\n",
       "      <td>white-female</td>\n",
       "      <td>0.270214</td>\n",
       "      <td>0.1903</td>\n",
       "      <td>21</td>\n",
       "      <td>20</td>\n",
       "      <td></td>\n",
       "    </tr>\n",
       "    <tr>\n",
       "      <th>Intersectional-Gender-Career-WMBM</th>\n",
       "      <th>igpt-logit</th>\n",
       "      <td>career</td>\n",
       "      <td>family</td>\n",
       "      <td>white-male</td>\n",
       "      <td>black-male</td>\n",
       "      <td>-0.37432</td>\n",
       "      <td>0.8878</td>\n",
       "      <td>21</td>\n",
       "      <td>20</td>\n",
       "      <td></td>\n",
       "    </tr>\n",
       "    <tr>\n",
       "      <th>Intersectional-Gender-Career-WMBF</th>\n",
       "      <th>igpt-logit</th>\n",
       "      <td>career</td>\n",
       "      <td>family</td>\n",
       "      <td>white-male</td>\n",
       "      <td>black-female</td>\n",
       "      <td>-0.290541</td>\n",
       "      <td>0.8191</td>\n",
       "      <td>21</td>\n",
       "      <td>20</td>\n",
       "      <td></td>\n",
       "    </tr>\n",
       "    <tr>\n",
       "      <th>Intersectional-Gender-Career-WMWF</th>\n",
       "      <th>igpt-logit</th>\n",
       "      <td>career</td>\n",
       "      <td>family</td>\n",
       "      <td>white-male</td>\n",
       "      <td>white-female</td>\n",
       "      <td>-0.0753726</td>\n",
       "      <td>0.5979</td>\n",
       "      <td>21</td>\n",
       "      <td>20</td>\n",
       "      <td></td>\n",
       "    </tr>\n",
       "    <tr>\n",
       "      <th>Intersectional-Race-WMBM</th>\n",
       "      <th>igpt-logit</th>\n",
       "      <td>white-male</td>\n",
       "      <td>black-male</td>\n",
       "      <td>pleasant</td>\n",
       "      <td>unpleasant</td>\n",
       "      <td>0.199661</td>\n",
       "      <td>0.2646</td>\n",
       "      <td>20</td>\n",
       "      <td>55</td>\n",
       "      <td></td>\n",
       "    </tr>\n",
       "    <tr>\n",
       "      <th>Intersectional-Race-WMBF</th>\n",
       "      <th>igpt-logit</th>\n",
       "      <td>white-male</td>\n",
       "      <td>black-female</td>\n",
       "      <td>pleasant</td>\n",
       "      <td>unpleasant</td>\n",
       "      <td>-0.156517</td>\n",
       "      <td>0.6857</td>\n",
       "      <td>20</td>\n",
       "      <td>55</td>\n",
       "      <td></td>\n",
       "    </tr>\n",
       "    <tr>\n",
       "      <th>Intersectional-Race-WMWF</th>\n",
       "      <th>igpt-logit</th>\n",
       "      <td>white-male</td>\n",
       "      <td>white-female</td>\n",
       "      <td>pleasant</td>\n",
       "      <td>unpleasant</td>\n",
       "      <td>-0.825409</td>\n",
       "      <td>0.9966</td>\n",
       "      <td>20</td>\n",
       "      <td>55</td>\n",
       "      <td></td>\n",
       "    </tr>\n",
       "    <tr>\n",
       "      <th>Intersectional-Gender-Science-WMBM</th>\n",
       "      <th>igpt</th>\n",
       "      <td>science</td>\n",
       "      <td>liberal-arts</td>\n",
       "      <td>white-male</td>\n",
       "      <td>black-male</td>\n",
       "      <td>0.671491</td>\n",
       "      <td>0.0141</td>\n",
       "      <td>21</td>\n",
       "      <td>20</td>\n",
       "      <td>**</td>\n",
       "    </tr>\n",
       "    <tr>\n",
       "      <th>Intersectional-Gender-Science-WMBF</th>\n",
       "      <th>igpt</th>\n",
       "      <td>science</td>\n",
       "      <td>liberal-arts</td>\n",
       "      <td>white-male</td>\n",
       "      <td>black-male</td>\n",
       "      <td>0.671491</td>\n",
       "      <td>0.0151</td>\n",
       "      <td>21</td>\n",
       "      <td>20</td>\n",
       "      <td>**</td>\n",
       "    </tr>\n",
       "    <tr>\n",
       "      <th>Intersectional-Gender-Science-WMWF</th>\n",
       "      <th>igpt</th>\n",
       "      <td>science</td>\n",
       "      <td>liberal-arts</td>\n",
       "      <td>white-male</td>\n",
       "      <td>white-female</td>\n",
       "      <td>-0.373066</td>\n",
       "      <td>0.8821</td>\n",
       "      <td>21</td>\n",
       "      <td>20</td>\n",
       "      <td></td>\n",
       "    </tr>\n",
       "    <tr>\n",
       "      <th>Intersectional-Gender-Career-WMBM</th>\n",
       "      <th>igpt</th>\n",
       "      <td>career</td>\n",
       "      <td>family</td>\n",
       "      <td>white-male</td>\n",
       "      <td>black-male</td>\n",
       "      <td>-0.81919</td>\n",
       "      <td>0.9967</td>\n",
       "      <td>21</td>\n",
       "      <td>20</td>\n",
       "      <td></td>\n",
       "    </tr>\n",
       "    <tr>\n",
       "      <th>Intersectional-Gender-Career-WMBF</th>\n",
       "      <th>igpt</th>\n",
       "      <td>career</td>\n",
       "      <td>family</td>\n",
       "      <td>white-male</td>\n",
       "      <td>black-female</td>\n",
       "      <td>0.216087</td>\n",
       "      <td>0.2468</td>\n",
       "      <td>21</td>\n",
       "      <td>20</td>\n",
       "      <td></td>\n",
       "    </tr>\n",
       "    <tr>\n",
       "      <th>Intersectional-Gender-Career-WMWF</th>\n",
       "      <th>igpt</th>\n",
       "      <td>career</td>\n",
       "      <td>family</td>\n",
       "      <td>white-male</td>\n",
       "      <td>white-female</td>\n",
       "      <td>0.547846</td>\n",
       "      <td>0.034</td>\n",
       "      <td>21</td>\n",
       "      <td>20</td>\n",
       "      <td>**</td>\n",
       "    </tr>\n",
       "    <tr>\n",
       "      <th>Intersectional-Race-WMBM</th>\n",
       "      <th>igpt</th>\n",
       "      <td>white-male</td>\n",
       "      <td>black-male</td>\n",
       "      <td>pleasant</td>\n",
       "      <td>unpleasant</td>\n",
       "      <td>0.87536</td>\n",
       "      <td>0.0018</td>\n",
       "      <td>20</td>\n",
       "      <td>55</td>\n",
       "      <td>***</td>\n",
       "    </tr>\n",
       "    <tr>\n",
       "      <th>Intersectional-Race-WMBF</th>\n",
       "      <th>igpt</th>\n",
       "      <td>white-male</td>\n",
       "      <td>black-female</td>\n",
       "      <td>pleasant</td>\n",
       "      <td>unpleasant</td>\n",
       "      <td>0.826746</td>\n",
       "      <td>0.003</td>\n",
       "      <td>20</td>\n",
       "      <td>55</td>\n",
       "      <td>***</td>\n",
       "    </tr>\n",
       "    <tr>\n",
       "      <th>Intersectional-Race-WMWF</th>\n",
       "      <th>igpt</th>\n",
       "      <td>white-male</td>\n",
       "      <td>white-female</td>\n",
       "      <td>pleasant</td>\n",
       "      <td>unpleasant</td>\n",
       "      <td>-0.794101</td>\n",
       "      <td>0.9954</td>\n",
       "      <td>20</td>\n",
       "      <td>55</td>\n",
       "      <td></td>\n",
       "    </tr>\n",
       "    <tr>\n",
       "      <th>Intersectional-Gender-Science-WMBM</th>\n",
       "      <th>simclr</th>\n",
       "      <td>science</td>\n",
       "      <td>liberal-arts</td>\n",
       "      <td>white-male</td>\n",
       "      <td>black-male</td>\n",
       "      <td>0.780363</td>\n",
       "      <td>0.0047</td>\n",
       "      <td>21</td>\n",
       "      <td>20</td>\n",
       "      <td>***</td>\n",
       "    </tr>\n",
       "    <tr>\n",
       "      <th>Intersectional-Gender-Science-WMBF</th>\n",
       "      <th>simclr</th>\n",
       "      <td>science</td>\n",
       "      <td>liberal-arts</td>\n",
       "      <td>white-male</td>\n",
       "      <td>black-male</td>\n",
       "      <td>0.780363</td>\n",
       "      <td>0.0064</td>\n",
       "      <td>21</td>\n",
       "      <td>20</td>\n",
       "      <td>***</td>\n",
       "    </tr>\n",
       "    <tr>\n",
       "      <th>Intersectional-Gender-Science-WMWF</th>\n",
       "      <th>simclr</th>\n",
       "      <td>science</td>\n",
       "      <td>liberal-arts</td>\n",
       "      <td>white-male</td>\n",
       "      <td>white-female</td>\n",
       "      <td>-0.343482</td>\n",
       "      <td>0.8643</td>\n",
       "      <td>21</td>\n",
       "      <td>20</td>\n",
       "      <td></td>\n",
       "    </tr>\n",
       "    <tr>\n",
       "      <th>Intersectional-Gender-Career-WMBM</th>\n",
       "      <th>simclr</th>\n",
       "      <td>career</td>\n",
       "      <td>family</td>\n",
       "      <td>white-male</td>\n",
       "      <td>black-male</td>\n",
       "      <td>-0.160095</td>\n",
       "      <td>0.6917</td>\n",
       "      <td>21</td>\n",
       "      <td>20</td>\n",
       "      <td></td>\n",
       "    </tr>\n",
       "    <tr>\n",
       "      <th>Intersectional-Gender-Career-WMBF</th>\n",
       "      <th>simclr</th>\n",
       "      <td>career</td>\n",
       "      <td>family</td>\n",
       "      <td>white-male</td>\n",
       "      <td>black-female</td>\n",
       "      <td>0.638052</td>\n",
       "      <td>0.0181</td>\n",
       "      <td>21</td>\n",
       "      <td>20</td>\n",
       "      <td>**</td>\n",
       "    </tr>\n",
       "    <tr>\n",
       "      <th>Intersectional-Gender-Career-WMWF</th>\n",
       "      <th>simclr</th>\n",
       "      <td>career</td>\n",
       "      <td>family</td>\n",
       "      <td>white-male</td>\n",
       "      <td>white-female</td>\n",
       "      <td>0.969361</td>\n",
       "      <td>0.0011</td>\n",
       "      <td>21</td>\n",
       "      <td>20</td>\n",
       "      <td>***</td>\n",
       "    </tr>\n",
       "    <tr>\n",
       "      <th>Intersectional-Race-WMBM</th>\n",
       "      <th>simclr</th>\n",
       "      <td>white-male</td>\n",
       "      <td>black-male</td>\n",
       "      <td>pleasant</td>\n",
       "      <td>unpleasant</td>\n",
       "      <td>-0.20154</td>\n",
       "      <td>0.7346</td>\n",
       "      <td>20</td>\n",
       "      <td>55</td>\n",
       "      <td></td>\n",
       "    </tr>\n",
       "    <tr>\n",
       "      <th>Intersectional-Race-WMBF</th>\n",
       "      <th>simclr</th>\n",
       "      <td>white-male</td>\n",
       "      <td>black-female</td>\n",
       "      <td>pleasant</td>\n",
       "      <td>unpleasant</td>\n",
       "      <td>-0.145548</td>\n",
       "      <td>0.6744</td>\n",
       "      <td>20</td>\n",
       "      <td>55</td>\n",
       "      <td></td>\n",
       "    </tr>\n",
       "    <tr>\n",
       "      <th>Intersectional-Race-WMWF</th>\n",
       "      <th>simclr</th>\n",
       "      <td>white-male</td>\n",
       "      <td>white-female</td>\n",
       "      <td>pleasant</td>\n",
       "      <td>unpleasant</td>\n",
       "      <td>-0.460166</td>\n",
       "      <td>0.9264</td>\n",
       "      <td>20</td>\n",
       "      <td>55</td>\n",
       "      <td></td>\n",
       "    </tr>\n",
       "  </tbody>\n",
       "</table>\n",
       "</div>"
      ],
      "text/plain": [
       "                                                        X             Y  \\\n",
       "Intersectional-Gender-Science-WMBM igpt-logit     science  liberal-arts   \n",
       "Intersectional-Gender-Science-WMBF igpt-logit     science  liberal-arts   \n",
       "Intersectional-Gender-Science-WMWF igpt-logit     science  liberal-arts   \n",
       "Intersectional-Gender-Career-WMBM  igpt-logit      career        family   \n",
       "Intersectional-Gender-Career-WMBF  igpt-logit      career        family   \n",
       "Intersectional-Gender-Career-WMWF  igpt-logit      career        family   \n",
       "Intersectional-Race-WMBM           igpt-logit  white-male    black-male   \n",
       "Intersectional-Race-WMBF           igpt-logit  white-male  black-female   \n",
       "Intersectional-Race-WMWF           igpt-logit  white-male  white-female   \n",
       "Intersectional-Gender-Science-WMBM igpt           science  liberal-arts   \n",
       "Intersectional-Gender-Science-WMBF igpt           science  liberal-arts   \n",
       "Intersectional-Gender-Science-WMWF igpt           science  liberal-arts   \n",
       "Intersectional-Gender-Career-WMBM  igpt            career        family   \n",
       "Intersectional-Gender-Career-WMBF  igpt            career        family   \n",
       "Intersectional-Gender-Career-WMWF  igpt            career        family   \n",
       "Intersectional-Race-WMBM           igpt        white-male    black-male   \n",
       "Intersectional-Race-WMBF           igpt        white-male  black-female   \n",
       "Intersectional-Race-WMWF           igpt        white-male  white-female   \n",
       "Intersectional-Gender-Science-WMBM simclr         science  liberal-arts   \n",
       "Intersectional-Gender-Science-WMBF simclr         science  liberal-arts   \n",
       "Intersectional-Gender-Science-WMWF simclr         science  liberal-arts   \n",
       "Intersectional-Gender-Career-WMBM  simclr          career        family   \n",
       "Intersectional-Gender-Career-WMBF  simclr          career        family   \n",
       "Intersectional-Gender-Career-WMWF  simclr          career        family   \n",
       "Intersectional-Race-WMBM           simclr      white-male    black-male   \n",
       "Intersectional-Race-WMBF           simclr      white-male  black-female   \n",
       "Intersectional-Race-WMWF           simclr      white-male  white-female   \n",
       "\n",
       "                                                        A             B  \\\n",
       "Intersectional-Gender-Science-WMBM igpt-logit  white-male    black-male   \n",
       "Intersectional-Gender-Science-WMBF igpt-logit  white-male    black-male   \n",
       "Intersectional-Gender-Science-WMWF igpt-logit  white-male  white-female   \n",
       "Intersectional-Gender-Career-WMBM  igpt-logit  white-male    black-male   \n",
       "Intersectional-Gender-Career-WMBF  igpt-logit  white-male  black-female   \n",
       "Intersectional-Gender-Career-WMWF  igpt-logit  white-male  white-female   \n",
       "Intersectional-Race-WMBM           igpt-logit    pleasant    unpleasant   \n",
       "Intersectional-Race-WMBF           igpt-logit    pleasant    unpleasant   \n",
       "Intersectional-Race-WMWF           igpt-logit    pleasant    unpleasant   \n",
       "Intersectional-Gender-Science-WMBM igpt        white-male    black-male   \n",
       "Intersectional-Gender-Science-WMBF igpt        white-male    black-male   \n",
       "Intersectional-Gender-Science-WMWF igpt        white-male  white-female   \n",
       "Intersectional-Gender-Career-WMBM  igpt        white-male    black-male   \n",
       "Intersectional-Gender-Career-WMBF  igpt        white-male  black-female   \n",
       "Intersectional-Gender-Career-WMWF  igpt        white-male  white-female   \n",
       "Intersectional-Race-WMBM           igpt          pleasant    unpleasant   \n",
       "Intersectional-Race-WMBF           igpt          pleasant    unpleasant   \n",
       "Intersectional-Race-WMWF           igpt          pleasant    unpleasant   \n",
       "Intersectional-Gender-Science-WMBM simclr      white-male    black-male   \n",
       "Intersectional-Gender-Science-WMBF simclr      white-male    black-male   \n",
       "Intersectional-Gender-Science-WMWF simclr      white-male  white-female   \n",
       "Intersectional-Gender-Career-WMBM  simclr      white-male    black-male   \n",
       "Intersectional-Gender-Career-WMBF  simclr      white-male  black-female   \n",
       "Intersectional-Gender-Career-WMWF  simclr      white-male  white-female   \n",
       "Intersectional-Race-WMBM           simclr        pleasant    unpleasant   \n",
       "Intersectional-Race-WMBF           simclr        pleasant    unpleasant   \n",
       "Intersectional-Race-WMWF           simclr        pleasant    unpleasant   \n",
       "\n",
       "                                                       d       p n_t n_a  sig  \n",
       "Intersectional-Gender-Science-WMBM igpt-logit   0.466482   0.067  21  20    *  \n",
       "Intersectional-Gender-Science-WMBF igpt-logit   0.466482  0.0642  21  20    *  \n",
       "Intersectional-Gender-Science-WMWF igpt-logit   0.270214  0.1903  21  20       \n",
       "Intersectional-Gender-Career-WMBM  igpt-logit   -0.37432  0.8878  21  20       \n",
       "Intersectional-Gender-Career-WMBF  igpt-logit  -0.290541  0.8191  21  20       \n",
       "Intersectional-Gender-Career-WMWF  igpt-logit -0.0753726  0.5979  21  20       \n",
       "Intersectional-Race-WMBM           igpt-logit   0.199661  0.2646  20  55       \n",
       "Intersectional-Race-WMBF           igpt-logit  -0.156517  0.6857  20  55       \n",
       "Intersectional-Race-WMWF           igpt-logit  -0.825409  0.9966  20  55       \n",
       "Intersectional-Gender-Science-WMBM igpt         0.671491  0.0141  21  20   **  \n",
       "Intersectional-Gender-Science-WMBF igpt         0.671491  0.0151  21  20   **  \n",
       "Intersectional-Gender-Science-WMWF igpt        -0.373066  0.8821  21  20       \n",
       "Intersectional-Gender-Career-WMBM  igpt         -0.81919  0.9967  21  20       \n",
       "Intersectional-Gender-Career-WMBF  igpt         0.216087  0.2468  21  20       \n",
       "Intersectional-Gender-Career-WMWF  igpt         0.547846   0.034  21  20   **  \n",
       "Intersectional-Race-WMBM           igpt          0.87536  0.0018  20  55  ***  \n",
       "Intersectional-Race-WMBF           igpt         0.826746   0.003  20  55  ***  \n",
       "Intersectional-Race-WMWF           igpt        -0.794101  0.9954  20  55       \n",
       "Intersectional-Gender-Science-WMBM simclr       0.780363  0.0047  21  20  ***  \n",
       "Intersectional-Gender-Science-WMBF simclr       0.780363  0.0064  21  20  ***  \n",
       "Intersectional-Gender-Science-WMWF simclr      -0.343482  0.8643  21  20       \n",
       "Intersectional-Gender-Career-WMBM  simclr      -0.160095  0.6917  21  20       \n",
       "Intersectional-Gender-Career-WMBF  simclr       0.638052  0.0181  21  20   **  \n",
       "Intersectional-Gender-Career-WMWF  simclr       0.969361  0.0011  21  20  ***  \n",
       "Intersectional-Race-WMBM           simclr       -0.20154  0.7346  20  55       \n",
       "Intersectional-Race-WMBF           simclr      -0.145548  0.6744  20  55       \n",
       "Intersectional-Race-WMWF           simclr      -0.460166  0.9264  20  55       "
      ]
     },
     "execution_count": 16,
     "metadata": {},
     "output_type": "execute_result"
    }
   ],
   "source": [
    "import pandas as pd\n",
    "\n",
    "results_df = pd.DataFrame(results).transpose()\n",
    "results_df.columns = [\"X\", \"Y\", \"A\", \"B\", \"d\", \"p\", \"n_t\", \"n_a\"]\n",
    "for c in results_df.columns[:4]:\n",
    "    results_df[c] = results_df[c].str.split(\"/\").str[-1]\n",
    "results_df[\"sig\"] = \"\"\n",
    "for l in [0.10, 0.05, 0.01]:\n",
    "    results_df.sig[results_df.p < l] += \"*\"\n",
    "results_df[results_df.index.get_level_values(0).str.contains(\"Intersectional\")]"
   ]
  },
  {
   "cell_type": "code",
   "execution_count": 20,
   "metadata": {
    "id": "9x5qXqGrSHSu"
   },
   "outputs": [],
   "source": [
    "# Generate latex table output\n",
    "experiments = (\n",
    "    \"Insect-Flower\",\n",
    "    \"Gender-Science\",\n",
    "    \"Gender_Career\",\n",
    "    \"Skin-Tone\",\n",
    "    \"Race\",\n",
    "    \"Weapon\",\n",
    "    \"Weapon (Modern)\",\n",
    "    \"Native\",\n",
    "    \"Asian\",\n",
    "    \"Weight\",\n",
    "    \"Religion\",\n",
    "    \"Sexuality\",\n",
    "    \"Disability\",\n",
    "    \"Arab-Muslim\",\n",
    "    \"Age\"\n",
    ")\n",
    "latex_df = results_df\n",
    "latex_df.index = latex_df.index.set_names([\"Test\", \"Model\"])\n",
    "latex_df = latex_df.sort_index(level=[\"Test\", \"Model\"])\n",
    "latex_df[\"d\"] = latex_df.d.apply(lambda x: '{0:.2f}'.format(x)).astype(str) + latex_df.sig.astype(str)\n",
    "latex_df = latex_df.drop(columns=[\"sig\"])\n",
    "latex_df.columns = [f\"${col}$\" for col in latex_df.columns]\n",
    "\n",
    "# main results\n",
    "main_experiment = latex_df.index.get_level_values(\"Test\").isin(experiments)\n",
    "intersectional = latex_df.index.get_level_values(\"Test\").str.contains(\"Intersectional\")\n",
    "latex_df[main_experiment & ~intersectional]\\\n",
    "    .drop(columns=[\"$X$\", \"$Y$\", \"$A$\", \"$B$\"]).to_latex('output/results.tex')\n",
    "# intersectional results\n",
    "latex_df[main_experiment & intersectional]\\\n",
    "    .drop(columns=[\"$X$\", \"$Y$\", \"$A$\", \"$B$\"]).to_latex('output/intersectional.tex')\n",
    "# table of iats w/ categories\n",
    "latex_df.droplevel(\"Model\").groupby(\"Test\").head(1)\\\n",
    "    .drop(columns=[\"$d$\", \"$p$\", \"$n_t$\", \"$n_a$\"]).to_latex('output/iats.tex')\n",
    "stimuli = pd.read_csv(\"data/stimuli.csv\")\n",
    "stimuli.dropna(axis=0, subset=[\"Word\", \"Source\"])\\\n",
    "    .drop(columns=\"Collected (N=n)\").set_index([\"IAT\", \"Category\"]).to_latex(\"output/stimuli.tex\")"
   ]
  },
  {
   "cell_type": "markdown",
   "metadata": {
    "id": "WH3YS_ytSHSw"
   },
   "source": [
    "### Detail View"
   ]
  },
  {
   "cell_type": "markdown",
   "metadata": {
    "id": "9ePsWzNWpiTI"
   },
   "source": [
    "#### Weapons"
   ]
  },
  {
   "cell_type": "code",
   "execution_count": null,
   "metadata": {
    "id": "xF-vbLVkWSLo"
   },
   "outputs": [],
   "source": [
    "from ieat.api import test\n",
    "\n",
    "test(\n",
    "    \"data/experiments/weapon/black\",\n",
    "    \"data/experiments/weapon/white\",\n",
    "    \"data/experiments/weapon/tool\",\n",
    "    \"data/experiments/weapon/weapon\",\n",
    "    model_type=\"openai\", \n",
    "    model_size=model_size,\n",
    "    models_dir=models_dir,\n",
    "    clusters_dir=color_clusters_dir,\n",
    "    n_px=n_px\n",
    "#     from_cache=False\n",
    ")"
   ]
  },
  {
   "cell_type": "markdown",
   "metadata": {
    "id": "SbZZ-m6QpiTM"
   },
   "source": [
    "#### Native"
   ]
  },
  {
   "cell_type": "code",
   "execution_count": null,
   "metadata": {
    "id": "wTs4pDDwpiTM"
   },
   "outputs": [],
   "source": [
    "test(\n",
    "    \"data/experiments/native/euro\",\n",
    "    \"data/experiments/native/native\",\n",
    "    \"data/experiments/native/us\",\n",
    "    \"data/experiments/native/world\",\n",
    "    model_type=\"openai\", \n",
    "    model_size=model_size,\n",
    "    models_dir=models_dir,\n",
    "    clusters_dir=color_clusters_dir,\n",
    "    n_px=n_px\n",
    "#     from_cache=False\n",
    ")"
   ]
  },
  {
   "cell_type": "markdown",
   "metadata": {
    "id": "qyrLx0cmpiTO"
   },
   "source": [
    "#### Asian"
   ]
  },
  {
   "cell_type": "code",
   "execution_count": null,
   "metadata": {
    "id": "_nEjOV-QpiTP"
   },
   "outputs": [],
   "source": [
    "test(\n",
    "    \"data/experiments/asian/european-american\",\n",
    "    \"data/experiments/asian/asian-american\",\n",
    "    \"data/experiments/asian/american\",\n",
    "    \"data/experiments/asian/foreign\",\n",
    "    model_type=\"openai\", \n",
    "    model_size=model_size,\n",
    "    models_dir=models_dir,\n",
    "    clusters_dir=color_clusters_dir,\n",
    "    n_px=n_px\n",
    "#     from_cache=False\n",
    ")"
   ]
  },
  {
   "cell_type": "markdown",
   "metadata": {
    "id": "O8Wpc7vPxvhZ"
   },
   "source": [
    "#### Insect-Flower"
   ]
  },
  {
   "cell_type": "code",
   "execution_count": null,
   "metadata": {
    "id": "y_dzK41F6Hso"
   },
   "outputs": [],
   "source": [
    "from ieat.api import test\n",
    "\n",
    "test(\n",
    "    \"data/experiments/insect-flower/flower\",\n",
    "    \"data/experiments/insect-flower/insect\",\n",
    "    \"data/experiments/valence/pleasant\",\n",
    "    \"data/experiments/valence/unpleasant\",\n",
    "    model_type=\"openai\", \n",
    "    model_size=model_size,\n",
    "    models_dir=models_dir,\n",
    "    clusters_dir=color_clusters_dir,\n",
    "    n_px=n_px,\n",
    "#     from_cache=False,\n",
    "    verbose=True\n",
    ")"
   ]
  },
  {
   "cell_type": "markdown",
   "metadata": {
    "id": "ZalmenA0xvhb"
   },
   "source": [
    "#### Weight"
   ]
  },
  {
   "cell_type": "code",
   "execution_count": null,
   "metadata": {
    "id": "ziXl8gaWxvhc"
   },
   "outputs": [],
   "source": [
    "from ieat.api import test\n",
    "\n",
    "test(\n",
    "    \"data/experiments/weight/thin\",\n",
    "    \"data/experiments/weight/fat\",\n",
    "    \"data/experiments/valence/pleasant\",\n",
    "    \"data/experiments/valence/unpleasant\",\n",
    "    model_type=\"openai\", \n",
    "    model_size=model_size,\n",
    "    models_dir=models_dir,\n",
    "    clusters_dir=color_clusters_dir,\n",
    "    n_px=n_px,\n",
    "#     from_cache=False,\n",
    "    verbose=True\n",
    ")"
   ]
  },
  {
   "cell_type": "markdown",
   "metadata": {
    "id": "7gYnQK4vxvhe"
   },
   "source": [
    "#### Skin-Tone"
   ]
  },
  {
   "cell_type": "code",
   "execution_count": null,
   "metadata": {
    "id": "VFg-zm4Ixvhe"
   },
   "outputs": [],
   "source": [
    "from ieat.api import test\n",
    "\n",
    "test(\n",
    "    \"data/experiments/skin-tone/light\",\n",
    "    \"data/experiments/skin-tone/dark\",\n",
    "    \"data/experiments/valence/pleasant\",\n",
    "    \"data/experiments/valence/unpleasant\",\n",
    "    model_type=\"openai\", \n",
    "    model_size=model_size,\n",
    "    models_dir=models_dir,\n",
    "    clusters_dir=color_clusters_dir,\n",
    "    n_px=n_px,\n",
    "#     from_cache=False,\n",
    "    verbose=True\n",
    ")"
   ]
  },
  {
   "cell_type": "markdown",
   "metadata": {
    "id": "kqoUJ9_oxvhh"
   },
   "source": [
    "#### Disability"
   ]
  },
  {
   "cell_type": "code",
   "execution_count": null,
   "metadata": {
    "id": "nLLGZcCRxvhh"
   },
   "outputs": [],
   "source": [
    "from ieat.api import test\n",
    "\n",
    "test(\n",
    "    \"data/experiments/disabled/disabled\",\n",
    "    \"data/experiments/disabled/abled\",\n",
    "    \"data/experiments/valence/pleasant\",\n",
    "    \"data/experiments/valence/unpleasant\",\n",
    "    model_type=\"openai\", \n",
    "    model_size=model_size,\n",
    "    models_dir=models_dir,\n",
    "    clusters_dir=color_clusters_dir,\n",
    "    n_px=n_px,\n",
    "#     from_cache=False,\n",
    "    verbose=True\n",
    ")"
   ]
  },
  {
   "cell_type": "markdown",
   "metadata": {
    "id": "VX-5Fpk2xvhl"
   },
   "source": [
    "#### Presidents"
   ]
  },
  {
   "cell_type": "code",
   "execution_count": null,
   "metadata": {
    "id": "qPYAHFFGxvhm"
   },
   "outputs": [],
   "source": [
    "from ieat.api import test\n",
    "\n",
    "test(\n",
    "    \"data/experiments/presidents/trump\",\n",
    "    \"data/experiments/presidents/kennedy\",\n",
    "    \"data/experiments/valence/pleasant\",\n",
    "    \"data/experiments/valence/unpleasant\",\n",
    "    model_type=\"openai\", \n",
    "    model_size=model_size,\n",
    "    models_dir=models_dir,\n",
    "    clusters_dir=color_clusters_dir,\n",
    "    n_px=n_px,\n",
    "#     from_cache=False,\n",
    "    verbose=True\n",
    ")"
   ]
  },
  {
   "cell_type": "code",
   "execution_count": null,
   "metadata": {
    "id": "zqSZmD4Rxvho"
   },
   "outputs": [],
   "source": [
    "from ieat.api import test\n",
    "\n",
    "test(\n",
    "    \"data/experiments/presidents/trump\",\n",
    "    \"data/experiments/presidents/clinton\",\n",
    "    \"data/experiments/valence/pleasant\",\n",
    "    \"data/experiments/valence/unpleasant\",\n",
    "    model_type=\"openai\", \n",
    "    model_size=model_size,\n",
    "    models_dir=models_dir,\n",
    "    clusters_dir=color_clusters_dir,\n",
    "    n_px=n_px,\n",
    "#     from_cache=False,\n",
    "    verbose=True\n",
    ")"
   ]
  },
  {
   "cell_type": "code",
   "execution_count": null,
   "metadata": {
    "id": "L6HNE0bvxvhq"
   },
   "outputs": [],
   "source": [
    "from ieat.api import test\n",
    "\n",
    "test(\n",
    "    \"data/experiments/presidents/trump\",\n",
    "    \"data/experiments/presidents/bush\",\n",
    "    \"data/experiments/valence/pleasant\",\n",
    "    \"data/experiments/valence/unpleasant\",\n",
    "    model_type=\"openai\", \n",
    "    model_size=model_size,\n",
    "    models_dir=models_dir,\n",
    "    clusters_dir=color_clusters_dir,\n",
    "    n_px=n_px,\n",
    "#     from_cache=False,\n",
    "    verbose=True\n",
    ")"
   ]
  },
  {
   "cell_type": "code",
   "execution_count": null,
   "metadata": {
    "id": "oTOxt8Y5xvhs"
   },
   "outputs": [],
   "source": [
    "from ieat.api import test\n",
    "\n",
    "test(\n",
    "    \"data/experiments/presidents/trump\",\n",
    "    \"data/experiments/presidents/lincoln\",\n",
    "    \"data/experiments/valence/pleasant\",\n",
    "    \"data/experiments/valence/unpleasant\",\n",
    "    model_type=\"openai\", \n",
    "    model_size=model_size,\n",
    "    models_dir=models_dir,\n",
    "    clusters_dir=color_clusters_dir,\n",
    "    n_px=n_px,\n",
    "#     from_cache=False,\n",
    "    verbose=True\n",
    ")"
   ]
  },
  {
   "cell_type": "markdown",
   "metadata": {
    "id": "ErIbgFMXxvhu"
   },
   "source": [
    "#### Religion"
   ]
  },
  {
   "cell_type": "code",
   "execution_count": null,
   "metadata": {
    "id": "VvAe-DuUxvhu"
   },
   "outputs": [],
   "source": [
    "from ieat.api import test\n",
    "\n",
    "test(\n",
    "    \"data/experiments/religion/christianity\",\n",
    "    \"data/experiments/religion/judaism\",\n",
    "    \"data/experiments/valence/pleasant\",\n",
    "    \"data/experiments/valence/unpleasant\",\n",
    "    model_type=\"openai\", \n",
    "    model_size=model_size,\n",
    "    models_dir=models_dir,\n",
    "    clusters_dir=color_clusters_dir,\n",
    "    n_px=n_px,\n",
    "#     from_cache=False,\n",
    "    verbose=True\n",
    ")"
   ]
  },
  {
   "cell_type": "markdown",
   "metadata": {
    "id": "gt3GfXoYxvhw"
   },
   "source": [
    "#### Gender-Science"
   ]
  },
  {
   "cell_type": "code",
   "execution_count": null,
   "metadata": {
    "id": "2zs-M-ezxvhx"
   },
   "outputs": [],
   "source": [
    "from ieat.api import test\n",
    "\n",
    "test(\n",
    "    \"data/experiments/gender/science\",\n",
    "    \"data/experiments/gender/liberal-arts\",\n",
    "    \"data/experiments/gender/male\",\n",
    "    \"data/experiments/gender/female\",\n",
    "    model_type=\"openai\", \n",
    "    model_size=model_size,\n",
    "    models_dir=models_dir,\n",
    "    clusters_dir=color_clusters_dir,\n",
    "    n_px=n_px,\n",
    "#     from_cache=False,\n",
    "    verbose=True\n",
    ")"
   ]
  },
  {
   "cell_type": "markdown",
   "metadata": {
    "id": "BXbraCTvxvhy"
   },
   "source": [
    "#### Gender-Career"
   ]
  },
  {
   "cell_type": "code",
   "execution_count": null,
   "metadata": {
    "id": "wmICFKRhxvhz"
   },
   "outputs": [],
   "source": [
    "from ieat.api import test\n",
    "\n",
    "test(\n",
    "    \"data/experiments/gender/career\",\n",
    "    \"data/experiments/gender/family\",\n",
    "    \"data/experiments/gender/male\",\n",
    "    \"data/experiments/gender/female\",\n",
    "    model_type=\"openai\", \n",
    "    model_size=model_size,\n",
    "    models_dir=models_dir,\n",
    "    clusters_dir=color_clusters_dir,\n",
    "    n_px=n_px,\n",
    "#     from_cache=False,\n",
    "    verbose=True\n",
    ")"
   ]
  },
  {
   "cell_type": "markdown",
   "metadata": {
    "id": "_BI1Gxc4xvh1"
   },
   "source": [
    "#### Sexuality"
   ]
  },
  {
   "cell_type": "code",
   "execution_count": null,
   "metadata": {
    "id": "6qhiTy3Rxvh2"
   },
   "outputs": [],
   "source": [
    "from ieat.api import test\n",
    "\n",
    "test(\n",
    "    \"data/experiments/sexuality/gay\",\n",
    "    \"data/experiments/sexuality/straight\",\n",
    "    \"data/experiments/valence/pleasant\",\n",
    "    \"data/experiments/valence/unpleasant\",\n",
    "    model_type=\"openai\", \n",
    "    model_size=model_size,\n",
    "    models_dir=models_dir,\n",
    "    clusters_dir=color_clusters_dir,\n",
    "    n_px=n_px,\n",
    "#     from_cache=False,\n",
    "    verbose=True\n",
    ")"
   ]
  },
  {
   "cell_type": "markdown",
   "metadata": {
    "id": "7VIIIFfpxvh3"
   },
   "source": [
    "#### Race"
   ]
  },
  {
   "cell_type": "code",
   "execution_count": null,
   "metadata": {
    "id": "fSuQzadOxvh4"
   },
   "outputs": [],
   "source": [
    "from ieat.api import test\n",
    "\n",
    "test(\n",
    "    \"data/experiments/race/african-american\",\n",
    "    \"data/experiments/race/european-american\",\n",
    "    \"data/experiments/valence/pleasant\",\n",
    "    \"data/experiments/valence/unpleasant\",\n",
    "    model_type=\"openai\", \n",
    "    model_size=model_size,\n",
    "    models_dir=models_dir,\n",
    "    clusters_dir=color_clusters_dir,\n",
    "    n_px=n_px,\n",
    "#     from_cache=False,\n",
    "    verbose=True\n",
    ")"
   ]
  },
  {
   "cell_type": "markdown",
   "metadata": {
    "id": "xA_AwxiKxvh5"
   },
   "source": [
    "#### Arab-Muslim"
   ]
  },
  {
   "cell_type": "code",
   "execution_count": null,
   "metadata": {
    "id": "dAvppwCJxvh6"
   },
   "outputs": [],
   "source": [
    "from ieat.api import test\n",
    "\n",
    "test(\n",
    "    \"data/experiments/arab-muslim/other-people\",\n",
    "    \"data/experiments/arab-muslim/arab-muslim\",\n",
    "    \"data/experiments/valence/pleasant\",\n",
    "    \"data/experiments/valence/unpleasant\",\n",
    "    model_type=\"openai\", \n",
    "    model_size=model_size,\n",
    "    models_dir=models_dir,\n",
    "    clusters_dir=color_clusters_dir,\n",
    "    n_px=n_px,\n",
    "#     from_cache=False,\n",
    "    verbose=True\n",
    ")"
   ]
  },
  {
   "cell_type": "markdown",
   "metadata": {
    "id": "R-fdCFqQxvh8"
   },
   "source": [
    "#### Age"
   ]
  },
  {
   "cell_type": "code",
   "execution_count": null,
   "metadata": {
    "id": "lVB-Wne_xvh8"
   },
   "outputs": [],
   "source": [
    "from ieat.api import test\n",
    "\n",
    "test(\n",
    "    \"data/experiments/age/young\",\n",
    "    \"data/experiments/age/old\",\n",
    "    \"data/experiments/valence/pleasant\",\n",
    "    \"data/experiments/valence/unpleasant\",\n",
    "    model_type=\"openai\", \n",
    "    model_size=model_size,\n",
    "    models_dir=models_dir,\n",
    "    clusters_dir=color_clusters_dir,\n",
    "    n_px=n_px,\n",
    "#     from_cache=False,\n",
    "    verbose=True\n",
    ")"
   ]
  },
  {
   "cell_type": "markdown",
   "metadata": {
    "id": "SpKVucUpxvh-"
   },
   "source": [
    "### Download Cached Embeddings"
   ]
  },
  {
   "cell_type": "code",
   "execution_count": null,
   "metadata": {
    "id": "EfMcw700xvh-"
   },
   "outputs": [],
   "source": [
    "# to download from colab\n",
    "from google.colab import files\n",
    "\n",
    "!zip -r embeddings_colab.zip embeddings\n",
    "files.download(\"embeddings_colab.zip\")"
   ]
  },
  {
   "cell_type": "code",
   "execution_count": null,
   "metadata": {
    "id": "GnG7quNVxviA"
   },
   "outputs": [],
   "source": []
  }
 ],
 "metadata": {
  "colab": {
   "collapsed_sections": [],
   "machine_shape": "hm",
   "name": "Image-GPT-Bias-HuggingFace.ipynb",
   "provenance": [],
   "toc_visible": true
  },
  "kernelspec": {
   "display_name": "Python 3",
   "language": "python",
   "name": "python3"
  },
  "language_info": {
   "codemirror_mode": {
    "name": "ipython",
    "version": 3
   },
   "file_extension": ".py",
   "mimetype": "text/x-python",
   "name": "python",
   "nbconvert_exporter": "python",
   "pygments_lexer": "ipython3",
   "version": "3.8.5"
  },
  "require": {
   "paths": {
    "buttons.colvis": "https://cdn.datatables.net/buttons/1.5.6/js/buttons.colVis.min",
    "buttons.flash": "https://cdn.datatables.net/buttons/1.5.6/js/buttons.flash.min",
    "buttons.html5": "https://cdn.datatables.net/buttons/1.5.6/js/buttons.html5.min",
    "buttons.print": "https://cdn.datatables.net/buttons/1.5.6/js/buttons.print.min",
    "chartjs": "https://cdnjs.cloudflare.com/ajax/libs/Chart.js/2.8.0/Chart",
    "d3": "https://d3js.org/d3.v5.min",
    "d3-array": "https://d3js.org/d3-array.v2.min",
    "datatables.net": "https://cdn.datatables.net/1.10.18/js/jquery.dataTables",
    "datatables.net-buttons": "https://cdn.datatables.net/buttons/1.5.6/js/dataTables.buttons.min",
    "datatables.responsive": "https://cdn.datatables.net/responsive/2.2.2/js/dataTables.responsive.min",
    "datatables.scroller": "https://cdn.datatables.net/scroller/2.0.0/js/dataTables.scroller.min",
    "datatables.select": "https://cdn.datatables.net/select/1.3.0/js/dataTables.select.min",
    "jszip": "https://cdnjs.cloudflare.com/ajax/libs/jszip/2.5.0/jszip.min",
    "moment": "https://cdnjs.cloudflare.com/ajax/libs/moment.js/2.8.0/moment",
    "pdfmake": "https://cdnjs.cloudflare.com/ajax/libs/pdfmake/0.1.36/pdfmake.min",
    "vfsfonts": "https://cdnjs.cloudflare.com/ajax/libs/pdfmake/0.1.36/vfs_fonts"
   },
   "shim": {
    "buttons.colvis": {
     "deps": [
      "jszip",
      "datatables.net-buttons"
     ]
    },
    "buttons.flash": {
     "deps": [
      "jszip",
      "datatables.net-buttons"
     ]
    },
    "buttons.html5": {
     "deps": [
      "jszip",
      "datatables.net-buttons"
     ]
    },
    "buttons.print": {
     "deps": [
      "jszip",
      "datatables.net-buttons"
     ]
    },
    "chartjs": {
     "deps": [
      "moment"
     ]
    },
    "datatables.net": {
     "exports": "$.fn.dataTable"
    },
    "datatables.net-buttons": {
     "deps": [
      "datatables.net"
     ]
    },
    "pdfmake": {
     "deps": [
      "datatables.net"
     ]
    },
    "vfsfonts": {
     "deps": [
      "datatables.net"
     ]
    }
   }
  }
 },
 "nbformat": 4,
 "nbformat_minor": 1
}
