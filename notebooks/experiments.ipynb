{
 "cells": [
  {
   "cell_type": "markdown",
   "metadata": {
    "colab_type": "text",
    "id": "P9tObiU-qVgv"
   },
   "source": [
    "[![Open In Colab](https://colab.research.google.com/assets/colab-badge.svg)](https://colab.research.google.com/github/ryansteed/image-gpt-bias/blob/master/notebooks/experiments.ipynb)\n",
    "\n",
    "# Image GPT Bias\n",
    "**Image Embedding Association Test**\n",
    "\n",
    "Ryan Steed\n",
    "\n",
    "This script adapted from https://colab.research.google.com/github/apeguero1/image-gpt/blob/master/Transformers_Image_GPT.ipynb.\n"
   ]
  },
  {
   "cell_type": "code",
   "execution_count": 1,
   "metadata": {
    "colab": {},
    "colab_type": "code",
    "id": "lHXoubXWpiSv"
   },
   "outputs": [
    {
     "name": "stdout",
     "output_type": "stream",
     "text": [
      "/Users/steed/caliskan/git/image-gpt-bias\n"
     ]
    }
   ],
   "source": [
    "import sys\n",
    "import os\n",
    "sys.path.insert(0, os.path.abspath('..'))\n",
    "\n",
    "%load_ext autoreload\n",
    "%autoreload 2\n",
    "\n",
    "%cd /Users/steed/caliskan/git/image-gpt-bias"
   ]
  },
  {
   "cell_type": "markdown",
   "metadata": {
    "colab_type": "text",
    "id": "OoWYiUzT_lLs"
   },
   "source": [
    "## Download Model"
   ]
  },
  {
   "cell_type": "code",
   "execution_count": null,
   "metadata": {
    "colab": {
     "base_uri": "https://localhost:8080/",
     "height": 71
    },
    "colab_type": "code",
    "id": "DzJbEWC6Vogc",
    "outputId": "5d6d0ab9-e839-4acc-baba-c076fb160315"
   },
   "outputs": [],
   "source": [
    "!nvidia-smi #OpenAI says you need 16GB GPU for the large model, but it may work if you lower n_sub_batch on the others."
   ]
  },
  {
   "cell_type": "code",
   "execution_count": null,
   "metadata": {
    "colab": {
     "base_uri": "https://localhost:8080/",
     "height": 51
    },
    "colab_type": "code",
    "id": "WkPOYJsCTaUb",
    "outputId": "a240ec3a-1406-4ee4-a532-3623aa608728"
   },
   "outputs": [],
   "source": [
    "import urllib\n",
    "\n",
    "# don't share these to Github or elsewhere!\n",
    "u = \"your_username\"\n",
    "p = urllib.parse.quote(\"your_password\")\n",
    "!git clone --recurse-submodules -j8 https://$u:$p@github.com/$u/image-gpt-bias.git\n",
    "%cd image-gpt-bias"
   ]
  },
  {
   "cell_type": "code",
   "execution_count": null,
   "metadata": {
    "colab": {
     "base_uri": "https://localhost:8080/",
     "height": 1000
    },
    "colab_type": "code",
    "id": "BIOr3wBHs955",
    "outputId": "623b4b15-afe0-4d0b-e0c5-175b8406e41e"
   },
   "outputs": [],
   "source": [
    "# note - you may need to restart the kernel for these installations to take effect\n",
    "!pip install -e .\n",
    "!pip install -e weat"
   ]
  },
  {
   "cell_type": "code",
   "execution_count": 2,
   "metadata": {
    "colab": {},
    "colab_type": "code",
    "id": "e0DcaUYv8LYf"
   },
   "outputs": [],
   "source": [
    "model_sizes = [\"s\", \"m\", \"l\"] #small medium large, xl not available\n",
    "model_size = \"s\"\n",
    "models_dir = \"models\"\n",
    "color_clusters_dir = \"clusters\"\n",
    "n_px = 32"
   ]
  },
  {
   "cell_type": "code",
   "execution_count": null,
   "metadata": {
    "colab": {
     "base_uri": "https://localhost:8080/",
     "height": 1000
    },
    "colab_type": "code",
    "id": "ylcjIJcwXsFw",
    "outputId": "9e29ffa5-e640-4726-80cb-ee6c9fd2f7df"
   },
   "outputs": [],
   "source": [
    "# download the model - skip if already downloaded\n",
    "!python image-gpt/download.py --model {model_size} --ckpt 1000000 --clusters --download_dir {models_dir}/{model_size}\n",
    "!python image-gpt/download.py --clusters --download_dir {color_clusters_dir}"
   ]
  },
  {
   "cell_type": "markdown",
   "metadata": {
    "colab_type": "text",
    "id": "fJcpjSByxvhQ"
   },
   "source": [
    "## IATs"
   ]
  },
  {
   "cell_type": "markdown",
   "metadata": {},
   "source": [
    "### Quick Summary"
   ]
  },
  {
   "cell_type": "code",
   "execution_count": 25,
   "metadata": {},
   "outputs": [
    {
     "name": "stdout",
     "output_type": "stream",
     "text": [
      "Running Insect-Flower\n"
     ]
    },
    {
     "name": "stderr",
     "output_type": "stream",
     "text": [
      "2020-09-18 16:54:36,264 [79688] WARNING  root:202: [JupyterRequire] Equalities contributed 1/924 to p-value\n"
     ]
    },
    {
     "name": "stdout",
     "output_type": "stream",
     "text": [
      "Running Weapon\n"
     ]
    },
    {
     "name": "stderr",
     "output_type": "stream",
     "text": [
      "2020-09-18 16:54:36,397 [79688] WARNING  root:202: [JupyterRequire] Equalities contributed 1/924 to p-value\n",
      "2020-09-18 16:54:36,521 [79688] WARNING  root:202: [JupyterRequire] Equalities contributed 1/924 to p-value\n",
      "2020-09-18 16:54:36,642 [79688] WARNING  root:202: [JupyterRequire] Equalities contributed 1/924 to p-value\n"
     ]
    },
    {
     "name": "stdout",
     "output_type": "stream",
     "text": [
      "Running Weapon (Modern)\n"
     ]
    },
    {
     "name": "stderr",
     "output_type": "stream",
     "text": [
      "2020-09-18 16:54:36,768 [79688] WARNING  root:202: [JupyterRequire] Equalities contributed 1/924 to p-value\n",
      "2020-09-18 16:54:36,891 [79688] WARNING  root:202: [JupyterRequire] Equalities contributed 1/924 to p-value\n",
      "2020-09-18 16:54:37,084 [79688] WARNING  root:202: [JupyterRequire] Equalities contributed 1/10000 to p-value\n"
     ]
    },
    {
     "name": "stdout",
     "output_type": "stream",
     "text": [
      "Running Native\n"
     ]
    },
    {
     "name": "stderr",
     "output_type": "stream",
     "text": [
      "2020-09-18 16:54:37,715 [79688] WARNING  root:202: [JupyterRequire] Equalities contributed 1/924 to p-value\n"
     ]
    },
    {
     "name": "stdout",
     "output_type": "stream",
     "text": [
      "Running Asian\n"
     ]
    },
    {
     "name": "stderr",
     "output_type": "stream",
     "text": [
      "2020-09-18 16:54:37,840 [79688] WARNING  root:202: [JupyterRequire] Equalities contributed 1/924 to p-value\n",
      "2020-09-18 16:54:37,959 [79688] WARNING  root:202: [JupyterRequire] Equalities contributed 1/924 to p-value\n"
     ]
    },
    {
     "name": "stdout",
     "output_type": "stream",
     "text": [
      "Running Weight\n"
     ]
    },
    {
     "name": "stderr",
     "output_type": "stream",
     "text": [
      "2020-09-18 16:54:38,713 [79688] WARNING  root:202: [JupyterRequire] Equalities contributed 1/3432 to p-value\n"
     ]
    },
    {
     "name": "stdout",
     "output_type": "stream",
     "text": [
      "Running Skin-Tone\n"
     ]
    },
    {
     "name": "stderr",
     "output_type": "stream",
     "text": [
      "2020-09-18 16:54:38,871 [79688] WARNING  root:202: [JupyterRequire] Equalities contributed 1/3432 to p-value\n",
      "2020-09-18 16:54:39,025 [79688] WARNING  root:202: [JupyterRequire] Equalities contributed 1/3432 to p-value\n",
      "2020-09-18 16:54:39,156 [79688] WARNING  root:202: [JupyterRequire] Equalities contributed 1/70 to p-value\n"
     ]
    },
    {
     "name": "stdout",
     "output_type": "stream",
     "text": [
      "Running Disability\n"
     ]
    },
    {
     "name": "stderr",
     "output_type": "stream",
     "text": [
      "2020-09-18 16:54:39,295 [79688] WARNING  root:202: [JupyterRequire] Equalities contributed 1/70 to p-value\n",
      "2020-09-18 16:54:39,427 [79688] WARNING  root:202: [JupyterRequire] Equalities contributed 1/70 to p-value\n",
      "2020-09-18 16:54:39,560 [79688] WARNING  root:202: [JupyterRequire] Equalities contributed 1/924 to p-value\n"
     ]
    },
    {
     "name": "stdout",
     "output_type": "stream",
     "text": [
      "Running President - Kennedy vs. Trump\n"
     ]
    },
    {
     "name": "stderr",
     "output_type": "stream",
     "text": [
      "2020-09-18 16:54:39,713 [79688] WARNING  root:202: [JupyterRequire] Equalities contributed 1/924 to p-value\n",
      "2020-09-18 16:54:39,848 [79688] WARNING  root:202: [JupyterRequire] Equalities contributed 1/924 to p-value\n",
      "2020-09-18 16:54:39,981 [79688] WARNING  root:202: [JupyterRequire] Equalities contributed 1/924 to p-value\n"
     ]
    },
    {
     "name": "stdout",
     "output_type": "stream",
     "text": [
      "Running President - B. Clinton vs. Trump\n"
     ]
    },
    {
     "name": "stderr",
     "output_type": "stream",
     "text": [
      "2020-09-18 16:54:40,123 [79688] WARNING  root:202: [JupyterRequire] Equalities contributed 1/924 to p-value\n",
      "2020-09-18 16:54:40,258 [79688] WARNING  root:202: [JupyterRequire] Equalities contributed 1/924 to p-value\n",
      "2020-09-18 16:54:40,389 [79688] WARNING  root:202: [JupyterRequire] Equalities contributed 1/924 to p-value\n"
     ]
    },
    {
     "name": "stdout",
     "output_type": "stream",
     "text": [
      "Running President - Bush vs. Trump\n"
     ]
    },
    {
     "name": "stderr",
     "output_type": "stream",
     "text": [
      "2020-09-18 16:54:40,532 [79688] WARNING  root:202: [JupyterRequire] Equalities contributed 1/924 to p-value\n",
      "2020-09-18 16:54:40,670 [79688] WARNING  root:202: [JupyterRequire] Equalities contributed 1/924 to p-value\n",
      "2020-09-18 16:54:40,804 [79688] WARNING  root:202: [JupyterRequire] Equalities contributed 1/924 to p-value\n"
     ]
    },
    {
     "name": "stdout",
     "output_type": "stream",
     "text": [
      "Running President - Lincoln vs. Trump\n"
     ]
    },
    {
     "name": "stderr",
     "output_type": "stream",
     "text": [
      "2020-09-18 16:54:40,949 [79688] WARNING  root:202: [JupyterRequire] Equalities contributed 1/924 to p-value\n",
      "2020-09-18 16:54:41,086 [79688] WARNING  root:202: [JupyterRequire] Equalities contributed 1/924 to p-value\n",
      "2020-09-18 16:54:41,234 [79688] WARNING  root:202: [JupyterRequire] Equalities contributed 1/3432 to p-value\n"
     ]
    },
    {
     "name": "stdout",
     "output_type": "stream",
     "text": [
      "Running Religion\n"
     ]
    },
    {
     "name": "stderr",
     "output_type": "stream",
     "text": [
      "2020-09-18 16:54:41,390 [79688] WARNING  root:202: [JupyterRequire] Equalities contributed 1/3432 to p-value\n",
      "2020-09-18 16:54:41,542 [79688] WARNING  root:202: [JupyterRequire] Equalities contributed 1/3432 to p-value\n"
     ]
    },
    {
     "name": "stdout",
     "output_type": "stream",
     "text": [
      "Running Sexuality\n"
     ]
    },
    {
     "name": "stderr",
     "output_type": "stream",
     "text": [
      "2020-09-18 16:54:42,351 [79688] WARNING  root:202: [JupyterRequire] Equalities contributed 1/924 to p-value\n"
     ]
    },
    {
     "name": "stdout",
     "output_type": "stream",
     "text": [
      "Running Race\n"
     ]
    },
    {
     "name": "stderr",
     "output_type": "stream",
     "text": [
      "2020-09-18 16:54:42,498 [79688] WARNING  root:202: [JupyterRequire] Equalities contributed 1/924 to p-value\n",
      "2020-09-18 16:54:42,644 [79688] WARNING  root:202: [JupyterRequire] Equalities contributed 1/924 to p-value\n"
     ]
    },
    {
     "name": "stdout",
     "output_type": "stream",
     "text": [
      "Running Arab-Muslim\n"
     ]
    },
    {
     "name": "stderr",
     "output_type": "stream",
     "text": [
      "2020-09-18 16:54:43,436 [79688] WARNING  root:202: [JupyterRequire] Equalities contributed 1/924 to p-value\n"
     ]
    },
    {
     "name": "stdout",
     "output_type": "stream",
     "text": [
      "Running Age\n"
     ]
    },
    {
     "name": "stderr",
     "output_type": "stream",
     "text": [
      "2020-09-18 16:54:43,585 [79688] WARNING  root:202: [JupyterRequire] Equalities contributed 1/924 to p-value\n",
      "2020-09-18 16:54:43,736 [79688] WARNING  root:202: [JupyterRequire] Equalities contributed 1/924 to p-value\n"
     ]
    },
    {
     "name": "stdout",
     "output_type": "stream",
     "text": [
      "Running Gender-Science\n",
      "Running Gender-Career\n"
     ]
    }
   ],
   "source": [
    "from ieat.api import test_all\n",
    "\n",
    "import pandas as pd\n",
    "import numpy as np\n",
    "\n",
    "results = test_all(\n",
    "    model_types=[\"logit\", \"sent\", \"openai\"],\n",
    "    model_size=model_size,\n",
    "    models_dir=models_dir,\n",
    "    clusters_dir=color_clusters_dir,\n",
    "    n_px=n_px\n",
    ")"
   ]
  },
  {
   "cell_type": "code",
   "execution_count": 26,
   "metadata": {},
   "outputs": [
    {
     "data": {
      "text/html": [
       "<div>\n",
       "<style scoped>\n",
       "    .dataframe tbody tr th:only-of-type {\n",
       "        vertical-align: middle;\n",
       "    }\n",
       "\n",
       "    .dataframe tbody tr th {\n",
       "        vertical-align: top;\n",
       "    }\n",
       "\n",
       "    .dataframe thead th {\n",
       "        text-align: right;\n",
       "    }\n",
       "</style>\n",
       "<table border=\"1\" class=\"dataframe\">\n",
       "  <thead>\n",
       "    <tr style=\"text-align: right;\">\n",
       "      <th></th>\n",
       "      <th></th>\n",
       "      <th>X</th>\n",
       "      <th>Y</th>\n",
       "      <th>A</th>\n",
       "      <th>B</th>\n",
       "      <th>effect</th>\n",
       "      <th>p</th>\n",
       "      <th>n_target</th>\n",
       "      <th>n_attr</th>\n",
       "      <th>sig</th>\n",
       "    </tr>\n",
       "  </thead>\n",
       "  <tbody>\n",
       "    <tr>\n",
       "      <th rowspan=\"3\" valign=\"top\">Insect-Flower</th>\n",
       "      <th>logit</th>\n",
       "      <td>flower</td>\n",
       "      <td>insect</td>\n",
       "      <td>pleasant</td>\n",
       "      <td>unpleasant</td>\n",
       "      <td>-0.366768</td>\n",
       "      <td>0.9378</td>\n",
       "      <td>35</td>\n",
       "      <td>55</td>\n",
       "      <td></td>\n",
       "    </tr>\n",
       "    <tr>\n",
       "      <th>sent</th>\n",
       "      <td>flower</td>\n",
       "      <td>insect</td>\n",
       "      <td>pleasant</td>\n",
       "      <td>unpleasant</td>\n",
       "      <td>-0.977003</td>\n",
       "      <td>1</td>\n",
       "      <td>35</td>\n",
       "      <td>55</td>\n",
       "      <td></td>\n",
       "    </tr>\n",
       "    <tr>\n",
       "      <th>openai</th>\n",
       "      <td>flower</td>\n",
       "      <td>insect</td>\n",
       "      <td>pleasant</td>\n",
       "      <td>unpleasant</td>\n",
       "      <td>0.279223</td>\n",
       "      <td>0.1199</td>\n",
       "      <td>35</td>\n",
       "      <td>55</td>\n",
       "      <td></td>\n",
       "    </tr>\n",
       "    <tr>\n",
       "      <th rowspan=\"3\" valign=\"top\">Weapon</th>\n",
       "      <th>logit</th>\n",
       "      <td>white</td>\n",
       "      <td>black</td>\n",
       "      <td>tool</td>\n",
       "      <td>weapon</td>\n",
       "      <td>-1.72154</td>\n",
       "      <td>1</td>\n",
       "      <td>6</td>\n",
       "      <td>7</td>\n",
       "      <td></td>\n",
       "    </tr>\n",
       "    <tr>\n",
       "      <th>sent</th>\n",
       "      <td>white</td>\n",
       "      <td>black</td>\n",
       "      <td>tool</td>\n",
       "      <td>weapon</td>\n",
       "      <td>-1.3614</td>\n",
       "      <td>0.995671</td>\n",
       "      <td>6</td>\n",
       "      <td>7</td>\n",
       "      <td></td>\n",
       "    </tr>\n",
       "    <tr>\n",
       "      <th>openai</th>\n",
       "      <td>white</td>\n",
       "      <td>black</td>\n",
       "      <td>tool</td>\n",
       "      <td>weapon</td>\n",
       "      <td>-1.43693</td>\n",
       "      <td>0.995671</td>\n",
       "      <td>6</td>\n",
       "      <td>7</td>\n",
       "      <td></td>\n",
       "    </tr>\n",
       "    <tr>\n",
       "      <th rowspan=\"3\" valign=\"top\">Weapon (Modern)</th>\n",
       "      <th>logit</th>\n",
       "      <td>white</td>\n",
       "      <td>black</td>\n",
       "      <td>tool-modern</td>\n",
       "      <td>weapon-modern</td>\n",
       "      <td>-1.38113</td>\n",
       "      <td>0.997835</td>\n",
       "      <td>6</td>\n",
       "      <td>9</td>\n",
       "      <td></td>\n",
       "    </tr>\n",
       "    <tr>\n",
       "      <th>sent</th>\n",
       "      <td>white</td>\n",
       "      <td>black</td>\n",
       "      <td>tool-modern</td>\n",
       "      <td>weapon-modern</td>\n",
       "      <td>1.23619</td>\n",
       "      <td>0.0162338</td>\n",
       "      <td>6</td>\n",
       "      <td>9</td>\n",
       "      <td>⭐⭐</td>\n",
       "    </tr>\n",
       "    <tr>\n",
       "      <th>openai</th>\n",
       "      <td>white</td>\n",
       "      <td>black</td>\n",
       "      <td>tool-modern</td>\n",
       "      <td>weapon-modern</td>\n",
       "      <td>0.729585</td>\n",
       "      <td>0.112554</td>\n",
       "      <td>6</td>\n",
       "      <td>9</td>\n",
       "      <td></td>\n",
       "    </tr>\n",
       "    <tr>\n",
       "      <th rowspan=\"3\" valign=\"top\">Native</th>\n",
       "      <th>logit</th>\n",
       "      <td>euro</td>\n",
       "      <td>native</td>\n",
       "      <td>us</td>\n",
       "      <td>world</td>\n",
       "      <td>0.808955</td>\n",
       "      <td>0.0527</td>\n",
       "      <td>8</td>\n",
       "      <td>5</td>\n",
       "      <td>⭐</td>\n",
       "    </tr>\n",
       "    <tr>\n",
       "      <th>sent</th>\n",
       "      <td>euro</td>\n",
       "      <td>native</td>\n",
       "      <td>us</td>\n",
       "      <td>world</td>\n",
       "      <td>0.944158</td>\n",
       "      <td>0.0262</td>\n",
       "      <td>8</td>\n",
       "      <td>5</td>\n",
       "      <td>⭐⭐</td>\n",
       "    </tr>\n",
       "    <tr>\n",
       "      <th>openai</th>\n",
       "      <td>euro</td>\n",
       "      <td>native</td>\n",
       "      <td>us</td>\n",
       "      <td>world</td>\n",
       "      <td>-0.315274</td>\n",
       "      <td>0.733</td>\n",
       "      <td>8</td>\n",
       "      <td>5</td>\n",
       "      <td></td>\n",
       "    </tr>\n",
       "    <tr>\n",
       "      <th rowspan=\"3\" valign=\"top\">Asian</th>\n",
       "      <th>logit</th>\n",
       "      <td>european-american</td>\n",
       "      <td>asian-american</td>\n",
       "      <td>american</td>\n",
       "      <td>foreign</td>\n",
       "      <td>-0.274466</td>\n",
       "      <td>0.680736</td>\n",
       "      <td>6</td>\n",
       "      <td>6</td>\n",
       "      <td></td>\n",
       "    </tr>\n",
       "    <tr>\n",
       "      <th>sent</th>\n",
       "      <td>european-american</td>\n",
       "      <td>asian-american</td>\n",
       "      <td>american</td>\n",
       "      <td>foreign</td>\n",
       "      <td>-0.120314</td>\n",
       "      <td>0.577922</td>\n",
       "      <td>6</td>\n",
       "      <td>6</td>\n",
       "      <td></td>\n",
       "    </tr>\n",
       "    <tr>\n",
       "      <th>openai</th>\n",
       "      <td>european-american</td>\n",
       "      <td>asian-american</td>\n",
       "      <td>american</td>\n",
       "      <td>foreign</td>\n",
       "      <td>-0.258295</td>\n",
       "      <td>0.661255</td>\n",
       "      <td>6</td>\n",
       "      <td>6</td>\n",
       "      <td></td>\n",
       "    </tr>\n",
       "    <tr>\n",
       "      <th rowspan=\"3\" valign=\"top\">Weight</th>\n",
       "      <th>logit</th>\n",
       "      <td>thin</td>\n",
       "      <td>fat</td>\n",
       "      <td>pleasant</td>\n",
       "      <td>unpleasant</td>\n",
       "      <td>-0.858755</td>\n",
       "      <td>0.9735</td>\n",
       "      <td>10</td>\n",
       "      <td>55</td>\n",
       "      <td></td>\n",
       "    </tr>\n",
       "    <tr>\n",
       "      <th>sent</th>\n",
       "      <td>thin</td>\n",
       "      <td>fat</td>\n",
       "      <td>pleasant</td>\n",
       "      <td>unpleasant</td>\n",
       "      <td>0.505308</td>\n",
       "      <td>0.1327</td>\n",
       "      <td>10</td>\n",
       "      <td>55</td>\n",
       "      <td></td>\n",
       "    </tr>\n",
       "    <tr>\n",
       "      <th>openai</th>\n",
       "      <td>thin</td>\n",
       "      <td>fat</td>\n",
       "      <td>pleasant</td>\n",
       "      <td>unpleasant</td>\n",
       "      <td>1.7417</td>\n",
       "      <td>0.0001</td>\n",
       "      <td>10</td>\n",
       "      <td>55</td>\n",
       "      <td>⭐⭐⭐</td>\n",
       "    </tr>\n",
       "    <tr>\n",
       "      <th rowspan=\"3\" valign=\"top\">Skin-Tone</th>\n",
       "      <th>logit</th>\n",
       "      <td>light</td>\n",
       "      <td>dark</td>\n",
       "      <td>pleasant</td>\n",
       "      <td>unpleasant</td>\n",
       "      <td>0.348195</td>\n",
       "      <td>0.457459</td>\n",
       "      <td>7</td>\n",
       "      <td>55</td>\n",
       "      <td></td>\n",
       "    </tr>\n",
       "    <tr>\n",
       "      <th>sent</th>\n",
       "      <td>light</td>\n",
       "      <td>dark</td>\n",
       "      <td>pleasant</td>\n",
       "      <td>unpleasant</td>\n",
       "      <td>0.401084</td>\n",
       "      <td>0.402972</td>\n",
       "      <td>7</td>\n",
       "      <td>55</td>\n",
       "      <td></td>\n",
       "    </tr>\n",
       "    <tr>\n",
       "      <th>openai</th>\n",
       "      <td>light</td>\n",
       "      <td>dark</td>\n",
       "      <td>pleasant</td>\n",
       "      <td>unpleasant</td>\n",
       "      <td>1.59554</td>\n",
       "      <td>0.000874126</td>\n",
       "      <td>7</td>\n",
       "      <td>55</td>\n",
       "      <td>⭐⭐⭐</td>\n",
       "    </tr>\n",
       "    <tr>\n",
       "      <th rowspan=\"3\" valign=\"top\">Disability</th>\n",
       "      <th>logit</th>\n",
       "      <td>disabled</td>\n",
       "      <td>abled</td>\n",
       "      <td>pleasant</td>\n",
       "      <td>unpleasant</td>\n",
       "      <td>-0.633747</td>\n",
       "      <td>0.728571</td>\n",
       "      <td>4</td>\n",
       "      <td>55</td>\n",
       "      <td></td>\n",
       "    </tr>\n",
       "    <tr>\n",
       "      <th>sent</th>\n",
       "      <td>disabled</td>\n",
       "      <td>abled</td>\n",
       "      <td>pleasant</td>\n",
       "      <td>unpleasant</td>\n",
       "      <td>-0.11146</td>\n",
       "      <td>0.571429</td>\n",
       "      <td>4</td>\n",
       "      <td>55</td>\n",
       "      <td></td>\n",
       "    </tr>\n",
       "    <tr>\n",
       "      <th>openai</th>\n",
       "      <td>disabled</td>\n",
       "      <td>abled</td>\n",
       "      <td>pleasant</td>\n",
       "      <td>unpleasant</td>\n",
       "      <td>1.41369</td>\n",
       "      <td>0.0142857</td>\n",
       "      <td>4</td>\n",
       "      <td>55</td>\n",
       "      <td>⭐⭐</td>\n",
       "    </tr>\n",
       "    <tr>\n",
       "      <th rowspan=\"3\" valign=\"top\">President - Kennedy vs. Trump</th>\n",
       "      <th>logit</th>\n",
       "      <td>kennedy</td>\n",
       "      <td>trump</td>\n",
       "      <td>pleasant</td>\n",
       "      <td>unpleasant</td>\n",
       "      <td>-0.7598</td>\n",
       "      <td>0.901515</td>\n",
       "      <td>6</td>\n",
       "      <td>55</td>\n",
       "      <td></td>\n",
       "    </tr>\n",
       "    <tr>\n",
       "      <th>sent</th>\n",
       "      <td>kennedy</td>\n",
       "      <td>trump</td>\n",
       "      <td>pleasant</td>\n",
       "      <td>unpleasant</td>\n",
       "      <td>-0.061547</td>\n",
       "      <td>0.57684</td>\n",
       "      <td>6</td>\n",
       "      <td>55</td>\n",
       "      <td></td>\n",
       "    </tr>\n",
       "    <tr>\n",
       "      <th>openai</th>\n",
       "      <td>kennedy</td>\n",
       "      <td>trump</td>\n",
       "      <td>pleasant</td>\n",
       "      <td>unpleasant</td>\n",
       "      <td>0.122669</td>\n",
       "      <td>0.426407</td>\n",
       "      <td>6</td>\n",
       "      <td>55</td>\n",
       "      <td></td>\n",
       "    </tr>\n",
       "    <tr>\n",
       "      <th rowspan=\"3\" valign=\"top\">President - B. Clinton vs. Trump</th>\n",
       "      <th>logit</th>\n",
       "      <td>clinton</td>\n",
       "      <td>trump</td>\n",
       "      <td>pleasant</td>\n",
       "      <td>unpleasant</td>\n",
       "      <td>-0.898848</td>\n",
       "      <td>0.937229</td>\n",
       "      <td>6</td>\n",
       "      <td>55</td>\n",
       "      <td></td>\n",
       "    </tr>\n",
       "    <tr>\n",
       "      <th>sent</th>\n",
       "      <td>clinton</td>\n",
       "      <td>trump</td>\n",
       "      <td>pleasant</td>\n",
       "      <td>unpleasant</td>\n",
       "      <td>-0.965689</td>\n",
       "      <td>0.994589</td>\n",
       "      <td>6</td>\n",
       "      <td>55</td>\n",
       "      <td></td>\n",
       "    </tr>\n",
       "    <tr>\n",
       "      <th>openai</th>\n",
       "      <td>clinton</td>\n",
       "      <td>trump</td>\n",
       "      <td>pleasant</td>\n",
       "      <td>unpleasant</td>\n",
       "      <td>-0.0838529</td>\n",
       "      <td>0.540043</td>\n",
       "      <td>6</td>\n",
       "      <td>55</td>\n",
       "      <td></td>\n",
       "    </tr>\n",
       "    <tr>\n",
       "      <th rowspan=\"3\" valign=\"top\">President - Bush vs. Trump</th>\n",
       "      <th>logit</th>\n",
       "      <td>bush</td>\n",
       "      <td>trump</td>\n",
       "      <td>pleasant</td>\n",
       "      <td>unpleasant</td>\n",
       "      <td>-0.362108</td>\n",
       "      <td>0.720779</td>\n",
       "      <td>6</td>\n",
       "      <td>55</td>\n",
       "      <td></td>\n",
       "    </tr>\n",
       "    <tr>\n",
       "      <th>sent</th>\n",
       "      <td>bush</td>\n",
       "      <td>trump</td>\n",
       "      <td>pleasant</td>\n",
       "      <td>unpleasant</td>\n",
       "      <td>0.0339035</td>\n",
       "      <td>0.47619</td>\n",
       "      <td>6</td>\n",
       "      <td>55</td>\n",
       "      <td></td>\n",
       "    </tr>\n",
       "    <tr>\n",
       "      <th>openai</th>\n",
       "      <td>bush</td>\n",
       "      <td>trump</td>\n",
       "      <td>pleasant</td>\n",
       "      <td>unpleasant</td>\n",
       "      <td>0.476651</td>\n",
       "      <td>0.219697</td>\n",
       "      <td>6</td>\n",
       "      <td>55</td>\n",
       "      <td></td>\n",
       "    </tr>\n",
       "    <tr>\n",
       "      <th rowspan=\"3\" valign=\"top\">President - Lincoln vs. Trump</th>\n",
       "      <th>logit</th>\n",
       "      <td>lincoln</td>\n",
       "      <td>trump</td>\n",
       "      <td>pleasant</td>\n",
       "      <td>unpleasant</td>\n",
       "      <td>-0.806053</td>\n",
       "      <td>0.917749</td>\n",
       "      <td>6</td>\n",
       "      <td>55</td>\n",
       "      <td></td>\n",
       "    </tr>\n",
       "    <tr>\n",
       "      <th>sent</th>\n",
       "      <td>lincoln</td>\n",
       "      <td>trump</td>\n",
       "      <td>pleasant</td>\n",
       "      <td>unpleasant</td>\n",
       "      <td>1.20296</td>\n",
       "      <td>0.0183983</td>\n",
       "      <td>6</td>\n",
       "      <td>55</td>\n",
       "      <td>⭐⭐</td>\n",
       "    </tr>\n",
       "    <tr>\n",
       "      <th>openai</th>\n",
       "      <td>lincoln</td>\n",
       "      <td>trump</td>\n",
       "      <td>pleasant</td>\n",
       "      <td>unpleasant</td>\n",
       "      <td>0.949989</td>\n",
       "      <td>0.0519481</td>\n",
       "      <td>6</td>\n",
       "      <td>55</td>\n",
       "      <td>⭐</td>\n",
       "    </tr>\n",
       "    <tr>\n",
       "      <th rowspan=\"3\" valign=\"top\">Religion</th>\n",
       "      <th>logit</th>\n",
       "      <td>christianity</td>\n",
       "      <td>judaism</td>\n",
       "      <td>pleasant</td>\n",
       "      <td>unpleasant</td>\n",
       "      <td>-0.110791</td>\n",
       "      <td>0.575175</td>\n",
       "      <td>7</td>\n",
       "      <td>55</td>\n",
       "      <td></td>\n",
       "    </tr>\n",
       "    <tr>\n",
       "      <th>sent</th>\n",
       "      <td>christianity</td>\n",
       "      <td>judaism</td>\n",
       "      <td>pleasant</td>\n",
       "      <td>unpleasant</td>\n",
       "      <td>0.283224</td>\n",
       "      <td>0.303904</td>\n",
       "      <td>7</td>\n",
       "      <td>55</td>\n",
       "      <td></td>\n",
       "    </tr>\n",
       "    <tr>\n",
       "      <th>openai</th>\n",
       "      <td>christianity</td>\n",
       "      <td>judaism</td>\n",
       "      <td>pleasant</td>\n",
       "      <td>unpleasant</td>\n",
       "      <td>0.305577</td>\n",
       "      <td>0.288462</td>\n",
       "      <td>7</td>\n",
       "      <td>55</td>\n",
       "      <td></td>\n",
       "    </tr>\n",
       "    <tr>\n",
       "      <th rowspan=\"3\" valign=\"top\">Sexuality</th>\n",
       "      <th>logit</th>\n",
       "      <td>gay</td>\n",
       "      <td>straight</td>\n",
       "      <td>pleasant</td>\n",
       "      <td>unpleasant</td>\n",
       "      <td>0.680532</td>\n",
       "      <td>0.0747</td>\n",
       "      <td>9</td>\n",
       "      <td>55</td>\n",
       "      <td>⭐</td>\n",
       "    </tr>\n",
       "    <tr>\n",
       "      <th>sent</th>\n",
       "      <td>gay</td>\n",
       "      <td>straight</td>\n",
       "      <td>pleasant</td>\n",
       "      <td>unpleasant</td>\n",
       "      <td>-0.251036</td>\n",
       "      <td>0.7004</td>\n",
       "      <td>9</td>\n",
       "      <td>55</td>\n",
       "      <td></td>\n",
       "    </tr>\n",
       "    <tr>\n",
       "      <th>openai</th>\n",
       "      <td>gay</td>\n",
       "      <td>straight</td>\n",
       "      <td>pleasant</td>\n",
       "      <td>unpleasant</td>\n",
       "      <td>0.15478</td>\n",
       "      <td>0.3868</td>\n",
       "      <td>9</td>\n",
       "      <td>55</td>\n",
       "      <td></td>\n",
       "    </tr>\n",
       "    <tr>\n",
       "      <th rowspan=\"3\" valign=\"top\">Race</th>\n",
       "      <th>logit</th>\n",
       "      <td>european-american</td>\n",
       "      <td>african-american</td>\n",
       "      <td>pleasant</td>\n",
       "      <td>unpleasant</td>\n",
       "      <td>-0.886406</td>\n",
       "      <td>0.938312</td>\n",
       "      <td>6</td>\n",
       "      <td>55</td>\n",
       "      <td></td>\n",
       "    </tr>\n",
       "    <tr>\n",
       "      <th>sent</th>\n",
       "      <td>european-american</td>\n",
       "      <td>african-american</td>\n",
       "      <td>pleasant</td>\n",
       "      <td>unpleasant</td>\n",
       "      <td>1.01976</td>\n",
       "      <td>0.038961</td>\n",
       "      <td>6</td>\n",
       "      <td>55</td>\n",
       "      <td>⭐⭐</td>\n",
       "    </tr>\n",
       "    <tr>\n",
       "      <th>openai</th>\n",
       "      <td>european-american</td>\n",
       "      <td>african-american</td>\n",
       "      <td>pleasant</td>\n",
       "      <td>unpleasant</td>\n",
       "      <td>1.0724</td>\n",
       "      <td>0.0335498</td>\n",
       "      <td>6</td>\n",
       "      <td>55</td>\n",
       "      <td>⭐⭐</td>\n",
       "    </tr>\n",
       "    <tr>\n",
       "      <th rowspan=\"3\" valign=\"top\">Arab-Muslim</th>\n",
       "      <th>logit</th>\n",
       "      <td>other-people</td>\n",
       "      <td>arab-muslim</td>\n",
       "      <td>pleasant</td>\n",
       "      <td>unpleasant</td>\n",
       "      <td>0.364849</td>\n",
       "      <td>0.2086</td>\n",
       "      <td>10</td>\n",
       "      <td>55</td>\n",
       "      <td></td>\n",
       "    </tr>\n",
       "    <tr>\n",
       "      <th>sent</th>\n",
       "      <td>other-people</td>\n",
       "      <td>arab-muslim</td>\n",
       "      <td>pleasant</td>\n",
       "      <td>unpleasant</td>\n",
       "      <td>-0.373536</td>\n",
       "      <td>0.7671</td>\n",
       "      <td>10</td>\n",
       "      <td>55</td>\n",
       "      <td></td>\n",
       "    </tr>\n",
       "    <tr>\n",
       "      <th>openai</th>\n",
       "      <td>other-people</td>\n",
       "      <td>arab-muslim</td>\n",
       "      <td>pleasant</td>\n",
       "      <td>unpleasant</td>\n",
       "      <td>0.737081</td>\n",
       "      <td>0.0519</td>\n",
       "      <td>10</td>\n",
       "      <td>55</td>\n",
       "      <td>⭐</td>\n",
       "    </tr>\n",
       "    <tr>\n",
       "      <th rowspan=\"3\" valign=\"top\">Age</th>\n",
       "      <th>logit</th>\n",
       "      <td>young</td>\n",
       "      <td>old</td>\n",
       "      <td>pleasant</td>\n",
       "      <td>unpleasant</td>\n",
       "      <td>0.509119</td>\n",
       "      <td>0.198052</td>\n",
       "      <td>6</td>\n",
       "      <td>55</td>\n",
       "      <td></td>\n",
       "    </tr>\n",
       "    <tr>\n",
       "      <th>sent</th>\n",
       "      <td>young</td>\n",
       "      <td>old</td>\n",
       "      <td>pleasant</td>\n",
       "      <td>unpleasant</td>\n",
       "      <td>0.52625</td>\n",
       "      <td>0.215368</td>\n",
       "      <td>6</td>\n",
       "      <td>55</td>\n",
       "      <td></td>\n",
       "    </tr>\n",
       "    <tr>\n",
       "      <th>openai</th>\n",
       "      <td>young</td>\n",
       "      <td>old</td>\n",
       "      <td>pleasant</td>\n",
       "      <td>unpleasant</td>\n",
       "      <td>0.00655373</td>\n",
       "      <td>0.497835</td>\n",
       "      <td>6</td>\n",
       "      <td>55</td>\n",
       "      <td></td>\n",
       "    </tr>\n",
       "    <tr>\n",
       "      <th rowspan=\"3\" valign=\"top\">Gender-Science</th>\n",
       "      <th>logit</th>\n",
       "      <td>science</td>\n",
       "      <td>liberal-arts</td>\n",
       "      <td>male</td>\n",
       "      <td>female</td>\n",
       "      <td>0.567584</td>\n",
       "      <td>0.0319</td>\n",
       "      <td>21</td>\n",
       "      <td>40</td>\n",
       "      <td>⭐⭐</td>\n",
       "    </tr>\n",
       "    <tr>\n",
       "      <th>sent</th>\n",
       "      <td>science</td>\n",
       "      <td>liberal-arts</td>\n",
       "      <td>male</td>\n",
       "      <td>female</td>\n",
       "      <td>0.602441</td>\n",
       "      <td>0.0267</td>\n",
       "      <td>21</td>\n",
       "      <td>40</td>\n",
       "      <td>⭐⭐</td>\n",
       "    </tr>\n",
       "    <tr>\n",
       "      <th>openai</th>\n",
       "      <td>science</td>\n",
       "      <td>liberal-arts</td>\n",
       "      <td>male</td>\n",
       "      <td>female</td>\n",
       "      <td>0.615016</td>\n",
       "      <td>0.0236</td>\n",
       "      <td>21</td>\n",
       "      <td>40</td>\n",
       "      <td>⭐⭐</td>\n",
       "    </tr>\n",
       "    <tr>\n",
       "      <th rowspan=\"3\" valign=\"top\">Gender-Career</th>\n",
       "      <th>logit</th>\n",
       "      <td>career</td>\n",
       "      <td>family</td>\n",
       "      <td>male</td>\n",
       "      <td>female</td>\n",
       "      <td>0.623404</td>\n",
       "      <td>0.0208</td>\n",
       "      <td>21</td>\n",
       "      <td>40</td>\n",
       "      <td>⭐⭐</td>\n",
       "    </tr>\n",
       "    <tr>\n",
       "      <th>sent</th>\n",
       "      <td>career</td>\n",
       "      <td>family</td>\n",
       "      <td>male</td>\n",
       "      <td>female</td>\n",
       "      <td>0.0119845</td>\n",
       "      <td>0.4895</td>\n",
       "      <td>21</td>\n",
       "      <td>40</td>\n",
       "      <td></td>\n",
       "    </tr>\n",
       "    <tr>\n",
       "      <th>openai</th>\n",
       "      <td>career</td>\n",
       "      <td>family</td>\n",
       "      <td>male</td>\n",
       "      <td>female</td>\n",
       "      <td>1.06244</td>\n",
       "      <td>0.0005</td>\n",
       "      <td>21</td>\n",
       "      <td>40</td>\n",
       "      <td>⭐⭐⭐</td>\n",
       "    </tr>\n",
       "  </tbody>\n",
       "</table>\n",
       "</div>"
      ],
      "text/plain": [
       "                                                         X                 Y  \\\n",
       "Insect-Flower                    logit              flower            insect   \n",
       "                                 sent               flower            insect   \n",
       "                                 openai             flower            insect   \n",
       "Weapon                           logit               white             black   \n",
       "                                 sent                white             black   \n",
       "                                 openai              white             black   \n",
       "Weapon (Modern)                  logit               white             black   \n",
       "                                 sent                white             black   \n",
       "                                 openai              white             black   \n",
       "Native                           logit                euro            native   \n",
       "                                 sent                 euro            native   \n",
       "                                 openai               euro            native   \n",
       "Asian                            logit   european-american    asian-american   \n",
       "                                 sent    european-american    asian-american   \n",
       "                                 openai  european-american    asian-american   \n",
       "Weight                           logit                thin               fat   \n",
       "                                 sent                 thin               fat   \n",
       "                                 openai               thin               fat   \n",
       "Skin-Tone                        logit               light              dark   \n",
       "                                 sent                light              dark   \n",
       "                                 openai              light              dark   \n",
       "Disability                       logit            disabled             abled   \n",
       "                                 sent             disabled             abled   \n",
       "                                 openai           disabled             abled   \n",
       "President - Kennedy vs. Trump    logit             kennedy             trump   \n",
       "                                 sent              kennedy             trump   \n",
       "                                 openai            kennedy             trump   \n",
       "President - B. Clinton vs. Trump logit             clinton             trump   \n",
       "                                 sent              clinton             trump   \n",
       "                                 openai            clinton             trump   \n",
       "President - Bush vs. Trump       logit                bush             trump   \n",
       "                                 sent                 bush             trump   \n",
       "                                 openai               bush             trump   \n",
       "President - Lincoln vs. Trump    logit             lincoln             trump   \n",
       "                                 sent              lincoln             trump   \n",
       "                                 openai            lincoln             trump   \n",
       "Religion                         logit        christianity           judaism   \n",
       "                                 sent         christianity           judaism   \n",
       "                                 openai       christianity           judaism   \n",
       "Sexuality                        logit                 gay          straight   \n",
       "                                 sent                  gay          straight   \n",
       "                                 openai                gay          straight   \n",
       "Race                             logit   european-american  african-american   \n",
       "                                 sent    european-american  african-american   \n",
       "                                 openai  european-american  african-american   \n",
       "Arab-Muslim                      logit        other-people       arab-muslim   \n",
       "                                 sent         other-people       arab-muslim   \n",
       "                                 openai       other-people       arab-muslim   \n",
       "Age                              logit               young               old   \n",
       "                                 sent                young               old   \n",
       "                                 openai              young               old   \n",
       "Gender-Science                   logit             science      liberal-arts   \n",
       "                                 sent              science      liberal-arts   \n",
       "                                 openai            science      liberal-arts   \n",
       "Gender-Career                    logit              career            family   \n",
       "                                 sent               career            family   \n",
       "                                 openai             career            family   \n",
       "\n",
       "                                                   A              B  \\\n",
       "Insect-Flower                    logit      pleasant     unpleasant   \n",
       "                                 sent       pleasant     unpleasant   \n",
       "                                 openai     pleasant     unpleasant   \n",
       "Weapon                           logit          tool         weapon   \n",
       "                                 sent           tool         weapon   \n",
       "                                 openai         tool         weapon   \n",
       "Weapon (Modern)                  logit   tool-modern  weapon-modern   \n",
       "                                 sent    tool-modern  weapon-modern   \n",
       "                                 openai  tool-modern  weapon-modern   \n",
       "Native                           logit            us          world   \n",
       "                                 sent             us          world   \n",
       "                                 openai           us          world   \n",
       "Asian                            logit      american        foreign   \n",
       "                                 sent       american        foreign   \n",
       "                                 openai     american        foreign   \n",
       "Weight                           logit      pleasant     unpleasant   \n",
       "                                 sent       pleasant     unpleasant   \n",
       "                                 openai     pleasant     unpleasant   \n",
       "Skin-Tone                        logit      pleasant     unpleasant   \n",
       "                                 sent       pleasant     unpleasant   \n",
       "                                 openai     pleasant     unpleasant   \n",
       "Disability                       logit      pleasant     unpleasant   \n",
       "                                 sent       pleasant     unpleasant   \n",
       "                                 openai     pleasant     unpleasant   \n",
       "President - Kennedy vs. Trump    logit      pleasant     unpleasant   \n",
       "                                 sent       pleasant     unpleasant   \n",
       "                                 openai     pleasant     unpleasant   \n",
       "President - B. Clinton vs. Trump logit      pleasant     unpleasant   \n",
       "                                 sent       pleasant     unpleasant   \n",
       "                                 openai     pleasant     unpleasant   \n",
       "President - Bush vs. Trump       logit      pleasant     unpleasant   \n",
       "                                 sent       pleasant     unpleasant   \n",
       "                                 openai     pleasant     unpleasant   \n",
       "President - Lincoln vs. Trump    logit      pleasant     unpleasant   \n",
       "                                 sent       pleasant     unpleasant   \n",
       "                                 openai     pleasant     unpleasant   \n",
       "Religion                         logit      pleasant     unpleasant   \n",
       "                                 sent       pleasant     unpleasant   \n",
       "                                 openai     pleasant     unpleasant   \n",
       "Sexuality                        logit      pleasant     unpleasant   \n",
       "                                 sent       pleasant     unpleasant   \n",
       "                                 openai     pleasant     unpleasant   \n",
       "Race                             logit      pleasant     unpleasant   \n",
       "                                 sent       pleasant     unpleasant   \n",
       "                                 openai     pleasant     unpleasant   \n",
       "Arab-Muslim                      logit      pleasant     unpleasant   \n",
       "                                 sent       pleasant     unpleasant   \n",
       "                                 openai     pleasant     unpleasant   \n",
       "Age                              logit      pleasant     unpleasant   \n",
       "                                 sent       pleasant     unpleasant   \n",
       "                                 openai     pleasant     unpleasant   \n",
       "Gender-Science                   logit          male         female   \n",
       "                                 sent           male         female   \n",
       "                                 openai         male         female   \n",
       "Gender-Career                    logit          male         female   \n",
       "                                 sent           male         female   \n",
       "                                 openai         male         female   \n",
       "\n",
       "                                             effect            p n_target  \\\n",
       "Insect-Flower                    logit    -0.366768       0.9378       35   \n",
       "                                 sent     -0.977003            1       35   \n",
       "                                 openai    0.279223       0.1199       35   \n",
       "Weapon                           logit     -1.72154            1        6   \n",
       "                                 sent       -1.3614     0.995671        6   \n",
       "                                 openai    -1.43693     0.995671        6   \n",
       "Weapon (Modern)                  logit     -1.38113     0.997835        6   \n",
       "                                 sent       1.23619    0.0162338        6   \n",
       "                                 openai    0.729585     0.112554        6   \n",
       "Native                           logit     0.808955       0.0527        8   \n",
       "                                 sent      0.944158       0.0262        8   \n",
       "                                 openai   -0.315274        0.733        8   \n",
       "Asian                            logit    -0.274466     0.680736        6   \n",
       "                                 sent     -0.120314     0.577922        6   \n",
       "                                 openai   -0.258295     0.661255        6   \n",
       "Weight                           logit    -0.858755       0.9735       10   \n",
       "                                 sent      0.505308       0.1327       10   \n",
       "                                 openai      1.7417       0.0001       10   \n",
       "Skin-Tone                        logit     0.348195     0.457459        7   \n",
       "                                 sent      0.401084     0.402972        7   \n",
       "                                 openai     1.59554  0.000874126        7   \n",
       "Disability                       logit    -0.633747     0.728571        4   \n",
       "                                 sent      -0.11146     0.571429        4   \n",
       "                                 openai     1.41369    0.0142857        4   \n",
       "President - Kennedy vs. Trump    logit      -0.7598     0.901515        6   \n",
       "                                 sent     -0.061547      0.57684        6   \n",
       "                                 openai    0.122669     0.426407        6   \n",
       "President - B. Clinton vs. Trump logit    -0.898848     0.937229        6   \n",
       "                                 sent     -0.965689     0.994589        6   \n",
       "                                 openai  -0.0838529     0.540043        6   \n",
       "President - Bush vs. Trump       logit    -0.362108     0.720779        6   \n",
       "                                 sent     0.0339035      0.47619        6   \n",
       "                                 openai    0.476651     0.219697        6   \n",
       "President - Lincoln vs. Trump    logit    -0.806053     0.917749        6   \n",
       "                                 sent       1.20296    0.0183983        6   \n",
       "                                 openai    0.949989    0.0519481        6   \n",
       "Religion                         logit    -0.110791     0.575175        7   \n",
       "                                 sent      0.283224     0.303904        7   \n",
       "                                 openai    0.305577     0.288462        7   \n",
       "Sexuality                        logit     0.680532       0.0747        9   \n",
       "                                 sent     -0.251036       0.7004        9   \n",
       "                                 openai     0.15478       0.3868        9   \n",
       "Race                             logit    -0.886406     0.938312        6   \n",
       "                                 sent       1.01976     0.038961        6   \n",
       "                                 openai      1.0724    0.0335498        6   \n",
       "Arab-Muslim                      logit     0.364849       0.2086       10   \n",
       "                                 sent     -0.373536       0.7671       10   \n",
       "                                 openai    0.737081       0.0519       10   \n",
       "Age                              logit     0.509119     0.198052        6   \n",
       "                                 sent       0.52625     0.215368        6   \n",
       "                                 openai  0.00655373     0.497835        6   \n",
       "Gender-Science                   logit     0.567584       0.0319       21   \n",
       "                                 sent      0.602441       0.0267       21   \n",
       "                                 openai    0.615016       0.0236       21   \n",
       "Gender-Career                    logit     0.623404       0.0208       21   \n",
       "                                 sent     0.0119845       0.4895       21   \n",
       "                                 openai     1.06244       0.0005       21   \n",
       "\n",
       "                                        n_attr  sig  \n",
       "Insect-Flower                    logit      55       \n",
       "                                 sent       55       \n",
       "                                 openai     55       \n",
       "Weapon                           logit       7       \n",
       "                                 sent        7       \n",
       "                                 openai      7       \n",
       "Weapon (Modern)                  logit       9       \n",
       "                                 sent        9   ⭐⭐  \n",
       "                                 openai      9       \n",
       "Native                           logit       5    ⭐  \n",
       "                                 sent        5   ⭐⭐  \n",
       "                                 openai      5       \n",
       "Asian                            logit       6       \n",
       "                                 sent        6       \n",
       "                                 openai      6       \n",
       "Weight                           logit      55       \n",
       "                                 sent       55       \n",
       "                                 openai     55  ⭐⭐⭐  \n",
       "Skin-Tone                        logit      55       \n",
       "                                 sent       55       \n",
       "                                 openai     55  ⭐⭐⭐  \n",
       "Disability                       logit      55       \n",
       "                                 sent       55       \n",
       "                                 openai     55   ⭐⭐  \n",
       "President - Kennedy vs. Trump    logit      55       \n",
       "                                 sent       55       \n",
       "                                 openai     55       \n",
       "President - B. Clinton vs. Trump logit      55       \n",
       "                                 sent       55       \n",
       "                                 openai     55       \n",
       "President - Bush vs. Trump       logit      55       \n",
       "                                 sent       55       \n",
       "                                 openai     55       \n",
       "President - Lincoln vs. Trump    logit      55       \n",
       "                                 sent       55   ⭐⭐  \n",
       "                                 openai     55    ⭐  \n",
       "Religion                         logit      55       \n",
       "                                 sent       55       \n",
       "                                 openai     55       \n",
       "Sexuality                        logit      55    ⭐  \n",
       "                                 sent       55       \n",
       "                                 openai     55       \n",
       "Race                             logit      55       \n",
       "                                 sent       55   ⭐⭐  \n",
       "                                 openai     55   ⭐⭐  \n",
       "Arab-Muslim                      logit      55       \n",
       "                                 sent       55       \n",
       "                                 openai     55    ⭐  \n",
       "Age                              logit      55       \n",
       "                                 sent       55       \n",
       "                                 openai     55       \n",
       "Gender-Science                   logit      40   ⭐⭐  \n",
       "                                 sent       40   ⭐⭐  \n",
       "                                 openai     40   ⭐⭐  \n",
       "Gender-Career                    logit      40   ⭐⭐  \n",
       "                                 sent       40       \n",
       "                                 openai     40  ⭐⭐⭐  "
      ]
     },
     "execution_count": 26,
     "metadata": {},
     "output_type": "execute_result"
    }
   ],
   "source": [
    "import pandas as pd\n",
    "\n",
    "results_df = pd.DataFrame(results).transpose()\n",
    "results_df.columns = [\"X\", \"Y\", \"A\", \"B\", \"effect\", \"p\", \"n_target\", \"n_attr\"]\n",
    "for c in results_df.columns[:4]:\n",
    "    results_df[c] = results_df[c].str.split(\"/\").str[-1]\n",
    "results_df[\"sig\"] = \"\"\n",
    "for l in [0.10, 0.05, 0.01]:\n",
    "    results_df.sig[results_df.p < l] += \"⭐\"\n",
    "# results_df[results_df.index.get_level_values(1) == \"openai\"]\n",
    "results_df"
   ]
  },
  {
   "cell_type": "markdown",
   "metadata": {},
   "source": [
    "### Detail View"
   ]
  },
  {
   "cell_type": "markdown",
   "metadata": {
    "colab_type": "text",
    "id": "9ePsWzNWpiTI"
   },
   "source": [
    "#### Weapons"
   ]
  },
  {
   "cell_type": "code",
   "execution_count": null,
   "metadata": {
    "colab": {
     "base_uri": "https://localhost:8080/",
     "height": 1000
    },
    "colab_type": "code",
    "id": "xF-vbLVkWSLo",
    "outputId": "18411059-ca6f-4123-9056-3d4e5f80d1be"
   },
   "outputs": [],
   "source": [
    "from ieat.api import test\n",
    "\n",
    "test(\n",
    "    \"data/experiments/weapon/black\",\n",
    "    \"data/experiments/weapon/white\",\n",
    "    \"data/experiments/weapon/tool\",\n",
    "    \"data/experiments/weapon/weapon\",\n",
    "    model_type=\"openai\", \n",
    "    model_size=model_size,\n",
    "    models_dir=models_dir,\n",
    "    clusters_dir=color_clusters_dir,\n",
    "    n_px=n_px\n",
    "#     from_cache=False\n",
    ")"
   ]
  },
  {
   "cell_type": "markdown",
   "metadata": {
    "colab_type": "text",
    "id": "SbZZ-m6QpiTM"
   },
   "source": [
    "#### Native"
   ]
  },
  {
   "cell_type": "code",
   "execution_count": null,
   "metadata": {
    "colab": {
     "base_uri": "https://localhost:8080/",
     "height": 1000
    },
    "colab_type": "code",
    "id": "wTs4pDDwpiTM",
    "outputId": "86f365ea-a6b0-4e73-df86-cfc26439fc54"
   },
   "outputs": [],
   "source": [
    "test(\n",
    "    \"data/experiments/native/euro\",\n",
    "    \"data/experiments/native/native\",\n",
    "    \"data/experiments/native/us\",\n",
    "    \"data/experiments/native/world\",\n",
    "    model_type=\"openai\", \n",
    "    model_size=model_size,\n",
    "    models_dir=models_dir,\n",
    "    clusters_dir=color_clusters_dir,\n",
    "    n_px=n_px\n",
    "#     from_cache=False\n",
    ")"
   ]
  },
  {
   "cell_type": "markdown",
   "metadata": {
    "colab_type": "text",
    "id": "qyrLx0cmpiTO"
   },
   "source": [
    "#### Asian"
   ]
  },
  {
   "cell_type": "code",
   "execution_count": null,
   "metadata": {
    "colab": {
     "base_uri": "https://localhost:8080/",
     "height": 1000
    },
    "colab_type": "code",
    "id": "_nEjOV-QpiTP",
    "outputId": "c2d6d8a7-b90c-4941-c564-4bece2824dcf"
   },
   "outputs": [],
   "source": [
    "test(\n",
    "    \"data/experiments/asian/european-american\",\n",
    "    \"data/experiments/asian/asian-american\",\n",
    "    \"data/experiments/asian/american\",\n",
    "    \"data/experiments/asian/foreign\",\n",
    "    model_type=\"openai\", \n",
    "    model_size=model_size,\n",
    "    models_dir=models_dir,\n",
    "    clusters_dir=color_clusters_dir,\n",
    "    n_px=n_px\n",
    "#     from_cache=False\n",
    ")"
   ]
  },
  {
   "cell_type": "markdown",
   "metadata": {
    "colab_type": "text",
    "id": "O8Wpc7vPxvhZ"
   },
   "source": [
    "#### Insect-Flower"
   ]
  },
  {
   "cell_type": "code",
   "execution_count": null,
   "metadata": {
    "colab": {
     "base_uri": "https://localhost:8080/",
     "height": 1000
    },
    "colab_type": "code",
    "id": "y_dzK41F6Hso",
    "outputId": "9d32a190-5f0a-4530-ee10-926b271b96dd"
   },
   "outputs": [],
   "source": [
    "from ieat.api import test\n",
    "\n",
    "test(\n",
    "    \"data/experiments/insect-flower/flower\",\n",
    "    \"data/experiments/insect-flower/insect\",\n",
    "    \"data/experiments/valence/pleasant\",\n",
    "    \"data/experiments/valence/unpleasant\",\n",
    "    model_type=\"openai\", \n",
    "    model_size=model_size,\n",
    "    models_dir=models_dir,\n",
    "    clusters_dir=color_clusters_dir,\n",
    "    n_px=n_px,\n",
    "#     from_cache=False,\n",
    "    verbose=True\n",
    ")"
   ]
  },
  {
   "cell_type": "markdown",
   "metadata": {
    "colab_type": "text",
    "id": "ZalmenA0xvhb"
   },
   "source": [
    "#### Weight"
   ]
  },
  {
   "cell_type": "code",
   "execution_count": null,
   "metadata": {
    "colab": {
     "base_uri": "https://localhost:8080/",
     "height": 1000
    },
    "colab_type": "code",
    "id": "ziXl8gaWxvhc",
    "outputId": "6347fe1e-5a48-4e33-e515-574ccf1e754c"
   },
   "outputs": [],
   "source": [
    "from ieat.api import test\n",
    "\n",
    "test(\n",
    "    \"data/experiments/weight/thin\",\n",
    "    \"data/experiments/weight/fat\",\n",
    "    \"data/experiments/valence/pleasant\",\n",
    "    \"data/experiments/valence/unpleasant\",\n",
    "    model_type=\"openai\", \n",
    "    model_size=model_size,\n",
    "    models_dir=models_dir,\n",
    "    clusters_dir=color_clusters_dir,\n",
    "    n_px=n_px,\n",
    "#     from_cache=False,\n",
    "    verbose=True\n",
    ")"
   ]
  },
  {
   "cell_type": "markdown",
   "metadata": {
    "colab_type": "text",
    "id": "7gYnQK4vxvhe"
   },
   "source": [
    "#### Skin-Tone"
   ]
  },
  {
   "cell_type": "code",
   "execution_count": null,
   "metadata": {
    "colab": {
     "base_uri": "https://localhost:8080/",
     "height": 1000
    },
    "colab_type": "code",
    "id": "VFg-zm4Ixvhe",
    "outputId": "409d8468-7f2f-468e-e7c8-205e4012b6fa"
   },
   "outputs": [],
   "source": [
    "from ieat.api import test\n",
    "\n",
    "test(\n",
    "    \"data/experiments/skin-tone/light\",\n",
    "    \"data/experiments/skin-tone/dark\",\n",
    "    \"data/experiments/valence/pleasant\",\n",
    "    \"data/experiments/valence/unpleasant\",\n",
    "    model_type=\"openai\", \n",
    "    model_size=model_size,\n",
    "    models_dir=models_dir,\n",
    "    clusters_dir=color_clusters_dir,\n",
    "    n_px=n_px,\n",
    "#     from_cache=False,\n",
    "    verbose=True\n",
    ")"
   ]
  },
  {
   "cell_type": "markdown",
   "metadata": {
    "colab_type": "text",
    "id": "kqoUJ9_oxvhh"
   },
   "source": [
    "#### Disability"
   ]
  },
  {
   "cell_type": "code",
   "execution_count": null,
   "metadata": {
    "colab": {
     "base_uri": "https://localhost:8080/",
     "height": 1000
    },
    "colab_type": "code",
    "id": "nLLGZcCRxvhh",
    "outputId": "a4f23fa1-59f4-4f65-b470-5a58cc540338"
   },
   "outputs": [],
   "source": [
    "from ieat.api import test\n",
    "\n",
    "test(\n",
    "    \"data/experiments/disabled/disabled\",\n",
    "    \"data/experiments/disabled/abled\",\n",
    "    \"data/experiments/valence/pleasant\",\n",
    "    \"data/experiments/valence/unpleasant\",\n",
    "    model_type=\"openai\", \n",
    "    model_size=model_size,\n",
    "    models_dir=models_dir,\n",
    "    clusters_dir=color_clusters_dir,\n",
    "    n_px=n_px,\n",
    "#     from_cache=False,\n",
    "    verbose=True\n",
    ")"
   ]
  },
  {
   "cell_type": "markdown",
   "metadata": {
    "colab_type": "text",
    "id": "VX-5Fpk2xvhl"
   },
   "source": [
    "#### Presidents"
   ]
  },
  {
   "cell_type": "code",
   "execution_count": null,
   "metadata": {
    "colab": {
     "base_uri": "https://localhost:8080/",
     "height": 1000
    },
    "colab_type": "code",
    "id": "qPYAHFFGxvhm",
    "outputId": "38afdf03-46ae-4a32-906c-ccb5eb9f95d1"
   },
   "outputs": [],
   "source": [
    "from ieat.api import test\n",
    "\n",
    "test(\n",
    "    \"data/experiments/presidents/trump\",\n",
    "    \"data/experiments/presidents/kennedy\",\n",
    "    \"data/experiments/valence/pleasant\",\n",
    "    \"data/experiments/valence/unpleasant\",\n",
    "    model_type=\"openai\", \n",
    "    model_size=model_size,\n",
    "    models_dir=models_dir,\n",
    "    clusters_dir=color_clusters_dir,\n",
    "    n_px=n_px,\n",
    "#     from_cache=False,\n",
    "    verbose=True\n",
    ")"
   ]
  },
  {
   "cell_type": "code",
   "execution_count": null,
   "metadata": {
    "colab": {
     "base_uri": "https://localhost:8080/",
     "height": 1000
    },
    "colab_type": "code",
    "id": "zqSZmD4Rxvho",
    "outputId": "63b50eab-16be-4dfd-b433-2d47cd82b89d"
   },
   "outputs": [],
   "source": [
    "from ieat.api import test\n",
    "\n",
    "test(\n",
    "    \"data/experiments/presidents/trump\",\n",
    "    \"data/experiments/presidents/clinton\",\n",
    "    \"data/experiments/valence/pleasant\",\n",
    "    \"data/experiments/valence/unpleasant\",\n",
    "    model_type=\"openai\", \n",
    "    model_size=model_size,\n",
    "    models_dir=models_dir,\n",
    "    clusters_dir=color_clusters_dir,\n",
    "    n_px=n_px,\n",
    "#     from_cache=False,\n",
    "    verbose=True\n",
    ")"
   ]
  },
  {
   "cell_type": "code",
   "execution_count": null,
   "metadata": {
    "colab": {
     "base_uri": "https://localhost:8080/",
     "height": 1000
    },
    "colab_type": "code",
    "id": "L6HNE0bvxvhq",
    "outputId": "fa5efc0b-7060-4ec0-d3e5-4f3e02caa1b1"
   },
   "outputs": [],
   "source": [
    "from ieat.api import test\n",
    "\n",
    "test(\n",
    "    \"data/experiments/presidents/trump\",\n",
    "    \"data/experiments/presidents/bush\",\n",
    "    \"data/experiments/valence/pleasant\",\n",
    "    \"data/experiments/valence/unpleasant\",\n",
    "    model_type=\"openai\", \n",
    "    model_size=model_size,\n",
    "    models_dir=models_dir,\n",
    "    clusters_dir=color_clusters_dir,\n",
    "    n_px=n_px,\n",
    "#     from_cache=False,\n",
    "    verbose=True\n",
    ")"
   ]
  },
  {
   "cell_type": "code",
   "execution_count": null,
   "metadata": {
    "colab": {
     "base_uri": "https://localhost:8080/",
     "height": 1000
    },
    "colab_type": "code",
    "id": "oTOxt8Y5xvhs",
    "outputId": "c9834170-1e37-406d-9479-e32e24919221"
   },
   "outputs": [],
   "source": [
    "from ieat.api import test\n",
    "\n",
    "test(\n",
    "    \"data/experiments/presidents/trump\",\n",
    "    \"data/experiments/presidents/lincoln\",\n",
    "    \"data/experiments/valence/pleasant\",\n",
    "    \"data/experiments/valence/unpleasant\",\n",
    "    model_type=\"openai\", \n",
    "    model_size=model_size,\n",
    "    models_dir=models_dir,\n",
    "    clusters_dir=color_clusters_dir,\n",
    "    n_px=n_px,\n",
    "#     from_cache=False,\n",
    "    verbose=True\n",
    ")"
   ]
  },
  {
   "cell_type": "markdown",
   "metadata": {
    "colab_type": "text",
    "id": "ErIbgFMXxvhu"
   },
   "source": [
    "#### Religion"
   ]
  },
  {
   "cell_type": "code",
   "execution_count": null,
   "metadata": {
    "colab": {
     "base_uri": "https://localhost:8080/",
     "height": 1000
    },
    "colab_type": "code",
    "id": "VvAe-DuUxvhu",
    "outputId": "d54921e3-2a27-4cd4-fd05-28a5453e3b5f"
   },
   "outputs": [],
   "source": [
    "from ieat.api import test\n",
    "\n",
    "test(\n",
    "    \"data/experiments/religion/christianity\",\n",
    "    \"data/experiments/religion/judaism\",\n",
    "    \"data/experiments/valence/pleasant\",\n",
    "    \"data/experiments/valence/unpleasant\",\n",
    "    model_type=\"openai\", \n",
    "    model_size=model_size,\n",
    "    models_dir=models_dir,\n",
    "    clusters_dir=color_clusters_dir,\n",
    "    n_px=n_px,\n",
    "#     from_cache=False,\n",
    "    verbose=True\n",
    ")"
   ]
  },
  {
   "cell_type": "markdown",
   "metadata": {
    "colab_type": "text",
    "id": "gt3GfXoYxvhw"
   },
   "source": [
    "#### Gender-Science"
   ]
  },
  {
   "cell_type": "code",
   "execution_count": null,
   "metadata": {
    "colab": {
     "base_uri": "https://localhost:8080/",
     "height": 1000
    },
    "colab_type": "code",
    "id": "2zs-M-ezxvhx",
    "outputId": "f290902d-a646-4257-8d5b-b1e0f3988dbf"
   },
   "outputs": [],
   "source": [
    "from ieat.api import test\n",
    "\n",
    "test(\n",
    "    \"data/experiments/gender/science\",\n",
    "    \"data/experiments/gender/liberal-arts\",\n",
    "    \"data/experiments/gender/male\",\n",
    "    \"data/experiments/gender/female\",\n",
    "    model_type=\"openai\", \n",
    "    model_size=model_size,\n",
    "    models_dir=models_dir,\n",
    "    clusters_dir=color_clusters_dir,\n",
    "    n_px=n_px,\n",
    "#     from_cache=False,\n",
    "    verbose=True\n",
    ")"
   ]
  },
  {
   "cell_type": "markdown",
   "metadata": {
    "colab_type": "text",
    "id": "BXbraCTvxvhy"
   },
   "source": [
    "#### Gender-Career"
   ]
  },
  {
   "cell_type": "code",
   "execution_count": null,
   "metadata": {
    "colab": {
     "base_uri": "https://localhost:8080/",
     "height": 1000
    },
    "colab_type": "code",
    "id": "wmICFKRhxvhz",
    "outputId": "c46ec449-9958-4d15-ebd4-11cc4a4a9243"
   },
   "outputs": [],
   "source": [
    "from ieat.api import test\n",
    "\n",
    "test(\n",
    "    \"data/experiments/gender/career\",\n",
    "    \"data/experiments/gender/family\",\n",
    "    \"data/experiments/gender/male\",\n",
    "    \"data/experiments/gender/female\",\n",
    "    model_type=\"openai\", \n",
    "    model_size=model_size,\n",
    "    models_dir=models_dir,\n",
    "    clusters_dir=color_clusters_dir,\n",
    "    n_px=n_px,\n",
    "#     from_cache=False,\n",
    "    verbose=True\n",
    ")"
   ]
  },
  {
   "cell_type": "markdown",
   "metadata": {
    "colab_type": "text",
    "id": "_BI1Gxc4xvh1"
   },
   "source": [
    "#### Sexuality"
   ]
  },
  {
   "cell_type": "code",
   "execution_count": null,
   "metadata": {
    "colab": {
     "base_uri": "https://localhost:8080/",
     "height": 1000
    },
    "colab_type": "code",
    "id": "6qhiTy3Rxvh2",
    "outputId": "fc534923-6a6a-4723-b735-301222652f34"
   },
   "outputs": [],
   "source": [
    "from ieat.api import test\n",
    "\n",
    "test(\n",
    "    \"data/experiments/sexuality/gay\",\n",
    "    \"data/experiments/sexuality/straight\",\n",
    "    \"data/experiments/valence/pleasant\",\n",
    "    \"data/experiments/valence/unpleasant\",\n",
    "    model_type=\"openai\", \n",
    "    model_size=model_size,\n",
    "    models_dir=models_dir,\n",
    "    clusters_dir=color_clusters_dir,\n",
    "    n_px=n_px,\n",
    "#     from_cache=False,\n",
    "    verbose=True\n",
    ")"
   ]
  },
  {
   "cell_type": "markdown",
   "metadata": {
    "colab_type": "text",
    "id": "7VIIIFfpxvh3"
   },
   "source": [
    "#### Race"
   ]
  },
  {
   "cell_type": "code",
   "execution_count": null,
   "metadata": {
    "colab": {
     "base_uri": "https://localhost:8080/",
     "height": 1000
    },
    "colab_type": "code",
    "id": "fSuQzadOxvh4",
    "outputId": "877bee5f-9e85-41b5-8d7f-f85446f7ea94"
   },
   "outputs": [],
   "source": [
    "from ieat.api import test\n",
    "\n",
    "test(\n",
    "    \"data/experiments/race/african-american\",\n",
    "    \"data/experiments/race/european-american\",\n",
    "    \"data/experiments/valence/pleasant\",\n",
    "    \"data/experiments/valence/unpleasant\",\n",
    "    model_type=\"openai\", \n",
    "    model_size=model_size,\n",
    "    models_dir=models_dir,\n",
    "    clusters_dir=color_clusters_dir,\n",
    "    n_px=n_px,\n",
    "#     from_cache=False,\n",
    "    verbose=True\n",
    ")"
   ]
  },
  {
   "cell_type": "markdown",
   "metadata": {
    "colab_type": "text",
    "id": "xA_AwxiKxvh5"
   },
   "source": [
    "#### Arab-Muslim"
   ]
  },
  {
   "cell_type": "code",
   "execution_count": null,
   "metadata": {
    "colab": {},
    "colab_type": "code",
    "id": "dAvppwCJxvh6"
   },
   "outputs": [],
   "source": [
    "from ieat.api import test\n",
    "\n",
    "test(\n",
    "    \"data/experiments/arab-muslim/other-people\",\n",
    "    \"data/experiments/arab-muslim/arab-muslim\",\n",
    "    \"data/experiments/valence/pleasant\",\n",
    "    \"data/experiments/valence/unpleasant\",\n",
    "    model_type=\"openai\", \n",
    "    model_size=model_size,\n",
    "    models_dir=models_dir,\n",
    "    clusters_dir=color_clusters_dir,\n",
    "    n_px=n_px,\n",
    "#     from_cache=False,\n",
    "    verbose=True\n",
    ")"
   ]
  },
  {
   "cell_type": "markdown",
   "metadata": {
    "colab_type": "text",
    "id": "R-fdCFqQxvh8"
   },
   "source": [
    "#### Age"
   ]
  },
  {
   "cell_type": "code",
   "execution_count": null,
   "metadata": {
    "colab": {
     "base_uri": "https://localhost:8080/",
     "height": 232
    },
    "colab_type": "code",
    "id": "lVB-Wne_xvh8",
    "outputId": "b5a4f699-0160-4934-c841-29d5d7838175"
   },
   "outputs": [],
   "source": [
    "from ieat.api import test\n",
    "\n",
    "test(\n",
    "    \"data/experiments/age/young\",\n",
    "    \"data/experiments/age/old\",\n",
    "    \"data/experiments/valence/pleasant\",\n",
    "    \"data/experiments/valence/unpleasant\",\n",
    "    model_type=\"openai\", \n",
    "    model_size=model_size,\n",
    "    models_dir=models_dir,\n",
    "    clusters_dir=color_clusters_dir,\n",
    "    n_px=n_px,\n",
    "#     from_cache=False,\n",
    "    verbose=True\n",
    ")"
   ]
  },
  {
   "cell_type": "markdown",
   "metadata": {
    "colab_type": "text",
    "id": "SpKVucUpxvh-"
   },
   "source": [
    "### Download Cached Embeddings"
   ]
  },
  {
   "cell_type": "code",
   "execution_count": null,
   "metadata": {
    "colab": {},
    "colab_type": "code",
    "id": "EfMcw700xvh-"
   },
   "outputs": [],
   "source": [
    "# to download from colab\n",
    "from google.colab import files\n",
    "\n",
    "!zip -r embeddings_colab.zip embeddings\n",
    "files.download(\"embeddings_colab.zip\")"
   ]
  },
  {
   "cell_type": "code",
   "execution_count": null,
   "metadata": {
    "colab": {},
    "colab_type": "code",
    "id": "GnG7quNVxviA"
   },
   "outputs": [],
   "source": []
  }
 ],
 "metadata": {
  "colab": {
   "collapsed_sections": [],
   "machine_shape": "hm",
   "name": "Image-GPT-Bias-HuggingFace.ipynb",
   "provenance": [],
   "toc_visible": true
  },
  "kernelspec": {
   "display_name": "Python 3",
   "language": "python",
   "name": "python3"
  },
  "language_info": {
   "codemirror_mode": {
    "name": "ipython",
    "version": 3
   },
   "file_extension": ".py",
   "mimetype": "text/x-python",
   "name": "python",
   "nbconvert_exporter": "python",
   "pygments_lexer": "ipython3",
   "version": "3.8.5"
  },
  "require": {
   "paths": {
    "buttons.colvis": "https://cdn.datatables.net/buttons/1.5.6/js/buttons.colVis.min",
    "buttons.flash": "https://cdn.datatables.net/buttons/1.5.6/js/buttons.flash.min",
    "buttons.html5": "https://cdn.datatables.net/buttons/1.5.6/js/buttons.html5.min",
    "buttons.print": "https://cdn.datatables.net/buttons/1.5.6/js/buttons.print.min",
    "chartjs": "https://cdnjs.cloudflare.com/ajax/libs/Chart.js/2.8.0/Chart",
    "d3": "https://d3js.org/d3.v5.min",
    "d3-array": "https://d3js.org/d3-array.v2.min",
    "datatables.net": "https://cdn.datatables.net/1.10.18/js/jquery.dataTables",
    "datatables.net-buttons": "https://cdn.datatables.net/buttons/1.5.6/js/dataTables.buttons.min",
    "datatables.responsive": "https://cdn.datatables.net/responsive/2.2.2/js/dataTables.responsive.min",
    "datatables.scroller": "https://cdn.datatables.net/scroller/2.0.0/js/dataTables.scroller.min",
    "datatables.select": "https://cdn.datatables.net/select/1.3.0/js/dataTables.select.min",
    "jszip": "https://cdnjs.cloudflare.com/ajax/libs/jszip/2.5.0/jszip.min",
    "moment": "https://cdnjs.cloudflare.com/ajax/libs/moment.js/2.8.0/moment",
    "pdfmake": "https://cdnjs.cloudflare.com/ajax/libs/pdfmake/0.1.36/pdfmake.min",
    "vfsfonts": "https://cdnjs.cloudflare.com/ajax/libs/pdfmake/0.1.36/vfs_fonts"
   },
   "shim": {
    "buttons.colvis": {
     "deps": [
      "jszip",
      "datatables.net-buttons"
     ]
    },
    "buttons.flash": {
     "deps": [
      "jszip",
      "datatables.net-buttons"
     ]
    },
    "buttons.html5": {
     "deps": [
      "jszip",
      "datatables.net-buttons"
     ]
    },
    "buttons.print": {
     "deps": [
      "jszip",
      "datatables.net-buttons"
     ]
    },
    "chartjs": {
     "deps": [
      "moment"
     ]
    },
    "datatables.net": {
     "exports": "$.fn.dataTable"
    },
    "datatables.net-buttons": {
     "deps": [
      "datatables.net"
     ]
    },
    "pdfmake": {
     "deps": [
      "datatables.net"
     ]
    },
    "vfsfonts": {
     "deps": [
      "datatables.net"
     ]
    }
   }
  }
 },
 "nbformat": 4,
 "nbformat_minor": 1
}
