{
 "cells": [
  {
   "cell_type": "markdown",
   "metadata": {
    "id": "P9tObiU-qVgv"
   },
   "source": [
    "[![Open In Colab](https://colab.research.google.com/assets/colab-badge.svg)](https://colab.research.google.com/github/ryansteed/ieat/blob/master/notebooks/experiments.ipynb)\n",
    "\n",
    "# Image GPT Bias\n",
    "**Image Embedding Association Test**\n",
    "\n",
    "Ryan Steed\n",
    "\n",
    "This script adapted from https://colab.research.google.com/github/apeguero1/image-gpt/blob/master/Transformers_Image_GPT.ipynb.\n"
   ]
  },
  {
   "cell_type": "code",
   "execution_count": 1,
   "metadata": {
    "colab": {
     "base_uri": "https://localhost:8080/",
     "height": 51
    },
    "id": "lHXoubXWpiSv",
    "outputId": "c3934efe-3e89-48de-fd71-77be01deaa42"
   },
   "outputs": [
    {
     "name": "stdout",
     "output_type": "stream",
     "text": [
      "/Users/steed/caliskan/git/ieat\n"
     ]
    }
   ],
   "source": [
    "import sys\n",
    "import os\n",
    "sys.path.insert(0, os.path.abspath('..'))\n",
    "\n",
    "%load_ext autoreload\n",
    "%autoreload 2\n",
    "\n",
    "%cd /Users/steed/caliskan/git/ieat"
   ]
  },
  {
   "cell_type": "markdown",
   "metadata": {
    "id": "OoWYiUzT_lLs"
   },
   "source": [
    "## Download Model"
   ]
  },
  {
   "cell_type": "code",
   "execution_count": 6,
   "metadata": {
    "colab": {
     "base_uri": "https://localhost:8080/",
     "height": 71
    },
    "id": "DzJbEWC6Vogc",
    "outputId": "c1286597-3cf5-45d2-af5a-f34c863f52c9"
   },
   "outputs": [
    {
     "name": "stdout",
     "output_type": "stream",
     "text": [
      "zsh:1: command not found: nvidia-smi\r\n"
     ]
    }
   ],
   "source": [
    "!nvidia-smi #OpenAI says you need 16GB GPU for the large model, but it may work if you lower n_sub_batch on the others."
   ]
  },
  {
   "cell_type": "code",
   "execution_count": 10,
   "metadata": {
    "colab": {
     "base_uri": "https://localhost:8080/",
     "height": 51
    },
    "id": "WkPOYJsCTaUb",
    "outputId": "79f7dc7e-decc-46f9-fc05-03ccf7e57f1d"
   },
   "outputs": [
    {
     "name": "stdout",
     "output_type": "stream",
     "text": [
      "Cloning into 'ieat'...\n",
      "remote: Invalid username or password.\n",
      "fatal: Authentication failed for 'https://github.com/your_username/ieat.git/'\n",
      "/Users/steed/caliskan/git/ieat\n"
     ]
    }
   ],
   "source": [
    "import urllib\n",
    "\n",
    "# don't share these to Github or elsewhere!\n",
    "u = \"your_username\"\n",
    "p = urllib.parse.quote(\"your_password\")\n",
    "!git clone --recurse-submodules -j8 https://$u:$p@github.com/$u/ieat.git\n",
    "%cd ieat"
   ]
  },
  {
   "cell_type": "code",
   "execution_count": 7,
   "metadata": {
    "colab": {
     "base_uri": "https://localhost:8080/",
     "height": 1000
    },
    "id": "BIOr3wBHs955",
    "outputId": "13d1d8c3-8c4a-4aab-f273-5a8a7d9deec3"
   },
   "outputs": [
    {
     "name": "stdout",
     "output_type": "stream",
     "text": [
      "Obtaining file:///content/ieat\n",
      "Collecting transformers\n",
      "\u001b[?25l  Downloading https://files.pythonhosted.org/packages/19/22/aff234f4a841f8999e68a7a94bdd4b60b4cebcfeca5d67d61cd08c9179de/transformers-3.3.1-py3-none-any.whl (1.1MB)\n",
      "\u001b[K     |████████████████████████████████| 1.1MB 2.8MB/s \n",
      "\u001b[?25hRequirement already satisfied: torch in /usr/local/lib/python3.6/dist-packages (from ieat==1.0) (1.6.0+cu101)\n",
      "Requirement already satisfied: numpy in /usr/local/lib/python3.6/dist-packages (from ieat==1.0) (1.18.5)\n",
      "Requirement already satisfied: matplotlib in /usr/local/lib/python3.6/dist-packages (from ieat==1.0) (3.2.2)\n",
      "Requirement already satisfied: opencv-python in /usr/local/lib/python3.6/dist-packages (from ieat==1.0) (4.1.2.30)\n",
      "Requirement already satisfied: tensorflow in /usr/local/lib/python3.6/dist-packages (from ieat==1.0) (2.3.0)\n",
      "Collecting sacremoses\n",
      "\u001b[?25l  Downloading https://files.pythonhosted.org/packages/7d/34/09d19aff26edcc8eb2a01bed8e98f13a1537005d31e95233fd48216eed10/sacremoses-0.0.43.tar.gz (883kB)\n",
      "\u001b[K     |████████████████████████████████| 890kB 17.7MB/s \n",
      "\u001b[?25hRequirement already satisfied: tqdm>=4.27 in /usr/local/lib/python3.6/dist-packages (from transformers->ieat==1.0) (4.41.1)\n",
      "Requirement already satisfied: dataclasses; python_version < \"3.7\" in /usr/local/lib/python3.6/dist-packages (from transformers->ieat==1.0) (0.7)\n",
      "Requirement already satisfied: requests in /usr/local/lib/python3.6/dist-packages (from transformers->ieat==1.0) (2.23.0)\n",
      "Collecting sentencepiece!=0.1.92\n",
      "\u001b[?25l  Downloading https://files.pythonhosted.org/packages/d4/a4/d0a884c4300004a78cca907a6ff9a5e9fe4f090f5d95ab341c53d28cbc58/sentencepiece-0.1.91-cp36-cp36m-manylinux1_x86_64.whl (1.1MB)\n",
      "\u001b[K     |████████████████████████████████| 1.1MB 16.3MB/s \n",
      "\u001b[?25hRequirement already satisfied: regex!=2019.12.17 in /usr/local/lib/python3.6/dist-packages (from transformers->ieat==1.0) (2019.12.20)\n",
      "Collecting tokenizers==0.8.1.rc2\n",
      "\u001b[?25l  Downloading https://files.pythonhosted.org/packages/80/83/8b9fccb9e48eeb575ee19179e2bdde0ee9a1904f97de5f02d19016b8804f/tokenizers-0.8.1rc2-cp36-cp36m-manylinux1_x86_64.whl (3.0MB)\n",
      "\u001b[K     |████████████████████████████████| 3.0MB 29.4MB/s \n",
      "\u001b[?25hRequirement already satisfied: filelock in /usr/local/lib/python3.6/dist-packages (from transformers->ieat==1.0) (3.0.12)\n",
      "Requirement already satisfied: packaging in /usr/local/lib/python3.6/dist-packages (from transformers->ieat==1.0) (20.4)\n",
      "Requirement already satisfied: future in /usr/local/lib/python3.6/dist-packages (from torch->ieat==1.0) (0.16.0)\n",
      "Requirement already satisfied: cycler>=0.10 in /usr/local/lib/python3.6/dist-packages (from matplotlib->ieat==1.0) (0.10.0)\n",
      "Requirement already satisfied: kiwisolver>=1.0.1 in /usr/local/lib/python3.6/dist-packages (from matplotlib->ieat==1.0) (1.2.0)\n",
      "Requirement already satisfied: pyparsing!=2.0.4,!=2.1.2,!=2.1.6,>=2.0.1 in /usr/local/lib/python3.6/dist-packages (from matplotlib->ieat==1.0) (2.4.7)\n",
      "Requirement already satisfied: python-dateutil>=2.1 in /usr/local/lib/python3.6/dist-packages (from matplotlib->ieat==1.0) (2.8.1)\n",
      "Requirement already satisfied: h5py<2.11.0,>=2.10.0 in /usr/local/lib/python3.6/dist-packages (from tensorflow->ieat==1.0) (2.10.0)\n",
      "Requirement already satisfied: wheel>=0.26 in /usr/local/lib/python3.6/dist-packages (from tensorflow->ieat==1.0) (0.35.1)\n",
      "Requirement already satisfied: tensorboard<3,>=2.3.0 in /usr/local/lib/python3.6/dist-packages (from tensorflow->ieat==1.0) (2.3.0)\n",
      "Requirement already satisfied: gast==0.3.3 in /usr/local/lib/python3.6/dist-packages (from tensorflow->ieat==1.0) (0.3.3)\n",
      "Requirement already satisfied: astunparse==1.6.3 in /usr/local/lib/python3.6/dist-packages (from tensorflow->ieat==1.0) (1.6.3)\n",
      "Requirement already satisfied: grpcio>=1.8.6 in /usr/local/lib/python3.6/dist-packages (from tensorflow->ieat==1.0) (1.32.0)\n",
      "Requirement already satisfied: six>=1.12.0 in /usr/local/lib/python3.6/dist-packages (from tensorflow->ieat==1.0) (1.15.0)\n",
      "Requirement already satisfied: absl-py>=0.7.0 in /usr/local/lib/python3.6/dist-packages (from tensorflow->ieat==1.0) (0.10.0)\n",
      "Requirement already satisfied: keras-preprocessing<1.2,>=1.1.1 in /usr/local/lib/python3.6/dist-packages (from tensorflow->ieat==1.0) (1.1.2)\n",
      "Requirement already satisfied: termcolor>=1.1.0 in /usr/local/lib/python3.6/dist-packages (from tensorflow->ieat==1.0) (1.1.0)\n",
      "Requirement already satisfied: tensorflow-estimator<2.4.0,>=2.3.0 in /usr/local/lib/python3.6/dist-packages (from tensorflow->ieat==1.0) (2.3.0)\n",
      "Requirement already satisfied: wrapt>=1.11.1 in /usr/local/lib/python3.6/dist-packages (from tensorflow->ieat==1.0) (1.12.1)\n",
      "Requirement already satisfied: protobuf>=3.9.2 in /usr/local/lib/python3.6/dist-packages (from tensorflow->ieat==1.0) (3.12.4)\n",
      "Requirement already satisfied: opt-einsum>=2.3.2 in /usr/local/lib/python3.6/dist-packages (from tensorflow->ieat==1.0) (3.3.0)\n",
      "Requirement already satisfied: scipy==1.4.1 in /usr/local/lib/python3.6/dist-packages (from tensorflow->ieat==1.0) (1.4.1)\n",
      "Requirement already satisfied: google-pasta>=0.1.8 in /usr/local/lib/python3.6/dist-packages (from tensorflow->ieat==1.0) (0.2.0)\n",
      "Requirement already satisfied: click in /usr/local/lib/python3.6/dist-packages (from sacremoses->transformers->ieat==1.0) (7.1.2)\n",
      "Requirement already satisfied: joblib in /usr/local/lib/python3.6/dist-packages (from sacremoses->transformers->ieat==1.0) (0.16.0)\n",
      "Requirement already satisfied: urllib3!=1.25.0,!=1.25.1,<1.26,>=1.21.1 in /usr/local/lib/python3.6/dist-packages (from requests->transformers->ieat==1.0) (1.24.3)\n",
      "Requirement already satisfied: chardet<4,>=3.0.2 in /usr/local/lib/python3.6/dist-packages (from requests->transformers->ieat==1.0) (3.0.4)\n",
      "Requirement already satisfied: certifi>=2017.4.17 in /usr/local/lib/python3.6/dist-packages (from requests->transformers->ieat==1.0) (2020.6.20)\n",
      "Requirement already satisfied: idna<3,>=2.5 in /usr/local/lib/python3.6/dist-packages (from requests->transformers->ieat==1.0) (2.10)\n",
      "Requirement already satisfied: werkzeug>=0.11.15 in /usr/local/lib/python3.6/dist-packages (from tensorboard<3,>=2.3.0->tensorflow->ieat==1.0) (1.0.1)\n",
      "Requirement already satisfied: markdown>=2.6.8 in /usr/local/lib/python3.6/dist-packages (from tensorboard<3,>=2.3.0->tensorflow->ieat==1.0) (3.2.2)\n",
      "Requirement already satisfied: google-auth<2,>=1.6.3 in /usr/local/lib/python3.6/dist-packages (from tensorboard<3,>=2.3.0->tensorflow->ieat==1.0) (1.17.2)\n",
      "Requirement already satisfied: setuptools>=41.0.0 in /usr/local/lib/python3.6/dist-packages (from tensorboard<3,>=2.3.0->tensorflow->ieat==1.0) (50.3.0)\n",
      "Requirement already satisfied: google-auth-oauthlib<0.5,>=0.4.1 in /usr/local/lib/python3.6/dist-packages (from tensorboard<3,>=2.3.0->tensorflow->ieat==1.0) (0.4.1)\n",
      "Requirement already satisfied: tensorboard-plugin-wit>=1.6.0 in /usr/local/lib/python3.6/dist-packages (from tensorboard<3,>=2.3.0->tensorflow->ieat==1.0) (1.7.0)\n",
      "Requirement already satisfied: importlib-metadata; python_version < \"3.8\" in /usr/local/lib/python3.6/dist-packages (from markdown>=2.6.8->tensorboard<3,>=2.3.0->tensorflow->ieat==1.0) (2.0.0)\n",
      "Requirement already satisfied: cachetools<5.0,>=2.0.0 in /usr/local/lib/python3.6/dist-packages (from google-auth<2,>=1.6.3->tensorboard<3,>=2.3.0->tensorflow->ieat==1.0) (4.1.1)\n",
      "Requirement already satisfied: rsa<5,>=3.1.4; python_version >= \"3\" in /usr/local/lib/python3.6/dist-packages (from google-auth<2,>=1.6.3->tensorboard<3,>=2.3.0->tensorflow->ieat==1.0) (4.6)\n",
      "Requirement already satisfied: pyasn1-modules>=0.2.1 in /usr/local/lib/python3.6/dist-packages (from google-auth<2,>=1.6.3->tensorboard<3,>=2.3.0->tensorflow->ieat==1.0) (0.2.8)\n",
      "Requirement already satisfied: requests-oauthlib>=0.7.0 in /usr/local/lib/python3.6/dist-packages (from google-auth-oauthlib<0.5,>=0.4.1->tensorboard<3,>=2.3.0->tensorflow->ieat==1.0) (1.3.0)\n",
      "Requirement already satisfied: zipp>=0.5 in /usr/local/lib/python3.6/dist-packages (from importlib-metadata; python_version < \"3.8\"->markdown>=2.6.8->tensorboard<3,>=2.3.0->tensorflow->ieat==1.0) (3.2.0)\n",
      "Requirement already satisfied: pyasn1>=0.1.3 in /usr/local/lib/python3.6/dist-packages (from rsa<5,>=3.1.4; python_version >= \"3\"->google-auth<2,>=1.6.3->tensorboard<3,>=2.3.0->tensorflow->ieat==1.0) (0.4.8)\n",
      "Requirement already satisfied: oauthlib>=3.0.0 in /usr/local/lib/python3.6/dist-packages (from requests-oauthlib>=0.7.0->google-auth-oauthlib<0.5,>=0.4.1->tensorboard<3,>=2.3.0->tensorflow->ieat==1.0) (3.1.0)\n",
      "Building wheels for collected packages: sacremoses\n",
      "  Building wheel for sacremoses (setup.py) ... \u001b[?25l\u001b[?25hdone\n",
      "  Created wheel for sacremoses: filename=sacremoses-0.0.43-cp36-none-any.whl size=893257 sha256=3f961765e90189d01825b152c097d0f8e6956b7800c4cc9e041147499cc27419\n",
      "  Stored in directory: /root/.cache/pip/wheels/29/3c/fd/7ce5c3f0666dab31a50123635e6fb5e19ceb42ce38d4e58f45\n",
      "Successfully built sacremoses\n",
      "Installing collected packages: sacremoses, sentencepiece, tokenizers, transformers, ieat\n",
      "  Running setup.py develop for ieat\n",
      "Successfully installed ieat sacremoses-0.0.43 sentencepiece-0.1.91 tokenizers-0.8.1rc2 transformers-3.3.1\n",
      "Obtaining file:///content/ieat/weat\n",
      "Requirement already satisfied: pandas in /usr/local/lib/python3.6/dist-packages (from weat==1.0) (1.1.2)\n",
      "Requirement already satisfied: scikit-learn in /usr/local/lib/python3.6/dist-packages (from weat==1.0) (0.22.2.post1)\n",
      "Requirement already satisfied: numpy in /usr/local/lib/python3.6/dist-packages (from weat==1.0) (1.18.5)\n",
      "Requirement already satisfied: pytz>=2017.2 in /usr/local/lib/python3.6/dist-packages (from pandas->weat==1.0) (2018.9)\n",
      "Requirement already satisfied: python-dateutil>=2.7.3 in /usr/local/lib/python3.6/dist-packages (from pandas->weat==1.0) (2.8.1)\n",
      "Requirement already satisfied: scipy>=0.17.0 in /usr/local/lib/python3.6/dist-packages (from scikit-learn->weat==1.0) (1.4.1)\n",
      "Requirement already satisfied: joblib>=0.11 in /usr/local/lib/python3.6/dist-packages (from scikit-learn->weat==1.0) (0.16.0)\n",
      "Requirement already satisfied: six>=1.5 in /usr/local/lib/python3.6/dist-packages (from python-dateutil>=2.7.3->pandas->weat==1.0) (1.15.0)\n",
      "Installing collected packages: weat\n",
      "  Running setup.py develop for weat\n",
      "Successfully installed weat\n"
     ]
    }
   ],
   "source": [
    "# note - you may need to restart the kernel for these installations to take effect\n",
    "!pip install -e .\n",
    "!pip install -e weat"
   ]
  },
  {
   "cell_type": "code",
   "execution_count": 2,
   "metadata": {
    "id": "e0DcaUYv8LYf"
   },
   "outputs": [],
   "source": [
    "model_sizes = [\"s\", \"m\", \"l\"] #small medium large, xl not available\n",
    "model_size = \"l\"\n",
    "models_dir = \"models\"\n",
    "color_clusters_dir = \"clusters\"\n",
    "n_px = 32\n",
    "depth = 152\n",
    "width = 3\n",
    "sk = 1"
   ]
  },
  {
   "cell_type": "code",
   "execution_count": null,
   "metadata": {
    "colab": {
     "base_uri": "https://localhost:8080/",
     "height": 216
    },
    "id": "ylcjIJcwXsFw",
    "outputId": "7a616459-6a33-4a11-9438-3bd5e0e9daf0"
   },
   "outputs": [
    {
     "name": "stdout",
     "output_type": "stream",
     "text": [
      "input args:\n",
      " {\n",
      "    \"download_dir\":\"models/l\",\n",
      "    \"model\":\"l\",\n",
      "    \"ckpt\":\"1000000\",\n",
      "    \"clusters\":true,\n",
      "    \"dataset\":null\n",
      "}\n",
      "Fetching model.ckpt-1000000.data-00000-of-00064: 1.00kit [00:00, 777kit/s]      \n",
      "Fetching model.ckpt-1000000.data-00001-of-00064: 252Mit [00:06, 37.4Mit/s]      \n",
      "Fetching model.ckpt-1000000.data-00002-of-00064:  87%|▊| 217M/249M [00:06<00:00,"
     ]
    }
   ],
   "source": [
    "# download the model - skip if already downloaded\n",
    "!python image-gpt/download.py --model {model_size} --ckpt 1000000 --clusters --download_dir {models_dir}/{model_size}\n",
    "!python image-gpt/download.py --clusters --download_dir {color_clusters_dir}"
   ]
  },
  {
   "cell_type": "markdown",
   "metadata": {
    "id": "fJcpjSByxvhQ"
   },
   "source": [
    "## IATs"
   ]
  },
  {
   "cell_type": "markdown",
   "metadata": {
    "id": "rv34zwKpSHSp"
   },
   "source": [
    "### Quick Summary"
   ]
  },
  {
   "cell_type": "code",
   "execution_count": 3,
   "metadata": {
    "colab": {
     "base_uri": "https://localhost:8080/",
     "height": 562
    },
    "id": "vLl9AC5nSHSp",
    "outputId": "b5c5697e-0c30-496c-db1e-91452870f5c4"
   },
   "outputs": [
    {
     "name": "stdout",
     "output_type": "stream",
     "text": [
      "# igpt-logit #\n",
      "## Insect-Flower ##\n",
      "## Weapon ##\n"
     ]
    },
    {
     "name": "stderr",
     "output_type": "stream",
     "text": [
      "2020-10-01 18:31:10,391 [87459] WARNING  root:202: [JupyterRequire] Equalities contributed 1/924 to p-value\n",
      "2020-10-01 18:31:10,503 [87459] WARNING  root:202: [JupyterRequire] Equalities contributed 1/924 to p-value\n"
     ]
    },
    {
     "name": "stdout",
     "output_type": "stream",
     "text": [
      "## Weapon (Modern) ##\n",
      "## Native ##\n"
     ]
    },
    {
     "name": "stderr",
     "output_type": "stream",
     "text": [
      "2020-10-01 18:31:10,692 [87459] WARNING  root:202: [JupyterRequire] Equalities contributed 1/10000 to p-value\n",
      "2020-10-01 18:31:10,813 [87459] WARNING  root:202: [JupyterRequire] Equalities contributed 1/924 to p-value\n"
     ]
    },
    {
     "name": "stdout",
     "output_type": "stream",
     "text": [
      "## Asian ##\n",
      "## Weight ##\n"
     ]
    },
    {
     "name": "stderr",
     "output_type": "stream",
     "text": [
      "2020-10-01 18:31:11,108 [87459] WARNING  root:202: [JupyterRequire] Equalities contributed 1/3432 to p-value\n"
     ]
    },
    {
     "name": "stdout",
     "output_type": "stream",
     "text": [
      "## Skin-Tone ##\n",
      "## Disability ##\n"
     ]
    },
    {
     "name": "stderr",
     "output_type": "stream",
     "text": [
      "2020-10-01 18:31:11,222 [87459] WARNING  root:202: [JupyterRequire] Equalities contributed 1/70 to p-value\n",
      "2020-10-01 18:31:11,352 [87459] WARNING  root:202: [JupyterRequire] Equalities contributed 1/924 to p-value\n"
     ]
    },
    {
     "name": "stdout",
     "output_type": "stream",
     "text": [
      "## President - Kennedy vs. Trump ##\n",
      "## President - B. Clinton vs. Trump ##\n"
     ]
    },
    {
     "name": "stderr",
     "output_type": "stream",
     "text": [
      "2020-10-01 18:31:11,474 [87459] WARNING  root:202: [JupyterRequire] Equalities contributed 1/924 to p-value\n",
      "2020-10-01 18:31:11,598 [87459] WARNING  root:202: [JupyterRequire] Equalities contributed 1/924 to p-value\n"
     ]
    },
    {
     "name": "stdout",
     "output_type": "stream",
     "text": [
      "## President - Bush vs. Trump ##\n",
      "## President - Lincoln vs. Trump ##\n"
     ]
    },
    {
     "name": "stderr",
     "output_type": "stream",
     "text": [
      "2020-10-01 18:31:11,727 [87459] WARNING  root:202: [JupyterRequire] Equalities contributed 1/924 to p-value\n",
      "2020-10-01 18:31:11,872 [87459] WARNING  root:202: [JupyterRequire] Equalities contributed 1/3432 to p-value\n"
     ]
    },
    {
     "name": "stdout",
     "output_type": "stream",
     "text": [
      "## Religion ##\n",
      "## Sexuality ##\n"
     ]
    },
    {
     "name": "stderr",
     "output_type": "stream",
     "text": [
      "2020-10-01 18:31:12,178 [87459] WARNING  root:202: [JupyterRequire] Equalities contributed 1/924 to p-value\n"
     ]
    },
    {
     "name": "stdout",
     "output_type": "stream",
     "text": [
      "## Race ##\n",
      "## Arab-Muslim ##\n"
     ]
    },
    {
     "name": "stderr",
     "output_type": "stream",
     "text": [
      "2020-10-01 18:31:12,469 [87459] WARNING  root:202: [JupyterRequire] Equalities contributed 1/924 to p-value\n"
     ]
    },
    {
     "name": "stdout",
     "output_type": "stream",
     "text": [
      "## Age ##\n",
      "## Gender-Science ##\n",
      "## Gender-Career ##\n",
      "## Intersectional-Gender-Science-MF ##\n",
      "## Intersectional-Gender-Science-WMBM ##\n",
      "## Intersectional-Gender-Science-WMBF ##\n",
      "## Intersectional-Gender-Science-WMWF ##\n",
      "## Intersectional-Gender-Career-MF ##\n",
      "## Intersectional-Gender-Career-WMBM ##\n",
      "## Intersectional-Gender-Career-WMBF ##\n",
      "## Intersectional-Gender-Career-WMWF ##\n",
      "## Intersectional-Valence-BW ##\n",
      "## Intersectional-Valence-WMBM ##\n",
      "## Intersectional-Valence-WMBF ##\n",
      "## Intersectional-Valence-WMWF ##\n",
      "# igpt #\n",
      "## Insect-Flower ##\n",
      "## Weapon ##\n"
     ]
    },
    {
     "name": "stderr",
     "output_type": "stream",
     "text": [
      "2020-10-01 18:31:15,644 [87459] WARNING  root:202: [JupyterRequire] Equalities contributed 1/924 to p-value\n"
     ]
    },
    {
     "name": "stdout",
     "output_type": "stream",
     "text": [
      "## Weapon (Modern) ##\n"
     ]
    },
    {
     "name": "stderr",
     "output_type": "stream",
     "text": [
      "2020-10-01 18:31:15,949 [87459] WARNING  root:202: [JupyterRequire] Equalities contributed 1/924 to p-value\n"
     ]
    },
    {
     "name": "stdout",
     "output_type": "stream",
     "text": [
      "## Native ##\n"
     ]
    },
    {
     "name": "stderr",
     "output_type": "stream",
     "text": [
      "2020-10-01 18:31:16,394 [87459] WARNING  root:202: [JupyterRequire] Equalities contributed 1/10000 to p-value\n"
     ]
    },
    {
     "name": "stdout",
     "output_type": "stream",
     "text": [
      "## Asian ##\n"
     ]
    },
    {
     "name": "stderr",
     "output_type": "stream",
     "text": [
      "2020-10-01 18:31:16,988 [87459] WARNING  root:202: [JupyterRequire] Equalities contributed 1/924 to p-value\n"
     ]
    },
    {
     "name": "stdout",
     "output_type": "stream",
     "text": [
      "## Weight ##\n",
      "## Skin-Tone ##\n"
     ]
    },
    {
     "name": "stderr",
     "output_type": "stream",
     "text": [
      "2020-10-01 18:31:17,823 [87459] WARNING  root:202: [JupyterRequire] Equalities contributed 1/3432 to p-value\n"
     ]
    },
    {
     "name": "stdout",
     "output_type": "stream",
     "text": [
      "## Disability ##\n"
     ]
    },
    {
     "name": "stderr",
     "output_type": "stream",
     "text": [
      "2020-10-01 18:31:18,285 [87459] WARNING  root:202: [JupyterRequire] Equalities contributed 1/70 to p-value\n"
     ]
    },
    {
     "name": "stdout",
     "output_type": "stream",
     "text": [
      "## President - Kennedy vs. Trump ##\n"
     ]
    },
    {
     "name": "stderr",
     "output_type": "stream",
     "text": [
      "2020-10-01 18:31:18,757 [87459] WARNING  root:202: [JupyterRequire] Equalities contributed 1/924 to p-value\n"
     ]
    },
    {
     "name": "stdout",
     "output_type": "stream",
     "text": [
      "## President - B. Clinton vs. Trump ##\n"
     ]
    },
    {
     "name": "stderr",
     "output_type": "stream",
     "text": [
      "2020-10-01 18:31:19,288 [87459] WARNING  root:202: [JupyterRequire] Equalities contributed 1/924 to p-value\n"
     ]
    },
    {
     "name": "stdout",
     "output_type": "stream",
     "text": [
      "## President - Bush vs. Trump ##\n"
     ]
    },
    {
     "name": "stderr",
     "output_type": "stream",
     "text": [
      "2020-10-01 18:31:19,723 [87459] WARNING  root:202: [JupyterRequire] Equalities contributed 1/924 to p-value\n"
     ]
    },
    {
     "name": "stdout",
     "output_type": "stream",
     "text": [
      "## President - Lincoln vs. Trump ##\n"
     ]
    },
    {
     "name": "stderr",
     "output_type": "stream",
     "text": [
      "2020-10-01 18:31:20,125 [87459] WARNING  root:202: [JupyterRequire] Equalities contributed 1/924 to p-value\n"
     ]
    },
    {
     "name": "stdout",
     "output_type": "stream",
     "text": [
      "## Religion ##\n"
     ]
    },
    {
     "name": "stderr",
     "output_type": "stream",
     "text": [
      "2020-10-01 18:31:20,528 [87459] WARNING  root:202: [JupyterRequire] Equalities contributed 1/3432 to p-value\n"
     ]
    },
    {
     "name": "stdout",
     "output_type": "stream",
     "text": [
      "## Sexuality ##\n",
      "## Race ##\n"
     ]
    },
    {
     "name": "stderr",
     "output_type": "stream",
     "text": [
      "2020-10-01 18:31:21,279 [87459] WARNING  root:202: [JupyterRequire] Equalities contributed 1/924 to p-value\n"
     ]
    },
    {
     "name": "stdout",
     "output_type": "stream",
     "text": [
      "## Arab-Muslim ##\n",
      "## Age ##\n"
     ]
    },
    {
     "name": "stderr",
     "output_type": "stream",
     "text": [
      "2020-10-01 18:31:22,011 [87459] WARNING  root:202: [JupyterRequire] Equalities contributed 1/924 to p-value\n"
     ]
    },
    {
     "name": "stdout",
     "output_type": "stream",
     "text": [
      "## Gender-Science ##\n",
      "## Gender-Career ##\n",
      "## Intersectional-Gender-Science-MF ##\n",
      "## Intersectional-Gender-Science-WMBM ##\n",
      "## Intersectional-Gender-Science-WMBF ##\n",
      "## Intersectional-Gender-Science-WMWF ##\n",
      "## Intersectional-Gender-Career-MF ##\n",
      "## Intersectional-Gender-Career-WMBM ##\n",
      "## Intersectional-Gender-Career-WMBF ##\n",
      "## Intersectional-Gender-Career-WMWF ##\n",
      "## Intersectional-Valence-BW ##\n",
      "## Intersectional-Valence-WMBM ##\n",
      "## Intersectional-Valence-WMBF ##\n",
      "## Intersectional-Valence-WMWF ##\n",
      "# simclr #\n",
      "## Insect-Flower ##\n",
      "## Weapon ##\n"
     ]
    },
    {
     "name": "stderr",
     "output_type": "stream",
     "text": [
      "2020-10-01 18:31:30,756 [87459] WARNING  root:202: [JupyterRequire] Equalities contributed 1/924 to p-value\n"
     ]
    },
    {
     "name": "stdout",
     "output_type": "stream",
     "text": [
      "## Weapon (Modern) ##\n"
     ]
    },
    {
     "name": "stderr",
     "output_type": "stream",
     "text": [
      "2020-10-01 18:31:31,881 [87459] WARNING  root:202: [JupyterRequire] Equalities contributed 1/924 to p-value\n"
     ]
    },
    {
     "name": "stdout",
     "output_type": "stream",
     "text": [
      "## Native ##\n"
     ]
    },
    {
     "name": "stderr",
     "output_type": "stream",
     "text": [
      "2020-10-01 18:31:32,961 [87459] WARNING  root:202: [JupyterRequire] Equalities contributed 1/10000 to p-value\n"
     ]
    },
    {
     "name": "stdout",
     "output_type": "stream",
     "text": [
      "## Asian ##\n"
     ]
    },
    {
     "name": "stderr",
     "output_type": "stream",
     "text": [
      "2020-10-01 18:31:33,994 [87459] WARNING  root:202: [JupyterRequire] Equalities contributed 1/924 to p-value\n"
     ]
    },
    {
     "name": "stdout",
     "output_type": "stream",
     "text": [
      "## Weight ##\n",
      "## Skin-Tone ##\n"
     ]
    },
    {
     "name": "stderr",
     "output_type": "stream",
     "text": [
      "2020-10-01 18:31:36,276 [87459] WARNING  root:202: [JupyterRequire] Equalities contributed 1/3432 to p-value\n"
     ]
    },
    {
     "name": "stdout",
     "output_type": "stream",
     "text": [
      "## Disability ##\n"
     ]
    },
    {
     "name": "stderr",
     "output_type": "stream",
     "text": [
      "2020-10-01 18:31:37,327 [87459] WARNING  root:202: [JupyterRequire] Equalities contributed 1/70 to p-value\n"
     ]
    },
    {
     "name": "stdout",
     "output_type": "stream",
     "text": [
      "## President - Kennedy vs. Trump ##\n"
     ]
    },
    {
     "name": "stderr",
     "output_type": "stream",
     "text": [
      "2020-10-01 18:31:38,394 [87459] WARNING  root:202: [JupyterRequire] Equalities contributed 1/924 to p-value\n"
     ]
    },
    {
     "name": "stdout",
     "output_type": "stream",
     "text": [
      "## President - B. Clinton vs. Trump ##\n"
     ]
    },
    {
     "name": "stderr",
     "output_type": "stream",
     "text": [
      "2020-10-01 18:31:39,462 [87459] WARNING  root:202: [JupyterRequire] Equalities contributed 1/924 to p-value\n"
     ]
    },
    {
     "name": "stdout",
     "output_type": "stream",
     "text": [
      "## President - Bush vs. Trump ##\n"
     ]
    },
    {
     "name": "stderr",
     "output_type": "stream",
     "text": [
      "2020-10-01 18:31:40,615 [87459] WARNING  root:202: [JupyterRequire] Equalities contributed 1/924 to p-value\n"
     ]
    },
    {
     "name": "stdout",
     "output_type": "stream",
     "text": [
      "## President - Lincoln vs. Trump ##\n"
     ]
    },
    {
     "name": "stderr",
     "output_type": "stream",
     "text": [
      "2020-10-01 18:31:41,672 [87459] WARNING  root:202: [JupyterRequire] Equalities contributed 1/924 to p-value\n"
     ]
    },
    {
     "name": "stdout",
     "output_type": "stream",
     "text": [
      "## Religion ##\n"
     ]
    },
    {
     "name": "stderr",
     "output_type": "stream",
     "text": [
      "2020-10-01 18:31:42,735 [87459] WARNING  root:202: [JupyterRequire] Equalities contributed 1/3432 to p-value\n"
     ]
    },
    {
     "name": "stdout",
     "output_type": "stream",
     "text": [
      "## Sexuality ##\n",
      "## Race ##\n"
     ]
    },
    {
     "name": "stderr",
     "output_type": "stream",
     "text": [
      "2020-10-01 18:31:44,975 [87459] WARNING  root:202: [JupyterRequire] Equalities contributed 1/924 to p-value\n"
     ]
    },
    {
     "name": "stdout",
     "output_type": "stream",
     "text": [
      "## Arab-Muslim ##\n",
      "## Age ##\n"
     ]
    },
    {
     "name": "stderr",
     "output_type": "stream",
     "text": [
      "2020-10-01 18:31:47,267 [87459] WARNING  root:202: [JupyterRequire] Equalities contributed 1/924 to p-value\n"
     ]
    },
    {
     "name": "stdout",
     "output_type": "stream",
     "text": [
      "## Gender-Science ##\n",
      "## Gender-Career ##\n",
      "## Intersectional-Gender-Science-MF ##\n",
      "## Intersectional-Gender-Science-WMBM ##\n",
      "## Intersectional-Gender-Science-WMBF ##\n",
      "## Intersectional-Gender-Science-WMWF ##\n",
      "## Intersectional-Gender-Career-MF ##\n",
      "## Intersectional-Gender-Career-WMBM ##\n",
      "## Intersectional-Gender-Career-WMBF ##\n",
      "## Intersectional-Gender-Career-WMWF ##\n",
      "## Intersectional-Valence-BW ##\n",
      "## Intersectional-Valence-WMBM ##\n",
      "## Intersectional-Valence-WMBF ##\n",
      "## Intersectional-Valence-WMWF ##\n"
     ]
    }
   ],
   "source": [
    "from ieat.api import test_all\n",
    "\n",
    "import pandas as pd\n",
    "import numpy as np\n",
    "\n",
    "results = test_all(\n",
    "    {\n",
    "        'igpt-logit': (model_size,models_dir,color_clusters_dir,n_px),\n",
    "        'igpt': (model_size,models_dir,color_clusters_dir,n_px),\n",
    "        'simclr': (depth, width, sk)\n",
    "    }\n",
    ")"
   ]
  },
  {
   "cell_type": "code",
   "execution_count": 4,
   "metadata": {
    "id": "fv2Node4SHSs"
   },
   "outputs": [
    {
     "data": {
      "text/html": [
       "<div>\n",
       "<style scoped>\n",
       "    .dataframe tbody tr th:only-of-type {\n",
       "        vertical-align: middle;\n",
       "    }\n",
       "\n",
       "    .dataframe tbody tr th {\n",
       "        vertical-align: top;\n",
       "    }\n",
       "\n",
       "    .dataframe thead th {\n",
       "        text-align: right;\n",
       "    }\n",
       "</style>\n",
       "<table border=\"1\" class=\"dataframe\">\n",
       "  <thead>\n",
       "    <tr style=\"text-align: right;\">\n",
       "      <th></th>\n",
       "      <th></th>\n",
       "      <th>X</th>\n",
       "      <th>Y</th>\n",
       "      <th>A</th>\n",
       "      <th>B</th>\n",
       "      <th>d</th>\n",
       "      <th>p</th>\n",
       "      <th>n_t</th>\n",
       "      <th>n_a</th>\n",
       "      <th>sig</th>\n",
       "    </tr>\n",
       "  </thead>\n",
       "  <tbody>\n",
       "    <tr>\n",
       "      <th>Intersectional-Gender-Science-MF</th>\n",
       "      <th>igpt-logit</th>\n",
       "      <td>science</td>\n",
       "      <td>liberal-arts</td>\n",
       "      <td>male</td>\n",
       "      <td>female</td>\n",
       "      <td>0.289134</td>\n",
       "      <td>0.1758</td>\n",
       "      <td>21</td>\n",
       "      <td>40</td>\n",
       "      <td></td>\n",
       "    </tr>\n",
       "    <tr>\n",
       "      <th>Intersectional-Gender-Science-WMBM</th>\n",
       "      <th>igpt-logit</th>\n",
       "      <td>science</td>\n",
       "      <td>liberal-arts</td>\n",
       "      <td>white-male</td>\n",
       "      <td>black-male</td>\n",
       "      <td>0.466482</td>\n",
       "      <td>0.069</td>\n",
       "      <td>21</td>\n",
       "      <td>20</td>\n",
       "      <td>*</td>\n",
       "    </tr>\n",
       "    <tr>\n",
       "      <th>Intersectional-Gender-Science-WMBF</th>\n",
       "      <th>igpt-logit</th>\n",
       "      <td>science</td>\n",
       "      <td>liberal-arts</td>\n",
       "      <td>white-male</td>\n",
       "      <td>black-female</td>\n",
       "      <td>0.519803</td>\n",
       "      <td>0.0446</td>\n",
       "      <td>21</td>\n",
       "      <td>20</td>\n",
       "      <td>**</td>\n",
       "    </tr>\n",
       "    <tr>\n",
       "      <th>Intersectional-Gender-Science-WMWF</th>\n",
       "      <th>igpt-logit</th>\n",
       "      <td>science</td>\n",
       "      <td>liberal-arts</td>\n",
       "      <td>white-female</td>\n",
       "      <td>white-male</td>\n",
       "      <td>-0.270214</td>\n",
       "      <td>0.8099</td>\n",
       "      <td>21</td>\n",
       "      <td>20</td>\n",
       "      <td></td>\n",
       "    </tr>\n",
       "    <tr>\n",
       "      <th>Intersectional-Gender-Career-MF</th>\n",
       "      <th>igpt-logit</th>\n",
       "      <td>career</td>\n",
       "      <td>family</td>\n",
       "      <td>male</td>\n",
       "      <td>female</td>\n",
       "      <td>-0.10083</td>\n",
       "      <td>0.6164</td>\n",
       "      <td>21</td>\n",
       "      <td>40</td>\n",
       "      <td></td>\n",
       "    </tr>\n",
       "    <tr>\n",
       "      <th>Intersectional-Gender-Career-WMBM</th>\n",
       "      <th>igpt-logit</th>\n",
       "      <td>career</td>\n",
       "      <td>family</td>\n",
       "      <td>black-male</td>\n",
       "      <td>white-male</td>\n",
       "      <td>0.37432</td>\n",
       "      <td>0.1129</td>\n",
       "      <td>21</td>\n",
       "      <td>20</td>\n",
       "      <td></td>\n",
       "    </tr>\n",
       "    <tr>\n",
       "      <th>Intersectional-Gender-Career-WMBF</th>\n",
       "      <th>igpt-logit</th>\n",
       "      <td>career</td>\n",
       "      <td>family</td>\n",
       "      <td>white-male</td>\n",
       "      <td>black-female</td>\n",
       "      <td>-0.290541</td>\n",
       "      <td>0.8191</td>\n",
       "      <td>21</td>\n",
       "      <td>20</td>\n",
       "      <td></td>\n",
       "    </tr>\n",
       "    <tr>\n",
       "      <th>Intersectional-Gender-Career-WMWF</th>\n",
       "      <th>igpt-logit</th>\n",
       "      <td>career</td>\n",
       "      <td>family</td>\n",
       "      <td>white-male</td>\n",
       "      <td>white-female</td>\n",
       "      <td>-0.0753726</td>\n",
       "      <td>0.5909</td>\n",
       "      <td>21</td>\n",
       "      <td>20</td>\n",
       "      <td></td>\n",
       "    </tr>\n",
       "    <tr>\n",
       "      <th>Intersectional-Valence-BW</th>\n",
       "      <th>igpt-logit</th>\n",
       "      <td>white</td>\n",
       "      <td>black</td>\n",
       "      <td>pleasant</td>\n",
       "      <td>unpleasant</td>\n",
       "      <td>0.439286</td>\n",
       "      <td>0.0274</td>\n",
       "      <td>40</td>\n",
       "      <td>55</td>\n",
       "      <td>**</td>\n",
       "    </tr>\n",
       "    <tr>\n",
       "      <th>Intersectional-Valence-WMBM</th>\n",
       "      <th>igpt-logit</th>\n",
       "      <td>white-male</td>\n",
       "      <td>black-male</td>\n",
       "      <td>pleasant</td>\n",
       "      <td>unpleasant</td>\n",
       "      <td>0.199661</td>\n",
       "      <td>0.2639</td>\n",
       "      <td>20</td>\n",
       "      <td>55</td>\n",
       "      <td></td>\n",
       "    </tr>\n",
       "    <tr>\n",
       "      <th>Intersectional-Valence-WMBF</th>\n",
       "      <th>igpt-logit</th>\n",
       "      <td>white-male</td>\n",
       "      <td>black-female</td>\n",
       "      <td>pleasant</td>\n",
       "      <td>unpleasant</td>\n",
       "      <td>-0.156517</td>\n",
       "      <td>0.6907</td>\n",
       "      <td>20</td>\n",
       "      <td>55</td>\n",
       "      <td></td>\n",
       "    </tr>\n",
       "    <tr>\n",
       "      <th>Intersectional-Valence-WMWF</th>\n",
       "      <th>igpt-logit</th>\n",
       "      <td>white-female</td>\n",
       "      <td>white-male</td>\n",
       "      <td>pleasant</td>\n",
       "      <td>unpleasant</td>\n",
       "      <td>0.825409</td>\n",
       "      <td>0.0025</td>\n",
       "      <td>20</td>\n",
       "      <td>55</td>\n",
       "      <td>***</td>\n",
       "    </tr>\n",
       "    <tr>\n",
       "      <th>Intersectional-Gender-Science-MF</th>\n",
       "      <th>igpt</th>\n",
       "      <td>science</td>\n",
       "      <td>liberal-arts</td>\n",
       "      <td>male</td>\n",
       "      <td>female</td>\n",
       "      <td>-0.00621417</td>\n",
       "      <td>0.5094</td>\n",
       "      <td>21</td>\n",
       "      <td>40</td>\n",
       "      <td></td>\n",
       "    </tr>\n",
       "    <tr>\n",
       "      <th>Intersectional-Gender-Science-WMBM</th>\n",
       "      <th>igpt</th>\n",
       "      <td>science</td>\n",
       "      <td>liberal-arts</td>\n",
       "      <td>white-male</td>\n",
       "      <td>black-male</td>\n",
       "      <td>0.671491</td>\n",
       "      <td>0.0139</td>\n",
       "      <td>21</td>\n",
       "      <td>20</td>\n",
       "      <td>**</td>\n",
       "    </tr>\n",
       "    <tr>\n",
       "      <th>Intersectional-Gender-Science-WMBF</th>\n",
       "      <th>igpt</th>\n",
       "      <td>science</td>\n",
       "      <td>liberal-arts</td>\n",
       "      <td>white-male</td>\n",
       "      <td>black-female</td>\n",
       "      <td>1.08818</td>\n",
       "      <td>0.0003</td>\n",
       "      <td>21</td>\n",
       "      <td>20</td>\n",
       "      <td>***</td>\n",
       "    </tr>\n",
       "    <tr>\n",
       "      <th>Intersectional-Gender-Science-WMWF</th>\n",
       "      <th>igpt</th>\n",
       "      <td>science</td>\n",
       "      <td>liberal-arts</td>\n",
       "      <td>white-female</td>\n",
       "      <td>white-male</td>\n",
       "      <td>0.373066</td>\n",
       "      <td>0.1223</td>\n",
       "      <td>21</td>\n",
       "      <td>20</td>\n",
       "      <td></td>\n",
       "    </tr>\n",
       "    <tr>\n",
       "      <th>Intersectional-Gender-Career-MF</th>\n",
       "      <th>igpt</th>\n",
       "      <td>career</td>\n",
       "      <td>family</td>\n",
       "      <td>male</td>\n",
       "      <td>female</td>\n",
       "      <td>0.882524</td>\n",
       "      <td>0.0018</td>\n",
       "      <td>21</td>\n",
       "      <td>40</td>\n",
       "      <td>***</td>\n",
       "    </tr>\n",
       "    <tr>\n",
       "      <th>Intersectional-Gender-Career-WMBM</th>\n",
       "      <th>igpt</th>\n",
       "      <td>career</td>\n",
       "      <td>family</td>\n",
       "      <td>black-male</td>\n",
       "      <td>white-male</td>\n",
       "      <td>0.81919</td>\n",
       "      <td>0.0032</td>\n",
       "      <td>21</td>\n",
       "      <td>20</td>\n",
       "      <td>***</td>\n",
       "    </tr>\n",
       "    <tr>\n",
       "      <th>Intersectional-Gender-Career-WMBF</th>\n",
       "      <th>igpt</th>\n",
       "      <td>career</td>\n",
       "      <td>family</td>\n",
       "      <td>white-male</td>\n",
       "      <td>black-female</td>\n",
       "      <td>0.216087</td>\n",
       "      <td>0.246</td>\n",
       "      <td>21</td>\n",
       "      <td>20</td>\n",
       "      <td></td>\n",
       "    </tr>\n",
       "    <tr>\n",
       "      <th>Intersectional-Gender-Career-WMWF</th>\n",
       "      <th>igpt</th>\n",
       "      <td>career</td>\n",
       "      <td>family</td>\n",
       "      <td>white-male</td>\n",
       "      <td>white-female</td>\n",
       "      <td>0.547846</td>\n",
       "      <td>0.0385</td>\n",
       "      <td>21</td>\n",
       "      <td>20</td>\n",
       "      <td>**</td>\n",
       "    </tr>\n",
       "    <tr>\n",
       "      <th>Intersectional-Valence-BW</th>\n",
       "      <th>igpt</th>\n",
       "      <td>white</td>\n",
       "      <td>black</td>\n",
       "      <td>pleasant</td>\n",
       "      <td>unpleasant</td>\n",
       "      <td>1.1586</td>\n",
       "      <td>0.0001</td>\n",
       "      <td>40</td>\n",
       "      <td>55</td>\n",
       "      <td>***</td>\n",
       "    </tr>\n",
       "    <tr>\n",
       "      <th>Intersectional-Valence-WMBM</th>\n",
       "      <th>igpt</th>\n",
       "      <td>white-male</td>\n",
       "      <td>black-male</td>\n",
       "      <td>pleasant</td>\n",
       "      <td>unpleasant</td>\n",
       "      <td>0.87536</td>\n",
       "      <td>0.0019</td>\n",
       "      <td>20</td>\n",
       "      <td>55</td>\n",
       "      <td>***</td>\n",
       "    </tr>\n",
       "    <tr>\n",
       "      <th>Intersectional-Valence-WMBF</th>\n",
       "      <th>igpt</th>\n",
       "      <td>white-male</td>\n",
       "      <td>black-female</td>\n",
       "      <td>pleasant</td>\n",
       "      <td>unpleasant</td>\n",
       "      <td>0.826746</td>\n",
       "      <td>0.0037</td>\n",
       "      <td>20</td>\n",
       "      <td>55</td>\n",
       "      <td>***</td>\n",
       "    </tr>\n",
       "    <tr>\n",
       "      <th>Intersectional-Valence-WMWF</th>\n",
       "      <th>igpt</th>\n",
       "      <td>white-female</td>\n",
       "      <td>white-male</td>\n",
       "      <td>pleasant</td>\n",
       "      <td>unpleasant</td>\n",
       "      <td>0.794101</td>\n",
       "      <td>0.0041</td>\n",
       "      <td>20</td>\n",
       "      <td>55</td>\n",
       "      <td>***</td>\n",
       "    </tr>\n",
       "    <tr>\n",
       "      <th>Intersectional-Gender-Science-MF</th>\n",
       "      <th>simclr</th>\n",
       "      <td>science</td>\n",
       "      <td>liberal-arts</td>\n",
       "      <td>male</td>\n",
       "      <td>female</td>\n",
       "      <td>-0.323996</td>\n",
       "      <td>0.85</td>\n",
       "      <td>21</td>\n",
       "      <td>40</td>\n",
       "      <td></td>\n",
       "    </tr>\n",
       "    <tr>\n",
       "      <th>Intersectional-Gender-Science-WMBM</th>\n",
       "      <th>simclr</th>\n",
       "      <td>science</td>\n",
       "      <td>liberal-arts</td>\n",
       "      <td>white-male</td>\n",
       "      <td>black-male</td>\n",
       "      <td>0.780363</td>\n",
       "      <td>0.0053</td>\n",
       "      <td>21</td>\n",
       "      <td>20</td>\n",
       "      <td>***</td>\n",
       "    </tr>\n",
       "    <tr>\n",
       "      <th>Intersectional-Gender-Science-WMBF</th>\n",
       "      <th>simclr</th>\n",
       "      <td>science</td>\n",
       "      <td>liberal-arts</td>\n",
       "      <td>white-male</td>\n",
       "      <td>black-female</td>\n",
       "      <td>0.896361</td>\n",
       "      <td>0.0007</td>\n",
       "      <td>21</td>\n",
       "      <td>20</td>\n",
       "      <td>***</td>\n",
       "    </tr>\n",
       "    <tr>\n",
       "      <th>Intersectional-Gender-Science-WMWF</th>\n",
       "      <th>simclr</th>\n",
       "      <td>science</td>\n",
       "      <td>liberal-arts</td>\n",
       "      <td>white-female</td>\n",
       "      <td>white-male</td>\n",
       "      <td>0.343482</td>\n",
       "      <td>0.1319</td>\n",
       "      <td>21</td>\n",
       "      <td>20</td>\n",
       "      <td></td>\n",
       "    </tr>\n",
       "    <tr>\n",
       "      <th>Intersectional-Gender-Career-MF</th>\n",
       "      <th>simclr</th>\n",
       "      <td>career</td>\n",
       "      <td>family</td>\n",
       "      <td>male</td>\n",
       "      <td>female</td>\n",
       "      <td>0.993579</td>\n",
       "      <td>0.0003</td>\n",
       "      <td>21</td>\n",
       "      <td>40</td>\n",
       "      <td>***</td>\n",
       "    </tr>\n",
       "    <tr>\n",
       "      <th>Intersectional-Gender-Career-WMBM</th>\n",
       "      <th>simclr</th>\n",
       "      <td>career</td>\n",
       "      <td>family</td>\n",
       "      <td>black-male</td>\n",
       "      <td>white-male</td>\n",
       "      <td>0.160095</td>\n",
       "      <td>0.3126</td>\n",
       "      <td>21</td>\n",
       "      <td>20</td>\n",
       "      <td></td>\n",
       "    </tr>\n",
       "    <tr>\n",
       "      <th>Intersectional-Gender-Career-WMBF</th>\n",
       "      <th>simclr</th>\n",
       "      <td>career</td>\n",
       "      <td>family</td>\n",
       "      <td>white-male</td>\n",
       "      <td>black-female</td>\n",
       "      <td>0.638052</td>\n",
       "      <td>0.0175</td>\n",
       "      <td>21</td>\n",
       "      <td>20</td>\n",
       "      <td>**</td>\n",
       "    </tr>\n",
       "    <tr>\n",
       "      <th>Intersectional-Gender-Career-WMWF</th>\n",
       "      <th>simclr</th>\n",
       "      <td>career</td>\n",
       "      <td>family</td>\n",
       "      <td>white-male</td>\n",
       "      <td>white-female</td>\n",
       "      <td>0.969361</td>\n",
       "      <td>0.0007</td>\n",
       "      <td>21</td>\n",
       "      <td>20</td>\n",
       "      <td>***</td>\n",
       "    </tr>\n",
       "    <tr>\n",
       "      <th>Intersectional-Valence-BW</th>\n",
       "      <th>simclr</th>\n",
       "      <td>white</td>\n",
       "      <td>black</td>\n",
       "      <td>pleasant</td>\n",
       "      <td>unpleasant</td>\n",
       "      <td>0.0646067</td>\n",
       "      <td>0.3821</td>\n",
       "      <td>40</td>\n",
       "      <td>55</td>\n",
       "      <td></td>\n",
       "    </tr>\n",
       "    <tr>\n",
       "      <th>Intersectional-Valence-WMBM</th>\n",
       "      <th>simclr</th>\n",
       "      <td>white-male</td>\n",
       "      <td>black-male</td>\n",
       "      <td>pleasant</td>\n",
       "      <td>unpleasant</td>\n",
       "      <td>-0.20154</td>\n",
       "      <td>0.7425</td>\n",
       "      <td>20</td>\n",
       "      <td>55</td>\n",
       "      <td></td>\n",
       "    </tr>\n",
       "    <tr>\n",
       "      <th>Intersectional-Valence-WMBF</th>\n",
       "      <th>simclr</th>\n",
       "      <td>white-male</td>\n",
       "      <td>black-female</td>\n",
       "      <td>pleasant</td>\n",
       "      <td>unpleasant</td>\n",
       "      <td>-0.145548</td>\n",
       "      <td>0.6689</td>\n",
       "      <td>20</td>\n",
       "      <td>55</td>\n",
       "      <td></td>\n",
       "    </tr>\n",
       "    <tr>\n",
       "      <th>Intersectional-Valence-WMWF</th>\n",
       "      <th>simclr</th>\n",
       "      <td>white-female</td>\n",
       "      <td>white-male</td>\n",
       "      <td>pleasant</td>\n",
       "      <td>unpleasant</td>\n",
       "      <td>0.460166</td>\n",
       "      <td>0.0726</td>\n",
       "      <td>20</td>\n",
       "      <td>55</td>\n",
       "      <td>*</td>\n",
       "    </tr>\n",
       "  </tbody>\n",
       "</table>\n",
       "</div>"
      ],
      "text/plain": [
       "                                                          X             Y  \\\n",
       "Intersectional-Gender-Science-MF   igpt-logit       science  liberal-arts   \n",
       "Intersectional-Gender-Science-WMBM igpt-logit       science  liberal-arts   \n",
       "Intersectional-Gender-Science-WMBF igpt-logit       science  liberal-arts   \n",
       "Intersectional-Gender-Science-WMWF igpt-logit       science  liberal-arts   \n",
       "Intersectional-Gender-Career-MF    igpt-logit        career        family   \n",
       "Intersectional-Gender-Career-WMBM  igpt-logit        career        family   \n",
       "Intersectional-Gender-Career-WMBF  igpt-logit        career        family   \n",
       "Intersectional-Gender-Career-WMWF  igpt-logit        career        family   \n",
       "Intersectional-Valence-BW          igpt-logit         white         black   \n",
       "Intersectional-Valence-WMBM        igpt-logit    white-male    black-male   \n",
       "Intersectional-Valence-WMBF        igpt-logit    white-male  black-female   \n",
       "Intersectional-Valence-WMWF        igpt-logit  white-female    white-male   \n",
       "Intersectional-Gender-Science-MF   igpt             science  liberal-arts   \n",
       "Intersectional-Gender-Science-WMBM igpt             science  liberal-arts   \n",
       "Intersectional-Gender-Science-WMBF igpt             science  liberal-arts   \n",
       "Intersectional-Gender-Science-WMWF igpt             science  liberal-arts   \n",
       "Intersectional-Gender-Career-MF    igpt              career        family   \n",
       "Intersectional-Gender-Career-WMBM  igpt              career        family   \n",
       "Intersectional-Gender-Career-WMBF  igpt              career        family   \n",
       "Intersectional-Gender-Career-WMWF  igpt              career        family   \n",
       "Intersectional-Valence-BW          igpt               white         black   \n",
       "Intersectional-Valence-WMBM        igpt          white-male    black-male   \n",
       "Intersectional-Valence-WMBF        igpt          white-male  black-female   \n",
       "Intersectional-Valence-WMWF        igpt        white-female    white-male   \n",
       "Intersectional-Gender-Science-MF   simclr           science  liberal-arts   \n",
       "Intersectional-Gender-Science-WMBM simclr           science  liberal-arts   \n",
       "Intersectional-Gender-Science-WMBF simclr           science  liberal-arts   \n",
       "Intersectional-Gender-Science-WMWF simclr           science  liberal-arts   \n",
       "Intersectional-Gender-Career-MF    simclr            career        family   \n",
       "Intersectional-Gender-Career-WMBM  simclr            career        family   \n",
       "Intersectional-Gender-Career-WMBF  simclr            career        family   \n",
       "Intersectional-Gender-Career-WMWF  simclr            career        family   \n",
       "Intersectional-Valence-BW          simclr             white         black   \n",
       "Intersectional-Valence-WMBM        simclr        white-male    black-male   \n",
       "Intersectional-Valence-WMBF        simclr        white-male  black-female   \n",
       "Intersectional-Valence-WMWF        simclr      white-female    white-male   \n",
       "\n",
       "                                                          A             B  \\\n",
       "Intersectional-Gender-Science-MF   igpt-logit          male        female   \n",
       "Intersectional-Gender-Science-WMBM igpt-logit    white-male    black-male   \n",
       "Intersectional-Gender-Science-WMBF igpt-logit    white-male  black-female   \n",
       "Intersectional-Gender-Science-WMWF igpt-logit  white-female    white-male   \n",
       "Intersectional-Gender-Career-MF    igpt-logit          male        female   \n",
       "Intersectional-Gender-Career-WMBM  igpt-logit    black-male    white-male   \n",
       "Intersectional-Gender-Career-WMBF  igpt-logit    white-male  black-female   \n",
       "Intersectional-Gender-Career-WMWF  igpt-logit    white-male  white-female   \n",
       "Intersectional-Valence-BW          igpt-logit      pleasant    unpleasant   \n",
       "Intersectional-Valence-WMBM        igpt-logit      pleasant    unpleasant   \n",
       "Intersectional-Valence-WMBF        igpt-logit      pleasant    unpleasant   \n",
       "Intersectional-Valence-WMWF        igpt-logit      pleasant    unpleasant   \n",
       "Intersectional-Gender-Science-MF   igpt                male        female   \n",
       "Intersectional-Gender-Science-WMBM igpt          white-male    black-male   \n",
       "Intersectional-Gender-Science-WMBF igpt          white-male  black-female   \n",
       "Intersectional-Gender-Science-WMWF igpt        white-female    white-male   \n",
       "Intersectional-Gender-Career-MF    igpt                male        female   \n",
       "Intersectional-Gender-Career-WMBM  igpt          black-male    white-male   \n",
       "Intersectional-Gender-Career-WMBF  igpt          white-male  black-female   \n",
       "Intersectional-Gender-Career-WMWF  igpt          white-male  white-female   \n",
       "Intersectional-Valence-BW          igpt            pleasant    unpleasant   \n",
       "Intersectional-Valence-WMBM        igpt            pleasant    unpleasant   \n",
       "Intersectional-Valence-WMBF        igpt            pleasant    unpleasant   \n",
       "Intersectional-Valence-WMWF        igpt            pleasant    unpleasant   \n",
       "Intersectional-Gender-Science-MF   simclr              male        female   \n",
       "Intersectional-Gender-Science-WMBM simclr        white-male    black-male   \n",
       "Intersectional-Gender-Science-WMBF simclr        white-male  black-female   \n",
       "Intersectional-Gender-Science-WMWF simclr      white-female    white-male   \n",
       "Intersectional-Gender-Career-MF    simclr              male        female   \n",
       "Intersectional-Gender-Career-WMBM  simclr        black-male    white-male   \n",
       "Intersectional-Gender-Career-WMBF  simclr        white-male  black-female   \n",
       "Intersectional-Gender-Career-WMWF  simclr        white-male  white-female   \n",
       "Intersectional-Valence-BW          simclr          pleasant    unpleasant   \n",
       "Intersectional-Valence-WMBM        simclr          pleasant    unpleasant   \n",
       "Intersectional-Valence-WMBF        simclr          pleasant    unpleasant   \n",
       "Intersectional-Valence-WMWF        simclr          pleasant    unpleasant   \n",
       "\n",
       "                                                        d       p n_t n_a  sig  \n",
       "Intersectional-Gender-Science-MF   igpt-logit    0.289134  0.1758  21  40       \n",
       "Intersectional-Gender-Science-WMBM igpt-logit    0.466482   0.069  21  20    *  \n",
       "Intersectional-Gender-Science-WMBF igpt-logit    0.519803  0.0446  21  20   **  \n",
       "Intersectional-Gender-Science-WMWF igpt-logit   -0.270214  0.8099  21  20       \n",
       "Intersectional-Gender-Career-MF    igpt-logit    -0.10083  0.6164  21  40       \n",
       "Intersectional-Gender-Career-WMBM  igpt-logit     0.37432  0.1129  21  20       \n",
       "Intersectional-Gender-Career-WMBF  igpt-logit   -0.290541  0.8191  21  20       \n",
       "Intersectional-Gender-Career-WMWF  igpt-logit  -0.0753726  0.5909  21  20       \n",
       "Intersectional-Valence-BW          igpt-logit    0.439286  0.0274  40  55   **  \n",
       "Intersectional-Valence-WMBM        igpt-logit    0.199661  0.2639  20  55       \n",
       "Intersectional-Valence-WMBF        igpt-logit   -0.156517  0.6907  20  55       \n",
       "Intersectional-Valence-WMWF        igpt-logit    0.825409  0.0025  20  55  ***  \n",
       "Intersectional-Gender-Science-MF   igpt       -0.00621417  0.5094  21  40       \n",
       "Intersectional-Gender-Science-WMBM igpt          0.671491  0.0139  21  20   **  \n",
       "Intersectional-Gender-Science-WMBF igpt           1.08818  0.0003  21  20  ***  \n",
       "Intersectional-Gender-Science-WMWF igpt          0.373066  0.1223  21  20       \n",
       "Intersectional-Gender-Career-MF    igpt          0.882524  0.0018  21  40  ***  \n",
       "Intersectional-Gender-Career-WMBM  igpt           0.81919  0.0032  21  20  ***  \n",
       "Intersectional-Gender-Career-WMBF  igpt          0.216087   0.246  21  20       \n",
       "Intersectional-Gender-Career-WMWF  igpt          0.547846  0.0385  21  20   **  \n",
       "Intersectional-Valence-BW          igpt            1.1586  0.0001  40  55  ***  \n",
       "Intersectional-Valence-WMBM        igpt           0.87536  0.0019  20  55  ***  \n",
       "Intersectional-Valence-WMBF        igpt          0.826746  0.0037  20  55  ***  \n",
       "Intersectional-Valence-WMWF        igpt          0.794101  0.0041  20  55  ***  \n",
       "Intersectional-Gender-Science-MF   simclr       -0.323996    0.85  21  40       \n",
       "Intersectional-Gender-Science-WMBM simclr        0.780363  0.0053  21  20  ***  \n",
       "Intersectional-Gender-Science-WMBF simclr        0.896361  0.0007  21  20  ***  \n",
       "Intersectional-Gender-Science-WMWF simclr        0.343482  0.1319  21  20       \n",
       "Intersectional-Gender-Career-MF    simclr        0.993579  0.0003  21  40  ***  \n",
       "Intersectional-Gender-Career-WMBM  simclr        0.160095  0.3126  21  20       \n",
       "Intersectional-Gender-Career-WMBF  simclr        0.638052  0.0175  21  20   **  \n",
       "Intersectional-Gender-Career-WMWF  simclr        0.969361  0.0007  21  20  ***  \n",
       "Intersectional-Valence-BW          simclr       0.0646067  0.3821  40  55       \n",
       "Intersectional-Valence-WMBM        simclr        -0.20154  0.7425  20  55       \n",
       "Intersectional-Valence-WMBF        simclr       -0.145548  0.6689  20  55       \n",
       "Intersectional-Valence-WMWF        simclr        0.460166  0.0726  20  55    *  "
      ]
     },
     "execution_count": 4,
     "metadata": {},
     "output_type": "execute_result"
    }
   ],
   "source": [
    "import pandas as pd\n",
    "\n",
    "results_df = pd.DataFrame(results).transpose()\n",
    "results_df.columns = [\"X\", \"Y\", \"A\", \"B\", \"d\", \"p\", \"n_t\", \"n_a\"]\n",
    "for c in results_df.columns[:4]:\n",
    "    results_df[c] = results_df[c].str.split(\"/\").str[-1]\n",
    "results_df[\"sig\"] = \"\"\n",
    "for l in [0.10, 0.05, 0.01]:\n",
    "    results_df.sig[results_df.p < l] += \"*\"\n",
    "intersectional = results_df.index.get_level_values(0).str.contains(\"Intersectional\")\n",
    "results_df[intersectional]"
   ]
  },
  {
   "cell_type": "code",
   "execution_count": 5,
   "metadata": {
    "id": "9x5qXqGrSHSu"
   },
   "outputs": [],
   "source": [
    "# Generate latex table output\n",
    "experiments = (\n",
    "    \"Insect-Flower\",\n",
    "    \"Gender-Science\",\n",
    "    \"Gender-Career\",\n",
    "    \"Skin-Tone\",\n",
    "    \"Race\",\n",
    "    \"Weapon\",\n",
    "    \"Weapon (Modern)\",\n",
    "    \"Native\",\n",
    "    \"Asian\",\n",
    "    \"Weight\",\n",
    "    \"Religion\",\n",
    "    \"Sexuality\",\n",
    "    \"Disability\",\n",
    "    \"Arab-Muslim\",\n",
    "    \"Age\"\n",
    ")\n",
    "experiments += tuple(results_df.index.get_level_values(0)[results_df.index.get_level_values(0).str.contains(\"Intersectional\")])\n",
    "latex_df = results_df\n",
    "latex_df.index = latex_df.index.set_names([\"Test\", \"Model\"])\n",
    "latex_df = latex_df.sort_index(level=[\"Test\", \"Model\"])\n",
    "def round(s, i='{0:.2f}'):\n",
    "    return s.apply(lambda x: i.format(x)).astype(str)\n",
    "latex_df[\"d\"] = round(latex_df.d) + latex_df.sig.astype(str)\n",
    "latex_df[\"p\"] = round(latex_df.p, i='{0:0.3f}')\n",
    "latex_df = latex_df.drop(columns=[\"sig\"])\n",
    "latex_df.columns = [f\"${col}$\" for col in latex_df.columns]\n",
    "\n",
    "def models(df, *keys):\n",
    "    return df.index.get_level_values(\"Model\").isin(keys)\n",
    "\n",
    "# main results\n",
    "main_experiment = latex_df.index.get_level_values(\"Test\").isin(experiments)\n",
    "intersectional = latex_df.index.get_level_values(\"Test\").str.contains(\"Intersectional\")\n",
    "latex_df[main_experiment & ~intersectional]\\\n",
    "    .drop(columns=[\"$X$\", \"$Y$\", \"$A$\", \"$B$\"]).to_latex('output/results.tex', escape=False)\n",
    "# intersectional results\n",
    "latex_df[main_experiment & intersectional & models(latex_df, \"igpt\", \"simclr\")]\\\n",
    "    .to_latex('output/intersectional.tex', escape=False)\n",
    "# table of iats w/ categories\n",
    "latex_df.droplevel(\"Model\").groupby(\"Test\").head(1)\\\n",
    "    .drop(columns=[\"$d$\", \"$p$\", \"$n_t$\", \"$n_a$\"]).to_latex('output/iats.tex', escape=False)\n",
    "stimuli = pd.read_csv(\"data/stimuli.csv\")\n",
    "stimuli.dropna(axis=0, subset=[\"Word\", \"Source\"])\\\n",
    "    .drop(columns=\"Collected (N=n)\").set_index([\"IAT\", \"Category\"]).to_latex(\"output/stimuli.tex\")"
   ]
  },
  {
   "cell_type": "markdown",
   "metadata": {
    "id": "WH3YS_ytSHSw"
   },
   "source": [
    "### Detail View"
   ]
  },
  {
   "cell_type": "markdown",
   "metadata": {
    "id": "9ePsWzNWpiTI"
   },
   "source": [
    "#### Weapons"
   ]
  },
  {
   "cell_type": "code",
   "execution_count": null,
   "metadata": {
    "id": "xF-vbLVkWSLo"
   },
   "outputs": [],
   "source": [
    "from ieat.api import test\n",
    "\n",
    "test(\n",
    "    \"data/experiments/weapon/black\",\n",
    "    \"data/experiments/weapon/white\",\n",
    "    \"data/experiments/weapon/tool\",\n",
    "    \"data/experiments/weapon/weapon\",\n",
    "    model_type=\"openai\", \n",
    "    model_size=model_size,\n",
    "    models_dir=models_dir,\n",
    "    clusters_dir=color_clusters_dir,\n",
    "    n_px=n_px\n",
    "#     from_cache=False\n",
    ")"
   ]
  },
  {
   "cell_type": "markdown",
   "metadata": {
    "id": "SbZZ-m6QpiTM"
   },
   "source": [
    "#### Native"
   ]
  },
  {
   "cell_type": "code",
   "execution_count": null,
   "metadata": {
    "id": "wTs4pDDwpiTM"
   },
   "outputs": [],
   "source": [
    "test(\n",
    "    \"data/experiments/native/euro\",\n",
    "    \"data/experiments/native/native\",\n",
    "    \"data/experiments/native/us\",\n",
    "    \"data/experiments/native/world\",\n",
    "    model_type=\"openai\", \n",
    "    model_size=model_size,\n",
    "    models_dir=models_dir,\n",
    "    clusters_dir=color_clusters_dir,\n",
    "    n_px=n_px\n",
    "#     from_cache=False\n",
    ")"
   ]
  },
  {
   "cell_type": "markdown",
   "metadata": {
    "id": "qyrLx0cmpiTO"
   },
   "source": [
    "#### Asian"
   ]
  },
  {
   "cell_type": "code",
   "execution_count": null,
   "metadata": {
    "id": "_nEjOV-QpiTP"
   },
   "outputs": [],
   "source": [
    "test(\n",
    "    \"data/experiments/asian/european-american\",\n",
    "    \"data/experiments/asian/asian-american\",\n",
    "    \"data/experiments/asian/american\",\n",
    "    \"data/experiments/asian/foreign\",\n",
    "    model_type=\"openai\", \n",
    "    model_size=model_size,\n",
    "    models_dir=models_dir,\n",
    "    clusters_dir=color_clusters_dir,\n",
    "    n_px=n_px\n",
    "#     from_cache=False\n",
    ")"
   ]
  },
  {
   "cell_type": "markdown",
   "metadata": {
    "id": "O8Wpc7vPxvhZ"
   },
   "source": [
    "#### Insect-Flower"
   ]
  },
  {
   "cell_type": "code",
   "execution_count": null,
   "metadata": {
    "id": "y_dzK41F6Hso"
   },
   "outputs": [],
   "source": [
    "from ieat.api import test\n",
    "\n",
    "test(\n",
    "    \"data/experiments/insect-flower/flower\",\n",
    "    \"data/experiments/insect-flower/insect\",\n",
    "    \"data/experiments/valence/pleasant\",\n",
    "    \"data/experiments/valence/unpleasant\",\n",
    "    model_type=\"openai\", \n",
    "    model_size=model_size,\n",
    "    models_dir=models_dir,\n",
    "    clusters_dir=color_clusters_dir,\n",
    "    n_px=n_px,\n",
    "#     from_cache=False,\n",
    "    verbose=True\n",
    ")"
   ]
  },
  {
   "cell_type": "markdown",
   "metadata": {
    "id": "ZalmenA0xvhb"
   },
   "source": [
    "#### Weight"
   ]
  },
  {
   "cell_type": "code",
   "execution_count": null,
   "metadata": {
    "id": "ziXl8gaWxvhc"
   },
   "outputs": [],
   "source": [
    "from ieat.api import test\n",
    "\n",
    "test(\n",
    "    \"data/experiments/weight/thin\",\n",
    "    \"data/experiments/weight/fat\",\n",
    "    \"data/experiments/valence/pleasant\",\n",
    "    \"data/experiments/valence/unpleasant\",\n",
    "    model_type=\"openai\", \n",
    "    model_size=model_size,\n",
    "    models_dir=models_dir,\n",
    "    clusters_dir=color_clusters_dir,\n",
    "    n_px=n_px,\n",
    "#     from_cache=False,\n",
    "    verbose=True\n",
    ")"
   ]
  },
  {
   "cell_type": "markdown",
   "metadata": {
    "id": "7gYnQK4vxvhe"
   },
   "source": [
    "#### Skin-Tone"
   ]
  },
  {
   "cell_type": "code",
   "execution_count": null,
   "metadata": {
    "id": "VFg-zm4Ixvhe"
   },
   "outputs": [],
   "source": [
    "from ieat.api import test\n",
    "\n",
    "test(\n",
    "    \"data/experiments/skin-tone/light\",\n",
    "    \"data/experiments/skin-tone/dark\",\n",
    "    \"data/experiments/valence/pleasant\",\n",
    "    \"data/experiments/valence/unpleasant\",\n",
    "    model_type=\"openai\", \n",
    "    model_size=model_size,\n",
    "    models_dir=models_dir,\n",
    "    clusters_dir=color_clusters_dir,\n",
    "    n_px=n_px,\n",
    "#     from_cache=False,\n",
    "    verbose=True\n",
    ")"
   ]
  },
  {
   "cell_type": "markdown",
   "metadata": {
    "id": "kqoUJ9_oxvhh"
   },
   "source": [
    "#### Disability"
   ]
  },
  {
   "cell_type": "code",
   "execution_count": null,
   "metadata": {
    "id": "nLLGZcCRxvhh"
   },
   "outputs": [],
   "source": [
    "from ieat.api import test\n",
    "\n",
    "test(\n",
    "    \"data/experiments/disabled/disabled\",\n",
    "    \"data/experiments/disabled/abled\",\n",
    "    \"data/experiments/valence/pleasant\",\n",
    "    \"data/experiments/valence/unpleasant\",\n",
    "    model_type=\"openai\", \n",
    "    model_size=model_size,\n",
    "    models_dir=models_dir,\n",
    "    clusters_dir=color_clusters_dir,\n",
    "    n_px=n_px,\n",
    "#     from_cache=False,\n",
    "    verbose=True\n",
    ")"
   ]
  },
  {
   "cell_type": "markdown",
   "metadata": {
    "id": "VX-5Fpk2xvhl"
   },
   "source": [
    "#### Presidents"
   ]
  },
  {
   "cell_type": "code",
   "execution_count": null,
   "metadata": {
    "id": "qPYAHFFGxvhm"
   },
   "outputs": [],
   "source": [
    "from ieat.api import test\n",
    "\n",
    "test(\n",
    "    \"data/experiments/presidents/trump\",\n",
    "    \"data/experiments/presidents/kennedy\",\n",
    "    \"data/experiments/valence/pleasant\",\n",
    "    \"data/experiments/valence/unpleasant\",\n",
    "    model_type=\"openai\", \n",
    "    model_size=model_size,\n",
    "    models_dir=models_dir,\n",
    "    clusters_dir=color_clusters_dir,\n",
    "    n_px=n_px,\n",
    "#     from_cache=False,\n",
    "    verbose=True\n",
    ")"
   ]
  },
  {
   "cell_type": "code",
   "execution_count": null,
   "metadata": {
    "id": "zqSZmD4Rxvho"
   },
   "outputs": [],
   "source": [
    "from ieat.api import test\n",
    "\n",
    "test(\n",
    "    \"data/experiments/presidents/trump\",\n",
    "    \"data/experiments/presidents/clinton\",\n",
    "    \"data/experiments/valence/pleasant\",\n",
    "    \"data/experiments/valence/unpleasant\",\n",
    "    model_type=\"openai\", \n",
    "    model_size=model_size,\n",
    "    models_dir=models_dir,\n",
    "    clusters_dir=color_clusters_dir,\n",
    "    n_px=n_px,\n",
    "#     from_cache=False,\n",
    "    verbose=True\n",
    ")"
   ]
  },
  {
   "cell_type": "code",
   "execution_count": null,
   "metadata": {
    "id": "L6HNE0bvxvhq"
   },
   "outputs": [],
   "source": [
    "from ieat.api import test\n",
    "\n",
    "test(\n",
    "    \"data/experiments/presidents/trump\",\n",
    "    \"data/experiments/presidents/bush\",\n",
    "    \"data/experiments/valence/pleasant\",\n",
    "    \"data/experiments/valence/unpleasant\",\n",
    "    model_type=\"openai\", \n",
    "    model_size=model_size,\n",
    "    models_dir=models_dir,\n",
    "    clusters_dir=color_clusters_dir,\n",
    "    n_px=n_px,\n",
    "#     from_cache=False,\n",
    "    verbose=True\n",
    ")"
   ]
  },
  {
   "cell_type": "code",
   "execution_count": null,
   "metadata": {
    "id": "oTOxt8Y5xvhs"
   },
   "outputs": [],
   "source": [
    "from ieat.api import test\n",
    "\n",
    "test(\n",
    "    \"data/experiments/presidents/trump\",\n",
    "    \"data/experiments/presidents/lincoln\",\n",
    "    \"data/experiments/valence/pleasant\",\n",
    "    \"data/experiments/valence/unpleasant\",\n",
    "    model_type=\"openai\", \n",
    "    model_size=model_size,\n",
    "    models_dir=models_dir,\n",
    "    clusters_dir=color_clusters_dir,\n",
    "    n_px=n_px,\n",
    "#     from_cache=False,\n",
    "    verbose=True\n",
    ")"
   ]
  },
  {
   "cell_type": "markdown",
   "metadata": {
    "id": "ErIbgFMXxvhu"
   },
   "source": [
    "#### Religion"
   ]
  },
  {
   "cell_type": "code",
   "execution_count": null,
   "metadata": {
    "id": "VvAe-DuUxvhu"
   },
   "outputs": [],
   "source": [
    "from ieat.api import test\n",
    "\n",
    "test(\n",
    "    \"data/experiments/religion/christianity\",\n",
    "    \"data/experiments/religion/judaism\",\n",
    "    \"data/experiments/valence/pleasant\",\n",
    "    \"data/experiments/valence/unpleasant\",\n",
    "    model_type=\"openai\", \n",
    "    model_size=model_size,\n",
    "    models_dir=models_dir,\n",
    "    clusters_dir=color_clusters_dir,\n",
    "    n_px=n_px,\n",
    "#     from_cache=False,\n",
    "    verbose=True\n",
    ")"
   ]
  },
  {
   "cell_type": "markdown",
   "metadata": {
    "id": "gt3GfXoYxvhw"
   },
   "source": [
    "#### Gender-Science"
   ]
  },
  {
   "cell_type": "code",
   "execution_count": null,
   "metadata": {
    "id": "2zs-M-ezxvhx"
   },
   "outputs": [],
   "source": [
    "from ieat.api import test\n",
    "\n",
    "test(\n",
    "    \"data/experiments/gender/science\",\n",
    "    \"data/experiments/gender/liberal-arts\",\n",
    "    \"data/experiments/gender/male\",\n",
    "    \"data/experiments/gender/female\",\n",
    "    model_type=\"openai\", \n",
    "    model_size=model_size,\n",
    "    models_dir=models_dir,\n",
    "    clusters_dir=color_clusters_dir,\n",
    "    n_px=n_px,\n",
    "#     from_cache=False,\n",
    "    verbose=True\n",
    ")"
   ]
  },
  {
   "cell_type": "markdown",
   "metadata": {
    "id": "BXbraCTvxvhy"
   },
   "source": [
    "#### Gender-Career"
   ]
  },
  {
   "cell_type": "code",
   "execution_count": null,
   "metadata": {
    "id": "wmICFKRhxvhz"
   },
   "outputs": [],
   "source": [
    "from ieat.api import test\n",
    "\n",
    "test(\n",
    "    \"data/experiments/gender/career\",\n",
    "    \"data/experiments/gender/family\",\n",
    "    \"data/experiments/gender/male\",\n",
    "    \"data/experiments/gender/female\",\n",
    "    model_type=\"openai\", \n",
    "    model_size=model_size,\n",
    "    models_dir=models_dir,\n",
    "    clusters_dir=color_clusters_dir,\n",
    "    n_px=n_px,\n",
    "#     from_cache=False,\n",
    "    verbose=True\n",
    ")"
   ]
  },
  {
   "cell_type": "markdown",
   "metadata": {
    "id": "_BI1Gxc4xvh1"
   },
   "source": [
    "#### Sexuality"
   ]
  },
  {
   "cell_type": "code",
   "execution_count": null,
   "metadata": {
    "id": "6qhiTy3Rxvh2"
   },
   "outputs": [],
   "source": [
    "from ieat.api import test\n",
    "\n",
    "test(\n",
    "    \"data/experiments/sexuality/gay\",\n",
    "    \"data/experiments/sexuality/straight\",\n",
    "    \"data/experiments/valence/pleasant\",\n",
    "    \"data/experiments/valence/unpleasant\",\n",
    "    model_type=\"openai\", \n",
    "    model_size=model_size,\n",
    "    models_dir=models_dir,\n",
    "    clusters_dir=color_clusters_dir,\n",
    "    n_px=n_px,\n",
    "#     from_cache=False,\n",
    "    verbose=True\n",
    ")"
   ]
  },
  {
   "cell_type": "markdown",
   "metadata": {
    "id": "7VIIIFfpxvh3"
   },
   "source": [
    "#### Race"
   ]
  },
  {
   "cell_type": "code",
   "execution_count": null,
   "metadata": {
    "id": "fSuQzadOxvh4"
   },
   "outputs": [],
   "source": [
    "from ieat.api import test\n",
    "\n",
    "test(\n",
    "    \"data/experiments/race/african-american\",\n",
    "    \"data/experiments/race/european-american\",\n",
    "    \"data/experiments/valence/pleasant\",\n",
    "    \"data/experiments/valence/unpleasant\",\n",
    "    model_type=\"openai\", \n",
    "    model_size=model_size,\n",
    "    models_dir=models_dir,\n",
    "    clusters_dir=color_clusters_dir,\n",
    "    n_px=n_px,\n",
    "#     from_cache=False,\n",
    "    verbose=True\n",
    ")"
   ]
  },
  {
   "cell_type": "markdown",
   "metadata": {
    "id": "xA_AwxiKxvh5"
   },
   "source": [
    "#### Arab-Muslim"
   ]
  },
  {
   "cell_type": "code",
   "execution_count": null,
   "metadata": {
    "id": "dAvppwCJxvh6"
   },
   "outputs": [],
   "source": [
    "from ieat.api import test\n",
    "\n",
    "test(\n",
    "    \"data/experiments/arab-muslim/other-people\",\n",
    "    \"data/experiments/arab-muslim/arab-muslim\",\n",
    "    \"data/experiments/valence/pleasant\",\n",
    "    \"data/experiments/valence/unpleasant\",\n",
    "    model_type=\"openai\", \n",
    "    model_size=model_size,\n",
    "    models_dir=models_dir,\n",
    "    clusters_dir=color_clusters_dir,\n",
    "    n_px=n_px,\n",
    "#     from_cache=False,\n",
    "    verbose=True\n",
    ")"
   ]
  },
  {
   "cell_type": "markdown",
   "metadata": {
    "id": "R-fdCFqQxvh8"
   },
   "source": [
    "#### Age"
   ]
  },
  {
   "cell_type": "code",
   "execution_count": null,
   "metadata": {
    "id": "lVB-Wne_xvh8"
   },
   "outputs": [],
   "source": [
    "from ieat.api import test\n",
    "\n",
    "test(\n",
    "    \"data/experiments/age/young\",\n",
    "    \"data/experiments/age/old\",\n",
    "    \"data/experiments/valence/pleasant\",\n",
    "    \"data/experiments/valence/unpleasant\",\n",
    "    model_type=\"openai\", \n",
    "    model_size=model_size,\n",
    "    models_dir=models_dir,\n",
    "    clusters_dir=color_clusters_dir,\n",
    "    n_px=n_px,\n",
    "#     from_cache=False,\n",
    "    verbose=True\n",
    ")"
   ]
  },
  {
   "cell_type": "markdown",
   "metadata": {
    "id": "SpKVucUpxvh-"
   },
   "source": [
    "### Download Cached Embeddings"
   ]
  },
  {
   "cell_type": "code",
   "execution_count": null,
   "metadata": {
    "id": "EfMcw700xvh-"
   },
   "outputs": [],
   "source": [
    "# to download from colab\n",
    "from google.colab import files\n",
    "\n",
    "!zip -r embeddings_colab.zip embeddings\n",
    "files.download(\"embeddings_colab.zip\")"
   ]
  },
  {
   "cell_type": "code",
   "execution_count": null,
   "metadata": {
    "id": "GnG7quNVxviA"
   },
   "outputs": [],
   "source": []
  }
 ],
 "metadata": {
  "colab": {
   "collapsed_sections": [],
   "machine_shape": "hm",
   "name": "Image-GPT-Bias-HuggingFace.ipynb",
   "provenance": [],
   "toc_visible": true
  },
  "kernelspec": {
   "display_name": "Python 3",
   "language": "python",
   "name": "python3"
  },
  "language_info": {
   "codemirror_mode": {
    "name": "ipython",
    "version": 3
   },
   "file_extension": ".py",
   "mimetype": "text/x-python",
   "name": "python",
   "nbconvert_exporter": "python",
   "pygments_lexer": "ipython3",
   "version": "3.8.5"
  },
  "require": {
   "paths": {
    "buttons.colvis": "https://cdn.datatables.net/buttons/1.5.6/js/buttons.colVis.min",
    "buttons.flash": "https://cdn.datatables.net/buttons/1.5.6/js/buttons.flash.min",
    "buttons.html5": "https://cdn.datatables.net/buttons/1.5.6/js/buttons.html5.min",
    "buttons.print": "https://cdn.datatables.net/buttons/1.5.6/js/buttons.print.min",
    "chartjs": "https://cdnjs.cloudflare.com/ajax/libs/Chart.js/2.8.0/Chart",
    "d3": "https://d3js.org/d3.v5.min",
    "d3-array": "https://d3js.org/d3-array.v2.min",
    "datatables.net": "https://cdn.datatables.net/1.10.18/js/jquery.dataTables",
    "datatables.net-buttons": "https://cdn.datatables.net/buttons/1.5.6/js/dataTables.buttons.min",
    "datatables.responsive": "https://cdn.datatables.net/responsive/2.2.2/js/dataTables.responsive.min",
    "datatables.scroller": "https://cdn.datatables.net/scroller/2.0.0/js/dataTables.scroller.min",
    "datatables.select": "https://cdn.datatables.net/select/1.3.0/js/dataTables.select.min",
    "jszip": "https://cdnjs.cloudflare.com/ajax/libs/jszip/2.5.0/jszip.min",
    "moment": "https://cdnjs.cloudflare.com/ajax/libs/moment.js/2.8.0/moment",
    "pdfmake": "https://cdnjs.cloudflare.com/ajax/libs/pdfmake/0.1.36/pdfmake.min",
    "vfsfonts": "https://cdnjs.cloudflare.com/ajax/libs/pdfmake/0.1.36/vfs_fonts"
   },
   "shim": {
    "buttons.colvis": {
     "deps": [
      "jszip",
      "datatables.net-buttons"
     ]
    },
    "buttons.flash": {
     "deps": [
      "jszip",
      "datatables.net-buttons"
     ]
    },
    "buttons.html5": {
     "deps": [
      "jszip",
      "datatables.net-buttons"
     ]
    },
    "buttons.print": {
     "deps": [
      "jszip",
      "datatables.net-buttons"
     ]
    },
    "chartjs": {
     "deps": [
      "moment"
     ]
    },
    "datatables.net": {
     "exports": "$.fn.dataTable"
    },
    "datatables.net-buttons": {
     "deps": [
      "datatables.net"
     ]
    },
    "pdfmake": {
     "deps": [
      "datatables.net"
     ]
    },
    "vfsfonts": {
     "deps": [
      "datatables.net"
     ]
    }
   }
  }
 },
 "nbformat": 4,
 "nbformat_minor": 1
}
