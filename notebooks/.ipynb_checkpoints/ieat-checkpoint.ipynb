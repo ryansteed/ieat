{
 "cells": [
  {
   "cell_type": "code",
   "execution_count": 53,
   "metadata": {},
   "outputs": [
    {
     "name": "stdout",
     "output_type": "stream",
     "text": [
      "/Users/steed/caliskan/git/image-gpt-bias\n",
      "Obtaining file:///Users/steed/caliskan/git/image-gpt-bias/weat\n",
      "Requirement already satisfied: pandas in /opt/miniconda3/envs/image-gpt-bias/lib/python3.8/site-packages (from weat==1.0) (1.1.1)\n",
      "Requirement already satisfied: scikit-learn in /opt/miniconda3/envs/image-gpt-bias/lib/python3.8/site-packages (from weat==1.0) (0.23.2)\n",
      "Requirement already satisfied: numpy in /opt/miniconda3/envs/image-gpt-bias/lib/python3.8/site-packages (from weat==1.0) (1.19.1)\n",
      "Requirement already satisfied: python-dateutil>=2.7.3 in /opt/miniconda3/envs/image-gpt-bias/lib/python3.8/site-packages (from pandas->weat==1.0) (2.8.1)\n",
      "Requirement already satisfied: pytz>=2017.2 in /opt/miniconda3/envs/image-gpt-bias/lib/python3.8/site-packages (from pandas->weat==1.0) (2020.1)\n",
      "Requirement already satisfied: threadpoolctl>=2.0.0 in /opt/miniconda3/envs/image-gpt-bias/lib/python3.8/site-packages (from scikit-learn->weat==1.0) (2.1.0)\n",
      "Requirement already satisfied: joblib>=0.11 in /opt/miniconda3/envs/image-gpt-bias/lib/python3.8/site-packages (from scikit-learn->weat==1.0) (0.16.0)\n",
      "Requirement already satisfied: scipy>=0.19.1 in /opt/miniconda3/envs/image-gpt-bias/lib/python3.8/site-packages (from scikit-learn->weat==1.0) (1.5.2)\n",
      "Requirement already satisfied: six>=1.5 in /opt/miniconda3/envs/image-gpt-bias/lib/python3.8/site-packages (from python-dateutil>=2.7.3->pandas->weat==1.0) (1.15.0)\n",
      "Installing collected packages: weat\n",
      "  Attempting uninstall: weat\n",
      "    Found existing installation: weat 1.0\n",
      "    Uninstalling weat-1.0:\n",
      "      Successfully uninstalled weat-1.0\n",
      "  Running setup.py develop for weat\n",
      "Successfully installed weat\n"
     ]
    }
   ],
   "source": [
    "import pandas as pd\n",
    "\n",
    "%cd /Users/steed/caliskan/git/image-gpt-bias\n",
    "!pip install -e weat"
   ]
  },
  {
   "cell_type": "code",
   "execution_count": 54,
   "metadata": {},
   "outputs": [
    {
     "data": {
      "text/plain": [
       "Index(['bottle.jpg', 'camera.jpg', 'coke.jpg', 'icecream.jpg', 'phone.jpg',\n",
       "       'walkman.jpg', 'wallet.jpg', 'axe.jpg', 'cannon.jpg', 'grenade.jpg',\n",
       "       'mace.jpg', 'revolver.jpg', 'rifle.jpg', 'sword.jpg', 'bf14.jpg',\n",
       "       'bf23.jpg', 'bf56.jpg', 'bm14.jpg', 'bm23.jpg', 'bm56.jpg', 'wf2.jpg',\n",
       "       'wf3.jpg', 'wf6.jpg', 'wm1.jpg', 'wm4.jpg', 'wm6.jpg'],\n",
       "      dtype='object', name='img')"
      ]
     },
     "execution_count": 54,
     "metadata": {},
     "output_type": "execute_result"
    }
   ],
   "source": [
    "weapons = pd.read_csv(\"embeddings/weapons.csv\", index_col=0).set_index(\"img\")\n",
    "weapons.index"
   ]
  },
  {
   "cell_type": "code",
   "execution_count": 55,
   "metadata": {},
   "outputs": [],
   "source": [
    "tool = weapons.loc[[\"bottle.jpg\", \"camera.jpg\", \"coke.jpg\", \"icecream.jpg\", \"phone.jpg\", \"walkman.jpg\", \"wallet.jpg\"]]\n",
    "weapon = weapons.loc[[\"axe.jpg\", \"cannon.jpg\", \"grenade.jpg\", \"mace.jpg\", \"revolver.jpg\", \"rifle.jpg\", \"sword.jpg\"]]\n",
    "black = weapons.loc[[\"bf14.jpg\", \"bf23.jpg\", \"bf56.jpg\", \"bm14.jpg\", \"bm23.jpg\", \"bm56.jpg\"]]\n",
    "white = weapons.loc[[\"wf2.jpg\", \"wf3.jpg\", \"wf6.jpg\", \"wm1.jpg\", \"wm4.jpg\", \"wm6.jpg\"]]"
   ]
  },
  {
   "cell_type": "code",
   "execution_count": 56,
   "metadata": {},
   "outputs": [
    {
     "name": "stderr",
     "output_type": "stream",
     "text": [
      "08/28 01:45:48 PM: Computing cosine similarities...\n",
      "08/28 01:45:48 PM: Null hypothesis: no difference between black and white in association to attributes tool and weapon\n",
      "08/28 01:45:48 PM: Computing pval...\n",
      "08/28 01:45:48 PM: Using parametric test\n",
      "08/28 01:45:48 PM: Drawing 10000 samples\n",
      "08/28 01:45:48 PM: Inferring p-value based on normal distribution\n",
      "/opt/miniconda3/envs/image-gpt-bias/lib/python3.8/site-packages/scipy/stats/morestats.py:1681: UserWarning: p-value may not be accurate for N > 5000.\n",
      "  warnings.warn(\"p-value may not be accurate for N > 5000.\")\n",
      "08/28 01:45:48 PM: Shapiro-Wilk normality test statistic: 1, p-value: 1.5e-16\n",
      "08/28 01:45:48 PM: Sample mean: -6.2e-05, sample standard deviation: 0.01\n",
      "08/28 01:45:48 PM: pval: 0.00145366\n",
      "08/28 01:45:48 PM: computing effect size...\n",
      "08/28 01:45:48 PM: esize: 1.72154\n"
     ]
    },
    {
     "data": {
      "text/plain": [
       "(1.7215366087105168, 0.0014536620197538785)"
      ]
     },
     "execution_count": 56,
     "metadata": {},
     "output_type": "execute_result"
    }
   ],
   "source": [
    "from weat.test import Test\n",
    "\n",
    "test = Test(black.values, white.values, tool.values, weapon.values, names=[\"black\", \"white\", \"tool\", \"weapon\"])\n",
    "test.run(parametric=True)"
   ]
  },
  {
   "cell_type": "markdown",
   "metadata": {},
   "source": [
    "Does the `sentbias` implementation achieve the same result?"
   ]
  },
  {
   "cell_type": "code",
   "execution_count": 57,
   "metadata": {},
   "outputs": [
    {
     "name": "stderr",
     "output_type": "stream",
     "text": [
      "08/28 01:45:49 PM: Computing cosine similarities...\n",
      "08/28 01:45:49 PM: Null hypothesis: no difference between black and white in association to attributes tool and weapon\n",
      "08/28 01:45:49 PM: Computing pval...\n",
      "08/28 01:45:49 PM: Using parametric test\n",
      "08/28 01:45:49 PM: Drawing 10000 samples\n",
      "08/28 01:45:49 PM: Inferring p-value based on normal distribution\n",
      "08/28 01:45:49 PM: Shapiro-Wilk normality test statistic: 1, p-value: 2e-16\n",
      "08/28 01:45:49 PM: Sample mean: 1.5e-05, sample standard deviation: 0.0099\n",
      "08/28 01:45:49 PM: pval: 0.0012838\n",
      "08/28 01:45:49 PM: computing effect size...\n",
      "08/28 01:45:49 PM: esize: 1.72154\n"
     ]
    },
    {
     "data": {
      "text/plain": [
       "(1.7215366087105048, 0.0012838024879242593)"
      ]
     },
     "execution_count": 57,
     "metadata": {},
     "output_type": "execute_result"
    }
   ],
   "source": [
    "from weat.sent import run_test\n",
    "import numpy as np\n",
    "\n",
    "def format_sent_dict(d, key):\n",
    "    return {\"encs\": {key+str(i): np.array(list(v.values())) for i, v in enumerate(d.values())}, \"category\": key}\n",
    "\n",
    "encs = {}\n",
    "encs[\"targ2\"] = format_sent_dict(\n",
    "    weapons.loc[[\"wf2.jpg\", \"wf3.jpg\", \"wf6.jpg\", \"wm1.jpg\", \"wm4.jpg\", \"wm6.jpg\"]].to_dict('index'),\n",
    "    \"white\"\n",
    ")\n",
    "encs[\"targ1\"] = format_sent_dict(\n",
    "    weapons.loc[[\"bf14.jpg\", \"bf23.jpg\", \"bf56.jpg\", \"bm14.jpg\", \"bm23.jpg\", \"bm56.jpg\"]].to_dict('index'),\n",
    "    \"black\"\n",
    ")\n",
    "encs[\"attr2\"] = format_sent_dict(\n",
    "    weapons.loc[[\"axe.jpg\", \"cannon.jpg\", \"grenade.jpg\", \"mace.jpg\", \"revolver.jpg\", \"rifle.jpg\", \"sword.jpg\"]].to_dict('index'),\n",
    "    \"weapon\"\n",
    ")\n",
    "encs[\"attr1\"] = format_sent_dict(\n",
    "    weapons.loc[[\"bottle.jpg\", \"camera.jpg\", \"coke.jpg\", \"icecream.jpg\", \"phone.jpg\", \"walkman.jpg\", \"wallet.jpg\"]].to_dict('index'),\n",
    "    \"tool\"\n",
    ")\n",
    "run_test(encs, n_samples=10000, parametric=True)"
   ]
  },
  {
   "cell_type": "code",
   "execution_count": null,
   "metadata": {},
   "outputs": [],
   "source": []
  }
 ],
 "metadata": {
  "kernelspec": {
   "display_name": "Python 3",
   "language": "python",
   "name": "python3"
  },
  "language_info": {
   "codemirror_mode": {
    "name": "ipython",
    "version": 3
   },
   "file_extension": ".py",
   "mimetype": "text/x-python",
   "name": "python",
   "nbconvert_exporter": "python",
   "pygments_lexer": "ipython3",
   "version": "3.8.5"
  }
 },
 "nbformat": 4,
 "nbformat_minor": 4
}
