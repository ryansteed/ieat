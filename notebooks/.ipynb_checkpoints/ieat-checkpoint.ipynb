{
 "cells": [
  {
   "cell_type": "code",
   "execution_count": 1,
   "metadata": {},
   "outputs": [
    {
     "name": "stdout",
     "output_type": "stream",
     "text": [
      "/Users/steed/caliskan/git/image-gpt-bias\n",
      "README.md       environment.yml \u001b[1m\u001b[36mnotebooks\u001b[m\u001b[m\r\n",
      "\u001b[1m\u001b[36membeddings\u001b[m\u001b[m      \u001b[1m\u001b[36mimage-gpt\u001b[m\u001b[m       \u001b[1m\u001b[36mweat\u001b[m\u001b[m\r\n"
     ]
    }
   ],
   "source": [
    "import pandas as pd\n",
    "\n",
    "%cd /Users/steed/caliskan/git/image-gpt-bias\n",
    "!ls"
   ]
  },
  {
   "cell_type": "code",
   "execution_count": 2,
   "metadata": {},
   "outputs": [
    {
     "data": {
      "text/plain": [
       "Index(['bottle.jpg', 'camera.jpg', 'coke.jpg', 'icecream.jpg', 'phone.jpg',\n",
       "       'walkman.jpg', 'wallet.jpg', 'axe.jpg', 'cannon.jpg', 'grenade.jpg',\n",
       "       'mace.jpg', 'revolver.jpg', 'rifle.jpg', 'sword.jpg', 'bf14.jpg',\n",
       "       'bf23.jpg', 'bf56.jpg', 'bm14.jpg', 'bm23.jpg', 'bm56.jpg', 'wf2.jpg',\n",
       "       'wf3.jpg', 'wf6.jpg', 'wm1.jpg', 'wm4.jpg', 'wm6.jpg'],\n",
       "      dtype='object', name='img')"
      ]
     },
     "execution_count": 2,
     "metadata": {},
     "output_type": "execute_result"
    }
   ],
   "source": [
    "weapons = pd.read_csv(\"embeddings/weapons.csv\").set_index(\"img\")\n",
    "weapons.index"
   ]
  },
  {
   "cell_type": "code",
   "execution_count": 3,
   "metadata": {},
   "outputs": [],
   "source": [
    "tool = weapons.loc[[\"bottle.jpg\", \"camera.jpg\", \"coke.jpg\", \"icecream.jpg\", \"phone.jpg\", \"walkman.jpg\", \"wallet.jpg\"]]\n",
    "weapon = weapons.loc[[\"axe.jpg\", \"cannon.jpg\", \"grenade.jpg\", \"mace.jpg\", \"revolver.jpg\", \"rifle.jpg\", \"sword.jpg\"]]\n",
    "black = weapons.loc[[\"bf14.jpg\", \"bf23.jpg\", \"bf56.jpg\", \"bm14.jpg\", \"bm23.jpg\", \"bm56.jpg\"]]\n",
    "white = weapons.loc[[\"wf2.jpg\", \"wf3.jpg\", \"wf6.jpg\", \"wm1.jpg\", \"wm4.jpg\", \"wm6.jpg\"]]"
   ]
  },
  {
   "cell_type": "code",
   "execution_count": 8,
   "metadata": {},
   "outputs": [
    {
     "name": "stderr",
     "output_type": "stream",
     "text": [
      "08/27 06:11:33 PM: Computing cosine similarities...\n",
      "08/27 06:11:33 PM: Null hypothesis: no difference between white and black in association to attributes tool and weapon\n",
      "08/27 06:11:33 PM: Computing pval...\n",
      "08/27 06:11:33 PM: Using non-parametric test\n",
      "08/27 06:11:33 PM: Using exact test (924 partitions)\n",
      "08/27 06:11:33 PM: Equalities contributed 1/924 to p-value\n",
      "08/27 06:11:33 PM: pval: 1\n",
      "08/27 06:11:33 PM: computing effect size...\n",
      "08/27 06:11:33 PM: esize: -1.80022\n"
     ]
    },
    {
     "data": {
      "text/plain": [
       "(-1.8002238440401703, 1.0)"
      ]
     },
     "execution_count": 8,
     "metadata": {},
     "output_type": "execute_result"
    }
   ],
   "source": [
    "from weat.core import Test\n",
    "\n",
    "test = Test(white.values, black.values, tool.values, weapon.values, names=[\"white\", \"black\", \"tool\", \"weapon\"])\n",
    "test.run()"
   ]
  },
  {
   "cell_type": "code",
   "execution_count": null,
   "metadata": {},
   "outputs": [],
   "source": []
  }
 ],
 "metadata": {
  "kernelspec": {
   "display_name": "Python 3",
   "language": "python",
   "name": "python3"
  },
  "language_info": {
   "codemirror_mode": {
    "name": "ipython",
    "version": 3
   },
   "file_extension": ".py",
   "mimetype": "text/x-python",
   "name": "python",
   "nbconvert_exporter": "python",
   "pygments_lexer": "ipython3",
   "version": "3.8.5"
  }
 },
 "nbformat": 4,
 "nbformat_minor": 4
}
