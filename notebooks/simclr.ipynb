{
  "nbformat": 4,
  "nbformat_minor": 0,
  "metadata": {
    "kernelspec": {
      "display_name": "Python 3",
      "language": "python",
      "name": "python3"
    },
    "language_info": {
      "codemirror_mode": {
        "name": "ipython",
        "version": 3
      },
      "file_extension": ".py",
      "mimetype": "text/x-python",
      "name": "python",
      "nbconvert_exporter": "python",
      "pygments_lexer": "ipython3",
      "version": "3.8.5"
    },
    "colab": {
      "name": "simclr.ipynb",
      "provenance": []
    }
  },
  "cells": [
    {
      "cell_type": "markdown",
      "metadata": {
        "id": "eR2_u8e2hBHm",
        "colab_type": "text"
      },
      "source": [
        "[![Open In Colab](https://colab.research.google.com/assets/colab-badge.svg)](https://colab.research.google.com/github/ryansteed/image-gpt-bias/blob/master/notebooks/simclr.ipynb)"
      ]
    },
    {
      "cell_type": "code",
      "metadata": {
        "id": "a4du-WcwhBHn",
        "colab_type": "code",
        "colab": {}
      },
      "source": [
        "# inspired by \n",
        "# https://colab.research.google.com/github/google-research/simclr/blob/master/colabs/finetuning.ipynb#scrollTo=Ih5NlvdDEOI1\n",
        "# https://github.com/sayakpaul/SimCLR-in-TensorFlow-2/blob/master/Linear_Evaluation_Imagenet_Subset.ipynb\n",
        "import tensorflow.compat.v1 as tf\n",
        "tf.disable_eager_execution()\n",
        "import tensorflow_hub as hub\n",
        "import os\n",
        "from tqdm import tqdm\n",
        "import numpy as np\n",
        "import cv2\n",
        "import matplotlib.pyplot as plt\n",
        "\n",
        "depth = 50 #50, 101, 152\n",
        "width = 1 #1, 2, 3\n",
        "sk = 0 #0, 1\n",
        "\n",
        "# %cd /Users/steed/caliskan/git/image-gpt-bias"
      ],
      "execution_count": 2,
      "outputs": []
    },
    {
      "cell_type": "code",
      "metadata": {
        "id": "OemgZUMwhON3",
        "colab_type": "code",
        "colab": {
          "base_uri": "https://localhost:8080/",
          "height": 357
        },
        "outputId": "2845c823-9b83-4c8e-8456-911711646616"
      },
      "source": [
        "import urllib\n",
        "\n",
        "# don't share these to Github or elsewhere!\n",
        "u = \"your_username\"\n",
        "p = urllib.parse.quote(\"your_password\")\n",
        "!git clone --recurse-submodules -j8 https://$u:$p@github.com/$u/image-gpt-bias.git\n",
        "%cd image-gpt-bias"
      ],
      "execution_count": 3,
      "outputs": [
        {
          "output_type": "stream",
          "text": [
            "Cloning into 'image-gpt-bias'...\n",
            "remote: Enumerating objects: 19, done.\u001b[K\n",
            "remote: Counting objects: 100% (19/19), done.\u001b[K\n",
            "remote: Compressing objects: 100% (16/16), done.\u001b[K\n",
            "remote: Total 1408 (delta 4), reused 14 (delta 3), pack-reused 1389\u001b[K\n",
            "Receiving objects: 100% (1408/1408), 103.51 MiB | 34.48 MiB/s, done.\n",
            "Resolving deltas: 100% (299/299), done.\n",
            "Submodule 'image-gpt' (https://github.com/openai/image-gpt) registered for path 'image-gpt'\n",
            "Submodule 'weat' (https://github.com/ryansteed/weat) registered for path 'weat'\n",
            "Cloning into '/content/image-gpt-bias/image-gpt'...\n",
            "remote: Enumerating objects: 41, done.        \n",
            "remote: Total 41 (delta 0), reused 0 (delta 0), pack-reused 41        \n",
            "Cloning into '/content/image-gpt-bias/weat'...\n",
            "remote: Enumerating objects: 85, done.        \n",
            "remote: Counting objects: 100% (85/85), done.        \n",
            "remote: Compressing objects: 100% (59/59), done.        \n",
            "remote: Total 85 (delta 25), reused 74 (delta 17), pack-reused 0        \n",
            "Submodule path 'image-gpt': checked out '0cb1f2b9a619dc11a4c8b535b8031895aae3ad70'\n",
            "Submodule path 'weat': checked out 'fb547b4844f48978e3b01b0d78a77d098a4c7442'\n",
            "/content/image-gpt-bias\n"
          ],
          "name": "stdout"
        }
      ]
    },
    {
      "cell_type": "code",
      "metadata": {
        "id": "rzC6AHd0hBHr",
        "colab_type": "code",
        "colab": {}
      },
      "source": [
        "hub_path = f\"gs://simclr-checkpoints/simclrv2/pretrained/r{depth}_{width}x_sk{sk}/hub\"\n",
        "module = hub.Module(hub_path, trainable=False)"
      ],
      "execution_count": 4,
      "outputs": []
    },
    {
      "cell_type": "code",
      "metadata": {
        "id": "JUa8U0I8hBHt",
        "colab_type": "code",
        "colab": {
          "base_uri": "https://localhost:8080/",
          "height": 35
        },
        "outputId": "a0cd398d-2d3f-47b5-a03c-fa7785cbc824"
      },
      "source": [
        "# preprocess images\n",
        "test_dir = \"data/experiments/weapon\"\n",
        "image_paths = [os.path.join(test_dir, d, f) for d in os.listdir(test_dir) for f in os.listdir(os.path.join(test_dir, d))]\n",
        "image_paths[0]"
      ],
      "execution_count": 8,
      "outputs": [
        {
          "output_type": "execute_result",
          "data": {
            "application/vnd.google.colaboratory.intrinsic+json": {
              "type": "string"
            },
            "text/plain": [
              "'data/experiments/weapon/tool/phone.jpg'"
            ]
          },
          "metadata": {
            "tags": []
          },
          "execution_count": 8
        }
      ]
    },
    {
      "cell_type": "code",
      "metadata": {
        "pycharm": {
          "name": "#%%\n"
        },
        "id": "RrEakPALhBHw",
        "colab_type": "code",
        "colab": {
          "base_uri": "https://localhost:8080/",
          "height": 320
        },
        "outputId": "83e59df1-d960-45a6-a480-53e16c8160d2"
      },
      "source": [
        "# need some help on turning these into tensors for preprocessing\n",
        "# using https://github.com/sayakpaul/SimCLR-in-TensorFlow-2/blob/master/SimCLR_ImageNet_Subset.ipynb\n",
        "def prepare_images(image_paths):\n",
        "    images = []\n",
        "\n",
        "    for image in tqdm(image_paths):\n",
        "        image_pixels = plt.imread(image)\n",
        "        image_pixels = cv2.resize(image_pixels, (224, 224))\n",
        "        image_pixels = image_pixels/255.\n",
        "\n",
        "        images.append(image_pixels)\n",
        "\n",
        "    images = np.array(images)\n",
        "    print(images.shape)\n",
        "\n",
        "    return images\n",
        "\n",
        "images = prepare_images(image_paths)\n",
        "plt.imshow(images[0])"
      ],
      "execution_count": 9,
      "outputs": [
        {
          "output_type": "stream",
          "text": [
            "100%|██████████| 44/44 [00:00<00:00, 70.45it/s]"
          ],
          "name": "stderr"
        },
        {
          "output_type": "stream",
          "text": [
            "(44, 224, 224, 3)\n"
          ],
          "name": "stdout"
        },
        {
          "output_type": "stream",
          "text": [
            "\n"
          ],
          "name": "stderr"
        },
        {
          "output_type": "execute_result",
          "data": {
            "text/plain": [
              "<matplotlib.image.AxesImage at 0x7f0bf589e908>"
            ]
          },
          "metadata": {
            "tags": []
          },
          "execution_count": 9
        },
        {
          "output_type": "display_data",
          "data": {
            "image/png": "[encoded data removed]",
            "text/plain": [
              "<Figure size 432x288 with 1 Axes>"
            ]
          },
          "metadata": {
            "tags": [],
            "needs_background": "light"
          }
        }
      ]
    },
    {
      "cell_type": "code",
      "metadata": {
        "pycharm": {
          "name": "#%%\n"
        },
        "id": "zi5VaA5JhBHy",
        "colab_type": "code",
        "colab": {
          "base_uri": "https://localhost:8080/",
          "height": 119
        },
        "outputId": "2b6af307-33af-48ce-a283-ed4742c45e58"
      },
      "source": [
        "# get the final average pool\n",
        "key = module(inputs=images, signature=\"default\", as_dict=True)\n",
        "key"
      ],
      "execution_count": 10,
      "outputs": [
        {
          "output_type": "stream",
          "text": [
            "INFO:tensorflow:Saver not created because there are no variables in the graph to restore\n"
          ],
          "name": "stdout"
        },
        {
          "output_type": "stream",
          "text": [
            "INFO:tensorflow:Saver not created because there are no variables in the graph to restore\n"
          ],
          "name": "stderr"
        },
        {
          "output_type": "execute_result",
          "data": {
            "text/plain": [
              "{'default': <tf.Tensor 'module_apply_default/base_model/final_avg_pool:0' shape=(44, 2048) dtype=float32>,\n",
              " 'logits_sup': <tf.Tensor 'module_apply_default/head_supervised/linear_layer/linear_layer_out:0' shape=(44, 1000) dtype=float32>,\n",
              " 'proj_head_input': <tf.Tensor 'module_apply_default/base_model/final_avg_pool:0' shape=(44, 2048) dtype=float32>,\n",
              " 'proj_head_output': <tf.Tensor 'module_apply_default/head_contrastive/nl_2/nl_2_out:0' shape=(44, 128) dtype=float32>}"
            ]
          },
          "metadata": {
            "tags": []
          },
          "execution_count": 10
        }
      ]
    },
    {
      "cell_type": "code",
      "metadata": {
        "pycharm": {
          "name": "#%%\n"
        },
        "id": "OE_irKnxhBH1",
        "colab_type": "code",
        "colab": {}
      },
      "source": [
        "sess = tf.Session()\n",
        "sess.run(tf.global_variables_initializer())"
      ],
      "execution_count": 11,
      "outputs": []
    },
    {
      "cell_type": "code",
      "metadata": {
        "id": "1KUK7Fs-hjn2",
        "colab_type": "code",
        "colab": {
          "base_uri": "https://localhost:8080/",
          "height": 34
        },
        "outputId": "914e5f99-d135-4daa-c2bb-94a3ca1cb8f3"
      },
      "source": [
        "output = key['default'].eval(session=sess)\n",
        "output.shape"
      ],
      "execution_count": 14,
      "outputs": [
        {
          "output_type": "execute_result",
          "data": {
            "text/plain": [
              "(44, 2048)"
            ]
          },
          "metadata": {
            "tags": []
          },
          "execution_count": 14
        }
      ]
    },
    {
      "cell_type": "code",
      "metadata": {
        "pycharm": {
          "name": "#%%\n"
        },
        "id": "f9oPx4DRhBH3",
        "colab_type": "code",
        "colab": {}
      },
      "source": [
        ""
      ],
      "execution_count": null,
      "outputs": []
    }
  ]
}